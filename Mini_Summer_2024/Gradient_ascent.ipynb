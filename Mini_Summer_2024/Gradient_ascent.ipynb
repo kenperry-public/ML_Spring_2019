{
 "cells": [
  {
   "cell_type": "code",
   "execution_count": 1,
   "metadata": {
    "slideshow": {
     "slide_type": "notes"
    }
   },
   "outputs": [
    {
     "data": {
      "text/latex": [
       "$$\n",
       "\\newcommand{\\x}{\\mathbf{x}}\n",
       "\\newcommand{\\tx}{\\tilde{\\x}}\n",
       "\\newcommand{\\y}{\\mathbf{y}}\n",
       "\\newcommand{\\b}{\\mathbf{b}}\n",
       "\\newcommand{\\c}{\\mathbf{c}}\n",
       "\\newcommand{\\e}{\\mathbf{e}}\n",
       "\\newcommand{\\z}{\\mathbf{z}}\n",
       "\\newcommand{\\h}{\\mathbf{h}}\n",
       "\\newcommand{\\u}{\\mathbf{u}}\n",
       "\\newcommand{\\v}{\\mathbf{v}}\n",
       "\\newcommand{\\w}{\\mathbf{w}}\n",
       "\\newcommand{\\V}{\\mathbf{V}}\n",
       "\\newcommand{\\W}{\\mathbf{W}}\n",
       "\\newcommand{\\X}{\\mathbf{X}}\n",
       "\\newcommand{\\KL}{\\mathbf{KL}}\n",
       "\\newcommand{\\E}{{\\mathbb{E}}}\n",
       "\\newcommand{\\Reals}{{\\mathbb{R}}}\n",
       "\\newcommand{\\ip}{\\mathbf{{(i)}}}\n",
       "%\n",
       "% Test set\n",
       "\\newcommand{\\xt}{\\underline{\\x}}\n",
       "\\newcommand{\\yt}{\\underline{\\y}}\n",
       "\\newcommand{\\Xt}{\\underline{\\X}}\n",
       "\\newcommand{\\perfm}{\\mathcal{P}}\n",
       "%\n",
       "% \\ll indexes a layer; we can change the actual letter\n",
       "\\newcommand{\\ll}{l}\n",
       "\\newcommand{\\llp}{{(\\ll)}}\n",
       "%\n",
       "\\newcommand{Thetam}{\\Theta_{-0}}\n",
       "\n",
       "% CNN\n",
       "\\newcommand{\\kernel}{\\mathbf{k}} \n",
       "\\newcommand{\\dim}{d}\n",
       "\\newcommand{\\idxspatial}{{\\text{idx}}}\n",
       "\\newcommand{\\summaxact}{\\text{max}}\n",
       "\\newcommand{idxb}{\\mathbf{i}}\n",
       "%\n",
       "%\n",
       "\n",
       "% RNN\n",
       "% \\tt indexes a time step\n",
       "\\newcommand{\\tt}{t}\n",
       "\\newcommand{\\tp}{{(\\tt)}}\n",
       "%\n",
       "%\n",
       "\n",
       "% LSTM\n",
       "\\newcommand{\\g}{\\mathbf{g}}\n",
       "\\newcommand{\\remember}{\\mathbf{remember}}\n",
       "\\newcommand{\\save}{\\mathbf{save}}\n",
       "\\newcommand{\\focus}{\\mathbf{focus}}\n",
       "%\n",
       "%\n",
       "% NLP\n",
       "\\newcommand{\\Vocab}{\\mathbf{V}}\n",
       "\\newcommand{\\v}{\\mathbf{v}}\n",
       "\\newcommand{\\offset}{o}\n",
       "\\newcommand{\\o}{o}\n",
       "\\newcommand{\\Emb}{\\mathbf{E}}\n",
       "%\n",
       "%\n",
       "\\newcommand{\\loss}{\\mathcal{L}}\n",
       "\\newcommand{\\cost}{\\mathcal{L}}\n",
       "%\n",
       "%                     \n",
       "\\newcommand{\\pdata}{p_\\text{data}}\n",
       "\\newcommand{\\pmodel}{p_\\text{model}}\n",
       "%\n",
       "% SVM\n",
       "\\newcommand{\\margin}{{\\mathbb{m}}}\n",
       "\\newcommand{\\lmk}{\\boldsymbol{\\ell}}\n",
       "%\n",
       "%\n",
       "% Functions with arguments\n",
       "\\def\\xsy#1#2{#1^#2}\n",
       "\\def\\rand#1{\\tilde{#1}}\n",
       "\\def\\randx{\\rand{\\x}}\n",
       "\\def\\randy{\\rand{\\y}}\n",
       "\\def\\trans#1{\\dot{#1}}\n",
       "\\def\\transx{\\trans{\\x}}\n",
       "\\def\\transy{\\trans{\\y}}\n",
       "%\n",
       "\\def\\argmax#1{\\underset{#1} {\\operatorname{argmax}} }\n",
       "\\def\\argmin#1{\\underset{#1} {\\operatorname{argmin}} }\n",
       "\\def\\max#1{\\underset{#1} {\\operatorname{max}} }\n",
       "\\def\\min#1{\\underset{#1} {\\operatorname{min}} }\n",
       "%\n",
       "\\def\\pr#1{\\mathcal{p}(#1)}\n",
       "\\def\\prc#1#2{\\mathcal{p}(#1 \\; | \\; #2)}\n",
       "\\def\\cnt#1{\\mathcal{count}_{#1}}\n",
       "\\def\\node#1{\\mathbb{#1}}\n",
       "%\n",
       "\\def\\loc#1{{\\text{##} {#1}}}\n",
       "%\n",
       "\\def\\OrderOf#1{\\mathcal{O}\\left( {#1} \\right)}\n",
       "%\n",
       "% Expectation operator\n",
       "\\def\\Exp#1{\\underset{#1} {\\operatorname{\\mathbb{E}}} }\n",
       "%\n",
       "% VAE\n",
       "\\def\\prs#1#2{\\mathcal{p}_{#2}(#1)}\n",
       "\\def\\qr#1{\\mathcal{q}(#1)}\n",
       "\\def\\qrs#1#2{\\mathcal{q}_{#2}(#1)}\n",
       "%\n",
       "% Reinforcement learning\n",
       "\\newcommand{\\Actions}{{\\mathcal{A}}} \n",
       "\\newcommand{\\actseq}{A}\n",
       "\\newcommand{\\act}{a}\n",
       "\\newcommand{\\States}{{\\mathcal{S}}}   \n",
       "\\newcommand{\\stateseq}{S}  \n",
       "\\newcommand{\\state}{s}\n",
       "\\newcommand{\\Rewards}{{\\mathcal{R}}}\n",
       "\\newcommand{\\rewseq}{R}\n",
       "\\newcommand{\\rew}{r}\n",
       "\\newcommand{\\transp}{P}\n",
       "\\newcommand{\\statevalfun}{v}\n",
       "\\newcommand{\\actvalfun}{q}\n",
       "\\newcommand{\\disc}{\\gamma}\n",
       "%\n",
       "%\n",
       "\\newcommand{\\floor}[1]{\\left\\lfloor #1 \\right\\rfloor}\n",
       "\\newcommand{\\ceil}[1]{\\left\\lceil #1 \\right\\rceil}\n",
       "%\n",
       "%\n",
       "$$\n"
      ],
      "text/plain": [
       "<IPython.core.display.Latex object>"
      ]
     },
     "metadata": {},
     "output_type": "display_data"
    }
   ],
   "source": [
    "%run Latex_macros.ipynb"
   ]
  },
  {
   "cell_type": "markdown",
   "metadata": {
    "slideshow": {
     "slide_type": "slide"
    }
   },
   "source": [
    "# Gradient search\n",
    "\n",
    "We generalize the form of Gradient Descent\n",
    "- we minimize a function $F$ that depends on variables $\\v$\n",
    "$$\n",
    "\\v^* = \\argmin{\\v} F(\\v)\n",
    "$$\n",
    "- by iteratively updating $\\v$\n",
    "    - creating a sequence of $\\v_{(0)}, \\v_{(1}, \\ldots $\n",
    "- via the update equation\n",
    "    - moving in the *negative* direction of the gradient of $F$ wrt $\\v$\n",
    "    - moderated by learning rate $\\alpha$\n",
    "\n",
    "$$\n",
    "\\v_\\tp = \\v_{(\\tt-1)} - \\alpha * \\frac{\\partial F}{\\partial \\v}\n",
    "$$"
   ]
  },
  {
   "cell_type": "markdown",
   "metadata": {
    "slideshow": {
     "slide_type": "subslide"
    }
   },
   "source": [
    "Our familiar Gradient Descent\n",
    "- identifies $F$ with the Loss Function $\\loss$\n",
    "    - which is a function of weights $\\W$\n",
    "- and searches for the optimal $\\W^*$"
   ]
  },
  {
   "cell_type": "markdown",
   "metadata": {
    "slideshow": {
     "slide_type": "slide"
    }
   },
   "source": [
    "We define a *maximization* version of the search\n",
    "- we maximize a function $F$ that depends on variables $\\v$\n",
    "$$\n",
    "\\v^* = \\argmax{\\v} F(\\v)\n",
    "$$\n",
    "- by iteratively updating $\\v$\n",
    "    - creating a sequence of $\\v_{(0)}, \\v_{(1}, \\ldots $\n",
    "- via the update equation\n",
    "    - moving in the *positive* direction of the gradient of $F$ wrt $\\v$\n",
    "    - moderated by learning rate $\\alpha$\n",
    "\n",
    "$$\n",
    "\\v_\\tp = \\v_{(\\tt-1)} + \\alpha * \\frac{\\partial F}{\\partial \\v}\n",
    "$$"
   ]
  },
  {
   "cell_type": "markdown",
   "metadata": {
    "slideshow": {
     "slide_type": "subslide"
    }
   },
   "source": [
    "The maximization version is referred to as *Gradient Ascent* and is the topic of this module."
   ]
  },
  {
   "cell_type": "markdown",
   "metadata": {
    "slideshow": {
     "slide_type": "slide"
    }
   },
   "source": [
    "# Gradient Ascent: uses\n",
    "\n",
    "## Background\n",
    "\n",
    "**Note**\n",
    "\n",
    "This is addressed more specifically in the module on [Intepretation](Interpretation_of_DL_Simple.ipynb#Probing)"
   ]
  },
  {
   "cell_type": "markdown",
   "metadata": {
    "slideshow": {
     "slide_type": "subslide"
    }
   },
   "source": [
    "There are many synthetic features created among the layers of a Neural Network.\n",
    "\n",
    "How do we discern\n",
    "the purpose of a specific feature $k$ at layer $\\ll$: $\\y_{\\llp,k}$ ?\n",
    "\n",
    "<table>\n",
    "    <th><center><strong>Interpreting neuron for feature k in layer l</strong></center></th>\n",
    "    <tr>\n",
    "        <td><img src=\"images/interp.png\" width=70%></td>\n",
    "    </tr>\n",
    "</table>  "
   ]
  },
  {
   "cell_type": "markdown",
   "metadata": {
    "slideshow": {
     "slide_type": "subslide"
    }
   },
   "source": [
    "But when layer $\\ll$ has $N \\ge 1$ non-feature dimensions \n",
    "- the selected feature is really a *feature map*\n",
    "- with dimensions matching the non-feature dimensions of the layer input\n",
    "$$\n",
    "(\\dim_{1} \\times \\dim_{2} \\times \\ldots \\dim_{N} )\n",
    "$$\n",
    "\n",
    "So \n",
    "there are $\\prod_{i=1}^N { \\dim_{i} }$ values (one per location) in the feature map\n",
    "- rather than a single scalar value\n",
    "- as in the case of layer outputs with only a feature dimension"
   ]
  },
  {
   "cell_type": "markdown",
   "metadata": {
    "slideshow": {
     "slide_type": "subslide"
    }
   },
   "source": [
    "<br>\n",
    "<table>\n",
    "    <center><strong>Convolutional layer: $\\y_\\llp$: selecting a feature map to probe</strong></center>\n",
    "    <tr>\n",
    "        <td><center><strong>Layer w/non-feature dimensions: $\\y_\\llp$</strong></center></td>\n",
    "        <td><center><strong>Layer w/non-feature dimensions, one element selected: $\\y_{\\llp,j}$</strong></center></td>\n",
    "    </tr>\n",
    "    <tr>\n",
    "        <td><img src=\"images/layer_w_2d_elements.png\"></td>\n",
    "        <td><img src=\"images/layer_w_2d_elements_select.png\"></td>\n",
    "    </tr>\n",
    "</table>"
   ]
  },
  {
   "cell_type": "markdown",
   "metadata": {
    "slideshow": {
     "slide_type": "subslide"
    }
   },
   "source": [
    "In such a case\n",
    "- we reduce each feature map (with non-feature dimensions)\n",
    "- to a scalar\n",
    "- using a Pooling operation to eliminate the non-feature dimensions\n",
    "    - for example: Global Max Pooling\n",
    " "
   ]
  },
  {
   "cell_type": "markdown",
   "metadata": {},
   "source": [
    "<br>\n",
    "<table>\n",
    "    <center><strong>Convolutional layer: $\\y_\\llp$: selecting a feature map to probe<br>Global Pooling</strong></center>\n",
    "    <tr>\n",
    "        <td><center><strong>Layer w/non-feature dimensions: $\\y_\\llp$</strong></center></td>\n",
    "        <td><center><strong>Layer w/non-feature dimensions, <br>pooled, one element selected: $\\y_{\\llp,j}$</strong></center></td>\n",
    "    </tr>\n",
    "    <tr>\n",
    "        <td><img src=\"images/layer_w_2d_elements.png\"></td>\n",
    "        <td><img src=\"images/layer_w_2d_elements_pool.png\"></td>\n",
    "    </tr>\n",
    "</table>"
   ]
  },
  {
   "cell_type": "markdown",
   "metadata": {
    "slideshow": {
     "slide_type": "subslide"
    }
   },
   "source": [
    "For the remainder of this section\n",
    "- we assume $\\y_{\\llp,k}$ is a single scalar\n",
    "- obtained by removing the non-feature dimensions, as above"
   ]
  },
  {
   "cell_type": "markdown",
   "metadata": {
    "slideshow": {
     "slide_type": "slide"
    }
   },
   "source": [
    "## Use Case: Find the maximally activating input\n",
    "\n",
    "One way to discern the purpose of feature $\\y_{\\llp,k}$\n",
    "- is to find the input $\\y_{(0)}$\n",
    "- that maximizes the *activation* (value) of $\\y_{\\llp,k}$"
   ]
  },
  {
   "cell_type": "markdown",
   "metadata": {
    "slideshow": {
     "slide_type": "subslide"
    }
   },
   "source": [
    "We use Gradient Ascent where\n",
    "- $F = \\y_{\\llp,k}$\n",
    "- $\\v = \\y_{(0)}$\n",
    "\n",
    "to discover the input vector $\\y^*_{(0)}$ that *maximally activates* $\\y_{\\llp,k}$\n",
    "$$\n",
    "\\y_{(0)}^* = \\argmax{\\y_{(0)}} \\left( \\y_{\\llp,k} |_{  \\y_{(0)} = \\y_{(0)} } \\right)\n",
    "$$\n",
    "\n",
    "Note\n",
    "- $\\y^*_{(0)}$ is **not necessarily** an input example $\\x \\in \\X$, the training dataset\n",
    "- it is an vector with the *shape* of an input"
   ]
  },
  {
   "cell_type": "markdown",
   "metadata": {
    "slideshow": {
     "slide_type": "slide"
    }
   },
   "source": [
    "### Visualizing what convnets learn, via Gradient Ascent\n",
    "\n",
    "Let's illustrate Gradient Ascent to visualize what one feature map\n",
    "within a Convolutional Layer of an Image Classifier is \"looking for\"\n",
    "- the feature map's non-feature dimensions have been removed\n",
    "- by Average Pooling\n",
    "    - replacing the collection of values across multiple locations\n",
    "    - by a single value: the mean value over the multiple locations\n",
    "\n",
    "[Visualizing what convnets learn](https://colab.research.google.com/github/keras-team/keras-io/blob/master/examples/vision/ipynb/visualizing_what_convnets_learn.ipynb#)\n",
    "\n",
    "A blog post from a [previous version](https://blog.keras.io/how-convolutional-neural-networks-see-the-world.html) of the code shows the patterns\n",
    "of multiple feature maps at multiple layers."
   ]
  },
  {
   "cell_type": "markdown",
   "metadata": {
    "slideshow": {
     "slide_type": "slide"
    }
   },
   "source": [
    "### Interesting sub-case: maximizing a logit in the Classifier Head\n",
    "\n",
    "When the Neural Network solves a Classification task\n",
    "- the head layer $L$ is a Classifier Layer\n",
    "- with number of features equal to the number of possible classes\n",
    "- output feature $k$ is the *probability* (or pre-probability \"logit\")\n",
    "    - on input being in class $k$\n",
    "    "
   ]
  },
  {
   "cell_type": "markdown",
   "metadata": {
    "slideshow": {
     "slide_type": "subslide"
    }
   },
   "source": [
    "So Gradient Ascent when\n",
    "- $F = \\y_{(L),k}$\n",
    "- $\\v = \\y_{(0)}$\n",
    "\n",
    "finds the input $\\y^*_{(0)}$\n",
    "- that results in the *most confident* prediction that it is in class $k$"
   ]
  },
  {
   "cell_type": "markdown",
   "metadata": {
    "slideshow": {
     "slide_type": "subslide"
    }
   },
   "source": [
    "# Gradient Ascent in Code\n",
    "\n",
    "In code, it looks like this\n",
    "- from [Keras docs](https://colab.research.google.com/github/keras-team/keras-io/blob/master/guides/ipynb/customizing_what_happens_in_fit.ipynb#scrollTo=9z4i2_JLpRQc)\n",
    "- one step of Gradient Descent (inputs are a mini-batch of examples)\n",
    "\n",
    "\n",
    "    with tf.GradientTape() as tape:\n",
    "        y_pred = self(x, training=True)  # Forward pass\n",
    "        # Compute the loss value\n",
    "        # (the loss function is configured in `compile()`)\n",
    "        loss = self.compiled_loss(y, y_pred, regularization_losses=self.losses)\n",
    "\n",
    "    # Compute gradients\n",
    "    trainable_vars = self.trainable_variables\n",
    "    gradients = tape.gradient(loss, trainable_vars)\n",
    "    \n",
    "    # Update weights\n",
    "    self.optimizer.apply_gradients(zip(gradients, trainable_vars))"
   ]
  },
  {
   "cell_type": "markdown",
   "metadata": {
    "slideshow": {
     "slide_type": "subslide"
    }
   },
   "source": [
    "Key points\n",
    "- Define a loss $\\loss$\n",
    "    - the loss is dependent on the weights (\"trainable variables\") of the model\n",
    "- Compute the loss within the scope of `tf.GradientTape()`\n",
    "    - Enables TensorFlow to compute gradients of any variable accessed in the scope\n",
    "        - Loss calculated via `self.compiled_loss` in this case\n",
    "        - but any calculation that you would chose to define\n",
    "- Obtain the gradients of the loss with respect to the trainable variables\n",
    "- Updates the trainable variables \n",
    "    - `self.optimizer.apply_gradients(zip(gradients, trainable_vars))` in this case\n",
    "    - General case\n",
    "        `weight += - learning_rate * gradient`\n",
    "    - Subtract the gradient: we are descending (reducing loss)"
   ]
  },
  {
   "cell_type": "markdown",
   "metadata": {
    "slideshow": {
     "slide_type": "subslide"
    }
   },
   "source": [
    "*Gradient Ascent* is nearly identical\n",
    "- Except that we update \n",
    "    - a collection of variables\n",
    "        - **not necesarilty** the weights\n",
    "        - perhaps some other variable\n",
    "    - in the *positive* direction of the gradients\n",
    "- So as to *maximize* a function (\"utility\")\n",
    "    - we will continue, in code, to use \"loss\" for the function/variable name"
   ]
  },
  {
   "cell_type": "markdown",
   "metadata": {
    "slideshow": {
     "slide_type": "subslide"
    }
   },
   "source": [
    "In code, it looks like this:\n",
    "\n",
    "\n",
    "    with tf.GradientTape() as tape:\n",
    "        tape.watch(vars)\n",
    "        loss = compute_loss(vars)\n",
    "        \n",
    "    # Compute gradients.\n",
    "    gradients = tape.gradient(loss, vars)\n",
    "      \n",
    "    vars += learning_rate * gradients\n",
    "    \n"
   ]
  },
  {
   "cell_type": "markdown",
   "metadata": {
    "slideshow": {
     "slide_type": "subslide"
    }
   },
   "source": [
    "- `vars` is a list of variables\n",
    "- loss is dependent on `vars`\n",
    "- we compute the gradient of the loss with respect to `vars`\n",
    "- we *add* the gradient wrt `vars`: \n",
    "    - we are ascending (increasing loss: better to call it \"utility\")\n",
    " "
   ]
  },
  {
   "cell_type": "code",
   "execution_count": 2,
   "metadata": {
    "slideshow": {
     "slide_type": "slide"
    }
   },
   "outputs": [
    {
     "name": "stdout",
     "output_type": "stream",
     "text": [
      "Done\n"
     ]
    }
   ],
   "source": [
    "print(\"Done\")"
   ]
  }
 ],
 "metadata": {
  "celltoolbar": "Slideshow",
  "kernelspec": {
   "display_name": "Python 3",
   "language": "python",
   "name": "python3"
  },
  "language_info": {
   "codemirror_mode": {
    "name": "ipython",
    "version": 3
   },
   "file_extension": ".py",
   "mimetype": "text/x-python",
   "name": "python",
   "nbconvert_exporter": "python",
   "pygments_lexer": "ipython3",
   "version": "3.7.4"
  },
  "toc": {
   "base_numbering": 1,
   "nav_menu": {},
   "number_sections": true,
   "sideBar": true,
   "skip_h1_title": false,
   "title_cell": "Table of Contents",
   "title_sidebar": "Contents",
   "toc_cell": false,
   "toc_position": {},
   "toc_section_display": true,
   "toc_window_display": true
  }
 },
 "nbformat": 4,
 "nbformat_minor": 2
}
