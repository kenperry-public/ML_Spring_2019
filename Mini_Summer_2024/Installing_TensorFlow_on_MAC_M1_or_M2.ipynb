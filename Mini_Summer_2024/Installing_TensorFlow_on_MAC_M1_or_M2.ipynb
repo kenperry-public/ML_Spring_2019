{
 "cells": [
  {
   "cell_type": "markdown",
   "metadata": {
    "slideshow": {
     "slide_type": "notes"
    }
   },
   "source": [
    "<!--- #include (tensorflow-apple-metal-conda.yml) --->"
   ]
  },
  {
   "cell_type": "markdown",
   "metadata": {
    "slideshow": {
     "slide_type": "slide"
    }
   },
   "source": [
    "# Installing TensorFlow on a Mac with the new M1 or M2 chip\n",
    "\n",
    "In order to install TensorFlow on an Apple with the new \"ARM\" chip set (and built-in GPU) you will have\n",
    "to follow instructions specific to this architecture.\n",
    "\n",
    "Do not attempt to install using the standard\n",
    "> `conda install tensorflow`"
   ]
  },
  {
   "cell_type": "markdown",
   "metadata": {
    "slideshow": {
     "slide_type": "subslide"
    }
   },
   "source": [
    "## Verify that you have installed the correct Anaconda !\n",
    "\n",
    "The Apple M1 or M2 is able to execute code for older Macs (with the Intel 386 chipset) by emulating\n",
    "an Intel 386.\n",
    "\n",
    "When installing Anaconda: you **must** use the installer with the \"M1\" in the description.\n",
    "\n",
    "If you fail to do this, your Anaconda will just emulate an Intel 386\n",
    "- won't be able to install TensorFlow\n",
    "- won't be able to use the GPU\n"
   ]
  },
  {
   "cell_type": "markdown",
   "metadata": {
    "slideshow": {
     "slide_type": "subslide"
    }
   },
   "source": [
    "Run the following diagnostic in Python to see which Anaconda you have installed\n",
    "```\n",
    "   import platform\n",
    "\n",
    "   platform.platform()\n",
    "   ```\n",
    "   \n",
    "If you have installed the correct Anaconda, the string `arm` will appear as part of the output and you are \n",
    "good to proceed to the next step.\n",
    "\n",
    "If the output contains the string `i386` (e.g., `macOS-10.16-x86_64-i386-64bit`): You have installed the wrong Anaconda !"
   ]
  },
  {
   "cell_type": "markdown",
   "metadata": {
    "slideshow": {
     "slide_type": "slide"
    }
   },
   "source": [
    "## Replacing the wrong Anaconda\n",
    "\n",
    "You will need to uninstall it, following [these instructions](https://docs.anaconda.com/anaconda/install/uninstall/).\n",
    "\n",
    "You then can run the correct Anaconda installer (the one with the \"M1\" in the title).\n",
    "\n",
    "Run the diagnostic above to verify that you now have the correct Anaconda."
   ]
  },
  {
   "cell_type": "markdown",
   "metadata": {
    "slideshow": {
     "slide_type": "slide"
    }
   },
   "source": [
    "## Environments in Anaconda\n",
    "\n",
    "Anaconda allows you to have multiple \"environments\" (distinct collections of Anaconda packages).  The default environment (the one you are used to) is called the \"base\" environment.\n",
    "Environments are distinct: the software installed in one is not related to another.\n",
    "\n",
    "It is particularly useful to create a new environment when testing out new packages; if the new environment is not successful, you will not affect other environments.\n",
    "\n",
    "We will create a new environment that we will name `tensorflow` (since we are testing out Tensorflow installation.  The name is arbitrary EXCEPT for the fact that we use this name in one of the files named below.  The name doesn't matter as long as it is used consistently)"
   ]
  },
  {
   "cell_type": "markdown",
   "metadata": {
    "slideshow": {
     "slide_type": "subslide"
    }
   },
   "source": [
    "When you have more than one environment (e.g., \"base\" and \"tensorflow\") you can switch between them.\n",
    "\n",
    "To switch to the `tensorflow` environment, use the shell command\n",
    "> `conda activate tensorflow`\n",
    "\n",
    "All subsequent commands (including ones that install new packages, like `conda install` ) will affect ONLY the `tensorflow` environment (and not the base environment).  If you think you have installed a package and the system can't find it: it probably means you installed it in a different environment !\n",
    "\n",
    "To switch back to the \"base\" environment, use the shell command\n",
    "> `conda deactivate`"
   ]
  },
  {
   "cell_type": "markdown",
   "metadata": {
    "slideshow": {
     "slide_type": "slide"
    }
   },
   "source": [
    "## Creating the `tensorflow` environment\n",
    "\n",
    "By creating a separate environment, we prevent any accidents/mistakes from affecting the \"base\" environment.\n",
    "\n",
    "As this process is still experimental, it is a good idea to separate the \"base\" from `tensorflow`."
   ]
  },
  {
   "cell_type": "markdown",
   "metadata": {
    "slideshow": {
     "slide_type": "subslide"
    }
   },
   "source": [
    "Make sure that you are in the \"base\" environment. The following command will return you to the base environment.\n",
    "> `conda deactivate`\n",
    "\n",
    "Create a new environment (called `tensorflow`) with the shell command  \n",
    "> `conda create --name tensorflow`\n",
    "\n",
    "This environment will initially be very minimal, providing just basic Python."
   ]
  },
  {
   "cell_type": "markdown",
   "metadata": {
    "slideshow": {
     "slide_type": "subslide"
    }
   },
   "source": [
    "## Installing TensorFlow for Mac M1/M2 in the `tensorflow` environment\n",
    "\n",
    "<!--- #include (tensorflow-apple-metal-conda.yml`) --->\n",
    "In the same directory as this notebook, you will find the file `tensorflow-apple-metal-conda.yml`.\n",
    "\n",
    "This contains a list of the packages that need to be installed.\n",
    "\n",
    "\n",
    "Install Tensorflow in the new environment by running the shell command\n",
    "> `conda env update -n tensorflow -f tensorflow-apple-metal-conda.yml`\n",
    "\n",
    "### Note on this installation method\n",
    "\n",
    "The method using the `tensorflow-apple-metal-conda.yml` file was necessary until sometime in Fall 2023.\n",
    "- It should still work\n",
    "- We will continue to use it until such time as we are able to test a simpler, updated method.\n"
   ]
  },
  {
   "cell_type": "markdown",
   "metadata": {
    "slideshow": {
     "slide_type": "slide"
    }
   },
   "source": [
    "## Make the `tensorflow` environment visible to Jupyter\n",
    "\n",
    "You need to make the new environment visible to Jupyter.  Switch to the new environment via shell command\n",
    "> `conda activate tensorflow`\n",
    "\n",
    "and then issue the shell command\n",
    "\n",
    "> `python -m ipykernel install --user --name tensorflow --display-name \"Python 3.9 (tensorflow)\"`\n",
    "\n",
    "The next time you start Jupyter, you will notice a new entry (labeled `\"Python 3.9 (tensorflow)\"`)\n",
    "in the `Change Kernel` sub-menu of the `Kernel` menu entry.\n",
    "\n",
    "When you want to create a notebook running in the `tensorflow` environment, choose this item from the sub-menu\n",
    ">`Kernel --> Change Kernel --> Python 3.9 (tensorflow)`\n",
    "\n",
    "If you want to create a notebook running in the base environment, choose `Python 3` from the sub-menu\n",
    ">`Kernel --> Change Kernel --> Python 3`\n",
    "\n",
    "Having both the old (base) and new (tensorflow) environments is just a safety measure.  If the new environment is successful, you may choose to always use it in the future."
   ]
  },
  {
   "cell_type": "markdown",
   "metadata": {
    "slideshow": {
     "slide_type": "slide"
    }
   },
   "source": [
    "## Giving a different name to your new environment\n",
    "\n",
    "You don't need to name your new environment `tensorflow`.  \n",
    "\n",
    "You can choose another name as long as you change the `Name: tensorflow` line in `tensorflow-apple-metal-conda.yml` to match.\n",
    "\n",
    "You must also use your chosen name in any of the shell commands above that use the name `tensorflow`.\n"
   ]
  },
  {
   "cell_type": "markdown",
   "metadata": {
    "slideshow": {
     "slide_type": "slide"
    }
   },
   "source": [
    "# Missing packages\n",
    "\n",
    "The set of packages we put in the `tensorflow` environment is much smaller than what is available in \"base\".\n",
    "\n",
    "It is quite possible that you might find some packages are missing.\n",
    "\n",
    "If this happens\n",
    ">`conda search XXX`\n",
    "will help you find available packages matching the string `XXX`\n",
    "\n",
    "Install the missing packages with the shell command\n",
    ">`conda install ...`\n",
    "\n",
    "Be sure you have activated the `tensorflow` environment before funning `conda install` or you may wind up installing the package in the \"base\" environment and not `tensorflow`."
   ]
  },
  {
   "cell_type": "markdown",
   "metadata": {
    "slideshow": {
     "slide_type": "slide"
    }
   },
   "source": [
    "# Credit and References\n",
    "\n",
    "These instructions were derived from the [video](https://www.youtube.com/watch?v=5DgWvU0p2bk).\n",
    "- [updated video: January 2023](https://www.youtube.com/watch?v=o4-bI_iZKPA&t=0s)\n",
    "\n",
    "The video is summarized in [this notebook](https://github.com/jeffheaton/t81_558_deep_learning/blob/master/install/tensorflow-install-conda-mac-metal-jul-2022.ipynb).\n",
    "- [updated notebook: January 2023](https://github.com/jeffheaton/t81_558_deep_learning/blob/master/install/tensorflow-install-mac-metal-jan-2023.ipynb)"
   ]
  },
  {
   "cell_type": "markdown",
   "metadata": {
    "slideshow": {
     "slide_type": "slide"
    }
   },
   "source": [
    "# Verifying your installation\n",
    "\n",
    "At the end of that notebook is a section \"Testing your environment\" which you can run to verify the installation.\n",
    "\n",
    "You should also try running\n",
    ">`import tensorflow as tf`\n",
    "\n",
    "in a Jupyter notebook to verify that you are able to import TensorFlow.\n",
    "- Remember to do this in a notebook in the `tensorflow` environment\n"
   ]
  },
  {
   "cell_type": "markdown",
   "metadata": {
    "slideshow": {
     "slide_type": "slide"
    }
   },
   "source": [
    "# Alternate method: Miniconda\n",
    "\n",
    "Miniconda is a very minimal subset of Anaconda.\n",
    "\n",
    "We will install just enough (hopefully) packages for the course.  But should something be missing:\n",
    "see the section on Missing Packages.\n",
    "\n",
    "Follow the instructions in the notebook (or video) above.\n"
   ]
  },
  {
   "cell_type": "code",
   "execution_count": 1,
   "metadata": {
    "slideshow": {
     "slide_type": "slide"
    }
   },
   "outputs": [
    {
     "name": "stdout",
     "output_type": "stream",
     "text": [
      "Done\n"
     ]
    }
   ],
   "source": [
    "print(\"Done\")"
   ]
  }
 ],
 "metadata": {
  "celltoolbar": "Slideshow",
  "kernelspec": {
   "display_name": "Python 3",
   "language": "python",
   "name": "python3"
  },
  "language_info": {
   "codemirror_mode": {
    "name": "ipython",
    "version": 3
   },
   "file_extension": ".py",
   "mimetype": "text/x-python",
   "name": "python",
   "nbconvert_exporter": "python",
   "pygments_lexer": "ipython3",
   "version": "3.7.4"
  },
  "toc": {
   "base_numbering": 1,
   "nav_menu": {},
   "number_sections": true,
   "sideBar": true,
   "skip_h1_title": false,
   "title_cell": "Table of Contents",
   "title_sidebar": "Contents",
   "toc_cell": false,
   "toc_position": {
    "height": "calc(100% - 180px)",
    "left": "10px",
    "top": "150px",
    "width": "369.188px"
   },
   "toc_section_display": true,
   "toc_window_display": true
  }
 },
 "nbformat": 4,
 "nbformat_minor": 2
}
