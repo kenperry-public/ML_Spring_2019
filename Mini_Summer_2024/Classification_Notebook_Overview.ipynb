{
 "cells": [
  {
   "cell_type": "code",
   "execution_count": 5,
   "metadata": {
    "slideshow": {
     "slide_type": "notes"
    }
   },
   "outputs": [
    {
     "data": {
      "text/latex": [
       "$$\n",
       "\\newcommand{\\x}{\\mathbf{x}}\n",
       "\\newcommand{\\tx}{\\tilde{\\x}}\n",
       "\\newcommand{\\y}{\\mathbf{y}}\n",
       "\\newcommand{\\b}{\\mathbf{b}}\n",
       "\\newcommand{\\c}{\\mathbf{c}}\n",
       "\\newcommand{\\e}{\\mathbf{e}}\n",
       "\\newcommand{\\z}{\\mathbf{z}}\n",
       "\\newcommand{\\h}{\\mathbf{h}}\n",
       "\\newcommand{\\u}{\\mathbf{u}}\n",
       "\\newcommand{\\v}{\\mathbf{v}}\n",
       "\\newcommand{\\w}{\\mathbf{w}}\n",
       "\\newcommand{\\W}{\\mathbf{W}}\n",
       "\\newcommand{\\X}{\\mathbf{X}}\n",
       "\\newcommand{\\KL}{\\mathbf{KL}}\n",
       "\\newcommand{\\E}{{\\mathbb{E}}}\n",
       "\\newcommand{\\ip}{\\mathbf{{(i)}}}\n",
       "%\n",
       "% Test set\n",
       "\\newcommand{\\xt}{\\underline{\\x}}\n",
       "\\newcommand{\\yt}{\\underline{\\y}}\n",
       "\\newcommand{\\Xt}{\\underline{\\X}}\n",
       "\\newcommand{\\perfm}{\\mathcal{P}}\n",
       "%\n",
       "% \\ll indexes a layer; we can change the actual letter\n",
       "\\newcommand{\\ll}{l}\n",
       "\\newcommand{\\llp}{{(\\ll)}}\n",
       "%\n",
       "\\newcommand{Thetam}{\\Theta_{-0}}\n",
       "\n",
       "% CNN\n",
       "\\newcommand{\\kernel}{\\mathbf{k}} \n",
       "\\newcommand{\\dim}{d}\n",
       "\\newcommand{\\idxspatial}{{\\text{idx}}}\n",
       "\\newcommand{\\summaxact}{\\text{max}}\n",
       "%\n",
       "%\n",
       "\n",
       "% RNN\n",
       "% \\tt indexes a time step\n",
       "\\newcommand{\\tt}{t}\n",
       "\\newcommand{\\tp}{{(\\tt)}}\n",
       "%\n",
       "%\n",
       "\n",
       "% LSTM\n",
       "\\newcommand{\\g}{\\mathbf{g}}\n",
       "\\newcommand{\\remember}{\\mathbf{remember}}\n",
       "\\newcommand{\\save}{\\mathbf{save}}\n",
       "\\newcommand{\\focus}{\\mathbf{focus}}\n",
       "%\n",
       "%\n",
       "% NLP\n",
       "\\newcommand{\\Vocab}{\\mathbf{V}}\n",
       "\\newcommand{\\v}{\\mathbf{v}}\n",
       "\\newcommand{\\offset}{o}\n",
       "\\newcommand{\\o}{o}\n",
       "\\newcommand{\\E}{\\mathbf{E}}\n",
       "%\n",
       "%\n",
       "\\newcommand{\\loss}{\\mathcal{L}}\n",
       "\\newcommand{\\cost}{\\mathcal{L}}\n",
       "%\n",
       "%                     \n",
       "\\newcommand{\\pdata}{p_\\text{data}}\n",
       "\\newcommand{\\pmodel}{p_\\text{model}}\n",
       "%\n",
       "% SVM\n",
       "\\newcommand{\\margin}{{\\mathbb{m}}}\n",
       "\\newcommand{\\lmk}{\\boldsymbol{\\ell}}\n",
       "%\n",
       "% Functions with arguments\n",
       "\\def\\xsy#1#2{#1^#2}\n",
       "\\def\\rand#1{\\tilde{#1}}\n",
       "\\def\\randx{\\rand{\\x}}\n",
       "\\def\\randy{\\rand{\\y}}\n",
       "\\def\\trans#1{\\dot{#1}}\n",
       "\\def\\transx{\\trans{\\x}}\n",
       "\\def\\transy{\\trans{\\y}}\n",
       "%\n",
       "\\def\\argmax#1{\\underset{#1} {\\operatorname{argmax}} }\n",
       "\\def\\argmin#1{\\underset{#1} {\\operatorname{argmin}} }\n",
       "\\def\\max#1{\\underset{#1} {\\operatorname{max}} }\n",
       "\\def\\min#1{\\underset{#1} {\\operatorname{min}} }\n",
       "%\n",
       "\\def\\pr#1{\\mathcal{p}(#1)}\n",
       "\\def\\prc#1#2{\\mathcal{p}(#1 \\; | \\; #2)}\n",
       "\\def\\cnt#1{\\mathcal{count}_{#1}}\n",
       "\\def\\node#1{\\mathbb{#1}}\n",
       "%\n",
       "\\newcommand{\\floor}[1]{\\left\\lfloor #1 \\right\\rfloor}\n",
       "\\newcommand{\\ceil}[1]{\\left\\lceil #1 \\right\\rceil}\n",
       "%\n",
       "\\def\\loc#1{{\\text{##} {#1}}}\n",
       "%\n",
       "$$\n"
      ],
      "text/plain": [
       "<IPython.core.display.Latex object>"
      ]
     },
     "metadata": {},
     "output_type": "display_data"
    }
   ],
   "source": [
    "%run Latex_macros.ipynb\n",
    "%run beautify_plots.py"
   ]
  },
  {
   "cell_type": "code",
   "execution_count": 6,
   "metadata": {
    "slideshow": {
     "slide_type": "notes"
    }
   },
   "outputs": [
    {
     "name": "stdout",
     "output_type": "stream",
     "text": [
      "The autoreload extension is already loaded. To reload it, use:\n",
      "  %reload_ext autoreload\n"
     ]
    }
   ],
   "source": [
    "# My standard magic !  You will see this in almost all my notebooks.\n",
    "\n",
    "from IPython.core.interactiveshell import InteractiveShell\n",
    "InteractiveShell.ast_node_interactivity = \"all\"\n",
    "\n",
    "# Reload all modules imported with %aimport\n",
    "%load_ext autoreload\n",
    "%autoreload 1\n",
    "\n",
    "%matplotlib inline"
   ]
  },
  {
   "cell_type": "code",
   "execution_count": 7,
   "metadata": {
    "slideshow": {
     "slide_type": "notes"
    }
   },
   "outputs": [],
   "source": [
    "import numpy as np\n",
    "import pandas as pd\n",
    "import matplotlib.pyplot as plt\n",
    "           \n",
    "from sklearn import datasets, linear_model\n",
    "from sklearn.metrics import mean_squared_error, r2_score\n",
    "\n",
    "import recipe_helper\n",
    "%aimport recipe_helper\n"
   ]
  },
  {
   "cell_type": "markdown",
   "metadata": {
    "slideshow": {
     "slide_type": "slide"
    }
   },
   "source": [
    "# The Classification task: illustrated example\n",
    "\n",
    "We will introduce the Classification task using an historical event: the sinking of the Titanic.\n",
    "\n",
    "(Also the subject of a famous movie)\n",
    "\n",
    "Our goal: \n",
    "- Given attributes of a passenger on the ship\n",
    "- Predict whether the passenger Survived or Not Survived"
   ]
  },
  {
   "cell_type": "markdown",
   "metadata": {
    "slideshow": {
     "slide_type": "subslide"
    }
   },
   "source": [
    "We will learn by doing\n",
    "- We will use the Recipe for Machine Learning to solve a Classification task\n",
    "- The challenges and corresponding solutions will be illustrated on the way\n",
    "    - In particular: dealing with non-numeric variables (target/feature values)\n"
   ]
  },
  {
   "cell_type": "markdown",
   "metadata": {
    "slideshow": {
     "slide_type": "slide"
    }
   },
   "source": [
    "# Recipe Step A: Get the data\n",
    "\n",
    "Let's follow the Recipe, step by step.\n",
    "\n",
    "## Frame the problem\n",
    "\n",
    "\n",
    "\n",
    "Let's visit the notebook section [Get the data](Classification_and_Non_Numerical_Data.ipynb#Frame-the-problem)\n",
    "and perform the following steps\n",
    "- Frame the problem\n",
    "- Get the data\n",
    "- Have a look at the data\n"
   ]
  },
  {
   "cell_type": "markdown",
   "metadata": {
    "slideshow": {
     "slide_type": "slide"
    }
   },
   "source": [
    "## Define a Performance Measure\n",
    "\n",
    "For the Regression task (continuous variable as target), RMSE was our Performance Measure.\n",
    "\n",
    "What is an appropriate measure for a *discrete* target ?\n",
    "\n",
    "## Create a test set\n",
    "\n",
    "In order to evaluate the Performance Metric, we need to segregate some out of sample test examples\n",
    "\n",
    "Let's visit the notebook section [Define a Performance Measure](Classification_and_Non_Numerical_Data.ipynb#Recipe-A.3:-Select-a-performance-measure)\n",
    "and perform both steps\n",
    "- Define a performance measure\n",
    "- Create a test set\n"
   ]
  },
  {
   "cell_type": "markdown",
   "metadata": {
    "slideshow": {
     "slide_type": "slide"
    }
   },
   "source": [
    "# Recipe Step B: Exploratory Data Analysis (EDA)\n",
    "\n",
    "There are quite a few features available.\n",
    "\n",
    "Exploratory Data Analysis can help us\n",
    "- Understand each feature in isolation (e.g., distribution)\n",
    "    - May cause us to transform the feature, e.g., scaling\n",
    "- Understand a possible relationship between target (Survival) and each feature\n",
    "    - Is this feature useful for predicting Survival ?\n",
    "- Understand possible relationships between features\n",
    "- Possibly suggest creating new, synthetic features that alter or combine raw features"
   ]
  },
  {
   "cell_type": "markdown",
   "metadata": {
    "slideshow": {
     "slide_type": "slide"
    }
   },
   "source": [
    "## Visualize Data to gain insights\n",
    "\n",
    "Let's visit the notebook section [Visualize Data](\n",
    "Classification_and_Non_Numerical_Data.ipynb#Recipe-Step-B:-Exploratory-Data-Analysis-(EDA))"
   ]
  },
  {
   "cell_type": "markdown",
   "metadata": {
    "slideshow": {
     "slide_type": "slide"
    }
   },
   "source": [
    "# Prepare the data\n",
    "\n",
    "Time to get our data ready.  The steps we will perform include:\n",
    "- Cleaning\n",
    "- Handling non-numeric attributes\n",
    "- Transformations\n",
    "\n",
    "We will begin by discussing our plans for each step.\n",
    "\n",
    "Let's visit the notebook section [Prepare the data](Classification_and_Non_Numerical_Data.ipynb#Recipe-Step-C:-Prepare-the-data)"
   ]
  },
  {
   "cell_type": "markdown",
   "metadata": {
    "slideshow": {
     "slide_type": "slide"
    }
   },
   "source": [
    "## Code for Prepare the Data\n",
    "\n",
    "Time to code !\n",
    "\n",
    "We will make heavy use of Pandas and the `sklearn` toolkit.\n",
    "\n",
    "Let's return to the [notebook section](Classification_and_Non_Numerical_Data.ipynb#Recipe-Step-C-in-practice:--a-sophisticated-pipeline) to see the code."
   ]
  },
  {
   "cell_type": "markdown",
   "metadata": {
    "slideshow": {
     "slide_type": "slide"
    }
   },
   "source": [
    "# Train a model\n",
    "\n",
    "We will perform the following steps\n",
    "- Select a model\n",
    "- Fit\n",
    "- Cross Validation"
   ]
  },
  {
   "cell_type": "markdown",
   "metadata": {
    "slideshow": {
     "slide_type": "subslide"
    }
   },
   "source": [
    "The main model we use for the Classification task is Logistic Regression.\n",
    "\n",
    "But, it turns out:\n",
    "- It is no harder to train *several* models than it is to just train one !\n",
    "- So we will train a number of models, even before we formally introduce them\n",
    "   \n",
    "Let's return to the notebook section [Train a model](Classification_and_Non_Numerical_Data.ipynb#Recipe-Step-D:-Train-a-model)"
   ]
  },
  {
   "cell_type": "markdown",
   "metadata": {
    "slideshow": {
     "slide_type": "subslide"
    }
   },
   "source": [
    "## Error Analysis\n",
    "\n",
    "Let's introduce some concepts relevant to analyzing errors for the Classification task.\n",
    "\n",
    "We will be very brief, for now.  We will explore this topic in depth in a dedicated module on Error Analysis.\n",
    "\n",
    "Let's return to the notebook section [Error Analysis](Classification_and_Non_Numerical_Data.ipynb#Recipe-D.4:--Error-analysis)"
   ]
  },
  {
   "cell_type": "markdown",
   "metadata": {
    "slideshow": {
     "slide_type": "slide"
    }
   },
   "source": [
    "# Categorical variables\n",
    "\n",
    "We really glossed over the proper treatment of the Categorical variables in our first pass\n",
    "- The target `Survived`, which should be Categorical, was encoded with a binary value\n",
    "- Feature `Pclass`, which arguably could be Categorical, was given as an integer $\\{ 1, 2, 3 \\}$ rather than $\\{ \\text{First}, \\text{Second}, \\text{Third} \\}$\n",
    "- Categorical feature `Sex` was transformed into a binary $\\{ 0, 1 \\}$"
   ]
  },
  {
   "cell_type": "markdown",
   "metadata": {
    "slideshow": {
     "slide_type": "subslide"
    }
   },
   "source": [
    "In general: we need to transform a categorical variables with $||C|| > 1 $ possible values.\n",
    "\n",
    "Visit the separate notebook on [Categorical Variables](Categorical_Variables.ipynb) for a fuller discussion."
   ]
  },
  {
   "cell_type": "markdown",
   "metadata": {
    "slideshow": {
     "slide_type": "slide"
    }
   },
   "source": [
    "# Titanic revisited\n",
    "\n",
    "With a proper grounding in how to handle Categorical variables \n",
    "let's revisit the \n",
    "- [Titanic using categorical features](Classification_and_Non_Numerical_Data.ipynb#Titanic-revisited:-OHE--features)"
   ]
  },
  {
   "cell_type": "markdown",
   "metadata": {
    "slideshow": {
     "slide_type": "slide"
    }
   },
   "source": [
    "# Final word on coding\n",
    "As you witnessed, the code for all models is almost identical !\n",
    "\n",
    "This is the power of `sklearn` and similar toolkits for Machine Learning\n",
    "- All models have a consistent API: `fit`, `transform`, `predict`"
   ]
  },
  {
   "cell_type": "markdown",
   "metadata": {
    "slideshow": {
     "slide_type": "subslide"
    }
   },
   "source": [
    "If our goal was to learn an API, we'd be done.\n",
    "\n",
    "But our goal is to pursue a systematic approach to problem solving in Machine Learning, with an emphasis\n",
    "- On process\n",
    "- Understanding concepts, loss functions, etc.\n",
    "- Diagnosing problems with models and improving them\n",
    "\n"
   ]
  },
  {
   "cell_type": "markdown",
   "metadata": {
    "slideshow": {
     "slide_type": "subslide"
    }
   },
   "source": [
    "So, after today's lecture: our presentations will de-emphasize the code and emphasize the concepts.\n",
    "- My notebooks will be less \"code-heavy\"\n",
    "- The code will be isolated into separate modules, which you can examine\n",
    "- You just won't see the body in the notebook"
   ]
  },
  {
   "cell_type": "code",
   "execution_count": 8,
   "metadata": {
    "slideshow": {
     "slide_type": "slide"
    }
   },
   "outputs": [
    {
     "name": "stdout",
     "output_type": "stream",
     "text": [
      "Done\n"
     ]
    }
   ],
   "source": [
    "print(\"Done\")"
   ]
  }
 ],
 "metadata": {
  "celltoolbar": "Slideshow",
  "kernelspec": {
   "display_name": "Python 3",
   "language": "python",
   "name": "python3"
  },
  "language_info": {
   "codemirror_mode": {
    "name": "ipython",
    "version": 3
   },
   "file_extension": ".py",
   "mimetype": "text/x-python",
   "name": "python",
   "nbconvert_exporter": "python",
   "pygments_lexer": "ipython3",
   "version": "3.7.4"
  },
  "toc": {
   "base_numbering": 1,
   "nav_menu": {},
   "number_sections": true,
   "sideBar": true,
   "skip_h1_title": false,
   "title_cell": "Table of Contents",
   "title_sidebar": "Contents",
   "toc_cell": false,
   "toc_position": {
    "height": "calc(100% - 180px)",
    "left": "10px",
    "top": "150px",
    "width": "370.594px"
   },
   "toc_section_display": true,
   "toc_window_display": true
  }
 },
 "nbformat": 4,
 "nbformat_minor": 2
}
