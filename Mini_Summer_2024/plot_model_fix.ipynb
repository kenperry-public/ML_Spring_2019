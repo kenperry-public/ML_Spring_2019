{
 "cells": [
  {
   "cell_type": "code",
   "execution_count": 1,
   "metadata": {},
   "outputs": [
    {
     "name": "stdout",
     "output_type": "stream",
     "text": [
      "pydot:  <module 'pydot' from '/home/ubuntu/anaconda3/lib/python3.8/site-packages/pydot.py'>\n",
      "Check pydot:  False\n"
     ]
    }
   ],
   "source": [
    "try:\n",
    "  # pydot-ng is a fork of pydot that is better maintained.\n",
    "  import pydot_ng as pydot\n",
    "except ImportError:\n",
    "  # pydotplus is an improved version of pydot\n",
    "  try:\n",
    "    import pydotplus as pydot\n",
    "  except ImportError:\n",
    "    # Fall back on pydot if necessary.\n",
    "    try:\n",
    "      import pydot\n",
    "    except ImportError:\n",
    "      pydot = None\n",
    "\n",
    "\n",
    "def check_pydot():\n",
    "  \"\"\"Returns True if PyDot and Graphviz are available.\"\"\"\n",
    "  if pydot is None:\n",
    "    return False\n",
    "  try:\n",
    "    # Attempt to create an image of a blank graph\n",
    "    # to check the pydot/graphviz installation.\n",
    "    pydot.Dot.create(pydot.Dot())\n",
    "    return True\n",
    "  except OSError:\n",
    "    return False\n",
    "\n",
    "print(\"pydot: \", pydot)\n",
    "print(\"Check pydot: \", check_pydot() )"
   ]
  },
  {
   "cell_type": "code",
   "execution_count": 2,
   "metadata": {},
   "outputs": [
    {
     "name": "stdout",
     "output_type": "stream",
     "text": [
      "Manually adding to PATH\n",
      "AFTER manually addding to path:\n",
      "pydot:  <module 'pydot' from '/home/ubuntu/anaconda3/lib/python3.8/site-packages/pydot.py'>\n",
      "Check pydot:  True\n"
     ]
    }
   ],
   "source": [
    "if not check_pydot():\n",
    "    print(\"Manually adding to PATH\")\n",
    "    \n",
    "    import os\n",
    "    \n",
    "    # Add to PATH the location of binaries installed under the default (\"base\") Conda environment\n",
    "    if \"CONDA_PREFIX\" in os.environ:\n",
    "        conda_pre = os.environ[\"CONDA_PREFIX\"]\n",
    "    else:\n",
    "        conda_pre = os.path.join( os.path.sep, *os.__file__.split('/')[:-3])\n",
    "        \n",
    "    os.environ[\"PATH\"] += os.pathsep + os.path.join(conda_pre, \"bin\")\n",
    "\n",
    "    # Add to PATH the location of binaries installed under the current (possibly non-default) Conda environment\n",
    "    #  os.__file__ will give us full path to the \"os\" module\n",
    "    #  Keep the parts of the path that are relevant: e.g, [:-3]\n",
    "    #  Be sure to begin the path with \"/\" (more precisely: os.path.sep)\n",
    "    os.environ[\"PATH\"] += os.pathsep + os.path.join( os.path.sep, *os.__file__.split('/')[:-3], \"bin\" )\n",
    "\n",
    "    print(\"AFTER manually addding to path:\")\n",
    "    print(\"pydot: \", pydot)\n",
    "    print(\"Check pydot: \", check_pydot() )\n",
    "    \n",
    "    os.environ[\"PATH\"]"
   ]
  }
 ],
 "metadata": {
  "kernelspec": {
   "display_name": "Python 3",
   "language": "python",
   "name": "python3"
  },
  "language_info": {
   "codemirror_mode": {
    "name": "ipython",
    "version": 3
   },
   "file_extension": ".py",
   "mimetype": "text/x-python",
   "name": "python",
   "nbconvert_exporter": "python",
   "pygments_lexer": "ipython3",
   "version": "3.7.4"
  },
  "toc": {
   "base_numbering": 1,
   "nav_menu": {},
   "number_sections": true,
   "sideBar": true,
   "skip_h1_title": false,
   "title_cell": "Table of Contents",
   "title_sidebar": "Contents",
   "toc_cell": false,
   "toc_position": {},
   "toc_section_display": true,
   "toc_window_display": false
  }
 },
 "nbformat": 4,
 "nbformat_minor": 5
}
