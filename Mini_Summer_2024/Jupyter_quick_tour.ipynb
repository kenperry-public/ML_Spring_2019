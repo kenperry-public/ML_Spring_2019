{
 "cells": [
  {
   "cell_type": "code",
   "execution_count": 1,
   "metadata": {
    "slideshow": {
     "slide_type": "notes"
    }
   },
   "outputs": [],
   "source": [
    "from IPython.core.interactiveshell import InteractiveShell\n",
    "InteractiveShell.ast_node_interactivity = \"all\"\n",
    "\n",
    "# Reload all modules imported with %aimport\n",
    "%load_ext autoreload\n",
    "%autoreload 1\n",
    "\n",
    "%matplotlib inline"
   ]
  },
  {
   "cell_type": "markdown",
   "metadata": {
    "slideshow": {
     "slide_type": "slide"
    }
   },
   "source": [
    "# Jupyter\n",
    "\n",
    "- Notebooks\n",
    "    - a vehicle to communicate your thoughts to others\n",
    "    - a container for code, text, graphics\n",
    "    - a Web-based IDE\n",
    "- Jupyter is a notebook server\n",
    "    - Server either local or in cloud\n",
    "    - client usually on local machine\n",
    "    - Multi-language\n",
    "        - Jupyter is short for: **Ju**lia, **Pyt**hon, **R**"
   ]
  },
  {
   "cell_type": "markdown",
   "metadata": {
    "slideshow": {
     "slide_type": "slide"
    }
   },
   "source": [
    "# Jupyter: a vehicle for communication (NOT just coding)\n",
    "\n",
    "- Code and \"mark-down\"\n",
    "- Lectures via Notebooks !"
   ]
  },
  {
   "cell_type": "markdown",
   "metadata": {
    "slideshow": {
     "slide_type": "slide"
    }
   },
   "source": [
    "- Assignments\n",
    "    - Your notebooks are your \"lab notebook\"\n",
    "        - The final result is not always the most interesting part !\n",
    "            - Process and what you learned on the journey is important\n",
    "        - Define the problem you are working on\n",
    "        - Describe and explore the data\n",
    "            - what were the challenges ? Cleaning ? Transformation ?\n",
    "        - Overview of your methodology/research method\n",
    "        - Experiments conducted/results, both success and failure\n",
    "        - Describe your steps in English, followed by code\n",
    "        \n",
    "- Code-only: limited credit !\n",
    "\n",
    "<div class=\"alert alert-block alert-success\">\n",
    "    \n",
    "**Tip**: It's a movie not a photograph !\n",
    "</div>"
   ]
  },
  {
   "cell_type": "markdown",
   "metadata": {
    "slideshow": {
     "slide_type": "slide"
    }
   },
   "source": [
    "## Jupyter tour\n",
    "\n",
    "- [Jupyter dashboard](external/ipython-in-depth/examples/Notebook/Notebook%20Basics.ipynb#The-Dashboard)\n",
    "\n",
    "- [Header and body](external/ipython-in-depth/examples/Notebook/Notebook%20Basics.ipynb#The-Notebook)\n",
    "\n",
    "- Command mode/edit mode\n",
    "    - [Keyboard shortcuts](external/ipython-in-depth/examples/Notebook/Notebook%20Basics.ipynb#Keyboard-Navigation)\n",
    "- [Types of Cells](external/mltutorial/notebooks/IPython-Tutorial/1%20-%20Notebooks%20%26%20Cells.ipynb)\n",
    "\n",
    "    - Cells can contain either code or markdown (e.g., text)\n",
    "        - Code shows your solution\n",
    "        - Markdown used to tell the story of your journey"
   ]
  },
  {
   "cell_type": "markdown",
   "metadata": {
    "slideshow": {
     "slide_type": "slide"
    }
   },
   "source": [
    "## Jupyter markdown\n",
    "\n",
    "- [Markdown](external/mltutorial/notebooks/IPython-Tutorial/2%20-%20Markdown%20%26%20LATEX.ipynb)\n",
    "    - [Markdown cheat sheet](https://github.com/adam-p/markdown-here/wiki/Markdown-Cheatsheet)\n",
    "    - [Equations, categorized](http://www.equationsheet.com/)\n",
    "    \n",
    "A couple of great tools\n",
    "- [Detexify](http://detexify.kirelabs.org/classify.html)\n",
    "    - hand-drawn symbols convert to TeX !\n",
    "- [Mathpix](https://mathpix.com/)\n",
    "    - Screen-shot to markdown !"
   ]
  },
  {
   "cell_type": "markdown",
   "metadata": {
    "slideshow": {
     "slide_type": "slide"
    }
   },
   "source": [
    "## Introspection\n",
    "- TAB completion\n",
    "    - Data properties\n",
    "\n",
    "- `?`\n",
    "    - Function help\n",
    "- `??`\n",
    "    - Code inspection\n",
    "\n",
    "[Sample notebook](Sample.ipynb)"
   ]
  },
  {
   "cell_type": "markdown",
   "metadata": {
    "slideshow": {
     "slide_type": "slide"
    }
   },
   "source": [
    "## Checkpoints\n",
    "- Jupyter will save a snapshot (\"checkpoint\") each time you save your notebook\n",
    "- Jupyter will auto-save your notebook as you change it\n",
    "    - You can discard the auto-saved changes by reverting back to a checkpoint"
   ]
  }
 ],
 "metadata": {
  "celltoolbar": "Slideshow",
  "kernelspec": {
   "display_name": "Python 3",
   "language": "python",
   "name": "python3"
  },
  "language_info": {
   "codemirror_mode": {
    "name": "ipython",
    "version": 3
   },
   "file_extension": ".py",
   "mimetype": "text/x-python",
   "name": "python",
   "nbconvert_exporter": "python",
   "pygments_lexer": "ipython3",
   "version": "3.7.4"
  },
  "toc": {
   "base_numbering": 1,
   "nav_menu": {},
   "number_sections": true,
   "sideBar": true,
   "skip_h1_title": false,
   "title_cell": "Table of Contents",
   "title_sidebar": "Contents",
   "toc_cell": false,
   "toc_position": {
    "height": "calc(100% - 180px)",
    "left": "10px",
    "top": "150px",
    "width": "368px"
   },
   "toc_section_display": true,
   "toc_window_display": false
  }
 },
 "nbformat": 4,
 "nbformat_minor": 2
}
