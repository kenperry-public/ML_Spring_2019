{
 "cells": [
  {
   "cell_type": "code",
   "execution_count": 1,
   "metadata": {
    "slideshow": {
     "slide_type": "notes"
    }
   },
   "outputs": [
    {
     "data": {
      "text/latex": [
       "$$\n",
       "\\newcommand{\\x}{\\mathbf{x}}\n",
       "\\newcommand{\\tx}{\\tilde{\\x}}\n",
       "\\newcommand{\\y}{\\mathbf{y}}\n",
       "\\newcommand{\\b}{\\mathbf{b}}\n",
       "\\newcommand{\\c}{\\mathbf{c}}\n",
       "\\newcommand{\\e}{\\mathbf{e}}\n",
       "\\newcommand{\\z}{\\mathbf{z}}\n",
       "\\newcommand{\\h}{\\mathbf{h}}\n",
       "\\newcommand{\\u}{\\mathbf{u}}\n",
       "\\newcommand{\\v}{\\mathbf{v}}\n",
       "\\newcommand{\\w}{\\mathbf{w}}\n",
       "\\newcommand{\\V}{\\mathbf{V}}\n",
       "\\newcommand{\\W}{\\mathbf{W}}\n",
       "\\newcommand{\\X}{\\mathbf{X}}\n",
       "\\newcommand{\\KL}{\\mathbf{KL}}\n",
       "\\newcommand{\\E}{{\\mathbb{E}}}\n",
       "\\newcommand{\\Reals}{{\\mathbb{R}}}\n",
       "\\newcommand{\\ip}{\\mathbf{{(i)}}}\n",
       "%\n",
       "% Test set\n",
       "\\newcommand{\\xt}{\\underline{\\x}}\n",
       "\\newcommand{\\yt}{\\underline{\\y}}\n",
       "\\newcommand{\\Xt}{\\underline{\\X}}\n",
       "\\newcommand{\\perfm}{\\mathcal{P}}\n",
       "%\n",
       "% \\ll indexes a layer; we can change the actual letter\n",
       "\\newcommand{\\ll}{l}\n",
       "\\newcommand{\\llp}{{(\\ll)}}\n",
       "%\n",
       "\\newcommand{Thetam}{\\Theta_{-0}}\n",
       "\n",
       "% CNN\n",
       "\\newcommand{\\kernel}{\\mathbf{k}} \n",
       "\\newcommand{\\dim}{d}\n",
       "\\newcommand{\\idxspatial}{{\\text{idx}}}\n",
       "\\newcommand{\\summaxact}{\\text{max}}\n",
       "\\newcommand{idxb}{\\mathbf{i}}\n",
       "%\n",
       "%\n",
       "\n",
       "% RNN\n",
       "% \\tt indexes a time step\n",
       "\\newcommand{\\tt}{t}\n",
       "\\newcommand{\\tp}{{(\\tt)}}\n",
       "%\n",
       "%\n",
       "\n",
       "% LSTM\n",
       "\\newcommand{\\g}{\\mathbf{g}}\n",
       "\\newcommand{\\remember}{\\mathbf{remember}}\n",
       "\\newcommand{\\save}{\\mathbf{save}}\n",
       "\\newcommand{\\focus}{\\mathbf{focus}}\n",
       "%\n",
       "%\n",
       "% NLP\n",
       "\\newcommand{\\Vocab}{\\mathbf{V}}\n",
       "\\newcommand{\\v}{\\mathbf{v}}\n",
       "\\newcommand{\\offset}{o}\n",
       "\\newcommand{\\o}{o}\n",
       "\\newcommand{\\Emb}{\\mathbf{E}}\n",
       "%\n",
       "%\n",
       "\\newcommand{\\loss}{\\mathcal{L}}\n",
       "\\newcommand{\\cost}{\\mathcal{L}}\n",
       "%\n",
       "%                     \n",
       "\\newcommand{\\pdata}{p_\\text{data}}\n",
       "\\newcommand{\\pmodel}{p_\\text{model}}\n",
       "%\n",
       "% SVM\n",
       "\\newcommand{\\margin}{{\\mathbb{m}}}\n",
       "\\newcommand{\\lmk}{\\boldsymbol{\\ell}}\n",
       "%\n",
       "%\n",
       "% Functions with arguments\n",
       "\\def\\xsy#1#2{#1^#2}\n",
       "\\def\\rand#1{\\tilde{#1}}\n",
       "\\def\\randx{\\rand{\\x}}\n",
       "\\def\\randy{\\rand{\\y}}\n",
       "\\def\\trans#1{\\dot{#1}}\n",
       "\\def\\transx{\\trans{\\x}}\n",
       "\\def\\transy{\\trans{\\y}}\n",
       "%\n",
       "\\def\\argmax#1{\\underset{#1} {\\operatorname{argmax}} }\n",
       "\\def\\argmin#1{\\underset{#1} {\\operatorname{argmin}} }\n",
       "\\def\\max#1{\\underset{#1} {\\operatorname{max}} }\n",
       "\\def\\min#1{\\underset{#1} {\\operatorname{min}} }\n",
       "%\n",
       "\\def\\pr#1{\\mathcal{p}(#1)}\n",
       "\\def\\prc#1#2{\\mathcal{p}(#1 \\; | \\; #2)}\n",
       "\\def\\cnt#1{\\mathcal{count}_{#1}}\n",
       "\\def\\node#1{\\mathbb{#1}}\n",
       "%\n",
       "\\def\\loc#1{{\\text{##} {#1}}}\n",
       "%\n",
       "\\def\\OrderOf#1{\\mathcal{O}\\left( #1 \\right)}\n",
       "%\n",
       "% Expectation operator\n",
       "\\def\\Exp#1{\\underset{#1} {\\operatorname{\\mathbb{E}}} }\n",
       "%\n",
       "% VAE\n",
       "\\def\\prs#1#2{\\mathcal{p}_{#2}(#1)}\n",
       "\\def\\qr#1{\\mathcal{q}(#1)}\n",
       "\\def\\qrs#1#2{\\mathcal{q}_{#2}(#1)}\n",
       "%\n",
       "% Reinforcement learning\n",
       "\\newcommand{\\Actions}{{\\mathcal{A}}} \n",
       "\\newcommand{\\actseq}{A}\n",
       "\\newcommand{\\act}{a}\n",
       "\\newcommand{\\States}{{\\mathcal{S}}}   \n",
       "\\newcommand{\\stateseq}{S}  \n",
       "\\newcommand{\\state}{s}\n",
       "\\newcommand{\\Rewards}{{\\mathcal{R}}}\n",
       "\\newcommand{\\rewseq}{R}\n",
       "\\newcommand{\\rew}{r}\n",
       "\\newcommand{\\transp}{P}\n",
       "\\newcommand{\\statevalfun}{v}\n",
       "\\newcommand{\\actvalfun}{q}\n",
       "\\newcommand{\\disc}{\\gamma}\n",
       "%\n",
       "%\n",
       "\\newcommand{\\floor}[1]{\\left\\lfloor #1 \\right\\rfloor}\n",
       "\\newcommand{\\ceil}[1]{\\left\\lceil #1 \\right\\rceil}\n",
       "%\n",
       "%\n",
       "$$\n"
      ],
      "text/plain": [
       "<IPython.core.display.Latex object>"
      ]
     },
     "metadata": {},
     "output_type": "display_data"
    }
   ],
   "source": [
    "%run Latex_macros.ipynb\n",
    "%run beautify_plots.py"
   ]
  },
  {
   "cell_type": "markdown",
   "metadata": {
    "slideshow": {
     "slide_type": "notes"
    }
   },
   "source": [
    "$$\n",
    "\\newcommand{\\o}{\\mathbf{o}}\n",
    "$$\n"
   ]
  },
  {
   "cell_type": "code",
   "execution_count": 2,
   "metadata": {
    "slideshow": {
     "slide_type": "notes"
    }
   },
   "outputs": [],
   "source": [
    "# My standard magic !  You will see this in almost all my notebooks.\n",
    "\n",
    "from IPython.core.interactiveshell import InteractiveShell\n",
    "InteractiveShell.ast_node_interactivity = \"all\"\n",
    "\n",
    "# Reload all modules imported with %aimport\n",
    "%load_ext autoreload\n",
    "%autoreload 1\n",
    "%matplotlib inline"
   ]
  },
  {
   "cell_type": "code",
   "execution_count": 3,
   "metadata": {
    "slideshow": {
     "slide_type": "notes"
    }
   },
   "outputs": [],
   "source": [
    "# Standard imports\n",
    "import pandas as pd\n",
    "import numpy as np\n",
    "import matplotlib.pyplot as plt\n",
    "\n",
    "# Common imports\n",
    "import os\n",
    "\n",
    "import decision_trees_helper as dthelp\n",
    "%aimport decision_trees_helper\n",
    "\n",
    "th = dthelp.TitanicHelper()\n",
    "\n",
    "import mnist_helper\n",
    "%aimport mnist_helper\n",
    "\n",
    "mnh = mnist_helper.MNIST_Helper()\n",
    "\n",
    "import class_helper\n",
    "%aimport class_helper\n",
    "\n",
    "clh= class_helper.Classification_Helper()\n",
    "\n",
    "import training_models_helper as tmh\n",
    "%aimport training_models_helper\n",
    "\n",
    "tm = tmh.TrainingModelsHelper()\n",
    "\n",
    "import decision_trees_helper as dthelp\n",
    "%aimport decision_trees_helper\n",
    "\n",
    "num_head=5"
   ]
  },
  {
   "cell_type": "code",
   "execution_count": 4,
   "metadata": {
    "slideshow": {
     "slide_type": "notes"
    }
   },
   "outputs": [],
   "source": [
    "from sklearn.model_selection import train_test_split, cross_val_score\n",
    "from sklearn import linear_model, preprocessing, model_selection \n",
    "from sklearn.preprocessing import OneHotEncoder, OrdinalEncoder, LabelEncoder\n",
    "from sklearn.metrics import accuracy_score\n",
    "from sklearn.compose import ColumnTransformer\n",
    "from sklearn.pipeline import Pipeline\n",
    "from sklearn.impute import SimpleImputer \n",
    "from sklearn.base import BaseEstimator, TransformerMixin"
   ]
  },
  {
   "cell_type": "markdown",
   "metadata": {
    "slideshow": {
     "slide_type": "slide"
    }
   },
   "source": [
    "# Overview\n",
    "\n",
    "In this notebook we will learn about\n",
    "- Categorical variables\n",
    "    - non-numeric\n",
    "- Classification task\n",
    "    - Supervised Learning, with categorical target\n",
    "\n",
    "We begin with the Binary Classification task, in which the targets\n",
    "are one of two possible values\n",
    "- Positive/Negative"
   ]
  },
  {
   "cell_type": "markdown",
   "metadata": {
    "slideshow": {
     "slide_type": "slide"
    }
   },
   "source": [
    "# Recipe Step A: Get the data\n",
    "\n",
    "## Frame the problem\n",
    "Borrowed  from [Wikipedia](https://en.wikipedia.org/wiki/RMS_Titanic)\n",
    "\n",
    ">RMS Titanic was a British passenger liner that sank in the North Atlantic Ocean in 1912 after the ship struck an iceberg during her maiden voyage from Southampton to New York City. Of the estimated 2,224 passengers and crew aboard, more than 1,500 died, making it one of modern history's deadliest peacetime commercial marine disasters"
   ]
  },
  {
   "cell_type": "markdown",
   "metadata": {
    "slideshow": {
     "slide_type": "slide"
    }
   },
   "source": [
    "The goal is to predict whether a passenger survives, based on passenger characteristics.\n",
    "- target: { \"Survive\", \"Not Survive\" }\n",
    "- features: vector of passenger characteristics\n",
    "\n",
    "That is: a Binary Classification Task\n",
    "- Positive: \"Survive\"\n",
    "- Negative: \"Not survive\""
   ]
  },
  {
   "cell_type": "markdown",
   "metadata": {
    "slideshow": {
     "slide_type": "subslide"
    }
   },
   "source": [
    "**Aside:** What does the Titanic have to do with Finance or Risk ?\n",
    "- Credit risk: will borrower default ?\n",
    "- Mortgage prepayment risk: Will mortgage Prepay ?"
   ]
  },
  {
   "cell_type": "markdown",
   "metadata": {
    "slideshow": {
     "slide_type": "slide"
    }
   },
   "source": [
    "## Recipe A.1: Get the data\n",
    "The data comes in two CSV format files\n",
    "- train\n",
    "- test\n",
    "\n",
    "We will read them into a Pandas DataFrame.\n",
    "- Observe our use of *relative paths* for file names\n",
    "- Using relative rather than absolute paths will allow us to grade your assignment on our machine\n",
    "    - Files in different absolute locations, but same relative location"
   ]
  },
  {
   "cell_type": "code",
   "execution_count": 5,
   "metadata": {
    "slideshow": {
     "slide_type": "subslide"
    }
   },
   "outputs": [
    {
     "name": "stdout",
     "output_type": "stream",
     "text": [
      "Data directory:  ./data/titanic\n"
     ]
    }
   ],
   "source": [
    "# Note the use of *relative path*; you should all use relative rather than absolute paths\n",
    "TITANIC_PATH = th.TITANIC_PATH\n",
    "print(\"Data directory: \", TITANIC_PATH)\n",
    "\n",
    "train_data = pd.read_csv( os.path.join(TITANIC_PATH, \"train.csv\") )\n",
    "test_data  = pd.read_csv( os.path.join(TITANIC_PATH, \"test.csv\")  )\n"
   ]
  },
  {
   "cell_type": "code",
   "execution_count": 6,
   "metadata": {
    "slideshow": {
     "slide_type": "subslide"
    }
   },
   "outputs": [
    {
     "data": {
      "text/plain": [
       "(891, 12)"
      ]
     },
     "execution_count": 6,
     "metadata": {},
     "output_type": "execute_result"
    },
    {
     "data": {
      "text/plain": [
       "(418, 11)"
      ]
     },
     "execution_count": 6,
     "metadata": {},
     "output_type": "execute_result"
    }
   ],
   "source": [
    "train_data.shape\n",
    "test_data.shape"
   ]
  },
  {
   "cell_type": "markdown",
   "metadata": {
    "slideshow": {
     "slide_type": "slide"
    }
   },
   "source": [
    "## Recipe A.2: Have a look at the data\n",
    "Let's examine the first few records to get a feel for the shape of the data.\n",
    "\n",
    "This will help us understand the features and the target."
   ]
  },
  {
   "cell_type": "code",
   "execution_count": 7,
   "metadata": {
    "slideshow": {
     "slide_type": "subslide"
    }
   },
   "outputs": [
    {
     "data": {
      "text/plain": [
       "Index(['PassengerId', 'Survived', 'Pclass', 'Name', 'Sex', 'Age', 'SibSp',\n",
       "       'Parch', 'Ticket', 'Fare', 'Cabin', 'Embarked'],\n",
       "      dtype='object')"
      ]
     },
     "execution_count": 7,
     "metadata": {},
     "output_type": "execute_result"
    },
    {
     "data": {
      "text/html": [
       "<div>\n",
       "<style scoped>\n",
       "    .dataframe tbody tr th:only-of-type {\n",
       "        vertical-align: middle;\n",
       "    }\n",
       "\n",
       "    .dataframe tbody tr th {\n",
       "        vertical-align: top;\n",
       "    }\n",
       "\n",
       "    .dataframe thead th {\n",
       "        text-align: right;\n",
       "    }\n",
       "</style>\n",
       "<table border=\"1\" class=\"dataframe\">\n",
       "  <thead>\n",
       "    <tr style=\"text-align: right;\">\n",
       "      <th></th>\n",
       "      <th>PassengerId</th>\n",
       "      <th>Survived</th>\n",
       "      <th>Pclass</th>\n",
       "      <th>Name</th>\n",
       "      <th>Sex</th>\n",
       "      <th>Age</th>\n",
       "      <th>SibSp</th>\n",
       "      <th>Parch</th>\n",
       "      <th>Ticket</th>\n",
       "      <th>Fare</th>\n",
       "      <th>Cabin</th>\n",
       "      <th>Embarked</th>\n",
       "    </tr>\n",
       "  </thead>\n",
       "  <tbody>\n",
       "    <tr>\n",
       "      <td>0</td>\n",
       "      <td>1</td>\n",
       "      <td>0</td>\n",
       "      <td>3</td>\n",
       "      <td>Braund, Mr. Owen Harris</td>\n",
       "      <td>male</td>\n",
       "      <td>22.0</td>\n",
       "      <td>1</td>\n",
       "      <td>0</td>\n",
       "      <td>A/5 21171</td>\n",
       "      <td>7.2500</td>\n",
       "      <td>NaN</td>\n",
       "      <td>S</td>\n",
       "    </tr>\n",
       "    <tr>\n",
       "      <td>1</td>\n",
       "      <td>2</td>\n",
       "      <td>1</td>\n",
       "      <td>1</td>\n",
       "      <td>Cumings, Mrs. John Bradley (Florence Briggs Th...</td>\n",
       "      <td>female</td>\n",
       "      <td>38.0</td>\n",
       "      <td>1</td>\n",
       "      <td>0</td>\n",
       "      <td>PC 17599</td>\n",
       "      <td>71.2833</td>\n",
       "      <td>C85</td>\n",
       "      <td>C</td>\n",
       "    </tr>\n",
       "    <tr>\n",
       "      <td>2</td>\n",
       "      <td>3</td>\n",
       "      <td>1</td>\n",
       "      <td>3</td>\n",
       "      <td>Heikkinen, Miss. Laina</td>\n",
       "      <td>female</td>\n",
       "      <td>26.0</td>\n",
       "      <td>0</td>\n",
       "      <td>0</td>\n",
       "      <td>STON/O2. 3101282</td>\n",
       "      <td>7.9250</td>\n",
       "      <td>NaN</td>\n",
       "      <td>S</td>\n",
       "    </tr>\n",
       "    <tr>\n",
       "      <td>3</td>\n",
       "      <td>4</td>\n",
       "      <td>1</td>\n",
       "      <td>1</td>\n",
       "      <td>Futrelle, Mrs. Jacques Heath (Lily May Peel)</td>\n",
       "      <td>female</td>\n",
       "      <td>35.0</td>\n",
       "      <td>1</td>\n",
       "      <td>0</td>\n",
       "      <td>113803</td>\n",
       "      <td>53.1000</td>\n",
       "      <td>C123</td>\n",
       "      <td>S</td>\n",
       "    </tr>\n",
       "    <tr>\n",
       "      <td>4</td>\n",
       "      <td>5</td>\n",
       "      <td>0</td>\n",
       "      <td>3</td>\n",
       "      <td>Allen, Mr. William Henry</td>\n",
       "      <td>male</td>\n",
       "      <td>35.0</td>\n",
       "      <td>0</td>\n",
       "      <td>0</td>\n",
       "      <td>373450</td>\n",
       "      <td>8.0500</td>\n",
       "      <td>NaN</td>\n",
       "      <td>S</td>\n",
       "    </tr>\n",
       "  </tbody>\n",
       "</table>\n",
       "</div>"
      ],
      "text/plain": [
       "   PassengerId  Survived  Pclass  \\\n",
       "0            1         0       3   \n",
       "1            2         1       1   \n",
       "2            3         1       3   \n",
       "3            4         1       1   \n",
       "4            5         0       3   \n",
       "\n",
       "                                                Name     Sex   Age  SibSp  \\\n",
       "0                            Braund, Mr. Owen Harris    male  22.0      1   \n",
       "1  Cumings, Mrs. John Bradley (Florence Briggs Th...  female  38.0      1   \n",
       "2                             Heikkinen, Miss. Laina  female  26.0      0   \n",
       "3       Futrelle, Mrs. Jacques Heath (Lily May Peel)  female  35.0      1   \n",
       "4                           Allen, Mr. William Henry    male  35.0      0   \n",
       "\n",
       "   Parch            Ticket     Fare Cabin Embarked  \n",
       "0      0         A/5 21171   7.2500   NaN        S  \n",
       "1      0          PC 17599  71.2833   C85        C  \n",
       "2      0  STON/O2. 3101282   7.9250   NaN        S  \n",
       "3      0            113803  53.1000  C123        S  \n",
       "4      0            373450   8.0500   NaN        S  "
      ]
     },
     "execution_count": 7,
     "metadata": {},
     "output_type": "execute_result"
    }
   ],
   "source": [
    "train_data.columns\n",
    "train_data.head()"
   ]
  },
  {
   "cell_type": "markdown",
   "metadata": {
    "slideshow": {
     "slide_type": "subslide"
    }
   },
   "source": [
    "The attributes have the following meaning:\n",
    "* **Survived**: that's the target\n",
    "    - 0 means passenger did not survive (Negative)\n",
    "    - 1 means passenger survived (Positive)\n",
    "* **Pclass**: passenger class.\n",
    "* **Name**, **Sex**, **Age**: self-explanatory\n",
    "* **SibSp**: how many siblings & spouses of the passenger aboard the Titanic.\n",
    "* **Parch**: how many children & parents of the passenger aboard the Titanic.\n",
    "* **Ticket**: ticket id\n",
    "* **Fare**: price paid (in pounds)\n",
    "* **Cabin**: passenger's cabin number\n",
    "* **Embarked**: where the passenger embarked the Titanic"
   ]
  },
  {
   "cell_type": "markdown",
   "metadata": {
    "slideshow": {
     "slide_type": "subslide"
    }
   },
   "source": [
    "How many observations are there ?\n"
   ]
  },
  {
   "cell_type": "code",
   "execution_count": 8,
   "metadata": {
    "slideshow": {
     "slide_type": "subslide"
    }
   },
   "outputs": [
    {
     "name": "stdout",
     "output_type": "stream",
     "text": [
      "There are 891 observations and 12 attributes (including the target)\n"
     ]
    }
   ],
   "source": [
    "(num_obs, num_features) = train_data.shape\n",
    "print(\"There are {nr} observations and {nf} attributes (including the target)\".format(nr=num_obs, nf=num_features) )"
   ]
  },
  {
   "cell_type": "markdown",
   "metadata": {
    "slideshow": {
     "slide_type": "subslide"
    }
   },
   "source": [
    "Observation\n",
    "- The data covers many fewer examples than the number of described in the problem statement\n",
    "- Is the data not truly representative ?\n",
    "\n",
    "We'll ignore this for now.\n",
    "\n",
    "Let's try to understand the types of the attributes"
   ]
  },
  {
   "cell_type": "code",
   "execution_count": 9,
   "metadata": {
    "scrolled": true,
    "slideshow": {
     "slide_type": "subslide"
    }
   },
   "outputs": [
    {
     "name": "stdout",
     "output_type": "stream",
     "text": [
      "<class 'pandas.core.frame.DataFrame'>\n",
      "RangeIndex: 891 entries, 0 to 890\n",
      "Data columns (total 12 columns):\n",
      "PassengerId    891 non-null int64\n",
      "Survived       891 non-null int64\n",
      "Pclass         891 non-null int64\n",
      "Name           891 non-null object\n",
      "Sex            891 non-null object\n",
      "Age            714 non-null float64\n",
      "SibSp          891 non-null int64\n",
      "Parch          891 non-null int64\n",
      "Ticket         891 non-null object\n",
      "Fare           891 non-null float64\n",
      "Cabin          204 non-null object\n",
      "Embarked       889 non-null object\n",
      "dtypes: float64(2), int64(5), object(5)\n",
      "memory usage: 83.7+ KB\n"
     ]
    }
   ],
   "source": [
    "train_data.info()"
   ]
  },
  {
   "cell_type": "markdown",
   "metadata": {
    "slideshow": {
     "slide_type": "subslide"
    }
   },
   "source": [
    "**Non-numeric attributes**\n",
    "\n",
    "We can see the non-numeric attributes (type is \"object\") are:\n",
    "- `Name`\n",
    "- `Sex`\n",
    "- `Cabin`\n",
    "- `Embarked`"
   ]
  },
  {
   "cell_type": "markdown",
   "metadata": {
    "slideshow": {
     "slide_type": "slide"
    }
   },
   "source": [
    "**Data issues: missing attributes**\n",
    "\n",
    "We can also see that we have some missing data issues to deal with.\n",
    "\n",
    "Any attribute with less than num_obs values has observations with a missing value in the attribute\n",
    "- `Age`\n",
    "- `Cabin`\n",
    "- `Embarked`"
   ]
  },
  {
   "cell_type": "markdown",
   "metadata": {
    "slideshow": {
     "slide_type": "subslide"
    }
   },
   "source": [
    "**Other issues**\n",
    "- Shouldn't `Survived` be non-numeric (Positive/Negative or Survived/Not) ?\n",
    "    - looks like this has been encoded as the integer 1/0\n",
    "- What about `Pclass` ? Shouldn't it be non-numeric ?\n",
    "    - This could have just as easily been encoded as non-numeric \"First\", \"Second\", \"Third\"\n",
    "    - Is the fact that it has been encoded as small integers significant ?\n",
    "    - This is much deeper than it sounds.\n",
    "        - We will revisit when discussing Categorical variables.\n",
    "        \n",
    "For our first pass at the problem: we will ignore issues concerning `Survived` and `Pclass`."
   ]
  },
  {
   "cell_type": "markdown",
   "metadata": {
    "slideshow": {
     "slide_type": "slide"
    }
   },
   "source": [
    "Let's get a summary of the distribution of each attribute\n",
    "\n",
    "(n.b., `describe` operates *only* on the numeric attributes)"
   ]
  },
  {
   "cell_type": "code",
   "execution_count": 10,
   "metadata": {
    "slideshow": {
     "slide_type": "subslide"
    }
   },
   "outputs": [
    {
     "data": {
      "text/html": [
       "<div>\n",
       "<style scoped>\n",
       "    .dataframe tbody tr th:only-of-type {\n",
       "        vertical-align: middle;\n",
       "    }\n",
       "\n",
       "    .dataframe tbody tr th {\n",
       "        vertical-align: top;\n",
       "    }\n",
       "\n",
       "    .dataframe thead th {\n",
       "        text-align: right;\n",
       "    }\n",
       "</style>\n",
       "<table border=\"1\" class=\"dataframe\">\n",
       "  <thead>\n",
       "    <tr style=\"text-align: right;\">\n",
       "      <th></th>\n",
       "      <th>PassengerId</th>\n",
       "      <th>Survived</th>\n",
       "      <th>Pclass</th>\n",
       "      <th>Age</th>\n",
       "      <th>SibSp</th>\n",
       "      <th>Parch</th>\n",
       "      <th>Fare</th>\n",
       "    </tr>\n",
       "  </thead>\n",
       "  <tbody>\n",
       "    <tr>\n",
       "      <td>count</td>\n",
       "      <td>891.000000</td>\n",
       "      <td>891.000000</td>\n",
       "      <td>891.000000</td>\n",
       "      <td>714.000000</td>\n",
       "      <td>891.000000</td>\n",
       "      <td>891.000000</td>\n",
       "      <td>891.000000</td>\n",
       "    </tr>\n",
       "    <tr>\n",
       "      <td>mean</td>\n",
       "      <td>446.000000</td>\n",
       "      <td>0.383838</td>\n",
       "      <td>2.308642</td>\n",
       "      <td>29.699118</td>\n",
       "      <td>0.523008</td>\n",
       "      <td>0.381594</td>\n",
       "      <td>32.204208</td>\n",
       "    </tr>\n",
       "    <tr>\n",
       "      <td>std</td>\n",
       "      <td>257.353842</td>\n",
       "      <td>0.486592</td>\n",
       "      <td>0.836071</td>\n",
       "      <td>14.526497</td>\n",
       "      <td>1.102743</td>\n",
       "      <td>0.806057</td>\n",
       "      <td>49.693429</td>\n",
       "    </tr>\n",
       "    <tr>\n",
       "      <td>min</td>\n",
       "      <td>1.000000</td>\n",
       "      <td>0.000000</td>\n",
       "      <td>1.000000</td>\n",
       "      <td>0.420000</td>\n",
       "      <td>0.000000</td>\n",
       "      <td>0.000000</td>\n",
       "      <td>0.000000</td>\n",
       "    </tr>\n",
       "    <tr>\n",
       "      <td>25%</td>\n",
       "      <td>223.500000</td>\n",
       "      <td>0.000000</td>\n",
       "      <td>2.000000</td>\n",
       "      <td>20.125000</td>\n",
       "      <td>0.000000</td>\n",
       "      <td>0.000000</td>\n",
       "      <td>7.910400</td>\n",
       "    </tr>\n",
       "    <tr>\n",
       "      <td>50%</td>\n",
       "      <td>446.000000</td>\n",
       "      <td>0.000000</td>\n",
       "      <td>3.000000</td>\n",
       "      <td>28.000000</td>\n",
       "      <td>0.000000</td>\n",
       "      <td>0.000000</td>\n",
       "      <td>14.454200</td>\n",
       "    </tr>\n",
       "    <tr>\n",
       "      <td>75%</td>\n",
       "      <td>668.500000</td>\n",
       "      <td>1.000000</td>\n",
       "      <td>3.000000</td>\n",
       "      <td>38.000000</td>\n",
       "      <td>1.000000</td>\n",
       "      <td>0.000000</td>\n",
       "      <td>31.000000</td>\n",
       "    </tr>\n",
       "    <tr>\n",
       "      <td>max</td>\n",
       "      <td>891.000000</td>\n",
       "      <td>1.000000</td>\n",
       "      <td>3.000000</td>\n",
       "      <td>80.000000</td>\n",
       "      <td>8.000000</td>\n",
       "      <td>6.000000</td>\n",
       "      <td>512.329200</td>\n",
       "    </tr>\n",
       "  </tbody>\n",
       "</table>\n",
       "</div>"
      ],
      "text/plain": [
       "       PassengerId    Survived      Pclass         Age       SibSp  \\\n",
       "count   891.000000  891.000000  891.000000  714.000000  891.000000   \n",
       "mean    446.000000    0.383838    2.308642   29.699118    0.523008   \n",
       "std     257.353842    0.486592    0.836071   14.526497    1.102743   \n",
       "min       1.000000    0.000000    1.000000    0.420000    0.000000   \n",
       "25%     223.500000    0.000000    2.000000   20.125000    0.000000   \n",
       "50%     446.000000    0.000000    3.000000   28.000000    0.000000   \n",
       "75%     668.500000    1.000000    3.000000   38.000000    1.000000   \n",
       "max     891.000000    1.000000    3.000000   80.000000    8.000000   \n",
       "\n",
       "            Parch        Fare  \n",
       "count  891.000000  891.000000  \n",
       "mean     0.381594   32.204208  \n",
       "std      0.806057   49.693429  \n",
       "min      0.000000    0.000000  \n",
       "25%      0.000000    7.910400  \n",
       "50%      0.000000   14.454200  \n",
       "75%      0.000000   31.000000  \n",
       "max      6.000000  512.329200  "
      ]
     },
     "execution_count": 10,
     "metadata": {},
     "output_type": "execute_result"
    }
   ],
   "source": [
    "train_data.describe()"
   ]
  },
  {
   "cell_type": "markdown",
   "metadata": {
    "slideshow": {
     "slide_type": "subslide"
    }
   },
   "source": [
    "- You can also observe the attributes with missing values by looking at the \"count\"\n",
    "- You can clearly see that `Survived` is a binary, *integer* variable\n",
    "- Only 38 % of the passengers survived (\"mean\")"
   ]
  },
  {
   "cell_type": "code",
   "execution_count": 11,
   "metadata": {
    "slideshow": {
     "slide_type": "slide"
    }
   },
   "outputs": [
    {
     "data": {
      "text/plain": [
       "0    549\n",
       "1    342\n",
       "Name: Survived, dtype: int64"
      ]
     },
     "execution_count": 11,
     "metadata": {},
     "output_type": "execute_result"
    }
   ],
   "source": [
    "train_data[\"Survived\"].value_counts()"
   ]
  },
  {
   "cell_type": "markdown",
   "metadata": {
    "slideshow": {
     "slide_type": "subslide"
    }
   },
   "source": [
    "<img src=\"images/Back_to_parent.jpg\">"
   ]
  },
  {
   "cell_type": "markdown",
   "metadata": {
    "slideshow": {
     "slide_type": "slide"
    }
   },
   "source": [
    "## Recipe A.3: Select a performance measure\n",
    "Our performance measure for the Classification task will be **accuracy**, the fraction of correct predictions.\n",
    "\n",
    "$$\n",
    "\\textrm{Accuracy} = \\frac{\\textrm{number of correct predictions}}{\\textrm{number of predictions} }\n",
    "$$\n",
    "\n",
    "There are several drawbacks with this definition, which we will address later.\n",
    "\n",
    "But let's start with it for now."
   ]
  },
  {
   "cell_type": "markdown",
   "metadata": {
    "slideshow": {
     "slide_type": "slide"
    }
   },
   "source": [
    "## Recipe A.4: Create a test set and put it aside !\n",
    "\n",
    "The train/test split was done for us: it came as two separate files\n",
    "\n",
    "We might later choose to combine the two and do our own split (or better yet: multiple splits) but for now, we'll take what we are given."
   ]
  },
  {
   "cell_type": "markdown",
   "metadata": {
    "slideshow": {
     "slide_type": "subslide"
    }
   },
   "source": [
    "Note that the test set provided *does not have targets* associated with each example\n",
    "- The dataset was from a Kaggle competition.  The \"answers\" (targets) to the test set were known only to the judges.\n",
    "- This means you can't use the provided test set to evaluate the Performance Measure.  Either\n",
    "    - Create your own test set\n",
    "    - Use Cross Validation"
   ]
  },
  {
   "cell_type": "markdown",
   "metadata": {
    "slideshow": {
     "slide_type": "subslide"
    }
   },
   "source": [
    "<img src=\"images/Back_to_parent.jpg\">"
   ]
  },
  {
   "cell_type": "markdown",
   "metadata": {
    "slideshow": {
     "slide_type": "slide"
    }
   },
   "source": [
    "# Recipe Step B: Exploratory Data Analysis (EDA)\n",
    "\n",
    "## Visualize Data to gain insights\n",
    "\n",
    "### Distribution of each attribute\n",
    "\n",
    "Let's start by looking at the (unconditional) distribution of the target and some attributes\n",
    "\n",
    "First let's look at them normalized (i.e, as fractions or probabilities)"
   ]
  },
  {
   "cell_type": "code",
   "execution_count": 12,
   "metadata": {
    "scrolled": true,
    "slideshow": {
     "slide_type": "subslide"
    }
   },
   "outputs": [
    {
     "data": {
      "image/png": "[encoded data removed]",
      "text/plain": [
       "<Figure size 576x576 with 4 Axes>"
      ]
     },
     "metadata": {
      "needs_background": "light"
     },
     "output_type": "display_data"
    },
    {
     "data": {
      "image/png": "[encoded data removed]",
      "text/plain": [
       "<Figure size 576x144 with 2 Axes>"
      ]
     },
     "metadata": {
      "needs_background": "light"
     },
     "output_type": "display_data"
    }
   ],
   "source": [
    "clh.plot_attrs(train_data, [ \"Survived\", \"Sex\", \"Pclass\", \"Embarked\" ], attr_type=\"Cat\", plot=True, normalize=True)\n",
    "clh.plot_attrs(train_data, [ \"Age\" ], attr_type=\"Num\", normalize=True)"
   ]
  },
  {
   "cell_type": "markdown",
   "metadata": {
    "slideshow": {
     "slide_type": "subslide"
    }
   },
   "source": [
    "One important observation is apparent:\n",
    "\n",
    "The dataset is very *imbalanced*\n",
    "- the number of Positive (Survive) examples is much less than the number of Negative (Not Survive) examples\n",
    "- this is a problem: just look at the Loss that is being minimized\n",
    "$$\n",
    "\\begin{array} \\\\\n",
    "\\loss_\\Theta & = & \\frac{1}{m} \\sum_{i=1}^m { \\loss_\\Theta^\\ip } \\\\\n",
    "& = & \\frac{1}{m} \\left( \\sum_{i \\in \\text{Positive} }^m { \\loss_\\Theta^\\ip } + \\sum_{i \\in \\text{Negative} }^m { \\loss_\\Theta^\\ip }\\right) \\\\\n",
    "\\end{array}\n",
    "$$\n",
    "\n",
    "The cumulative weight of the Positive examples is much less than the Negative\n",
    "- hence, the Positive examples may influence $\\Theta$ more than the Negative\n",
    "\n",
    "Eliminating this potential source of bias in optimization will be the topic of a future module."
   ]
  },
  {
   "cell_type": "markdown",
   "metadata": {
    "slideshow": {
     "slide_type": "subslide"
    }
   },
   "source": [
    "We've looked at the distributions as normalized (fractions of total).\n",
    "\n",
    "We can also look at them un-normalized, or absolute count"
   ]
  },
  {
   "cell_type": "code",
   "execution_count": 13,
   "metadata": {
    "scrolled": true,
    "slideshow": {
     "slide_type": "subslide"
    }
   },
   "outputs": [
    {
     "data": {
      "image/png": "[encoded data removed]",
      "text/plain": [
       "<Figure size 576x576 with 4 Axes>"
      ]
     },
     "metadata": {
      "needs_background": "light"
     },
     "output_type": "display_data"
    },
    {
     "data": {
      "image/png": "[encoded data removed]",
      "text/plain": [
       "<Figure size 576x144 with 2 Axes>"
      ]
     },
     "metadata": {
      "needs_background": "light"
     },
     "output_type": "display_data"
    }
   ],
   "source": [
    "clh.plot_attrs(train_data, [ \"Survived\", \"Sex\", \"Pclass\", \"Embarked\" ], attr_type=\"Cat\", plot=True, normalize=False)\n",
    "clh.plot_attrs(train_data, [ \"Age\" ], attr_type=\"Num\", normalize=False)"
   ]
  },
  {
   "cell_type": "markdown",
   "metadata": {
    "slideshow": {
     "slide_type": "subslide"
    }
   },
   "source": [
    "### Conditional survival probability (condition on single attribute)\n",
    "\n",
    "Let's explore whether there is a relationship between the target (Survived) and single features\n",
    "- This might tell us whether the feature has some predictive value\n",
    "    - If the distribution of the target is different for each value of the feature\n",
    "    - The feature may have an association with the target"
   ]
  },
  {
   "cell_type": "code",
   "execution_count": 14,
   "metadata": {
    "slideshow": {
     "slide_type": "subslide"
    }
   },
   "outputs": [],
   "source": [
    "fig, axs = clh.plot_conds(train_data, [ (\"Survived\", { \"Sex\": \"female\"}),\n",
    "                         (\"Survived\", { \"Sex\": \"male\"}),\n",
    "                         None,\n",
    "                         (\"Survived\", { \"Pclass\": 1}),\n",
    "                         (\"Survived\", { \"Pclass\": 2}),\n",
    "                         (\"Survived\", { \"Pclass\": 3}),\n",
    "                        \n",
    "                         (\"Survived\", { \"Embarked\":\"C\"}),\n",
    "                         (\"Survived\", { \"Embarked\":\"Q\"}),\n",
    "                         (\"Survived\", { \"Embarked\":\"S\"})\n",
    "                       ],\n",
    "                          share_y=\"row\",\n",
    "                          normalize=\"False\"\n",
    "          )\n",
    "\n",
    "# In case the figure is truncated in this slide, we will re-display it in the next (without the code)\n",
    "plt.close(fig)"
   ]
  },
  {
   "cell_type": "code",
   "execution_count": 15,
   "metadata": {
    "slideshow": {
     "slide_type": "subslide"
    }
   },
   "outputs": [
    {
     "data": {
      "image/png": "[encoded data removed]",
      "text/plain": [
       "<Figure size 864x576 with 9 Axes>"
      ]
     },
     "execution_count": 15,
     "metadata": {},
     "output_type": "execute_result"
    }
   ],
   "source": [
    "# Display the figure again, in it's own slide, so it is not truncated\n",
    "fig"
   ]
  },
  {
   "cell_type": "markdown",
   "metadata": {
    "slideshow": {
     "slide_type": "subslide"
    }
   },
   "source": [
    "Interesting !\n",
    "- Women are 3 times as likely to survive\n",
    "- NOT being in the lowest Class doubles or triples your survival probability\n",
    "- Embarking at Cherbourg increased your probability of surviving\n",
    "    - WHY ? Is there a correlation between Class and point of embarkation maybe ?\n",
    "    \n",
    "Preview: There may also be lessons here for dealing with missing data"
   ]
  },
  {
   "cell_type": "markdown",
   "metadata": {
    "slideshow": {
     "slide_type": "slide"
    }
   },
   "source": [
    "### Conditional survival probability (condition on multiple attributes)\n",
    "\n",
    "- Having examined possible associations between the target and single features\n",
    "- We now examine a possible association to pairs of features\n",
    "- A single feature alone may not separate the data into different target values\n",
    "- But combinations of features might"
   ]
  },
  {
   "cell_type": "code",
   "execution_count": 16,
   "metadata": {
    "slideshow": {
     "slide_type": "subslide"
    }
   },
   "outputs": [],
   "source": [
    "fig, axs = clh.plot_conds(train_data, [\n",
    "                         (\"Survived\", { \"Sex\": \"female\", \"Pclass\": 1}),\n",
    "                         (\"Survived\", { \"Sex\": \"female\", \"Pclass\": 2}),\n",
    "                         (\"Survived\", { \"Sex\": \"female\", \"Pclass\": 3}),\n",
    "    \n",
    "                         (\"Survived\", { \"Sex\": \"male\", \"Pclass\": 1}),\n",
    "                         (\"Survived\", { \"Sex\": \"male\", \"Pclass\": 2}),\n",
    "                         (\"Survived\", { \"Sex\": \"male\", \"Pclass\": 3}),\n",
    "                       ],\n",
    "                          share_y=\"row\"\n",
    "                         )\n",
    "\n",
    "# In case the figure is truncated in this slide, we will re-display it in the next (without the code)\n",
    "plt.close(fig)"
   ]
  },
  {
   "cell_type": "code",
   "execution_count": 17,
   "metadata": {
    "slideshow": {
     "slide_type": "subslide"
    }
   },
   "outputs": [
    {
     "data": {
      "image/png": "[encoded data removed]",
      "text/plain": [
       "<Figure size 864x576 with 6 Axes>"
      ]
     },
     "execution_count": 17,
     "metadata": {},
     "output_type": "execute_result"
    }
   ],
   "source": [
    "# Display the figure again, in it's own slide, so it is not truncated\n",
    "fig"
   ]
  },
  {
   "cell_type": "markdown",
   "metadata": {
    "slideshow": {
     "slide_type": "subslide"
    }
   },
   "source": [
    "Remember our original theory that being Female *unconditionally* increased chances of Survive ?\n",
    "- We can see now see that this was only true *conditionally* for Classes 1 and 2\n",
    "\n",
    "This suggests that some *feature engineering* (creating *synthetic features* from the raw features)\n",
    "may increase accuracy of the prediction of Survice\n",
    "- create a synthetic $\\text{PClass} \\ne 3$ feature\n",
    "- use it in a *compound* feature: $(\\text{PClass} \\ne 3) \\text{ and } (\\text{Sex} = \\text{Female})$ \n",
    "\n",
    "The creation of synthetic features is also called *transformation*.\n",
    "\n",
    "Creating such a compound feature will be the topic of a subsequent module.\n",
    "\n",
    "For now: we will limit ourselves to raw features."
   ]
  },
  {
   "cell_type": "markdown",
   "metadata": {
    "slideshow": {
     "slide_type": "slide"
    }
   },
   "source": [
    "**Age**\n",
    "\n",
    "We have not yet looked at whether the `Age` feature may help us predict Survive/Not Survive.\n",
    "\n",
    "Since there are two many discrete ages, we will look at the \n",
    "probability of Survive conditioned on `Age` buckets.\n",
    "- each bucket has an `Age` range of 15 years\n",
    "- lower age in bucket is denoted by `AgeBucket` attribute"
   ]
  },
  {
   "cell_type": "code",
   "execution_count": 18,
   "metadata": {
    "scrolled": true,
    "slideshow": {
     "slide_type": "subslide"
    }
   },
   "outputs": [
    {
     "data": {
      "text/html": [
       "<div>\n",
       "<style scoped>\n",
       "    .dataframe tbody tr th:only-of-type {\n",
       "        vertical-align: middle;\n",
       "    }\n",
       "\n",
       "    .dataframe tbody tr th {\n",
       "        vertical-align: top;\n",
       "    }\n",
       "\n",
       "    .dataframe thead th {\n",
       "        text-align: right;\n",
       "    }\n",
       "</style>\n",
       "<table border=\"1\" class=\"dataframe\">\n",
       "  <thead>\n",
       "    <tr style=\"text-align: right;\">\n",
       "      <th></th>\n",
       "      <th>Survived</th>\n",
       "    </tr>\n",
       "    <tr>\n",
       "      <th>AgeBucket</th>\n",
       "      <th></th>\n",
       "    </tr>\n",
       "  </thead>\n",
       "  <tbody>\n",
       "    <tr>\n",
       "      <td>0.0</td>\n",
       "      <td>0.576923</td>\n",
       "    </tr>\n",
       "    <tr>\n",
       "      <td>15.0</td>\n",
       "      <td>0.362745</td>\n",
       "    </tr>\n",
       "    <tr>\n",
       "      <td>30.0</td>\n",
       "      <td>0.423256</td>\n",
       "    </tr>\n",
       "    <tr>\n",
       "      <td>45.0</td>\n",
       "      <td>0.404494</td>\n",
       "    </tr>\n",
       "    <tr>\n",
       "      <td>60.0</td>\n",
       "      <td>0.240000</td>\n",
       "    </tr>\n",
       "    <tr>\n",
       "      <td>75.0</td>\n",
       "      <td>1.000000</td>\n",
       "    </tr>\n",
       "  </tbody>\n",
       "</table>\n",
       "</div>"
      ],
      "text/plain": [
       "           Survived\n",
       "AgeBucket          \n",
       "0.0        0.576923\n",
       "15.0       0.362745\n",
       "30.0       0.423256\n",
       "45.0       0.404494\n",
       "60.0       0.240000\n",
       "75.0       1.000000"
      ]
     },
     "execution_count": 18,
     "metadata": {},
     "output_type": "execute_result"
    }
   ],
   "source": [
    "train_data_augmented = train_data.copy()\n",
    "train_data_augmented[\"AgeBucket\"] = train_data[\"Age\"] // 15 * 15\n",
    "train_data_augmented[[\"AgeBucket\", \"Survived\"]].groupby(['AgeBucket']).mean()"
   ]
  },
  {
   "cell_type": "markdown",
   "metadata": {
    "slideshow": {
     "slide_type": "subslide"
    }
   },
   "source": [
    "Wow ! Children below the age of 15 (bucket 0.0) had a much better chance of survival.  \n",
    "\n",
    "(And it doesn't pay to be old when disaster strikes!)\n",
    "\n",
    "Another thing becomes apparent through the bucketing:\n",
    "- the relationship between `Age` and `Survive` is **not linear**\n",
    "    - probability of Survive in `Age` range 15-30 is *lower* than adjacent buckets\n",
    "    \n",
    "We would be hard pressed to see this using Age as a continuous variable"
   ]
  },
  {
   "cell_type": "markdown",
   "metadata": {
    "slideshow": {
     "slide_type": "subslide"
    }
   },
   "source": [
    "Note that the Linear Regression equation\n",
    "$$\n",
    "\\y = \\Theta^T \\x\n",
    "$$\n",
    "implies a *linear relationship* between target $\\y$ and each feature $\\Theta_j$\n",
    "\n",
    "- An example with feature value $2 * \\x_j$ has twice the impact on $\\y$ as an example with feature value $\\x_j$.\n",
    "\n",
    "So using the raw `Age` feature in prediction is probably not a great idea.\n"
   ]
  },
  {
   "cell_type": "markdown",
   "metadata": {
    "slideshow": {
     "slide_type": "subslide"
    }
   },
   "source": [
    "A better idea would be to use\n",
    "- synthetic feature `AgeBucket`\n",
    "- as a *categorical* variable\n",
    "    - True/False: an example is in each bucket\n",
    "    \n",
    "Again:\n",
    "- we will see how to properly encode categorical features in a subsequent module\n",
    "- for now: we will stick with the raw feature `Age`"
   ]
  },
  {
   "cell_type": "markdown",
   "metadata": {
    "slideshow": {
     "slide_type": "slide"
    }
   },
   "source": [
    "**Embarked**\n",
    "\n",
    "The Embarked attribute tells us where the passenger boarded:\n",
    "- C=Cherbourg, Q=Queenstown, S=Southampton.\n",
    "\n",
    "Could this be a predictor of Survived ?"
   ]
  },
  {
   "cell_type": "markdown",
   "metadata": {
    "slideshow": {
     "slide_type": "slide"
    }
   },
   "source": [
    "Or perhaps\n",
    "- there is a correlation between `Embarked` and `PClass`\n",
    "    - First Class passengers may have boarded at one location; Third Class in another\n",
    "    - in which case `Embarked` would not provide any information in addition to `PClass`\n",
    "    \n",
    "We don't know the answer\n",
    "- but these are questions well worth exploring in the Exploratory Data Analysis step."
   ]
  },
  {
   "cell_type": "markdown",
   "metadata": {
    "slideshow": {
     "slide_type": "slide"
    }
   },
   "source": [
    "**Cabin**\n",
    "\n",
    "Might the Cabin location be associated with Survival ?  \n",
    "\n",
    "Note that the front of the ship went down first."
   ]
  },
  {
   "cell_type": "markdown",
   "metadata": {
    "slideshow": {
     "slide_type": "subslide"
    }
   },
   "source": [
    "If you are a diligent Data Scientist you can find this image, which is revealing\n",
    "- Worst cabins (pink, Third class) were dispersed between front and back\n",
    "- Best cabins (white, First class) were dispersed between above/below deck\n",
    "- Mid cabins(yellow, Second Class) were *not* near front of ship\n",
    "![Titanic cabins](images/Titanic_cabin_layout.jpg)"
   ]
  },
  {
   "cell_type": "markdown",
   "metadata": {
    "slideshow": {
     "slide_type": "slide"
    }
   },
   "source": [
    "### Aside: Using Pandas for partitioning the data\n",
    "\n",
    "<div class=\"alert alert-block alert-info\">\n",
    "    <b>Aside</b>:   How does pd.groupby() work ?\n",
    "</div>\n",
    "\n",
    "If you examine our modules to see how we are partitioning the data\n",
    "- You will see how useful the Pandas `groupby` method is\n",
    "- For those who know SQL: this is similar to grouping in database queries\n",
    "- For those who want to know how `groupby` works, this section explains\n",
    "    - Feel free to skip it\n",
    "`\n"
   ]
  },
  {
   "cell_type": "markdown",
   "metadata": {
    "slideshow": {
     "slide_type": "subslide"
    }
   },
   "source": [
    "The Pandas Split-Apply-Combine pattern is very powerful\n",
    "- This is very SQL-like, for those who have used databases\n",
    "- Below is some simpler Pandas code to show exactly how it works"
   ]
  },
  {
   "cell_type": "code",
   "execution_count": 19,
   "metadata": {
    "slideshow": {
     "slide_type": "subslide"
    }
   },
   "outputs": [
    {
     "name": "stdout",
     "output_type": "stream",
     "text": [
      "male\t577\t0.1889\n",
      "female\t314\t0.7420\n"
     ]
    },
    {
     "data": {
      "text/html": [
       "<div>\n",
       "<style scoped>\n",
       "    .dataframe tbody tr th:only-of-type {\n",
       "        vertical-align: middle;\n",
       "    }\n",
       "\n",
       "    .dataframe tbody tr th {\n",
       "        vertical-align: top;\n",
       "    }\n",
       "\n",
       "    .dataframe thead th {\n",
       "        text-align: right;\n",
       "    }\n",
       "</style>\n",
       "<table border=\"1\" class=\"dataframe\">\n",
       "  <thead>\n",
       "    <tr style=\"text-align: right;\">\n",
       "      <th></th>\n",
       "      <th>mean</th>\n",
       "      <th>count</th>\n",
       "    </tr>\n",
       "    <tr>\n",
       "      <th>Sex</th>\n",
       "      <th></th>\n",
       "      <th></th>\n",
       "    </tr>\n",
       "  </thead>\n",
       "  <tbody>\n",
       "    <tr>\n",
       "      <td>female</td>\n",
       "      <td>0.742038</td>\n",
       "      <td>314</td>\n",
       "    </tr>\n",
       "    <tr>\n",
       "      <td>male</td>\n",
       "      <td>0.188908</td>\n",
       "      <td>577</td>\n",
       "    </tr>\n",
       "  </tbody>\n",
       "</table>\n",
       "</div>"
      ],
      "text/plain": [
       "            mean  count\n",
       "Sex                    \n",
       "female  0.742038    314\n",
       "male    0.188908    577"
      ]
     },
     "execution_count": 19,
     "metadata": {},
     "output_type": "execute_result"
    }
   ],
   "source": [
    "# Partition by the attribute \"Sex\"\n",
    "males   = train_data[ train_data[\"Sex\"] == \"male\"]\n",
    "females = train_data[ train_data[\"Sex\"] == \"female\"]\n",
    "\n",
    "# Aggregate within each group: count,mean.  n.b., only doing this for the \"Survived\" column\n",
    "count_males, count_females = males.shape[0], females.shape[0]\n",
    "survival_males, survival_females = males[\"Survived\"].mean(), females[\"Survived\"].mean()\n",
    "\n",
    "print( \"male\\t{c}\\t{m:0.4f}\".format(c=count_males, m=survival_males) )\n",
    "print( \"female\\t{c}\\t{m:0.4f}\".format(c=count_females, m=survival_females) )\n",
    "\n",
    "# Or, use the pd.groupby\n",
    "train_data.groupby(\"Sex\").agg([\"mean\", \"count\"])[\"Survived\"]\n"
   ]
  },
  {
   "cell_type": "markdown",
   "metadata": {
    "slideshow": {
     "slide_type": "subslide"
    }
   },
   "source": [
    "<img src=\"images/Back_to_parent.jpg\">"
   ]
  },
  {
   "cell_type": "markdown",
   "metadata": {
    "slideshow": {
     "slide_type": "subslide"
    }
   },
   "source": [
    "# Recipe Step C: Prepare the data\n",
    "\n",
    "We will follow all the steps for the Prepare the Data step per our Recipe.\n",
    "\n",
    "But\n",
    "- We will initially only discuss what we intend to do for each sub-step\n",
    "- The actual code will be deferred to the end of this section\n",
    "- We will use a single Pipeline to implement all the steps of Prepare the Data"
   ]
  },
  {
   "cell_type": "markdown",
   "metadata": {
    "slideshow": {
     "slide_type": "subslide"
    }
   },
   "source": [
    "## Recipe C.1: Cleaning\n",
    "\n",
    "Our initial data exploration revealed some attributes with missing data\n",
    "- Age\n",
    "- Cabin\n",
    "- Embarked\n",
    "\n",
    "We will address various strategies for dealing with missing data in the module on Data Transformations.\n",
    "\n",
    "For now, we will take a very simple (and naive) approach\n",
    "- For numeric attributes: use the median value\n",
    "- For non-numeric attributes: use the most frequent value"
   ]
  },
  {
   "cell_type": "markdown",
   "metadata": {
    "slideshow": {
     "slide_type": "subslide"
    }
   },
   "source": [
    "## Recipe C.2: Handling non-numeric features/targets\n",
    "\n",
    "The next step in the Recipe is dealing with non-numeric variables.\n",
    "- Numericalize (convert to a number) categorical variables"
   ]
  },
  {
   "cell_type": "markdown",
   "metadata": {
    "slideshow": {
     "slide_type": "subslide"
    }
   },
   "source": [
    "Mechanically: we will use a single Pipeline to accomplish several steps in the Recipe\n",
    "- Data cleaning\n",
    "- Converting categorical features\n",
    "- Transformations\n",
    "\n",
    "That is, we will implement Cleaning and Numericalization as types of transformers."
   ]
  },
  {
   "cell_type": "markdown",
   "metadata": {
    "slideshow": {
     "slide_type": "slide"
    }
   },
   "source": [
    "### Categorical Transformation: Binary variable special case\n",
    "\n",
    "We will need to transform our categorical features into numbers.\n",
    "\n",
    "The way to treat categorical values is not obvious and there are many *wrong* ways to do it.\n",
    "\n",
    "Fortunately, a binary categorical variable is an easy special case.\n",
    "\n",
    "Again: this will suffice for a first pass\n",
    "- We will subsequently generalize to non-binary categorical variables."
   ]
  },
  {
   "cell_type": "markdown",
   "metadata": {
    "slideshow": {
     "slide_type": "subslide"
    }
   },
   "source": [
    "Which variables are categorical ?\n",
    "\n",
    "We can (and should) apply *human logic* to answer this question.\n",
    "\n",
    "But a little code can help:"
   ]
  },
  {
   "cell_type": "code",
   "execution_count": 20,
   "metadata": {
    "scrolled": true,
    "slideshow": {
     "slide_type": "subslide"
    }
   },
   "outputs": [
    {
     "name": "stdout",
     "output_type": "stream",
     "text": [
      "<class 'pandas.core.frame.DataFrame'>\n",
      "RangeIndex: 891 entries, 0 to 890\n",
      "Data columns (total 12 columns):\n",
      "PassengerId    891 non-null int64\n",
      "Survived       891 non-null int64\n",
      "Pclass         891 non-null int64\n",
      "Name           891 non-null object\n",
      "Sex            891 non-null object\n",
      "Age            714 non-null float64\n",
      "SibSp          891 non-null int64\n",
      "Parch          891 non-null int64\n",
      "Ticket         891 non-null object\n",
      "Fare           891 non-null float64\n",
      "Cabin          204 non-null object\n",
      "Embarked       889 non-null object\n",
      "dtypes: float64(2), int64(5), object(5)\n",
      "memory usage: 83.7+ KB\n"
     ]
    }
   ],
   "source": [
    "train_data.info()"
   ]
  },
  {
   "cell_type": "markdown",
   "metadata": {
    "slideshow": {
     "slide_type": "subslide"
    }
   },
   "source": [
    "All of the columns described as `object` are non-numerical and hence likely suspects\n",
    "- `Name`, `Sex`, `Cabin`, `Embarked`\n",
    "\n",
    "We will have to numericalize `Sex` as this is the only categorical feature we retain for our initial model."
   ]
  },
  {
   "cell_type": "markdown",
   "metadata": {
    "slideshow": {
     "slide_type": "subslide"
    }
   },
   "source": [
    "But, as observed during our first look, some numeric columns are *also* candidates\n",
    "- `Survived`\n",
    "- `PassengerId`, `Pclass`\n",
    "\n",
    "This is where *human logic* comes in:\n",
    "- Is there an *ordering relationship* among the values for a variable ?\n",
    "- If not: it may be categorical\n",
    "        "
   ]
  },
  {
   "cell_type": "markdown",
   "metadata": {
    "slideshow": {
     "slide_type": "subslide"
    }
   },
   "source": [
    "Our target `Survived` was given to us as numeric\n",
    "- The categorical values Survive/Not Survive have been encoded as 1 and 0.\n",
    "\n",
    "It will turn out that this is an adequate (although not perfect) encoding of a *binary* variable.\n",
    "\n",
    "So, by luck (or bad encoding) we don't have to convert the categorical Survived feature to a binary digit. \n",
    "\n",
    " "
   ]
  },
  {
   "cell_type": "markdown",
   "metadata": {
    "slideshow": {
     "slide_type": "slide"
    }
   },
   "source": [
    "## Recipe C.3: Transformations\n",
    "\n",
    "In this step we can\n",
    "- Transform/filter existing features\n",
    "- Add new features synthesized from raw features.\n",
    "\n",
    "The synthetic features suggested by our EDA\n",
    "- Compound feature for Sex/PClass\n",
    "- Age Bucket\n",
    "\n",
    "would be created in the Transformation step.\n",
    "\n",
    "In this introduction: we will only perform the minimal transformations necessary\n",
    "- missing data imputation\n",
    "- numericalization\n",
    "\n",
    "But we will give you a taste for what might be possible.\n"
   ]
  },
  {
   "cell_type": "markdown",
   "metadata": {
    "slideshow": {
     "slide_type": "subslide"
    }
   },
   "source": [
    "## Recipe C.4: Scaling\n",
    "\n",
    "For this exercise: no scaling will be performed."
   ]
  },
  {
   "cell_type": "markdown",
   "metadata": {
    "slideshow": {
     "slide_type": "slide"
    }
   },
   "source": [
    "<img src=\"images/Back_to_parent.jpg\">"
   ]
  },
  {
   "cell_type": "markdown",
   "metadata": {
    "slideshow": {
     "slide_type": "slide"
    }
   },
   "source": [
    "# Recipe Step C in practice:  a sophisticated pipeline\n",
    "\n",
    "Now is the time to start coding !\n",
    "\n",
    "\n",
    "We  begin by\n",
    "- Eliminating training examples that don't have targets\n",
    "- Removing the target column from the training data\n",
    "    - To be sure we don't accidentally cheat"
   ]
  },
  {
   "cell_type": "code",
   "execution_count": 21,
   "metadata": {
    "slideshow": {
     "slide_type": "subslide"
    }
   },
   "outputs": [],
   "source": [
    "# Remove examples where target is not defined\n",
    "train_data = train_data[ train_data[\"Survived\"].notnull() ]\n",
    "\n",
    "# Separate target from features\n",
    "y_train = train_data[\"Survived\"]\n",
    "train_data.drop(columns=[\"Survived\"], inplace=True)"
   ]
  },
  {
   "cell_type": "markdown",
   "metadata": {
    "slideshow": {
     "slide_type": "slide"
    }
   },
   "source": [
    "We recommend using `Pipeline`s in `sklearn`\n",
    "- all transformations are combined into a single `Pipeline`\n",
    "- the *same* `Pipeline` is use to transform\n",
    "    - training examples\n",
    "    - test examples\n",
    "\n",
    "This is not necessary, just good practice."
   ]
  },
  {
   "cell_type": "markdown",
   "metadata": {
    "slideshow": {
     "slide_type": "subslide"
    }
   },
   "source": [
    "Our first model will use only *raw* features\n",
    "- Pclass\n",
    "- Sex\n",
    "- Age\n",
    "- SibSp: passenger's number of \"same-level\" relatives (Sibling, Spouse)\n",
    "- Parch: passenger's number of \"different-level\" relatives (Parent, Child)"
   ]
  },
  {
   "cell_type": "markdown",
   "metadata": {
    "slideshow": {
     "slide_type": "slide"
    }
   },
   "source": [
    "## The numeric pipeline\n",
    "\n",
    "We need separate transformations for Numeric and Non-Numeric features\n",
    "- e.g., missing data imputation differs\n",
    "\n",
    "The `ColumnTransformer` in `sklearn` allows us to\n",
    "- create `Pipeline`s\n",
    "- that are restricted to sets of features"
   ]
  },
  {
   "cell_type": "markdown",
   "metadata": {
    "slideshow": {
     "slide_type": "slide"
    }
   },
   "source": [
    "The Pipeline for numeric features\n",
    "- Selects those attributes identified as numeric (variable `num_features`)\n",
    "- Performs Cleaning: \n",
    "    - Missing data imputation\n",
    "    - Replacing missing value with median value of the feature"
   ]
  },
  {
   "cell_type": "code",
   "execution_count": 22,
   "metadata": {
    "slideshow": {
     "slide_type": "subslide"
    }
   },
   "outputs": [],
   "source": [
    "num_features = [\"Age\", \"SibSp\", \"Parch\", \"Fare\", \"Pclass\"]\n",
    "num_transformers= Pipeline(steps=[  ('imputer', SimpleImputer(strategy='median')) ] )\n",
    "num_pipeline = ColumnTransformer( transformers=[ (\"numeric\", num_transformers, num_features) ] )\n"
   ]
  },
  {
   "cell_type": "markdown",
   "metadata": {
    "slideshow": {
     "slide_type": "subslide"
    }
   },
   "source": [
    "The `ColumnTransformer`\n",
    "- Filters the features to those in `num_features`\n",
    "- Applies the numeric Pipeline\n",
    "    - The single transformer ` SimpleImputer` for missing data imputation"
   ]
  },
  {
   "cell_type": "markdown",
   "metadata": {
    "slideshow": {
     "slide_type": "subslide"
    }
   },
   "source": [
    "Let's see what the numeric pipeline produces.\n",
    "\n",
    "Note: the result is a NumPy array\n",
    "- That is the type produced by the final transformer (`SimpleImputer`)\n"
   ]
  },
  {
   "cell_type": "code",
   "execution_count": 23,
   "metadata": {
    "slideshow": {
     "slide_type": "subslide"
    }
   },
   "outputs": [
    {
     "data": {
      "text/plain": [
       "array([[22.    ,  1.    ,  0.    ,  7.25  ,  3.    ],\n",
       "       [38.    ,  1.    ,  0.    , 71.2833,  1.    ],\n",
       "       [26.    ,  0.    ,  0.    ,  7.925 ,  3.    ],\n",
       "       [35.    ,  1.    ,  0.    , 53.1   ,  1.    ],\n",
       "       [35.    ,  0.    ,  0.    ,  8.05  ,  3.    ]])"
      ]
     },
     "execution_count": 23,
     "metadata": {},
     "output_type": "execute_result"
    }
   ],
   "source": [
    "num_pipeline.fit_transform(train_data)[:num_head]"
   ]
  },
  {
   "cell_type": "markdown",
   "metadata": {
    "slideshow": {
     "slide_type": "slide"
    }
   },
   "source": [
    "## The non-numeric pipeline\n",
    "\n",
    "The Pipeline for non-numeric features\n",
    "- Selects those attributes identified as Categorical (variable `cat_features`)\n",
    "- Performs Cleaning\n",
    "    - Missing data imputation\n",
    "    - Replacing missing value with the value of the feature that occurs most often\n",
    "- Performs Numericalization on feature `Sex`\n",
    "\n",
    "One reason for separate numeric/non-numeric Pipelines is that the transformers are not identical\n",
    "\n",
    "**WARNING**: I'm doing a little cheating in this code by ignoring all categorical features other than `Sex`"
   ]
  },
  {
   "cell_type": "code",
   "execution_count": 24,
   "metadata": {
    "slideshow": {
     "slide_type": "subslide"
    }
   },
   "outputs": [],
   "source": [
    "cat_features = [\"Sex\" ]\n",
    "cat_transformers= Pipeline(steps=[  ('imputer', SimpleImputer(strategy=\"most_frequent\")),\n",
    "                                    ('sex_encoder', OrdinalEncoder())\n",
    "                                 ] )\n",
    "cat_pipeline = ColumnTransformer( transformers=[ (\"categorical\", cat_transformers, cat_features) ] )"
   ]
  },
  {
   "cell_type": "markdown",
   "metadata": {
    "slideshow": {
     "slide_type": "subslide"
    }
   },
   "source": [
    "Again, the `ColumnTransformer`\n",
    "- Filters features to those in `cat_features`\n",
    "- Applies the non-numeric pipeline\n",
    "    - Transformer for missing data imputation: `SimpleImputer`\n",
    "        - with a different strategy than the one for numeric features\n",
    "    - Transformer for Numericalization: `OrdinalEncoder`\n",
    "\n",
    "One reason for separate numeric and non-numeric pipelines is that they implement different transformations.\n",
    "\n",
    "Let's see what the non-numeric pipeline produces."
   ]
  },
  {
   "cell_type": "code",
   "execution_count": 25,
   "metadata": {
    "slideshow": {
     "slide_type": "subslide"
    }
   },
   "outputs": [
    {
     "data": {
      "text/plain": [
       "array([[1.],\n",
       "       [0.],\n",
       "       [0.],\n",
       "       [0.],\n",
       "       [1.]])"
      ]
     },
     "execution_count": 25,
     "metadata": {},
     "output_type": "execute_result"
    },
    {
     "data": {
      "text/plain": [
       "0      male\n",
       "1    female\n",
       "2    female\n",
       "3    female\n",
       "4      male\n",
       "Name: Sex, dtype: object"
      ]
     },
     "execution_count": 25,
     "metadata": {},
     "output_type": "execute_result"
    }
   ],
   "source": [
    "cat_pipeline.fit_transform(train_data)[:num_head]\n",
    "train_data[\"Sex\"].head(num_head)"
   ]
  },
  {
   "cell_type": "markdown",
   "metadata": {
    "slideshow": {
     "slide_type": "slide"
    }
   },
   "source": [
    "## Combining the numeric and categorical pipelines: `ColumnTransformer`\n",
    "\n",
    "We have been using `ColumnTranformer` to filter the features before applying each pipeline\n",
    "\n",
    "We will also use it as a simple way to combine the numeric and non-numeric pipelines."
   ]
  },
  {
   "cell_type": "markdown",
   "metadata": {
    "slideshow": {
     "slide_type": "slide"
    }
   },
   "source": [
    "<div class=\"alert alert-block alert-danger\">\n",
    "    <b>ColumnTransformer alert:</b> \n",
    "    <ul>\n",
    "    <li>Depending on what version of `sklearn` you are using, this may still be considered an \"experimental\" feature</li>\n",
    "    <li>If that is the case: you might want to explore FeatureUnion: the \"official\" way of combining pipelines\n",
    "        <ul>\n",
    "            <li>You must manually select the features of each type</li>\n",
    "            <li>Apply the corresponding Pipelines</li>\n",
    "            <li>\"Glue together\" (horizontally) the results of the Pipelines</li>\n",
    "        </ul>\n",
    "    </li>  \n",
    "    </ul> \n",
    "</div>\n"
   ]
  },
  {
   "cell_type": "code",
   "execution_count": 26,
   "metadata": {
    "slideshow": {
     "slide_type": "subslide"
    }
   },
   "outputs": [],
   "source": [
    "preprocess_pipeline = ColumnTransformer(\n",
    "    transformers=[ (\"numeric\", num_transformers, num_features),\n",
    "                   (\"categorical\", cat_transformers, cat_features)\n",
    "                 ]\n",
    ")"
   ]
  },
  {
   "cell_type": "markdown",
   "metadata": {
    "slideshow": {
     "slide_type": "subslide"
    }
   },
   "source": [
    "\n",
    "Let's look at the result of applying the combined `preprocess_pipeline`"
   ]
  },
  {
   "cell_type": "code",
   "execution_count": 27,
   "metadata": {
    "slideshow": {
     "slide_type": "subslide"
    }
   },
   "outputs": [
    {
     "data": {
      "text/plain": [
       "(891, 6)"
      ]
     },
     "execution_count": 27,
     "metadata": {},
     "output_type": "execute_result"
    },
    {
     "data": {
      "text/plain": [
       "array([[22.    ,  1.    ,  0.    ,  7.25  ,  3.    ,  1.    ],\n",
       "       [38.    ,  1.    ,  0.    , 71.2833,  1.    ,  0.    ],\n",
       "       [26.    ,  0.    ,  0.    ,  7.925 ,  3.    ,  0.    ],\n",
       "       [35.    ,  1.    ,  0.    , 53.1   ,  1.    ,  0.    ],\n",
       "       [35.    ,  0.    ,  0.    ,  8.05  ,  3.    ,  1.    ]])"
      ]
     },
     "execution_count": 27,
     "metadata": {},
     "output_type": "execute_result"
    },
    {
     "data": {
      "text/html": [
       "<div>\n",
       "<style scoped>\n",
       "    .dataframe tbody tr th:only-of-type {\n",
       "        vertical-align: middle;\n",
       "    }\n",
       "\n",
       "    .dataframe tbody tr th {\n",
       "        vertical-align: top;\n",
       "    }\n",
       "\n",
       "    .dataframe thead th {\n",
       "        text-align: right;\n",
       "    }\n",
       "</style>\n",
       "<table border=\"1\" class=\"dataframe\">\n",
       "  <thead>\n",
       "    <tr style=\"text-align: right;\">\n",
       "      <th></th>\n",
       "      <th>Age</th>\n",
       "      <th>SibSp</th>\n",
       "      <th>Parch</th>\n",
       "      <th>Fare</th>\n",
       "      <th>Pclass</th>\n",
       "      <th>Sex</th>\n",
       "    </tr>\n",
       "  </thead>\n",
       "  <tbody>\n",
       "    <tr>\n",
       "      <td>0</td>\n",
       "      <td>22.0</td>\n",
       "      <td>1</td>\n",
       "      <td>0</td>\n",
       "      <td>7.2500</td>\n",
       "      <td>3</td>\n",
       "      <td>male</td>\n",
       "    </tr>\n",
       "    <tr>\n",
       "      <td>1</td>\n",
       "      <td>38.0</td>\n",
       "      <td>1</td>\n",
       "      <td>0</td>\n",
       "      <td>71.2833</td>\n",
       "      <td>1</td>\n",
       "      <td>female</td>\n",
       "    </tr>\n",
       "    <tr>\n",
       "      <td>2</td>\n",
       "      <td>26.0</td>\n",
       "      <td>0</td>\n",
       "      <td>0</td>\n",
       "      <td>7.9250</td>\n",
       "      <td>3</td>\n",
       "      <td>female</td>\n",
       "    </tr>\n",
       "    <tr>\n",
       "      <td>3</td>\n",
       "      <td>35.0</td>\n",
       "      <td>1</td>\n",
       "      <td>0</td>\n",
       "      <td>53.1000</td>\n",
       "      <td>1</td>\n",
       "      <td>female</td>\n",
       "    </tr>\n",
       "    <tr>\n",
       "      <td>4</td>\n",
       "      <td>35.0</td>\n",
       "      <td>0</td>\n",
       "      <td>0</td>\n",
       "      <td>8.0500</td>\n",
       "      <td>3</td>\n",
       "      <td>male</td>\n",
       "    </tr>\n",
       "  </tbody>\n",
       "</table>\n",
       "</div>"
      ],
      "text/plain": [
       "    Age  SibSp  Parch     Fare  Pclass     Sex\n",
       "0  22.0      1      0   7.2500       3    male\n",
       "1  38.0      1      0  71.2833       1  female\n",
       "2  26.0      0      0   7.9250       3  female\n",
       "3  35.0      1      0  53.1000       1  female\n",
       "4  35.0      0      0   8.0500       3    male"
      ]
     },
     "execution_count": 27,
     "metadata": {},
     "output_type": "execute_result"
    }
   ],
   "source": [
    "X_train = preprocess_pipeline.fit_transform(train_data)\n",
    "\n",
    "X_train.shape\n",
    "X_train[:num_head]\n",
    "\n",
    "# X_train is now an ndarray, so really can't discern columns, but are in same order as in Feature Union\n",
    "# so first the num_features, then cat_features\n",
    "# Can verify this by looking at train_data\n",
    "all_features = num_features.copy()\n",
    "all_features.extend(cat_features)\n",
    "train_data.loc[:, all_features ] .head()"
   ]
  },
  {
   "cell_type": "markdown",
   "metadata": {
    "slideshow": {
     "slide_type": "subslide"
    }
   },
   "source": [
    "<img src=\"images/Back_to_parent.jpg\">"
   ]
  },
  {
   "cell_type": "markdown",
   "metadata": {
    "slideshow": {
     "slide_type": "slide"
    }
   },
   "source": [
    "# Recipe Step D: Train a model\n",
    "\n",
    "OK, we have identified features and now want to predict Survived. \n",
    "\n",
    "How do we do it ?"
   ]
  },
  {
   "cell_type": "markdown",
   "metadata": {
    "slideshow": {
     "slide_type": "subslide"
    }
   },
   "source": [
    "## Recipe D.1:Select a model\n",
    "\n",
    "We currently know of two models for the Classification task\n",
    "- K Nearest Neighbors\n",
    "- Logistic Regression\n",
    "\n",
    "We will use Logistic Regression."
   ]
  },
  {
   "cell_type": "markdown",
   "metadata": {
    "slideshow": {
     "slide_type": "subslide"
    }
   },
   "source": [
    "To review:\n",
    "$$\n",
    "\\begin{array}[lll]\\\\\n",
    "s & = & \\Theta^T \\x \\\\\n",
    "\\hat{p} & = & \\sigma(s) \\\\\n",
    "\\end{array}\n",
    "$$\n",
    "\n",
    "$$\n",
    "\\hat{\\y}^\\ip = \n",
    "\\left\\{\n",
    "    {\n",
    "    \\begin{array}{lll}\n",
    "     \\text{Negative} & \\textrm{if } \\hat{p}^\\ip   < 0.5    \\\\\n",
    "     \\text{Positive} & \\textrm{if } \\hat{p}^\\ip \\ge 0.5   \n",
    "    \\end{array}\n",
    "    }\n",
    "\\right.\n",
    "$$\n"
   ]
  },
  {
   "cell_type": "markdown",
   "metadata": {
    "slideshow": {
     "slide_type": "subslide"
    }
   },
   "source": [
    "We will re-visit the choice of threshold $0.5$ at a later time.\n",
    "\n",
    "Varying the threshold is an attempt at balancing the impact of making two different types of incorrect prediction\n",
    "- False Positive: predicting Positive when the true target is Negative\n",
    "- False Negative: predicting Negative when the true target is Positive\n",
    "\n",
    "Depending on your problem, the impact of being incorrect is not the same for both cases."
   ]
  },
  {
   "cell_type": "markdown",
   "metadata": {
    "slideshow": {
     "slide_type": "slide"
    }
   },
   "source": [
    "## Step D.2: Fit\n",
    "\n",
    "The prior steps in the Recipe have led us to this point\n",
    "- We removed examples for which the target/label `Survived` was not defined\n",
    "- We dealt with missing values for features\n",
    "- We transformed the data into numeric form\n",
    "- We made sure the target was separated from the features\n",
    "\n",
    "We're ready to fit our chosen model: Logistic Regression."
   ]
  },
  {
   "cell_type": "markdown",
   "metadata": {
    "slideshow": {
     "slide_type": "slide"
    }
   },
   "source": [
    "### Logistic Regression classifier\n",
    "\n",
    "Let's instantiate a `LogisticRegression` object, `sklearn`'s implementation of Logistic Regression."
   ]
  },
  {
   "cell_type": "code",
   "execution_count": 28,
   "metadata": {
    "slideshow": {
     "slide_type": "subslide"
    }
   },
   "outputs": [],
   "source": [
    "\n",
    "# New version of sklearn will give a warning if you don't specify a solver (b/c the default solver -- liblinear -- will be replaced in future)\n",
    "logistic_clf = linear_model.LogisticRegression(solver='liblinear')"
   ]
  },
  {
   "cell_type": "markdown",
   "metadata": {
    "slideshow": {
     "slide_type": "slide"
    }
   },
   "source": [
    "**More models, more fun ! Same price !**\n",
    "\n",
    "Although we have selected Logistic Regression as our model,there are other models for the Classification task.\n",
    "\n",
    "\n",
    "It turns out to be just as\n",
    "easy to run *multiple* models as it is one !\n",
    "\n",
    "So, for pedantic purposes, we will fit *many* models\n",
    "- To show you how easy it is\n",
    "- We will not delve deeply into the other models, at least for now\n",
    "\n"
   ]
  },
  {
   "cell_type": "markdown",
   "metadata": {
    "slideshow": {
     "slide_type": "subslide"
    }
   },
   "source": [
    "**SVM Classifier**\n",
    "\n",
    "We instantiate an object that implements a Support Vector Classifier (SVC):"
   ]
  },
  {
   "cell_type": "code",
   "execution_count": 29,
   "metadata": {
    "slideshow": {
     "slide_type": "subslide"
    }
   },
   "outputs": [],
   "source": [
    "from sklearn.svm import SVC\n",
    "\n",
    "svm_clf = SVC(gamma=\"auto\")"
   ]
  },
  {
   "cell_type": "markdown",
   "metadata": {
    "slideshow": {
     "slide_type": "subslide"
    }
   },
   "source": [
    "**Random Forest Classifier**\n",
    "\n",
    "We instantiate an object that implements a Random Forest Classifier."
   ]
  },
  {
   "cell_type": "code",
   "execution_count": 30,
   "metadata": {
    "slideshow": {
     "slide_type": "subslide"
    }
   },
   "outputs": [],
   "source": [
    "from sklearn.ensemble import RandomForestClassifier\n",
    "\n",
    "forest_clf = RandomForestClassifier(n_estimators=100, random_state=42)"
   ]
  },
  {
   "cell_type": "markdown",
   "metadata": {
    "slideshow": {
     "slide_type": "slide"
    }
   },
   "source": [
    "### Fit the models\n",
    "\n",
    "We will train all the models at once.\n",
    "\n",
    "This demonstrates the power of a consistent API: \n",
    "- Training several models is no more difficult than training one."
   ]
  },
  {
   "cell_type": "markdown",
   "metadata": {
    "slideshow": {
     "slide_type": "subslide"
    }
   },
   "source": [
    "#### Cheating in Cross Validation\n",
    "\n",
    "There is a very\n",
    "- subtle\n",
    "- but easy to fall into\n",
    "\n",
    "way to \"cheat\" when using cross-validation (especially in `Pipeline`s)\n",
    "\n",
    "The most obvious way to write the code to fit the models is:"
   ]
  },
  {
   "cell_type": "code",
   "execution_count": 31,
   "metadata": {
    "slideshow": {
     "slide_type": "subslide"
    }
   },
   "outputs": [
    {
     "name": "stdout",
     "output_type": "stream",
     "text": [
      "Model: Logistic avg cross val score=0.80\n",
      "\n",
      "Model: SVM avg cross val score=0.71\n",
      "\n",
      "Model: Random Forest avg cross val score=0.82\n",
      "\n"
     ]
    }
   ],
   "source": [
    "for name, clf in { \"Logistic\": logistic_clf,\n",
    "                   \"SVM\": svm_clf,\n",
    "                   \"Random Forest\": forest_clf\n",
    "                 }.items():\n",
    "    \n",
    "    # Transform the data\n",
    "    X_train = preprocess_pipeline.fit_transform(train_data)\n",
    "    _= clf.fit(X_train, y_train)\n",
    " \n",
    "    # Cross validation\n",
    "    scores = cross_val_score(clf, X_train, y_train, cv=10)\n",
    "    print(\"Model: {m:s} avg cross val score={s:3.2f}\\n\".format(m=name, s=scores.mean()) )\n",
    "       \n",
    "    # Fit the model using all training data.\n",
    "    #  cross_val_score does not run the fit on the complete data.\n",
    "    #  It runs a number of fits, each fit being on the data with one fold held out for validation.\n",
    "    _= clf.fit(X_train, y_train)\n"
   ]
  },
  {
   "cell_type": "markdown",
   "metadata": {
    "slideshow": {
     "slide_type": "subslide"
    }
   },
   "source": [
    "This innocuous looking piece of good\n",
    "- allows information to \"leak\" from out-of-sample validation examples\n",
    "- to training\n",
    "\n",
    "It is \"cheating\" because information from the \"future\" (out-of-sample examples) can influence the fit\n",
    "- this information would not be available at test/prediction time\n",
    "\n",
    "Can you spot it ?\n",
    "\n",
    "We will cover this in the module [Using Pipelines to avoid cheating in cross validation](Prepare_data_Overview.ipynb#Using-pipelines-to-avoid-cheating-in-cross-validation)\n"
   ]
  },
  {
   "cell_type": "markdown",
   "metadata": {
    "slideshow": {
     "slide_type": "subslide"
    }
   },
   "source": [
    "Fortunately, `sklearn` makes it easy to perform Cross Validation without peeking into the future.\n",
    "\n",
    "(Other Machine Learning toolkits may not make it as easy).\n",
    "\n",
    "- Create a Pipeline with a classifier as the final element\n",
    "- Use that Pipeline as the \"model\" for Cross Validation\n",
    "\n",
    "Here is the proper code:"
   ]
  },
  {
   "cell_type": "code",
   "execution_count": 32,
   "metadata": {
    "slideshow": {
     "slide_type": "subslide"
    }
   },
   "outputs": [
    {
     "name": "stdout",
     "output_type": "stream",
     "text": [
      "Model: Logistic avg cross val score=0.80\n",
      "\n",
      "Model: SVM avg cross val score=0.71\n",
      "\n",
      "Model: Random Forest avg cross val score=0.82\n",
      "\n"
     ]
    }
   ],
   "source": [
    "for name, clf in { \"Logistic\": logistic_clf,\n",
    "                   \"SVM\": svm_clf,\n",
    "                   \"Random Forest\": forest_clf\n",
    "                 }.items():\n",
    "    \n",
    "    # Combine the transformation pipeline with a final classification step\n",
    "    model_pipeline = Pipeline(steps=[ (\"transform\", preprocess_pipeline),\n",
    "                                      (\"classify\", clf)\n",
    "                                    ]\n",
    "                             )\n",
    "    \n",
    "    # Cross validation on the combined pipeline\n",
    "    scores = cross_val_score(model_pipeline, train_data, y_train, cv=10)\n",
    "    print(\"Model: {m:s} avg cross val score={s:3.2f}\\n\".format(m=name, s=scores.mean()) )\n",
    "       \n",
    "    # Fit the model using all training data.\n",
    "    #  cross_val_score does not run the fit on the complete data.\n",
    "    #  It runs a number of fits, each fit being on the data with one fold held out for validation.\n",
    "    _= model_pipeline.fit(train_data, y_train)\n"
   ]
  },
  {
   "cell_type": "markdown",
   "metadata": {
    "slideshow": {
     "slide_type": "subslide"
    }
   },
   "source": [
    "We observe that\n",
    "- the Cross Val scores (our proxy for Performance Metric) \n",
    "- were not heavily affected by the cheating\n",
    "\n",
    "But, there is no such guarantee."
   ]
  },
  {
   "cell_type": "markdown",
   "metadata": {
    "slideshow": {
     "slide_type": "subslide"
    }
   },
   "source": [
    "There is an additional advantage to including the model as the final step of the pipeline\n",
    "- It makes it easy to consistently apply the same transformation to a test example as to a training example\n",
    "     - Test examples require Missing data imputation, Numericalization, etc. too\n",
    "- Prediction is as simple as\n",
    "    - `model_pipeline.predict(X_test)`"
   ]
  },
  {
   "cell_type": "markdown",
   "metadata": {
    "slideshow": {
     "slide_type": "slide"
    }
   },
   "source": [
    "#### Nested Pipelines\n",
    "\n",
    "Notice the use of nested Pipelines:\n",
    "- `model_pipeline` contains Pipeline `preprocess_pipeline` as an element\n",
    "- `preprocess_pipeline` contains Pipelines `num_transformers` and `cat_transformers` as elements"
   ]
  },
  {
   "cell_type": "markdown",
   "metadata": {
    "slideshow": {
     "slide_type": "subslide"
    }
   },
   "source": [
    "<img src=\"images/Back_to_parent.jpg\">"
   ]
  },
  {
   "cell_type": "markdown",
   "metadata": {
    "slideshow": {
     "slide_type": "slide"
    }
   },
   "source": [
    "## Recipe D.4:  Error analysis\n",
    "\n",
    "Cross validation gives you a metric, *at an aggregate level*, of how well the model performed out of sample.\n",
    "\n",
    "You will gain deeper insight into the Classification task by analyzing *individual* predictions."
   ]
  },
  {
   "cell_type": "markdown",
   "metadata": {
    "slideshow": {
     "slide_type": "subslide"
    }
   },
   "source": [
    "Go through each out of sample example and determine the predicted class.\n",
    "\n",
    "- Is there some class for which the predictions are much less successful than others ?\n",
    "- Is there some identifiable commonality among examples on which mis-prediction occurred ?\n",
    "\n",
    "This is a signal to improve your model\n",
    "- Perhaps by adding features that aid prediction for the mis-classified examples or target class"
   ]
  },
  {
   "cell_type": "markdown",
   "metadata": {
    "slideshow": {
     "slide_type": "subslide"
    }
   },
   "source": [
    "There is some standard terminology for analyzing classification predictions.\n",
    "\n",
    "For binary classification, to be concrete, let's call the two classes Positive (P) and Negative (N).\n",
    "\n",
    "Let's create a table\n",
    "- The row labels correspond to the predicted class\n",
    "- The column labels correspond to the target (actual) class\n",
    "\n",
    "In pictures:\n",
    "$$\n",
    "\\begin{array}{lll}\n",
    "\\\\\n",
    "           & \\textbf{P} &  \\textbf{N} \\\\\n",
    "\\textbf{P} & \\text{TP}         & \\text{FP} \\\\\n",
    "\\textbf{N} & \\text{FN}         & \\text{TN} \\\\\n",
    "\\end{array}\n",
    "$$"
   ]
  },
  {
   "cell_type": "markdown",
   "metadata": {
    "slideshow": {
     "slide_type": "subslide"
    }
   },
   "source": [
    "- The entry labeled True Positive (TP) denotes the number of  examples\n",
    "    - that were correctly predicted as Positive\n",
    "- The entry labeled as False Positive (FP) denotes the number of  examples\n",
    "    - that were incorrectly predicted as Positive\n",
    "- The entry labeled True Negative (TN) denotes the number of  examples\n",
    "    - that were correctly predicted as Negative\n",
    "- The entry labeled False Negative denotes the number of  examples\n",
    "    - that were incorrectly predicted as Negative"
   ]
  },
  {
   "cell_type": "markdown",
   "metadata": {
    "slideshow": {
     "slide_type": "subslide"
    }
   },
   "source": [
    "So\n",
    "\n",
    "$$\\textrm{Accuracy} =  { \\text{TP} + \\text{TN} \\over  \\text{TP} + \\text{FP} + \\text{TN} + \\text{FN} } $$"
   ]
  },
  {
   "cell_type": "markdown",
   "metadata": {
    "slideshow": {
     "slide_type": "subslide"
    }
   },
   "source": [
    "Examples that are either False Positive (FP) or False Negative (FN) are mis-predictions.\n",
    "\n",
    "Error Analysis focuses on the examples of either type.\n"
   ]
  },
  {
   "cell_type": "markdown",
   "metadata": {
    "slideshow": {
     "slide_type": "subslide"
    }
   },
   "source": [
    "<img src=\"images/Back_to_parent.jpg\">"
   ]
  },
  {
   "cell_type": "markdown",
   "metadata": {
    "slideshow": {
     "slide_type": "slide"
    }
   },
   "source": [
    "# Titanic revisited: OHE  features\n",
    "\n",
    "**(Pre-requisite for this section: Review the notebook [Categorical Variables](Categorical_Variables.ipynb))**\n",
    "\n",
    "Is `Pclass` really a numeric feature just because it was presented to us as a value in $\\{ 1, 2, 3 \\}$ ?\n",
    "\n",
    "We argue that it should be treated as a *categorical* feature\n",
    "- Any integer ordering we could impose would also impose a magnitude that could affect the math\n",
    "    - $\\{ 1, 2, 3 \\}$ versus $\\{ 10, 20, 30 \\}$\n",
    "\n",
    "The proper way to deal with categorical variables is with One Hot Encoding."
   ]
  },
  {
   "cell_type": "markdown",
   "metadata": {
    "slideshow": {
     "slide_type": "subslide"
    }
   },
   "source": [
    "Let's treat `Pclass` as categorical and refit our model.\n",
    "- Move `Pclass` from `num_features` to `cat_features`"
   ]
  },
  {
   "cell_type": "code",
   "execution_count": 33,
   "metadata": {
    "slideshow": {
     "slide_type": "subslide"
    }
   },
   "outputs": [
    {
     "name": "stdout",
     "output_type": "stream",
     "text": [
      "First model\n",
      "\tcategorical features are: Sex\n",
      "\tnumeric features are: Age, SibSp, Parch, Fare, Pclass\n"
     ]
    }
   ],
   "source": [
    "print(\"First model\\n\\tcategorical features are: {c:s}\\n\\tnumeric features are: {n:s}\".format(\n",
    "    c=\", \".join(cat_features), n=\", \".join(num_features))\n",
    "    )"
   ]
  },
  {
   "cell_type": "code",
   "execution_count": 34,
   "metadata": {
    "slideshow": {
     "slide_type": "subslide"
    }
   },
   "outputs": [],
   "source": [
    "num_features = [\"Age\", \"SibSp\", \"Parch\", \"Fare\" ]\n",
    "num_transformers= Pipeline(steps=[  ('imputer', SimpleImputer(strategy='median')) ] )\n",
    "num_pipeline = ColumnTransformer( transformers=[ (\"numeric\", num_transformers, num_features) ] )\n",
    "\n",
    "cat_features = [\"Sex\", \"Pclass\" ]\n",
    "cat_transformers= Pipeline(steps=[  ('imputer', SimpleImputer(strategy=\"most_frequent\")),\n",
    "                                    ('cat_encoder', OneHotEncoder(sparse=False))\n",
    "                                 ] )\n",
    "cat_pipeline = ColumnTransformer( transformers=[ (\"categorical\", cat_transformers, cat_features) ] )\n",
    "\n",
    "preprocess_pipeline = ColumnTransformer(\n",
    "    transformers=[ (\"numeric\", num_transformers, num_features),\n",
    "                   (\"categorical\", cat_transformers, cat_features)\n",
    "                 ]\n",
    ")"
   ]
  },
  {
   "cell_type": "code",
   "execution_count": 35,
   "metadata": {
    "slideshow": {
     "slide_type": "subslide"
    }
   },
   "outputs": [
    {
     "name": "stdout",
     "output_type": "stream",
     "text": [
      "Second model\n",
      "\tcategorical features are: Sex, Pclass\n",
      "\tnumeric features are: Age, SibSp, Parch, Fare\n"
     ]
    }
   ],
   "source": [
    "print(\"Second model\\n\\tcategorical features are: {c:s}\\n\\tnumeric features are: {n:s}\".format(\n",
    "    c=\", \".join(cat_features), n=\", \".join(num_features))\n",
    "    )"
   ]
  },
  {
   "cell_type": "markdown",
   "metadata": {
    "slideshow": {
     "slide_type": "subslide"
    }
   },
   "source": [
    "The `cat_pipeline` now creates $5$ indicators whereas the old one created only 1\n",
    "- The `Sex`attribute is now 2 indicators (\"Is Female\", \"Is Male\") rather than the integer 0/1\n",
    "- The `Pclass` attribute is now 3 indicators (\"Is class 1\", \"Is class 2\", \"Is class 3\")\n",
    "\n",
    "Let's look at the first couple of training examples after OHE has been applied.\n",
    "\n",
    "We will show the encoding along with the corresponding class labels."
   ]
  },
  {
   "cell_type": "code",
   "execution_count": 36,
   "metadata": {
    "slideshow": {
     "slide_type": "subslide"
    }
   },
   "outputs": [
    {
     "name": "stdout",
     "output_type": "stream",
     "text": [
      "Sex:\n",
      "\n"
     ]
    },
    {
     "data": {
      "text/plain": [
       "array([[0., 1.],\n",
       "       [1., 0.],\n",
       "       [1., 0.],\n",
       "       [1., 0.],\n",
       "       [0., 1.],\n",
       "       [0., 1.],\n",
       "       [0., 1.]])"
      ]
     },
     "execution_count": 36,
     "metadata": {},
     "output_type": "execute_result"
    },
    {
     "data": {
      "text/html": [
       "<div>\n",
       "<style scoped>\n",
       "    .dataframe tbody tr th:only-of-type {\n",
       "        vertical-align: middle;\n",
       "    }\n",
       "\n",
       "    .dataframe tbody tr th {\n",
       "        vertical-align: top;\n",
       "    }\n",
       "\n",
       "    .dataframe thead th {\n",
       "        text-align: right;\n",
       "    }\n",
       "</style>\n",
       "<table border=\"1\" class=\"dataframe\">\n",
       "  <thead>\n",
       "    <tr style=\"text-align: right;\">\n",
       "      <th></th>\n",
       "      <th>Sex</th>\n",
       "    </tr>\n",
       "  </thead>\n",
       "  <tbody>\n",
       "    <tr>\n",
       "      <td>0</td>\n",
       "      <td>male</td>\n",
       "    </tr>\n",
       "    <tr>\n",
       "      <td>1</td>\n",
       "      <td>female</td>\n",
       "    </tr>\n",
       "    <tr>\n",
       "      <td>2</td>\n",
       "      <td>female</td>\n",
       "    </tr>\n",
       "    <tr>\n",
       "      <td>3</td>\n",
       "      <td>female</td>\n",
       "    </tr>\n",
       "    <tr>\n",
       "      <td>4</td>\n",
       "      <td>male</td>\n",
       "    </tr>\n",
       "    <tr>\n",
       "      <td>5</td>\n",
       "      <td>male</td>\n",
       "    </tr>\n",
       "    <tr>\n",
       "      <td>6</td>\n",
       "      <td>male</td>\n",
       "    </tr>\n",
       "  </tbody>\n",
       "</table>\n",
       "</div>"
      ],
      "text/plain": [
       "      Sex\n",
       "0    male\n",
       "1  female\n",
       "2  female\n",
       "3  female\n",
       "4    male\n",
       "5    male\n",
       "6    male"
      ]
     },
     "execution_count": 36,
     "metadata": {},
     "output_type": "execute_result"
    }
   ],
   "source": [
    "# Run the categorial pipeline\n",
    "cat_ndarray = cat_pipeline.fit_transform(train_data)\n",
    "\n",
    "# Let's examine the first first rows of the ndarray, and relate them to the same rows in the DataFrame, \n",
    "# -- n.b., with the DataFrame, we can see the column names\n",
    "num_to_see = 7\n",
    "\n",
    "print(cat_features[0] + \":\\n\")\n",
    "cat_ndarray[:num_to_see, :2]\n",
    "\n",
    "train_data.loc[:, [ cat_features[0] ] ].head(num_to_see)"
   ]
  },
  {
   "cell_type": "markdown",
   "metadata": {
    "slideshow": {
     "slide_type": "subslide"
    }
   },
   "source": [
    "You should see that\n",
    "- the Male examples (e.g., rows 0, 4) are encoded as vector $[0,1]$\n",
    "- the Female examples (e.g., rows 1, 2) are encoded as vector $[1,0]$\n",
    "\n",
    "Let's look at the encoding for `Pclass`:"
   ]
  },
  {
   "cell_type": "code",
   "execution_count": 37,
   "metadata": {
    "slideshow": {
     "slide_type": "subslide"
    }
   },
   "outputs": [
    {
     "name": "stdout",
     "output_type": "stream",
     "text": [
      "Pclass:\n",
      "\n"
     ]
    },
    {
     "data": {
      "text/plain": [
       "array([[0., 0., 1.],\n",
       "       [1., 0., 0.],\n",
       "       [0., 0., 1.],\n",
       "       [1., 0., 0.],\n",
       "       [0., 0., 1.],\n",
       "       [0., 0., 1.],\n",
       "       [1., 0., 0.]])"
      ]
     },
     "execution_count": 37,
     "metadata": {},
     "output_type": "execute_result"
    },
    {
     "data": {
      "text/html": [
       "<div>\n",
       "<style scoped>\n",
       "    .dataframe tbody tr th:only-of-type {\n",
       "        vertical-align: middle;\n",
       "    }\n",
       "\n",
       "    .dataframe tbody tr th {\n",
       "        vertical-align: top;\n",
       "    }\n",
       "\n",
       "    .dataframe thead th {\n",
       "        text-align: right;\n",
       "    }\n",
       "</style>\n",
       "<table border=\"1\" class=\"dataframe\">\n",
       "  <thead>\n",
       "    <tr style=\"text-align: right;\">\n",
       "      <th></th>\n",
       "      <th>Pclass</th>\n",
       "    </tr>\n",
       "  </thead>\n",
       "  <tbody>\n",
       "    <tr>\n",
       "      <td>0</td>\n",
       "      <td>3</td>\n",
       "    </tr>\n",
       "    <tr>\n",
       "      <td>1</td>\n",
       "      <td>1</td>\n",
       "    </tr>\n",
       "    <tr>\n",
       "      <td>2</td>\n",
       "      <td>3</td>\n",
       "    </tr>\n",
       "    <tr>\n",
       "      <td>3</td>\n",
       "      <td>1</td>\n",
       "    </tr>\n",
       "    <tr>\n",
       "      <td>4</td>\n",
       "      <td>3</td>\n",
       "    </tr>\n",
       "    <tr>\n",
       "      <td>5</td>\n",
       "      <td>3</td>\n",
       "    </tr>\n",
       "    <tr>\n",
       "      <td>6</td>\n",
       "      <td>1</td>\n",
       "    </tr>\n",
       "  </tbody>\n",
       "</table>\n",
       "</div>"
      ],
      "text/plain": [
       "   Pclass\n",
       "0       3\n",
       "1       1\n",
       "2       3\n",
       "3       1\n",
       "4       3\n",
       "5       3\n",
       "6       1"
      ]
     },
     "execution_count": 37,
     "metadata": {},
     "output_type": "execute_result"
    }
   ],
   "source": [
    "print(cat_features[1] + \":\\n\")\n",
    "cat_ndarray[:num_to_see, -3:]\n",
    "train_data.loc[:, [ cat_features[1]]].head(num_to_see)"
   ]
  },
  {
   "cell_type": "markdown",
   "metadata": {
    "slideshow": {
     "slide_type": "subslide"
    }
   },
   "source": [
    "You should see that\n",
    "- Class 3 (e.g., rows 0, 2) are encoded as $[0,0,1]$\n",
    "\n",
    "Notice that $\\X$ now has many more feature columns."
   ]
  },
  {
   "cell_type": "code",
   "execution_count": 38,
   "metadata": {
    "slideshow": {
     "slide_type": "subslide"
    }
   },
   "outputs": [
    {
     "data": {
      "text/plain": [
       "Index(['PassengerId', 'Pclass', 'Name', 'Sex', 'Age', 'SibSp', 'Parch',\n",
       "       'Ticket', 'Fare', 'Cabin', 'Embarked'],\n",
       "      dtype='object')"
      ]
     },
     "execution_count": 38,
     "metadata": {},
     "output_type": "execute_result"
    },
    {
     "data": {
      "text/plain": [
       "(891, 9)"
      ]
     },
     "execution_count": 38,
     "metadata": {},
     "output_type": "execute_result"
    },
    {
     "data": {
      "text/plain": [
       "array([[22.,  1.,  0., ...,  0.,  0.,  1.],\n",
       "       [38.,  1.,  0., ...,  1.,  0.,  0.],\n",
       "       [26.,  0.,  0., ...,  0.,  0.,  1.],\n",
       "       ...,\n",
       "       [28.,  1.,  2., ...,  0.,  0.,  1.],\n",
       "       [26.,  0.,  0., ...,  1.,  0.,  0.],\n",
       "       [32.,  0.,  0., ...,  0.,  0.,  1.]])"
      ]
     },
     "execution_count": 38,
     "metadata": {},
     "output_type": "execute_result"
    }
   ],
   "source": [
    "X_train = preprocess_pipeline.fit_transform(train_data)\n",
    "\n",
    "# Note: All the columns in untransformed train_data are NOT in X_train, especially the target Survived !\n",
    "train_data.columns\n",
    "X_train.shape\n",
    "X_train"
   ]
  },
  {
   "cell_type": "markdown",
   "metadata": {
    "slideshow": {
     "slide_type": "slide"
    }
   },
   "source": [
    "What effect did the change in treatment of `Pclass` from numeric to OHE have ?"
   ]
  },
  {
   "cell_type": "code",
   "execution_count": 39,
   "metadata": {
    "slideshow": {
     "slide_type": "subslide"
    }
   },
   "outputs": [
    {
     "name": "stdout",
     "output_type": "stream",
     "text": [
      "Model: Logistic avg cross val score=0.79\n",
      "\n",
      "Model: SVM avg cross val score=0.73\n",
      "\n",
      "Model: Random Forest avg cross val score=0.81\n",
      "\n"
     ]
    }
   ],
   "source": [
    "for name, clf in { \"Logistic\": logistic_clf,\n",
    "                   \"SVM\": svm_clf,\n",
    "                   \"Random Forest\": forest_clf\n",
    "                 }.items():\n",
    "    \n",
    "    model_pipeline = Pipeline(steps=[ (\"transform\", preprocess_pipeline),\n",
    "                                      (\"classify\", clf)\n",
    "                                    ]\n",
    "                             )\n",
    "    \n",
    "    # Cross validation\n",
    "    scores = cross_val_score(model_pipeline, train_data, y_train, cv=10)\n",
    "    print(\"Model: {m:s} avg cross val score={s:3.2f}\\n\".format(m=name, s=scores.mean()) )\n",
    "    \n",
    "    # Fit the model using all training data.\n",
    "    #  cross_val_score does not run the fit on the complete data.\n",
    "    #  It runs a number of fits, each fit being on the data with one fold held out for validation.\n",
    "    _= model_pipeline.fit(train_data, y_train)\n",
    "\n",
    "   "
   ]
  },
  {
   "cell_type": "markdown",
   "metadata": {
    "slideshow": {
     "slide_type": "slide"
    }
   },
   "source": [
    "Not too different across models (hard to even know whether the difference is statistically significant).\n",
    "\n",
    "- Some models (e.g., Random Forest) are *not sensitive* to encoding of Categorical\n",
    "- Logistic Regression *is* potentially sensitive, but it depends on the data\n",
    "    - Would encoding `Pclass` with integers $\\{ 1000, 2000, 3000 \\}$ have affected it ?"
   ]
  },
  {
   "cell_type": "code",
   "execution_count": 40,
   "metadata": {
    "slideshow": {
     "slide_type": "slide"
    }
   },
   "outputs": [
    {
     "name": "stdout",
     "output_type": "stream",
     "text": [
      "Done\n"
     ]
    }
   ],
   "source": [
    "print(\"Done\")"
   ]
  }
 ],
 "metadata": {
  "celltoolbar": "Slideshow",
  "kernelspec": {
   "display_name": "Python 3",
   "language": "python",
   "name": "python3"
  },
  "language_info": {
   "codemirror_mode": {
    "name": "ipython",
    "version": 3
   },
   "file_extension": ".py",
   "mimetype": "text/x-python",
   "name": "python",
   "nbconvert_exporter": "python",
   "pygments_lexer": "ipython3",
   "version": "3.7.4"
  },
  "toc": {
   "base_numbering": 1,
   "nav_menu": {},
   "number_sections": true,
   "sideBar": true,
   "skip_h1_title": false,
   "title_cell": "Table of Contents",
   "title_sidebar": "Contents",
   "toc_cell": false,
   "toc_position": {
    "height": "calc(100% - 180px)",
    "left": "10px",
    "top": "150px",
    "width": "368px"
   },
   "toc_section_display": true,
   "toc_window_display": true
  }
 },
 "nbformat": 4,
 "nbformat_minor": 2
}
