{
 "cells": [
  {
   "cell_type": "code",
   "execution_count": 1,
   "metadata": {
    "slideshow": {
     "slide_type": "notes"
    }
   },
   "outputs": [
    {
     "data": {
      "text/latex": [
       "$$\n",
       "\\newcommand{\\x}{\\mathbf{x}}\n",
       "\\newcommand{\\tx}{\\tilde{\\x}}\n",
       "\\newcommand{\\y}{\\mathbf{y}}\n",
       "\\newcommand{\\b}{\\mathbf{b}}\n",
       "\\newcommand{\\c}{\\mathbf{c}}\n",
       "\\newcommand{\\e}{\\mathbf{e}}\n",
       "\\newcommand{\\z}{\\mathbf{z}}\n",
       "\\newcommand{\\h}{\\mathbf{h}}\n",
       "\\newcommand{\\u}{\\mathbf{u}}\n",
       "\\newcommand{\\v}{\\mathbf{v}}\n",
       "\\newcommand{\\w}{\\mathbf{w}}\n",
       "\\newcommand{\\W}{\\mathbf{W}}\n",
       "\\newcommand{\\X}{\\mathbf{X}}\n",
       "\\newcommand{\\KL}{\\mathbf{KL}}\n",
       "\\newcommand{\\E}{{\\mathbb{E}}}\n",
       "\\newcommand{\\ip}{\\mathbf{{(i)}}}\n",
       "%\n",
       "% Test set\n",
       "\\newcommand{\\xt}{\\underline{\\x}}\n",
       "\\newcommand{\\yt}{\\underline{\\y}}\n",
       "\\newcommand{\\Xt}{\\underline{\\X}}\n",
       "\\newcommand{\\perfm}{\\mathcal{P}}\n",
       "%\n",
       "% \\ll indexes a layer; we can change the actual letter\n",
       "\\newcommand{\\ll}{l}\n",
       "\\newcommand{\\llp}{{(\\ll)}}\n",
       "%\n",
       "\\newcommand{Thetam}{\\Theta_{-0}}\n",
       "\n",
       "% CNN\n",
       "\\newcommand{\\kernel}{\\mathbf{k}} \n",
       "\\newcommand{\\dim}{d}\n",
       "\\newcommand{\\idxspatial}{{\\text{idx}}}\n",
       "\\newcommand{\\summaxact}{\\text{max}}\n",
       "%\n",
       "%\n",
       "\n",
       "% RNN\n",
       "% \\tt indexes a time step\n",
       "\\newcommand{\\tt}{t}\n",
       "\\newcommand{\\tp}{{(\\tt)}}\n",
       "%\n",
       "%\n",
       "\n",
       "% LSTM\n",
       "\\newcommand{\\g}{\\mathbf{g}}\n",
       "\\newcommand{\\remember}{\\mathbf{remember}}\n",
       "\\newcommand{\\save}{\\mathbf{save}}\n",
       "\\newcommand{\\focus}{\\mathbf{focus}}\n",
       "%\n",
       "%\n",
       "% NLP\n",
       "\\newcommand{\\Vocab}{\\mathbf{V}}\n",
       "\\newcommand{\\v}{\\mathbf{v}}\n",
       "\\newcommand{\\offset}{o}\n",
       "\\newcommand{\\o}{o}\n",
       "\\newcommand{\\E}{\\mathbf{E}}\n",
       "%\n",
       "%\n",
       "\\newcommand{\\loss}{\\mathcal{L}}\n",
       "\\newcommand{\\cost}{\\mathcal{L}}\n",
       "%\n",
       "%                     \n",
       "\\newcommand{\\pdata}{p_\\text{data}}\n",
       "\\newcommand{\\pmodel}{p_\\text{model}}\n",
       "%\n",
       "% SVM\n",
       "\\newcommand{\\margin}{{\\mathbb{m}}}\n",
       "\\newcommand{\\lmk}{\\boldsymbol{\\ell}}\n",
       "%\n",
       "% Functions with arguments\n",
       "\\def\\xsy#1#2{#1^#2}\n",
       "\\def\\rand#1{\\tilde{#1}}\n",
       "\\def\\randx{\\rand{\\x}}\n",
       "\\def\\randy{\\rand{\\y}}\n",
       "\\def\\trans#1{\\dot{#1}}\n",
       "\\def\\transx{\\trans{\\x}}\n",
       "\\def\\transy{\\trans{\\y}}\n",
       "%\n",
       "\\def\\argmax#1{\\underset{#1} {\\operatorname{argmax}} }\n",
       "\\def\\argmin#1{\\underset{#1} {\\operatorname{argmin}} }\n",
       "\\def\\max#1{\\underset{#1} {\\operatorname{max}} }\n",
       "\\def\\min#1{\\underset{#1} {\\operatorname{min}} }\n",
       "%\n",
       "\\def\\pr#1{\\mathcal{p}(#1)}\n",
       "\\def\\prc#1#2{\\mathcal{p}(#1 \\; | \\; #2)}\n",
       "\\def\\cnt#1{\\mathcal{count}_{#1}}\n",
       "\\def\\node#1{\\mathbb{#1}}\n",
       "%\n",
       "\\newcommand{\\floor}[1]{\\left\\lfloor #1 \\right\\rfloor}\n",
       "\\newcommand{\\ceil}[1]{\\left\\lceil #1 \\right\\rceil}\n",
       "%\n",
       "\\def\\loc#1{{\\text{##} {#1}}}\n",
       "%\n",
       "$$\n"
      ],
      "text/plain": [
       "<IPython.core.display.Latex object>"
      ]
     },
     "metadata": {},
     "output_type": "display_data"
    }
   ],
   "source": [
    "%run Latex_macros.ipynb\n",
    "%run beautify_plots.py"
   ]
  },
  {
   "cell_type": "code",
   "execution_count": 2,
   "metadata": {
    "slideshow": {
     "slide_type": "notes"
    }
   },
   "outputs": [],
   "source": [
    "# My standard magic !  You will see this in almost all my notebooks.\n",
    "\n",
    "from IPython.core.interactiveshell import InteractiveShell\n",
    "InteractiveShell.ast_node_interactivity = \"all\"\n",
    "\n",
    "# Reload all modules imported with %aimport\n",
    "%load_ext autoreload\n",
    "%autoreload 1\n",
    "\n",
    "%matplotlib inline"
   ]
  },
  {
   "cell_type": "code",
   "execution_count": 3,
   "metadata": {
    "slideshow": {
     "slide_type": "notes"
    }
   },
   "outputs": [],
   "source": [
    "import svm_helper\n",
    "%aimport svm_helper\n",
    "svmh = svm_helper.SVM_Helper()\n"
   ]
  },
  {
   "cell_type": "markdown",
   "metadata": {
    "slideshow": {
     "slide_type": "slide"
    }
   },
   "source": [
    "# Classification: Loss function\n",
    "\n",
    "It would be natural to expect the Average Loss to be Accuracy (fraction of correct predictions).\n",
    "\n",
    "On a per example basis, the corresponding loss $\\loss^\\ip$ would be either 1 or 0, depending on correctness.\n",
    "\n",
    "\n",
    "This is not the case."
   ]
  },
  {
   "cell_type": "markdown",
   "metadata": {
    "slideshow": {
     "slide_type": "slide"
    }
   },
   "source": [
    "Recall the mapping of probability to prediction\n",
    "\n",
    "$$\n",
    "\\hat{\\y}^\\ip = \n",
    "\\left\\{\n",
    "    {\n",
    "    \\begin{array}{lll}\n",
    "     \\text{Negative} & \\textrm{if } \\hat{\\mathbf{p}}^\\ip   < 0.5  \\\\\n",
    "     \\text{Positive}& \\textrm{if } \\hat{\\mathbf{p}}^\\ip \\ge 0.5 \n",
    "    \\end{array}\n",
    "    }\n",
    "\\right.\n",
    "$$"
   ]
  },
  {
   "cell_type": "markdown",
   "metadata": {
    "slideshow": {
     "slide_type": "subslide"
    }
   },
   "source": [
    "The prediction for example $i$ changes only when probability $\\hat{p}^\\ip$ crosses the threshold.\n",
    "\n",
    "Suppose the class for example $i$ is Positive: $\\y^\\ip = \\text{Positive}$.\n",
    "- Is our model \"better\" when our prediction is \"more certain\" (extreme probability)\n",
    "$$\n",
    "\\begin{array}[lll]\\\\\n",
    "\\hat{\\mathbf{p}}^\\ip &  \\approx 1 & \\text{ than when  }       &\\hat{\\mathbf{p}}^\\ip  = 0.5\\\\\n",
    "\\hat{\\mathbf{p}}^\\ip &  = (.5 - \\epsilon) & \\text{ than when  } & \\hat{\\mathbf{p}}^\\ip  \\approx 0\\\\\n",
    "\\end{array}\n",
    "$$"
   ]
  },
  {
   "cell_type": "markdown",
   "metadata": {
    "slideshow": {
     "slide_type": "slide"
    }
   },
   "source": [
    "- The per-example Accuracy is the same in both comparisons\n",
    "- But a model with probability $\\hat{p}^\\ip$ closer to $1$ for a Positive example $i$ would seem to better\n",
    "\n",
    "There is no *degree* or magnitude of inaccuracy\n",
    "- Two models may have the same Accuracy even though the probabilities of one may be closer to perfect than the other\n",
    "- In our search for the best $\\Theta$, Accuracy won't be a guide"
   ]
  },
  {
   "cell_type": "markdown",
   "metadata": {
    "slideshow": {
     "slide_type": "subslide"
    }
   },
   "source": [
    "In mathematical terms: we want our Loss function be be continuous and differentiable.\n",
    "\n",
    "Accuracy (and the per-example analog) satisfies neither.\n",
    "\n",
    "We will introduce Binary Cross Entropy loss to overcome this difficulty.\n",
    "\n",
    "Think of Binary Cross Entropy as a continuous analog of Accuracy."
   ]
  },
  {
   "cell_type": "markdown",
   "metadata": {
    "slideshow": {
     "slide_type": "slide"
    }
   },
   "source": [
    "# Binary Cross Entropy\n",
    "\n",
    "Let's encode the Positive labels $\\y^\\ip$ with the number 1 and Negative labels with the number 0.\n",
    "The loss for example $i$ will be defined as\n",
    "$$\n",
    "\\loss^\\ip_\\Theta =\n",
    "\\begin{cases}\n",
    "- \\log(\\hat{\\mathbf{p}}^\\ip) & \\textrm{if } & \\y^\\ip = 1 \\\\\n",
    "- \\log(1-\\hat{\\mathbf{p}}^\\ip)     & \\textrm{if } & \\y^\\ip = 0 \\\\\n",
    "\\end{cases}\n",
    "$$\n",
    "\n",
    "Note the negative signs:\n",
    "- The term being negated is a Utility (which we want to maximize)\n",
    "\n",
    "A plot will give us some intuition."
   ]
  },
  {
   "cell_type": "code",
   "execution_count": 4,
   "metadata": {
    "slideshow": {
     "slide_type": "subslide"
    }
   },
   "outputs": [
    {
     "data": {
      "image/png": "[encoded data removed]",
      "text/plain": [
       "<Figure size 864x324 with 2 Axes>"
      ]
     },
     "metadata": {
      "needs_background": "light"
     },
     "output_type": "display_data"
    }
   ],
   "source": [
    "svmh.plot_log_p(x_axis=\"Probability\")"
   ]
  },
  {
   "cell_type": "markdown",
   "metadata": {
    "slideshow": {
     "slide_type": "subslide"
    }
   },
   "source": [
    "- For Positive examples: the loss approaches $0$ as the predicted probability approaches the correct value ($1$).\n",
    "- For Negative examples:  the loss approaches $0$ as the predicted probability approaches the correct value ($0$).\n",
    "\n",
    "In a Deep Dive (after the introduction of a bit of math) we will gain a greater appreciation it's meaning.\n",
    "\n",
    "For now: be content that Binary Cross Entropy seems to have the right slope and asymptotic behavior.\n"
   ]
  },
  {
   "cell_type": "markdown",
   "metadata": {
    "slideshow": {
     "slide_type": "subslide"
    }
   },
   "source": [
    "\n",
    "\n",
    "Because only one of $\\y^\\ip$ and $(1-\\y^\\ip)$ is non zero, we  can re-write the two-case statement into a single expression\n",
    "\n",
    "$$\n",
    "\\loss^\\ip_\\Theta = - \\left( \\y^\\ip*\\log(\\hat{\\mathbf{p}}^\\ip) + (1-\\y^\\ip) * \\log(1-\\hat{\\mathbf{p}}^\\ip) \\right)\n",
    "$$\n",
    "\n",
    "This expression is referred to as *Binary Cross Entropy*; it and the multi-class version\n",
    "will become quite familiar going forward.\n"
   ]
  },
  {
   "cell_type": "markdown",
   "metadata": {
    "slideshow": {
     "slide_type": "subslide"
    }
   },
   "source": [
    "The Loss for the entire training set is simply the average (across examples) of the Loss for the example\n",
    "\n",
    "$$\n",
    "\\loss_\\Theta  = { 1\\over{m} } \\sum_{i=1}^m \\loss^\\ip_\\Theta\n",
    "$$"
   ]
  },
  {
   "cell_type": "markdown",
   "metadata": {
    "slideshow": {
     "slide_type": "slide"
    }
   },
   "source": [
    "# Loss function for Multinomial Classification: Cross Entropy\n",
    "\n",
    "A Multinomial Classifier (when categories/classes $||C|| > 2$) can be created from multiple Binary Classifiers\n",
    "- Create a separate Binary Classifier for each $c \\in C$\n",
    "- The classifier for category $c$ attempts to classify\n",
    "    - Each example with target category of $c$ as Positive\n",
    "    - All other examples as Negative\n",
    "- Combine the $||C||$ classifiers to produce a vector $\\hat{p}$ of length $||C||$\n",
    "    - normalize across $c \\in C$ to sum to $1$\n",
    "    - $\\hat{\\mathbf{p}}_c$ denotes the normalized value for category $c$\n",
    "        - **Notation abuse**: subscripts should be integers, not categories"
   ]
  },
  {
   "cell_type": "markdown",
   "metadata": {
    "slideshow": {
     "slide_type": "subslide"
    }
   },
   "source": [
    "Both the target $\\y$ and the prediction $\\hat{p}$ are represented as vectors of length $||C||$\n",
    "- We write $\\y_c, \\hat{p}_c$ to denote the element of the vector corresponding to category $c$\n",
    "- Each vector can be interpreted as a probability distribution, e.g.\n",
    "$$\n",
    "\\begin{array}[lll]\\\\\n",
    "\\forall c \\in C: \\y_c \\ge 0 \\\\\n",
    "\\sum_{c \\in C} { \\y_c } =1\n",
    "\\end{array}\n",
    "$$\n",
    "    - $\\y$  was created with One Hot Encoding (OHE), so properties satisfied by construction\n",
    "    - $\\hat{p}_c$ satisfies the properties by virtue of the normalization of the predictions of the $||C||$ binary classifiers"
   ]
  },
  {
   "cell_type": "markdown",
   "metadata": {
    "slideshow": {
     "slide_type": "subslide"
    }
   },
   "source": [
    "With $\\y, \\hat{p}$ encoded as a vectors, per example Binary Cross Entropy can be generalized to $||C|| \\ge 2$ categories:\n",
    "\n",
    "$$\n",
    "\\loss^\\ip_\\Theta = - \\sum_{c=1}^{||C||}\n",
    "\\left(\n",
    "{ \\y_c^\\ip * \\textrm{log} (\\hat{\\mathbf{p}}_c^\\ip)}\n",
    "\\right)\n",
    "$$\n",
    "\n",
    "This is the multinomial analog of Binary Cross Entropy and is called **Cross Entropy**.\n"
   ]
  },
  {
   "cell_type": "markdown",
   "metadata": {
    "slideshow": {
     "slide_type": "subslide"
    }
   },
   "source": [
    "Cross Entropy can be interpreted as a measure of the \"distance\" between distributions $\\y$ and $\\hat{\\mathbf{p}}$\n",
    "- Minimized when they are identical\n",
    "- We will use Cross Entropy in the future both as a Loss function and a way of comparing probability distributions"
   ]
  },
  {
   "cell_type": "code",
   "execution_count": 5,
   "metadata": {
    "slideshow": {
     "slide_type": "slide"
    }
   },
   "outputs": [
    {
     "name": "stdout",
     "output_type": "stream",
     "text": [
      "Done\n"
     ]
    }
   ],
   "source": [
    "print(\"Done\")"
   ]
  }
 ],
 "metadata": {
  "celltoolbar": "Slideshow",
  "kernelspec": {
   "display_name": "Python 3",
   "language": "python",
   "name": "python3"
  },
  "language_info": {
   "codemirror_mode": {
    "name": "ipython",
    "version": 3
   },
   "file_extension": ".py",
   "mimetype": "text/x-python",
   "name": "python",
   "nbconvert_exporter": "python",
   "pygments_lexer": "ipython3",
   "version": "3.7.4"
  },
  "toc": {
   "base_numbering": 1,
   "nav_menu": {},
   "number_sections": true,
   "sideBar": true,
   "skip_h1_title": false,
   "title_cell": "Table of Contents",
   "title_sidebar": "Contents",
   "toc_cell": false,
   "toc_position": {},
   "toc_section_display": true,
   "toc_window_display": false
  }
 },
 "nbformat": 4,
 "nbformat_minor": 2
}
