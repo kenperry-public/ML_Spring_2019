{
 "cells": [
  {
   "cell_type": "code",
   "execution_count": 1,
   "metadata": {
    "slideshow": {
     "slide_type": "notes"
    }
   },
   "outputs": [
    {
     "data": {
      "text/latex": [
       "$$\n",
       "\\newcommand{\\x}{\\mathbf{x}}\n",
       "\\newcommand{\\tx}{\\tilde{\\x}}\n",
       "\\newcommand{\\y}{\\mathbf{y}}\n",
       "\\newcommand{\\b}{\\mathbf{b}}\n",
       "\\newcommand{\\c}{\\mathbf{c}}\n",
       "\\newcommand{\\e}{\\mathbf{e}}\n",
       "\\newcommand{\\z}{\\mathbf{z}}\n",
       "\\newcommand{\\h}{\\mathbf{h}}\n",
       "\\newcommand{\\u}{\\mathbf{u}}\n",
       "\\newcommand{\\v}{\\mathbf{v}}\n",
       "\\newcommand{\\w}{\\mathbf{w}}\n",
       "\\newcommand{\\V}{\\mathbf{V}}\n",
       "\\newcommand{\\W}{\\mathbf{W}}\n",
       "\\newcommand{\\X}{\\mathbf{X}}\n",
       "\\newcommand{\\KL}{\\mathbf{KL}}\n",
       "\\newcommand{\\E}{{\\mathbb{E}}}\n",
       "\\newcommand{\\Reals}{{\\mathbb{R}}}\n",
       "\\newcommand{\\ip}{\\mathbf{{(i)}}}\n",
       "%\n",
       "% Test set\n",
       "\\newcommand{\\xt}{\\underline{\\x}}\n",
       "\\newcommand{\\yt}{\\underline{\\y}}\n",
       "\\newcommand{\\Xt}{\\underline{\\X}}\n",
       "\\newcommand{\\perfm}{\\mathcal{P}}\n",
       "%\n",
       "% \\ll indexes a layer; we can change the actual letter\n",
       "\\newcommand{\\ll}{l}\n",
       "\\newcommand{\\llp}{{(\\ll)}}\n",
       "%\n",
       "\\newcommand{Thetam}{\\Theta_{-0}}\n",
       "\n",
       "% CNN\n",
       "\\newcommand{\\kernel}{\\mathbf{k}} \n",
       "\\newcommand{\\dim}{d}\n",
       "\\newcommand{\\idxspatial}{{\\text{idx}}}\n",
       "\\newcommand{\\summaxact}{\\text{max}}\n",
       "\\newcommand{idxb}{\\mathbf{i}}\n",
       "%\n",
       "%\n",
       "\n",
       "% RNN\n",
       "% \\tt indexes a time step\n",
       "\\newcommand{\\tt}{t}\n",
       "\\newcommand{\\tp}{{(\\tt)}}\n",
       "%\n",
       "%\n",
       "\n",
       "% LSTM\n",
       "\\newcommand{\\g}{\\mathbf{g}}\n",
       "\\newcommand{\\remember}{\\mathbf{remember}}\n",
       "\\newcommand{\\save}{\\mathbf{save}}\n",
       "\\newcommand{\\focus}{\\mathbf{focus}}\n",
       "%\n",
       "%\n",
       "% NLP\n",
       "\\newcommand{\\Vocab}{\\mathbf{V}}\n",
       "\\newcommand{\\v}{\\mathbf{v}}\n",
       "\\newcommand{\\offset}{o}\n",
       "\\newcommand{\\o}{o}\n",
       "\\newcommand{\\Emb}{\\mathbf{E}}\n",
       "%\n",
       "%\n",
       "\\newcommand{\\loss}{\\mathcal{L}}\n",
       "\\newcommand{\\cost}{\\mathcal{L}}\n",
       "%\n",
       "%                     \n",
       "\\newcommand{\\pdata}{p_\\text{data}}\n",
       "\\newcommand{\\pmodel}{p_\\text{model}}\n",
       "%\n",
       "% SVM\n",
       "\\newcommand{\\margin}{{\\mathbb{m}}}\n",
       "\\newcommand{\\lmk}{\\boldsymbol{\\ell}}\n",
       "%\n",
       "%\n",
       "% Functions with arguments\n",
       "\\def\\xsy#1#2{#1^#2}\n",
       "\\def\\rand#1{\\tilde{#1}}\n",
       "\\def\\randx{\\rand{\\x}}\n",
       "\\def\\randy{\\rand{\\y}}\n",
       "\\def\\trans#1{\\dot{#1}}\n",
       "\\def\\transx{\\trans{\\x}}\n",
       "\\def\\transy{\\trans{\\y}}\n",
       "%\n",
       "\\def\\argmax#1{\\underset{#1} {\\operatorname{argmax}} }\n",
       "\\def\\argmin#1{\\underset{#1} {\\operatorname{argmin}} }\n",
       "\\def\\max#1{\\underset{#1} {\\operatorname{max}} }\n",
       "\\def\\min#1{\\underset{#1} {\\operatorname{min}} }\n",
       "%\n",
       "\\def\\pr#1{\\mathcal{p}(#1)}\n",
       "\\def\\prc#1#2{\\mathcal{p}(#1 \\; | \\; #2)}\n",
       "\\def\\cnt#1{\\mathcal{count}_{#1}}\n",
       "\\def\\node#1{\\mathbb{#1}}\n",
       "%\n",
       "\\def\\loc#1{{\\text{##} {#1}}}\n",
       "%\n",
       "\\def\\OrderOf#1{\\mathcal{O}\\left( {#1} \\right)}\n",
       "%\n",
       "% Expectation operator\n",
       "\\def\\Exp#1{\\underset{#1} {\\operatorname{\\mathbb{E}}} }\n",
       "%\n",
       "% VAE\n",
       "\\def\\prs#1#2{\\mathcal{p}_{#2}(#1)}\n",
       "\\def\\qr#1{\\mathcal{q}(#1)}\n",
       "\\def\\qrs#1#2{\\mathcal{q}_{#2}(#1)}\n",
       "%\n",
       "% Reinforcement learning\n",
       "\\newcommand{\\Actions}{{\\mathcal{A}}} \n",
       "\\newcommand{\\actseq}{A}\n",
       "\\newcommand{\\act}{a}\n",
       "\\newcommand{\\States}{{\\mathcal{S}}}   \n",
       "\\newcommand{\\stateseq}{S}  \n",
       "\\newcommand{\\state}{s}\n",
       "\\newcommand{\\Rewards}{{\\mathcal{R}}}\n",
       "\\newcommand{\\rewseq}{R}\n",
       "\\newcommand{\\rew}{r}\n",
       "\\newcommand{\\transp}{P}\n",
       "\\newcommand{\\statevalfun}{v}\n",
       "\\newcommand{\\actvalfun}{q}\n",
       "\\newcommand{\\disc}{\\gamma}\n",
       "%\n",
       "%\n",
       "\\newcommand{\\floor}[1]{\\left\\lfloor #1 \\right\\rfloor}\n",
       "\\newcommand{\\ceil}[1]{\\left\\lceil #1 \\right\\rceil}\n",
       "%\n",
       "%\n",
       "$$\n"
      ],
      "text/plain": [
       "<IPython.core.display.Latex object>"
      ]
     },
     "metadata": {},
     "output_type": "display_data"
    }
   ],
   "source": [
    "%run Latex_macros.ipynb\n",
    "%run beautify_plots.py"
   ]
  },
  {
   "cell_type": "code",
   "execution_count": 2,
   "metadata": {
    "slideshow": {
     "slide_type": "notes"
    }
   },
   "outputs": [],
   "source": [
    "# My standard magic !  You will see this in almost all my notebooks.\n",
    "\n",
    "from IPython.core.interactiveshell import InteractiveShell\n",
    "InteractiveShell.ast_node_interactivity = \"all\"\n",
    "\n",
    "# Reload all modules imported with %aimport\n",
    "%load_ext autoreload\n",
    "%autoreload 1\n",
    "\n",
    "%matplotlib inline"
   ]
  },
  {
   "cell_type": "code",
   "execution_count": 3,
   "metadata": {
    "slideshow": {
     "slide_type": "subslide"
    }
   },
   "outputs": [],
   "source": [
    "import numpy as np\n",
    "import pandas as pd\n",
    "import matplotlib.pyplot as plt\n",
    "\n",
    "import cnn_helper\n",
    "%aimport cnn_helper\n",
    "\n",
    "nn_ch = cnn_helper.Charts_Helper(save_dir=\"/tmp\", visible=False)"
   ]
  },
  {
   "cell_type": "code",
   "execution_count": 4,
   "metadata": {
    "slideshow": {
     "slide_type": "notes"
    }
   },
   "outputs": [],
   "source": [
    "# Create files containing charts\n",
    "create = False\n",
    "\n",
    "if create:\n",
    "    file_map = nn_ch.create_charts()\n",
    "    print(file_map)"
   ]
  },
  {
   "cell_type": "markdown",
   "metadata": {
    "slideshow": {
     "slide_type": "slide"
    }
   },
   "source": [
    "# Receptive Field\n",
    "\n",
    "Consider one element in some layer let $v$ denote its value.\n",
    "\n",
    "The *receptive field*  for the element\n",
    "- are the set of *layer 0 locations* \n",
    "- that affect the value $v$"
   ]
  },
  {
   "cell_type": "markdown",
   "metadata": {
    "slideshow": {
     "slide_type": "subslide"
    }
   },
   "source": [
    "We illustrate with inputs with\n",
    "- one non-feature dimension\n",
    "- one feature\n",
    "\n",
    "We will index the locations\n",
    "- so that the indices are all relative to a center location which we define as $0$\n",
    "\n",
    "\n",
    "\\begin{array}{lccccc} \\\\\n",
    "\\text{Inputs: } & \\fbox{-3} & \\fbox{-2} & \\fbox{-1} & \\fbox{0} & \\fbox{+1} & \\fbox{+2 }               &  \\\\\n",
    "\\end{array}"
   ]
  },
  {
   "cell_type": "markdown",
   "metadata": {
    "slideshow": {
     "slide_type": "subslide"
    }
   },
   "source": [
    "Let's consider\n",
    "- a convolutional layer with $f = 3$\n",
    "- show the receptive field for the central input location and its neighbors\n",
    "\n",
    "The right column explains which locations contributed to the receptive field for the central location\n",
    "\n",
    "\\begin{array}{lccccc} \\\\\n",
    "\\text{Inputs: } & \\fbox{-3} & \\fbox{-2} & \\fbox{-1} & \\fbox{0} & \\fbox{+1} & \\fbox{+2 }               &  \\\\\n",
    "\\text{Layer 1 field} & &  & \\fbox{[ -2: 0 ]} & \\fbox{[ -1: +1 ]} & \\fbox{[0:+2]} & &   \\text{left: } & \\fbox{-1 }& \\cup & \\text{right: } & \\fbox{+1} \\\\\n",
    "\\end{array}"
   ]
  },
  {
   "cell_type": "markdown",
   "metadata": {
    "slideshow": {
     "slide_type": "subslide"
    }
   },
   "source": [
    "The receptive field for the center location are input locations $-1$ through $+1$.\n",
    "\n",
    "This is because\n",
    "- when we center the kernel of size $f = 3$ at location $0$\n",
    "- locations $[-1:+1]$ are included in the dot product\n",
    "\n",
    "We similarly show the receptive field for the two neighbors\n",
    "- lower and upper boundaries are offset by $1$ relative to the central location"
   ]
  },
  {
   "cell_type": "markdown",
   "metadata": {
    "slideshow": {
     "slide_type": "slide"
    }
   },
   "source": [
    "## Adding a second convolutional layer\n",
    "\n",
    "Let us add a second convolutional layer with $f = 3$ and look at the receptive field\n",
    "for the central location.\n",
    "\n",
    "Again: the explanation for the central receptive field is given in the last column.\n",
    "\n",
    "\\begin{array}{lccccc} \\\\\n",
    "\\text{Inputs: } & \\fbox{-3} & \\fbox{-2} & \\fbox{-1} & \\fbox{0} & \\fbox{+1} & \\fbox{+2 }               &  \\\\\n",
    "\\text{Layer 1 field} & &  & \\fbox{[ -2: 0 ]} & \\fbox{[ -1: +1 ]} & \\fbox{[0:+2]} & &   \\text{left: } & \\fbox{-1 }& \\cup & \\text{right: } & \\fbox{+1} \\\\\n",
    "\\text{Layer 2 field}   &    &  &  &\\fbox{[-2:+2]} &  &           &         \\text{left: }  & \\fbox{[-2:0 ]} & \\cup &  \\text{right: } &  \\fbox{[0:+2]} \\\\\n",
    "\\end{array}"
   ]
  },
  {
   "cell_type": "markdown",
   "metadata": {
    "slideshow": {
     "slide_type": "subslide"
    }
   },
   "source": [
    "When the filter of the Layer 2 Convolution is centered over location $0$\n",
    "the following elements appear in the dot product\n",
    "- Layer $1$ element at location $-1$ is included; it's receptive field is $[-2:0]$\n",
    "- Layer $1$ element at location $0$ is included; it's receptive field is $[-1:+1]$\n",
    "- Layer $1$ element at location $+1$ is included; it's receptive field is $[0:+2]$\n",
    "\n",
    "Thus the Layer 2 value at location $0$\n",
    "- has a receptive field $[-2:+2]$\n",
    "\n",
    "**Remember**\n",
    "\n",
    "The receptive field are the **Layer 0** locations affected by the dot product."
   ]
  },
  {
   "cell_type": "markdown",
   "metadata": {
    "slideshow": {
     "slide_type": "slide"
    }
   },
   "source": [
    "## Adding a third Convolutional layer \n",
    "\n",
    "Before we expand to one more layer:\n",
    "- Let's expand our diagram to include the receptive field of the left and right neighbor of the center location\n",
    "\n",
    "\\begin{array}{lccccc} \\\\\n",
    "\\text{Inputs: } & \\fbox{-3} & \\fbox{-2} & \\fbox{-1} & \\fbox{0} & \\fbox{+1} & \\fbox{+2 }               &  \\\\\n",
    "\\text{Layer 1 field} & &  & \\fbox{[ -2: 0 ]} & \\fbox{[ -1: +1 ]} & \\fbox{[0:+2]} & &   \\text{left: } & \\fbox{-1 }& \\cup & \\text{right: } & \\fbox{+1} \\\\\n",
    "\\text{Layer 2 field}   &    &  & \\fbox{[-3:+1]} &\\fbox{[-2:+2]} & \\fbox{[-1:+3]} &           &         \\text{left: }  & \\fbox{[-2:0 ]} & \\cup &  \\text{right: } &  \\fbox{[0:+2]} \\\\\n",
    "\\end{array}"
   ]
  },
  {
   "cell_type": "markdown",
   "metadata": {
    "slideshow": {
     "slide_type": "subslide"
    }
   },
   "source": [
    "Now we can see the Layer 3 receptive field for the central location.\n",
    "\n",
    "\\begin{array}{lccccc} \\\\\n",
    "\\text{Inputs: } & \\fbox{-3} & \\fbox{-2} & \\fbox{-1} & \\fbox{0} & \\fbox{+1} & \\fbox{+2 }               &  \\\\\n",
    "\\text{Layer 1 field} & &  & \\fbox{[ -2: 0 ]} & \\fbox{[ -1: +1 ]} & \\fbox{[0:+2]} & &   \\text{left: } & \\fbox{-1 }& \\cup & \\text{right: } & \\fbox{+1} \\\\\n",
    "\\text{Layer 2 field}   &    &  & \\fbox{[-3:+1]} &\\fbox{[-2:+2]} & \\fbox{[-1:+3]} &           &         \\text{left: }  & \\fbox{[-2:0 ]} & \\cup &  \\text{right: } &  \\fbox{[0:+2]} \\\\\n",
    "\\text{Layer 3 field}   & &    &   & \\fbox{[-3:+3]} & & &\\text{left: }  & \\fbox{[-3:+1 ]} & \\cup &  \\text{right: } &  \\fbox{[-1:+3]} \\\\\\\\\n",
    "\\end{array}"
   ]
  },
  {
   "cell_type": "markdown",
   "metadata": {
    "slideshow": {
     "slide_type": "slide"
    }
   },
   "source": [
    "# Width of Receptive Field is a function of the depth of the location\n",
    "\n",
    "The number of locations in the receptive field of a location\n",
    "is called the *width or size* of the receptive field\n",
    "\n",
    "We can see from our illustration\n",
    "- that the width of the receptive field for a location\n",
    "- increases with the depth\n",
    "    - layer in which the location appears\n",
    "\n",
    "|  Layer  | Receptive field |\n",
    "|-- |-- |\n",
    "1 | $3$\n",
    "2 | $5$\n",
    "3 | $7$\n",
    "$\\vdots$ | $\\vdots$"
   ]
  },
  {
   "cell_type": "markdown",
   "metadata": {
    "slideshow": {
     "slide_type": "subslide"
    }
   },
   "source": [
    "All locations in the same layer have the same width of receptive field\n",
    "- assuming \"same\" padding\n",
    "\n",
    "Thus\n",
    "- any location at a depth after $3$ Convolutional layers with $f = 3$\n",
    "- has receptive field width $7$\n",
    "\n",
    "Similarly\n",
    "- any location at a depth after **a single** convolutional layer with $f = 7$\n",
    "- also have receptive field width $7$."
   ]
  },
  {
   "cell_type": "markdown",
   "metadata": {
    "slideshow": {
     "slide_type": "subslide"
    }
   },
   "source": [
    "We can visualize how multiple Convolutional layers would be used\n",
    "- on timeseries data\n",
    "\n",
    "<table>\n",
    "    <tr>\n",
    "        <th><center>Receptive field varies by depth: N=1 non-spatial dimension</center></th>\n",
    "    </tr>\n",
    "    <tr>\n",
    "        <td><img src=\"images/receptive_field_1d.png\" width=90%></td>\n",
    "    </tr>\n",
    "</table>"
   ]
  },
  {
   "cell_type": "markdown",
   "metadata": {
    "slideshow": {
     "slide_type": "subslide"
    }
   },
   "source": [
    "And we can visualize how multiple Convolutional layers would be used\n",
    "- on two dimensional inputs\n",
    "\n",
    "<table>\n",
    "    <tr>\n",
    "        <th><center>Receptive field varies by depth: N=2 non-spatial dimension</center></th>\n",
    "    </tr>\n",
    "    <tr>\n",
    "        <td><img src=\"images/receptive_field_2d.png\" width=80%></td>\n",
    "    </tr>\n",
    "</table>"
   ]
  },
  {
   "cell_type": "markdown",
   "metadata": {
    "slideshow": {
     "slide_type": "slide"
    }
   },
   "source": [
    "# Trading filter size for depth\n",
    "\n",
    "This means\n",
    "- that a shallow (one Convolutional layer with $f = 7$) Neural Network\n",
    "- computes a function over the same input locations\n",
    "- as a deeper (3 Convolutional layers) with a smaller filter ($f = 3$)."
   ]
  },
  {
   "cell_type": "markdown",
   "metadata": {
    "slideshow": {
     "slide_type": "subslide"
    }
   },
   "source": [
    "As a result, we rarely see very big values for $f$\n",
    "- it is preferred to use a smaller $f$ with more layers\n",
    "\n",
    "We give the mathematical reason for this below."
   ]
  },
  {
   "cell_type": "markdown",
   "metadata": {
    "slideshow": {
     "slide_type": "subslide"
    }
   },
   "source": [
    "Let's compare the number of weights\n",
    "- in a NN with a single Convolutional layer with larger filter $f = 5$\n",
    "- to a NN with two Convolutional layer with small filter $f = 3$\n",
    "\n",
    "The final Convolutional layer of each network has receptive field with of $5$.\n",
    "\n",
    "We illustrate with $N = 2$ non-spatial dimensions.\n",
    "- the difference in number of weights of the two networks\n",
    "- increases with $N$"
   ]
  },
  {
   "cell_type": "markdown",
   "metadata": {
    "slideshow": {
     "slide_type": "subslide"
    }
   },
   "source": [
    "The number of weights of a Convolutional layer $\\ll$\n",
    "- are the sizes of the filters\n",
    "- which have length $f_\\llp$ for each non-spatial dimension\n",
    "- $n_{(\\ll-1)}$ features (matches the number of features of it's input: layer $(\\ll-1)$ output)\n",
    "- there are $n_\\llp$ output features (with an associated filter for each)"
   ]
  },
  {
   "cell_type": "markdown",
   "metadata": {
    "slideshow": {
     "slide_type": "subslide"
    }
   },
   "source": [
    "In terms of number of weights:\n",
    "- The one layer network uses \n",
    "$$\n",
    "\\begin{array}[lll]\\\\\n",
    "|| \\W || & = & n_\\llp * (n_{(\\ll-1)} * f'\\llp * f'\\llp ) \\\\\n",
    "& = & 25 * n_\\llp * n_{(\\ll-1)} & \\text{ when } f'\\llp = 5\\\\\n",
    "\\end{array}\n",
    "$$\n",
    "\n",
    "- The two layer network uses\n",
    "$$\n",
    "\\begin{array}[lll]\\\\\n",
    "|| \\W_\\llp ||      & = & n_\\llp * (n_{(\\ll-1)} * f_\\llp * f_\\llp ) \\\\\n",
    "|| \\W_{(\\ll+1)} || & = & n_{(\\ll+1)} * (n_\\llp * f_{(\\ll+1)} * f_{(\\ll+1)} ) \\\\\n",
    "|| \\W || & = & || \\W_\\llp ||  + || \\W_{(\\ll+1)} || \\\\\n",
    "         & = & (9 * n_\\llp * n_{(\\ll-1)}) + 9 *( n_\\llp * n_{(\\ll+1)}) ) & \\text{ when } f_\\llp = f_{(\\ll+1)} = 3 \\\\\n",
    "\\end{array}\n",
    "$$\n"
   ]
  },
  {
   "cell_type": "markdown",
   "metadata": {
    "slideshow": {
     "slide_type": "subslide"
    }
   },
   "source": [
    "The two layer network uses *fewer* weights when\n",
    "$$\n",
    "9 *( n_\\llp * n_{(\\ll+1)}) ) \\lt (25-9) * n_\\llp * n_{(\\ll-1)}\n",
    "$$\n",
    "\n",
    "This will be the case when the number of feature maps in all layers is roughly the same.\n",
    "- The advantage of the smaller network increases as $f'_\\llp -f_\\ll$ increases\n",
    "    - For example: $f'_\\llp = 7$ \n",
    "    - Versus $3$ Convolutional Layers\n"
   ]
  },
  {
   "cell_type": "markdown",
   "metadata": {
    "slideshow": {
     "slide_type": "subslide"
    }
   },
   "source": [
    "Thus\n",
    "- for less space (number of weights)\n",
    "- we can achieve an identical receptive field\n",
    "- with the smaller filter\n",
    "- and more layers"
   ]
  },
  {
   "cell_type": "code",
   "execution_count": 5,
   "metadata": {
    "slideshow": {
     "slide_type": "slide"
    }
   },
   "outputs": [
    {
     "name": "stdout",
     "output_type": "stream",
     "text": [
      "Done\n"
     ]
    }
   ],
   "source": [
    "print(\"Done\")"
   ]
  }
 ],
 "metadata": {
  "celltoolbar": "Slideshow",
  "kernelspec": {
   "display_name": "Python 3",
   "language": "python",
   "name": "python3"
  },
  "language_info": {
   "codemirror_mode": {
    "name": "ipython",
    "version": 3
   },
   "file_extension": ".py",
   "mimetype": "text/x-python",
   "name": "python",
   "nbconvert_exporter": "python",
   "pygments_lexer": "ipython3",
   "version": "3.7.4"
  },
  "toc": {
   "base_numbering": 1,
   "nav_menu": {},
   "number_sections": true,
   "sideBar": true,
   "skip_h1_title": false,
   "title_cell": "Table of Contents",
   "title_sidebar": "Contents",
   "toc_cell": false,
   "toc_position": {},
   "toc_section_display": true,
   "toc_window_display": false
  }
 },
 "nbformat": 4,
 "nbformat_minor": 2
}
