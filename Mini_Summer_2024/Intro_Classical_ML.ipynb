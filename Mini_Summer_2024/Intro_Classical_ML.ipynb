{
 "cells": [
  {
   "cell_type": "code",
   "execution_count": 1,
   "metadata": {
    "scrolled": true,
    "slideshow": {
     "slide_type": "notes"
    }
   },
   "outputs": [
    {
     "data": {
      "text/latex": [
       "$$\n",
       "\\newcommand{\\x}{\\mathbf{x}}\n",
       "\\newcommand{\\tx}{\\tilde{\\x}}\n",
       "\\newcommand{\\y}{\\mathbf{y}}\n",
       "\\newcommand{\\b}{\\mathbf{b}}\n",
       "\\newcommand{\\c}{\\mathbf{c}}\n",
       "\\newcommand{\\e}{\\mathbf{e}}\n",
       "\\newcommand{\\z}{\\mathbf{z}}\n",
       "\\newcommand{\\h}{\\mathbf{h}}\n",
       "\\newcommand{\\u}{\\mathbf{u}}\n",
       "\\newcommand{\\v}{\\mathbf{v}}\n",
       "\\newcommand{\\w}{\\mathbf{w}}\n",
       "\\newcommand{\\V}{\\mathbf{V}}\n",
       "\\newcommand{\\W}{\\mathbf{W}}\n",
       "\\newcommand{\\X}{\\mathbf{X}}\n",
       "\\newcommand{\\KL}{\\mathbf{KL}}\n",
       "\\newcommand{\\E}{{\\mathbb{E}}}\n",
       "\\newcommand{\\Reals}{{\\mathbb{R}}}\n",
       "\\newcommand{\\ip}{\\mathbf{{(i)}}}\n",
       "%\n",
       "% Test set\n",
       "\\newcommand{\\xt}{\\underline{\\x}}\n",
       "\\newcommand{\\yt}{\\underline{\\y}}\n",
       "\\newcommand{\\Xt}{\\underline{\\X}}\n",
       "\\newcommand{\\perfm}{\\mathcal{P}}\n",
       "%\n",
       "% \\ll indexes a layer; we can change the actual letter\n",
       "\\newcommand{\\ll}{l}\n",
       "\\newcommand{\\llp}{{(\\ll)}}\n",
       "%\n",
       "\\newcommand{Thetam}{\\Theta_{-0}}\n",
       "\n",
       "% CNN\n",
       "\\newcommand{\\kernel}{\\mathbf{k}} \n",
       "\\newcommand{\\dim}{d}\n",
       "\\newcommand{\\idxspatial}{{\\text{idx}}}\n",
       "\\newcommand{\\summaxact}{\\text{max}}\n",
       "\\newcommand{idxb}{\\mathbf{i}}\n",
       "%\n",
       "%\n",
       "\n",
       "% RNN\n",
       "% \\tt indexes a time step\n",
       "\\newcommand{\\tt}{t}\n",
       "\\newcommand{\\tp}{{(\\tt)}}\n",
       "%\n",
       "%\n",
       "\n",
       "% LSTM\n",
       "\\newcommand{\\g}{\\mathbf{g}}\n",
       "\\newcommand{\\remember}{\\mathbf{remember}}\n",
       "\\newcommand{\\save}{\\mathbf{save}}\n",
       "\\newcommand{\\focus}{\\mathbf{focus}}\n",
       "%\n",
       "%\n",
       "% NLP\n",
       "\\newcommand{\\Vocab}{\\mathbf{V}}\n",
       "\\newcommand{\\v}{\\mathbf{v}}\n",
       "\\newcommand{\\offset}{o}\n",
       "\\newcommand{\\o}{o}\n",
       "\\newcommand{\\Emb}{\\mathbf{E}}\n",
       "%\n",
       "%\n",
       "\\newcommand{\\loss}{\\mathcal{L}}\n",
       "\\newcommand{\\cost}{\\mathcal{L}}\n",
       "%\n",
       "%                     \n",
       "\\newcommand{\\pdata}{p_\\text{data}}\n",
       "\\newcommand{\\pmodel}{p_\\text{model}}\n",
       "%\n",
       "% SVM\n",
       "\\newcommand{\\margin}{{\\mathbb{m}}}\n",
       "\\newcommand{\\lmk}{\\boldsymbol{\\ell}}\n",
       "%\n",
       "%\n",
       "% Functions with arguments\n",
       "\\def\\xsy#1#2{#1^#2}\n",
       "\\def\\rand#1{\\tilde{#1}}\n",
       "\\def\\randx{\\rand{\\x}}\n",
       "\\def\\randy{\\rand{\\y}}\n",
       "\\def\\trans#1{\\dot{#1}}\n",
       "\\def\\transx{\\trans{\\x}}\n",
       "\\def\\transy{\\trans{\\y}}\n",
       "%\n",
       "\\def\\argmax#1{\\underset{#1} {\\operatorname{argmax}} }\n",
       "\\def\\argmin#1{\\underset{#1} {\\operatorname{argmin}} }\n",
       "\\def\\max#1{\\underset{#1} {\\operatorname{max}} }\n",
       "\\def\\min#1{\\underset{#1} {\\operatorname{min}} }\n",
       "%\n",
       "\\def\\pr#1{\\mathcal{p}(#1)}\n",
       "\\def\\prc#1#2{\\mathcal{p}(#1 \\; | \\; #2)}\n",
       "\\def\\cnt#1{\\mathcal{count}_{#1}}\n",
       "\\def\\node#1{\\mathbb{#1}}\n",
       "%\n",
       "\\def\\loc#1{{\\text{##} {#1}}}\n",
       "%\n",
       "\\def\\OrderOf#1{\\mathcal{O}\\left( #1 \\right)}\n",
       "%\n",
       "% Expectation operator\n",
       "\\def\\Exp#1{\\underset{#1} {\\operatorname{\\mathbb{E}}} }\n",
       "%\n",
       "% VAE\n",
       "\\def\\prs#1#2{\\mathcal{p}_{#2}(#1)}\n",
       "\\def\\qr#1{\\mathcal{q}(#1)}\n",
       "\\def\\qrs#1#2{\\mathcal{q}_{#2}(#1)}\n",
       "%\n",
       "% Reinforcement learning\n",
       "\\newcommand{\\Actions}{{\\mathcal{A}}} \n",
       "\\newcommand{\\actseq}{A}\n",
       "\\newcommand{\\act}{a}\n",
       "\\newcommand{\\States}{{\\mathcal{S}}}   \n",
       "\\newcommand{\\stateseq}{S}  \n",
       "\\newcommand{\\state}{s}\n",
       "\\newcommand{\\Rewards}{{\\mathcal{R}}}\n",
       "\\newcommand{\\rewseq}{R}\n",
       "\\newcommand{\\rew}{r}\n",
       "\\newcommand{\\transp}{P}\n",
       "\\newcommand{\\statevalfun}{v}\n",
       "\\newcommand{\\actvalfun}{q}\n",
       "\\newcommand{\\disc}{\\gamma}\n",
       "%\n",
       "%\n",
       "\\newcommand{\\floor}[1]{\\left\\lfloor #1 \\right\\rfloor}\n",
       "\\newcommand{\\ceil}[1]{\\left\\lceil #1 \\right\\rceil}\n",
       "%\n",
       "%\n",
       "$$\n"
      ],
      "text/plain": [
       "<IPython.core.display.Latex object>"
      ]
     },
     "metadata": {},
     "output_type": "display_data"
    }
   ],
   "source": [
    "%run Latex_macros.ipynb\n",
    "%run beautify_plots.py"
   ]
  },
  {
   "cell_type": "code",
   "execution_count": 2,
   "metadata": {
    "slideshow": {
     "slide_type": "notes"
    }
   },
   "outputs": [],
   "source": [
    "# My standard magic !  You will see this in almost all my notebooks.\n",
    "\n",
    "from IPython.core.interactiveshell import InteractiveShell\n",
    "InteractiveShell.ast_node_interactivity = \"all\"\n",
    "\n",
    "# Reload all modules imported with %aimport\n",
    "%load_ext autoreload\n",
    "%autoreload 1\n",
    "\n",
    "%matplotlib inline"
   ]
  },
  {
   "cell_type": "code",
   "execution_count": 3,
   "metadata": {
    "slideshow": {
     "slide_type": "notes"
    }
   },
   "outputs": [],
   "source": [
    "# Standard imports\n",
    "import pandas as pd\n",
    "import numpy as np\n",
    "import matplotlib.pyplot as plt\n",
    "\n",
    "# Common imports\n",
    "import os\n",
    "\n",
    "import recipe_helper\n",
    "%aimport recipe_helper\n",
    "\n",
    "import svm_helper\n",
    "%aimport svm_helper\n",
    "\n",
    "import transform_helper\n",
    "%aimport transform_helper\n"
   ]
  },
  {
   "cell_type": "code",
   "execution_count": 4,
   "metadata": {
    "slideshow": {
     "slide_type": "notes"
    }
   },
   "outputs": [],
   "source": [
    "# Create plots for Fundamental Assumption\n",
    "ssm = transform_helper.StockPrice_shiftedMean_Helper()\n",
    "ss_df = ssm.gen_prices(.001, .02, [10, 20], num_returns=252)\n",
    "fig_data, axs_data = ssm.plot_data(ss_df, visible=False)\n",
    "fig_segs, axs_segs = ssm.plot_segments(ss_df, visible=False)"
   ]
  },
  {
   "cell_type": "code",
   "execution_count": 5,
   "metadata": {
    "slideshow": {
     "slide_type": "notes"
    }
   },
   "outputs": [],
   "source": [
    "# Create plots to include in other slides\n",
    "rh_ch = recipe_helper.Charts_Helper(visible=False)\n",
    "_= rh_ch.create_data()\n",
    "_= rh_ch.create_fit()\n",
    " "
   ]
  },
  {
   "cell_type": "markdown",
   "metadata": {
    "slideshow": {
     "slide_type": "slide"
    }
   },
   "source": [
    "# Overview\n",
    "\n",
    "This is the \"trailer\" for the course: a brief plot summary and introduction to the key characters\n",
    "you will encounter.\n",
    "\n",
    "## Goals\n",
    "- Get a high level view of Machine Learning\n",
    "- Introduce notation\n",
    "- Preview concepts\n"
   ]
  },
  {
   "cell_type": "markdown",
   "metadata": {
    "slideshow": {
     "slide_type": "slide"
    }
   },
   "source": [
    "# Process for Machine Learning\n",
    "\n",
    "Our belief is that Machine Learning should be taught as a *process* for problem solving.\n",
    "\n",
    "The following picture will be our agenda; each column is one step in the process."
   ]
  },
  {
   "cell_type": "markdown",
   "metadata": {
    "slideshow": {
     "slide_type": "subslide"
    }
   },
   "source": [
    "<img src=images/W1_L3_S4_ML_Process.png>"
   ]
  },
  {
   "cell_type": "markdown",
   "metadata": {
    "slideshow": {
     "slide_type": "subslide"
    }
   },
   "source": [
    "In contrast, many approaches focus on a few steps under \"Train a model\"\n",
    "- Select a model\n",
    "- Fit\n",
    "\n",
    "At two extremes, these approaches either focus on \"using an API\" or deep math.\n",
    "\n",
    "This may lead to the ability to construct models but, in our opinion, what distinguishes an adequate Data Scientist from a good one are all the other steps in the process."
   ]
  },
  {
   "cell_type": "markdown",
   "metadata": {
    "slideshow": {
     "slide_type": "subslide"
    }
   },
   "source": [
    "To be sure, this course will both teach you how to use an API for Machine Learning and contain a fair amount of math.\n",
    "\n",
    "But we take an engineer/scientist approach and focus on insight and repeatability (hence, process)\n",
    "- we view Data Science as an experimental science\n",
    "- your experiments are implemented via code\n",
    "- you need to understand enough math to diagnose problems and improve experiments\n"
   ]
  },
  {
   "cell_type": "markdown",
   "metadata": {
    "slideshow": {
     "slide_type": "subslide"
    }
   },
   "source": [
    "So *expect to do a lot of coding*.\n",
    "- You don't need to be a \"professional\" programmer\n",
    "- But you do need to be a *disciplined* programmer to ease repeatability\n",
    "    - Subprograms/classes (methods) versus cut and paste\n",
    "    \n",
    "Also expect some math\n",
    "- in order to understand why a model is appropriate or not, and to diagnose why it is not working\n",
    "- **not** to be able to derive formulas"
   ]
  },
  {
   "cell_type": "markdown",
   "metadata": {
    "slideshow": {
     "slide_type": "slide"
    }
   },
   "source": [
    "# Classical ML and Deep Learning\n",
    "\n",
    "There are two main streams in this course\n",
    "- \"Classical ML\"\n",
    "    - somewhat long history\n",
    "    - somewhat related to Statistics\n",
    "- \"Deep Learning\"\n",
    "    - really took off after 2010\n",
    "    - more related to Artificial Intelligence than Statistics\n",
    "        - experimental versus mathematical\n",
    "        \n",
    "This preview is for Classical Machine Learning."
   ]
  },
  {
   "cell_type": "markdown",
   "metadata": {
    "slideshow": {
     "slide_type": "slide"
    }
   },
   "source": [
    "# The big picture\n",
    "<img src=images/W1_L3_S9_Big_picture_ML_taxonomy.png>"
   ]
  },
  {
   "cell_type": "markdown",
   "metadata": {
    "colab_type": "text",
    "id": "DnCAQKeGFAo0",
    "slideshow": {
     "slide_type": "slide"
    }
   },
   "source": [
    "# Supervised Learning\n",
    "\n",
    "Supervised learning is about *informed prediction*.\n",
    "\n",
    "Let's parse these word\n",
    "- prediction\n",
    "- informed"
   ]
  },
  {
   "cell_type": "markdown",
   "metadata": {
    "slideshow": {
     "slide_type": "slide"
    }
   },
   "source": [
    "<table>\n",
    "    <tr>\n",
    "        <center><strong>Prediction: what digits do these pixels represent ?</strong></center>\n",
    "    </tr>\n",
    "<img src=images/mnist_small_test.png>\n",
    "</table>"
   ]
  },
  {
   "cell_type": "markdown",
   "metadata": {
    "slideshow": {
     "slide_type": "subslide"
    }
   },
   "source": [
    "**Prediction**:\n",
    "Given an image that we haven't seem before, determine which digit it represents."
   ]
  },
  {
   "cell_type": "markdown",
   "metadata": {
    "colab_type": "text",
    "id": "DnCAQKeGFAo0",
    "slideshow": {
     "slide_type": "subslide"
    }
   },
   "source": [
    "More formally:\n",
    "- A single input $\\x$ is a vector of length $n$, i.e., a collection of $n$ *features*.\n",
    "\n",
    "- A **predictor** is a map from $\\x$ to a class (label) $\\hat{\\y}$.\n",
    "\n",
    "The previously unseen image: $\\x$ consists of $n=64$ pixels (arranged as an $8 \\times 8$ grid).\n",
    "\n",
    "$\\hat{\\y}$ is the digit that we will say the image represents."
   ]
  },
  {
   "cell_type": "markdown",
   "metadata": {
    "colab_type": "text",
    "id": "DnCAQKeGFAo0",
    "slideshow": {
     "slide_type": "subslide"
    }
   },
   "source": [
    "For now: \n",
    "- a class is drawn from a finite set $C$ of potential classes.\n",
    "- we are describing Classification -- mapping $\\x$ to a single class.\n",
    "- we will extend to Regression: outputs are from a continuous universe (e.g., numbers)\n",
    "\n",
    "An example is a pair $(\\x, c)$ of a feature vector $\\x$ and a class $c \\in C$ (the target)."
   ]
  },
  {
   "cell_type": "markdown",
   "metadata": {
    "colab_type": "text",
    "id": "DnCAQKeGFAo0",
    "slideshow": {
     "slide_type": "subslide"
    }
   },
   "source": [
    "**Informed prediction** is when the probability of the predictor making a correct prediction\n",
    "is greater than $\\frac{1}{||C||}$.\n",
    "\n",
    "- Consider a single example $(\\x,c)$.\n",
    "\n",
    "- A simple but naive predictor would map $\\x$ to a random $c' \\in C$.\n",
    "\n",
    "The probability of the predictor being correct ($c' = c$) is\n",
    "$\\frac{1}{||C||}$ .\n",
    "\n"
   ]
  },
  {
   "cell_type": "markdown",
   "metadata": {
    "colab_type": "text",
    "id": "DnCAQKeGFAo0",
    "slideshow": {
     "slide_type": "subslide"
    }
   },
   "source": [
    "How do we achieve this ?\n",
    "\n",
    "*Supervised Learning* makes the prediction based on having seen multiple, correctly labeled examples.\n",
    "- It tries to *generalize*: find some pattern in the examples that is associated with the label.\n",
    "- Perhaps the individual features (elements of $\\x$) are associated with the correct class $c$.\n",
    "\n",
    "- The aim of Supervised Learning is to create a function (predictor) that maps an $\\x$ to the correct $c$.\n",
    "\n"
   ]
  },
  {
   "cell_type": "markdown",
   "metadata": {
    "colab_type": "text",
    "id": "UNAynOcdBplo",
    "slideshow": {
     "slide_type": "slide"
    }
   },
   "source": [
    "# Notation\n",
    "\n",
    "Let's review our [Notational standards](ML_Notation.ipynb)\n"
   ]
  },
  {
   "cell_type": "markdown",
   "metadata": {
    "slideshow": {
     "slide_type": "slide"
    }
   },
   "source": [
    "# Fundamental assumption of Machine Learning\n",
    "\n",
    "Our goal is to learn (from training examples) to make a good prediction on a never before seen *test* example.\n",
    "\n",
    "A necessary condition is that the training examples are representative of the future test examples we will encounter.\n",
    "\n",
    "Let's imagine that there is some true (but unknown) distribution $\\pdata$ of feature/label pairs $(\\x, \\y)$.\n",
    "\n",
    "In order to learn, we must assume\n",
    "- That each test example $(\\x, \\y)$ is drawn from $\\pdata$\n",
    "- The *training examples* are a sample drawn from $\\pdata$.\n",
    "\n",
    "We sometimes call the training data an *empirical* distribution -- it is just a sample, not the \"true\" distribution.\n",
    "\n"
   ]
  },
  {
   "cell_type": "markdown",
   "metadata": {
    "slideshow": {
     "slide_type": "subslide"
    }
   },
   "source": [
    "That is: our model can only generalize based on training examples\n",
    "- The training examples need to be representative of unseen examples in the wild in order to generalize well\n",
    "- Larger training sets are preferred as they may be more representative of the true $\\pdata$\n",
    "    - They should also be diverse\n",
    "    \n",
    "If the test example $\\x$ is $not$ from $\\pdata$, the model is unconstrained in its prediction."
   ]
  },
  {
   "cell_type": "markdown",
   "metadata": {
    "slideshow": {
     "slide_type": "subslide"
    }
   },
   "source": [
    "You should not take for granted the satisfaction of this assumption !\n",
    "\n",
    "Suppose we want to predict the future price of a stock using only past prices.\n",
    "\n",
    "Consider the following price series:"
   ]
  },
  {
   "cell_type": "code",
   "execution_count": 6,
   "metadata": {
    "slideshow": {
     "slide_type": "subslide"
    }
   },
   "outputs": [
    {
     "data": {
      "image/png": "[encoded data removed]",
      "text/plain": [
       "<Figure size 864x432 with 2 Axes>"
      ]
     },
     "execution_count": 6,
     "metadata": {},
     "output_type": "execute_result"
    }
   ],
   "source": [
    "fig_data"
   ]
  },
  {
   "cell_type": "markdown",
   "metadata": {
    "slideshow": {
     "slide_type": "subslide"
    }
   },
   "source": [
    "From the Price Levels, you can see that there is a one-time jump in prices.\n",
    "\n",
    "If your training examples were from the time before the jump and your \"future\" test examples were from after the jump\n",
    "- the examples don't come from the same Price distribution\n",
    "    - at a minimum: the mean prices are different"
   ]
  },
  {
   "cell_type": "markdown",
   "metadata": {
    "slideshow": {
     "slide_type": "subslide"
    }
   },
   "source": [
    "But perhaps the distribution of *returns* is the same across the jump ?\n",
    "\n",
    "Let's look:"
   ]
  },
  {
   "cell_type": "code",
   "execution_count": 7,
   "metadata": {
    "slideshow": {
     "slide_type": "subslide"
    }
   },
   "outputs": [
    {
     "data": {
      "image/png": "[encoded data removed]",
      "text/plain": [
       "<Figure size 864x432 with 2 Axes>"
      ]
     },
     "execution_count": 7,
     "metadata": {},
     "output_type": "execute_result"
    }
   ],
   "source": [
    "fig_segs"
   ]
  },
  {
   "cell_type": "markdown",
   "metadata": {
    "slideshow": {
     "slide_type": "subslide"
    }
   },
   "source": [
    "Very well could be the same (we can test for equality of moments to be sure).\n",
    "\n",
    "So training a model to predict future returns from past returns\n",
    "- Would satisfy the assumption\n",
    "- We can readily convert from returns back to levels"
   ]
  },
  {
   "cell_type": "markdown",
   "metadata": {
    "slideshow": {
     "slide_type": "subslide"
    }
   },
   "source": [
    "**Aside**\n",
    "\n",
    "Price jumps happen for many reasons.  \n",
    "- New product introduction\n",
    "- New business model\n",
    "- Dividend payout\n",
    "- Company is the target of a take-over offer\n",
    "\n",
    "A more frequent scenario is that data drifts over time rather than jumping suddenly.\n",
    "\n",
    "Whatever the cause, we need to induce some stability over the data."
   ]
  },
  {
   "cell_type": "markdown",
   "metadata": {
    "slideshow": {
     "slide_type": "subslide"
    }
   },
   "source": [
    "This example illustrates another point.\n",
    "\n",
    "Sometimes a *raw feature* (e.g., Level) need to be *transformed* into a synthetic feature (e.g. Return).\n",
    "\n",
    "A successful Data Scientist needs to master the process of transforming data\n",
    "- The \"secrets\" that need to be uncovered might not lie at the surface\n",
    "\n",
    "We will have a separate module on both the mechanics and logic of Transformations."
   ]
  },
  {
   "cell_type": "markdown",
   "metadata": {
    "slideshow": {
     "slide_type": "slide"
    }
   },
   "source": [
    "# Making it concrete: Let's predict !\n",
    "\n",
    "Let's load a dataset to make these concepts concrete"
   ]
  },
  {
   "cell_type": "code",
   "execution_count": 8,
   "metadata": {
    "slideshow": {
     "slide_type": "subslide"
    }
   },
   "outputs": [],
   "source": [
    "import class_helper\n",
    "%aimport class_helper\n",
    "\n",
    "clh= class_helper.Classification_Helper()\n",
    "X_digits,  y_digits = clh.load_digits()\n"
   ]
  },
  {
   "cell_type": "markdown",
   "metadata": {
    "slideshow": {
     "slide_type": "slide"
    }
   },
   "source": [
    "- Let's see what $m$ (number of examples), $n$ (number of features) are"
   ]
  },
  {
   "cell_type": "code",
   "execution_count": 9,
   "metadata": {
    "slideshow": {
     "slide_type": "subslide"
    }
   },
   "outputs": [
    {
     "name": "stdout",
     "output_type": "stream",
     "text": [
      "m=1797 training examples\n",
      "n=64 features per example\n",
      "10 classes: 0, 1, 2, 3, 4, 5, 6, 7, 8, 9\n"
     ]
    }
   ],
   "source": [
    "import numpy as np\n",
    "\n",
    "print(\"m={m:d} training examples\".format(m=X_digits.shape[0]))\n",
    "print(\"n={m:d} features per example\".format(m=X_digits.shape[1]))\n",
    "targets = np.unique(y_digits)\n",
    "targets.sort()\n",
    "\n",
    "print(\"{nc:d} classes: {c:s}\".format(nc=len(targets), c=\", \".join( [ str(t) for t in targets ]) ) )"
   ]
  },
  {
   "cell_type": "code",
   "execution_count": 10,
   "metadata": {
    "slideshow": {
     "slide_type": "subslide"
    }
   },
   "outputs": [
    {
     "name": "stdout",
     "output_type": "stream",
     "text": [
      "\n",
      "Example 0, range(0.00, 1.00):\n",
      "\t  [0.     0.     0.3125 0.8125 0.5625 0.0625 0.     0.     0.     0.\n",
      " 0.8125 0.9375 0.625  0.9375 0.3125 0.     0.     0.1875 0.9375 0.125\n",
      " 0.     0.6875 0.5    0.     0.     0.25   0.75   0.     0.     0.5\n",
      " 0.5    0.     0.     0.3125 0.5    0.     0.     0.5625 0.5    0.\n",
      " 0.     0.25   0.6875 0.     0.0625 0.75   0.4375 0.     0.     0.125\n",
      " 0.875  0.3125 0.625  0.75   0.     0.     0.     0.     0.375  0.8125\n",
      " 0.625  0.     0.     0.    ]\n"
     ]
    }
   ],
   "source": [
    "# Across the features of all examples: what is the min and the max ?\n",
    "# Let's look at the feature vector for example at index ex_num\n",
    "ex_num = 0\n",
    "print(\"\\nExample {n:d}, range({mn:2.2f}, {mx:2.2f}):\\n\\t \".format(n=ex_num, \n",
    "                                                              mn=X_digits.min(), mx=X_digits.max()\n",
    "                                                             ),\n",
    "      X_digits[ex_num,:]\n",
    "     ) "
   ]
  },
  {
   "cell_type": "markdown",
   "metadata": {
    "slideshow": {
     "slide_type": "subslide"
    }
   },
   "source": [
    "- The dataset contains a number of examples.\n",
    "\n",
    "    - Each example $\\x^\\ip$ is a vector of 64 features, which are numbers in the range $[0,1]$\n",
    "    - The target $\\y^\\ip$ is a digit in the set $\\{ 0, \\ldots, 9 \\}$\n",
    "        - a *categorical* target, not continuous\n",
    "        - Classification task, not Regression task\n",
    "\n",
    "- In other words: the examples are encodings of images with labels that indicate what the image is.\n",
    "    "
   ]
  },
  {
   "cell_type": "markdown",
   "metadata": {
    "slideshow": {
     "slide_type": "subslide"
    }
   },
   "source": [
    "Since the examples are grey scale values, we can re-arrange them into a square grid and plot:"
   ]
  },
  {
   "cell_type": "code",
   "execution_count": 11,
   "metadata": {
    "scrolled": true,
    "slideshow": {
     "slide_type": "slide"
    }
   },
   "outputs": [
    {
     "data": {
      "image/png": "[encoded data removed]",
      "text/plain": [
       "<Figure size 864x576 with 100 Axes>"
      ]
     },
     "metadata": {
      "needs_background": "light"
     },
     "output_type": "display_data"
    }
   ],
   "source": [
    "fig, axs = clh.plot_digits(X_digits,  y_digits)"
   ]
  },
  {
   "cell_type": "markdown",
   "metadata": {
    "slideshow": {
     "slide_type": "subslide"
    }
   },
   "source": [
    "- Our problem is to take an unknown $\\x$ and map it (predict) to a label in the range $[0,9]$.\n",
    "\n",
    "- This is a *classification* problem as our predictions are from a finite set."
   ]
  },
  {
   "cell_type": "code",
   "execution_count": 12,
   "metadata": {
    "scrolled": true,
    "slideshow": {
     "slide_type": "slide"
    }
   },
   "outputs": [
    {
     "name": "stdout",
     "output_type": "stream",
     "text": [
      "KNN score: 0.990000\n",
      "LogisticRegression score: 1.000000\n"
     ]
    },
    {
     "data": {
      "image/png": "[encoded data removed]",
      "text/plain": [
       "<Figure size 864x216 with 10 Axes>"
      ]
     },
     "metadata": {
      "needs_background": "light"
     },
     "output_type": "display_data"
    }
   ],
   "source": [
    "Xd_train, Xd_test, yd_train, yd_test, models = clh.fit_digits(X_digits, y_digits)\n",
    "\n",
    "_= clh.predict_digits(models[\"knn\"], Xd_test[:10], yd_test[:10])"
   ]
  },
  {
   "cell_type": "markdown",
   "metadata": {
    "slideshow": {
     "slide_type": "slide"
    }
   },
   "source": [
    "- How would **you** predict a label for an image, given the 64 pixel values ?\n",
    "\n",
    "- We will use a very simple (and inefficient) algorithm called *K Nearest Neighbors (KNN)*."
   ]
  },
  {
   "cell_type": "markdown",
   "metadata": {
    "colab_type": "text",
    "id": "WAwEIaJ9UmAC",
    "slideshow": {
     "slide_type": "slide"
    }
   },
   "source": [
    "## Template matching\n",
    "\n",
    "$\\newcommand{\\vc}{\\mathbf{v}_{(c)}}$\n",
    "\n",
    "- One approach to Classification is to match our input vector $\\x$ against a *template*:\n",
    "(a vector of similar length) whose class is known.\n",
    "\n",
    "- With one template $\\vc$ for each class $\\c \\in C$, we could classify $\\x$ as being in the class $c'$\n",
    "whose template was \"closest\" to $\\x$.\n",
    "\n",
    "- We need a similarity measure that maps $\\x$ and $\\vc$ to a number such that\n",
    "larger means more similar.\n"
   ]
  },
  {
   "cell_type": "markdown",
   "metadata": {
    "colab_type": "text",
    "id": "vuTufoJG2R6N",
    "slideshow": {
     "slide_type": "slide"
    }
   },
   "source": [
    "# Our first predictor: K Nearest Neighbors (KNN)\n",
    "\n",
    "K Nearest Neighbors (KNN) is one the simplest Machine Learning algorithms\n",
    "- uses template matching.\n",
    "- In this case, the templates are the feature vectors of the training set.\n",
    "\n",
    "Given a text example with features $\\x$, KNN makes prediction $\\hat\\y$ as follows\n",
    ">Choose the label of the examples that most look like $\\x$\n"
   ]
  },
  {
   "cell_type": "markdown",
   "metadata": {
    "slideshow": {
     "slide_type": "subslide"
    }
   },
   "source": [
    "$k$ is a hyper-parameter of our choosing (the \"K\" in \"KNN\")\n",
    "- more on the choice in a minute\n",
    "\n",
    "For $k = 1$\n",
    "- we predict the value of the label of the training example $i$ most similar to $\\x$\n",
    "\n",
    "For $k \\gt 1$\n",
    "- using the $k$ training examples most similar to $\\x$\n",
    "- we predict the label $c$\n",
    "    - that occurs with greatest frequency among the $k$ training examples most similar to $\\x$\n",
    "\n"
   ]
  },
  {
   "cell_type": "markdown",
   "metadata": {
    "colab_type": "text",
    "id": "vuTufoJG2R6N",
    "slideshow": {
     "slide_type": "subslide"
    }
   },
   "source": [
    "More formally\n",
    "- Compute the similarity $s^\\ip$ of test vector $\\x$ to the features $\\x^\\ip$ of training example $i$, for each $i$\n",
    "- Sort the examples in order of decreasing similarity to $\\x$\n",
    "    - let $S = [ i_1, \\ldots, i_m ]$ be the indices of the training examples, ordered by decreasing similarity\n",
    "    $$\n",
    "    s^{i_j} \\ge s^{i_{j +1}}\n",
    "    $$\n",
    "- Let $S_k = S_{0..k-1}$ be the first $k$ elements of $S$: \n",
    "    - the $k$ examples most similar to $\\x$\n",
    "- Let $\\text{count}(c,k)$ be the number of examples with indices in $S_k$ that have label $c$\n",
    "$$\n",
    "    \\text{count}(c,k) =  || \\, \\{ 1_{\\y^{i_j} = c} \\; | \\:i_j \\in S_k  \\} \\,||\n",
    "$$\n",
    "- Predict the label $\\hat\\y =c$ with highest $\\text{count}(c,k)$\n",
    "$$\n",
    "\\hat\\y = \\argmax{c}{ \\text{count}(c,k)}\n",
    "$$"
   ]
  },
  {
   "cell_type": "markdown",
   "metadata": {
    "slideshow": {
     "slide_type": "subslide"
    }
   },
   "source": [
    "<table>\n",
    "    <tr>\n",
    "        <th><center>KNN algorithm</center></th>\n",
    "    </tr>\n",
    "    <tr>\n",
    "        <td><img src=\"images/W1_L3_S34_KNN_algo.png\" width=1000</td>\n",
    "    </tr>\n",
    "</table>\n",
    "​"
   ]
  },
  {
   "cell_type": "markdown",
   "metadata": {
    "slideshow": {
     "slide_type": "slide"
    }
   },
   "source": [
    "## Choosing $k$\n",
    "\n",
    "How do we choose $k$ ?\n",
    "\n",
    "If $k$ is too small, our generalization (out of sample success) may suffer\n",
    "- Consider $k=1$\n",
    "- If the labels of the top 2 training examples most similar to test example $\\x$ are very close\n",
    "    - but different\n",
    "- We choose the label of the top example\n",
    "    - even though the minor difference in similarity measure may not significant\n",
    "    \n",
    "if $k$ is too large, we waste resources\n",
    "- don't need to consider training examples that are very different from $\\x$"
   ]
  },
  {
   "cell_type": "markdown",
   "metadata": {
    "slideshow": {
     "slide_type": "subslide"
    }
   },
   "source": [
    "We can motivate the choice of $k$ with a diagram.\n",
    "\n",
    "Since it's hard to plot with many features $n$ and classes $C$, we simplify the plot\n",
    "- $n=2$ features\n",
    "- 2 class labels: $0$ and $1$\n",
    "\n",
    "This allows us to create a 2D  plot where\n",
    "- the feature vectors can be plotted as points in 2D\n",
    "- colored according to label\n",
    "- we can visualize the *decision boundary* that separates examples in the 2 classes"
   ]
  },
  {
   "cell_type": "code",
   "execution_count": 18,
   "metadata": {
    "slideshow": {
     "slide_type": "notes"
    }
   },
   "outputs": [],
   "source": [
    "from sklearn.neighbors import KNeighborsClassifier\n",
    "\n",
    "classifiers =  [ (\"knn (k=1)\", KNeighborsClassifier(1)),\n",
    "                 (\"knn (k=3)\", KNeighborsClassifier(5))\n",
    "               ]\n",
    "svmh = svm_helper.SVM_Helper()\n",
    "_= svmh.create_kernel_data(classifiers=classifiers)      \n",
    "fig, axs = svmh.plot_kernel_vs_transform(show_margins=False)\n",
    "plt.close()"
   ]
  },
  {
   "cell_type": "code",
   "execution_count": 17,
   "metadata": {
    "scrolled": false,
    "slideshow": {
     "slide_type": "subslide"
    }
   },
   "outputs": [
    {
     "data": {
      "image/png": "[encoded data removed]",
      "text/plain": [
       "<Figure size 864x360 with 2 Axes>"
      ]
     },
     "execution_count": 17,
     "metadata": {},
     "output_type": "execute_result"
    }
   ],
   "source": [
    "fig"
   ]
  },
  {
   "cell_type": "code",
   "execution_count": null,
   "metadata": {},
   "outputs": [],
   "source": []
  },
  {
   "cell_type": "markdown",
   "metadata": {
    "slideshow": {
     "slide_type": "subslide"
    }
   },
   "source": [
    "From the diagram you can see that\n",
    "-  the boundary between classes when $k=1$ is not smooth\n",
    "    - indicative of poor generalization\n",
    "    - a very small change in any feature in $\\x$ can lead to a change in prediction\n",
    "- with larger $k$, the separation boundary becomes smoother\n",
    "    - perhaps yielding better generalization\n",
    "    - less sensitive to minor change in feature values"
   ]
  },
  {
   "cell_type": "markdown",
   "metadata": {
    "slideshow": {
     "slide_type": "slide"
    }
   },
   "source": [
    "## Hyper-parameters\n",
    "\n",
    "$k$ is a *hyper-parameter*\n",
    "- **not** part of the set of model parameters $\\Theta$\n",
    "- solved for in a manner *different* than solving for $\\Theta$\n",
    "    - the  \"best\" $\\Theta$ is obtained as the result of a minimization problem that we will define\n",
    "    - the \"best\" $k$ is found via search\n",
    "        - part of the *Fine-tuning* step of the Recipe\n",
    "        \n"
   ]
  },
  {
   "cell_type": "markdown",
   "metadata": {
    "colab_type": "text",
    "id": "vuTufoJG2R6N",
    "slideshow": {
     "slide_type": "slide"
    }
   },
   "source": [
    "## Draw-backs of KNN\n",
    "\n",
    "Although simple, can you spot the drawback to KNN ?\n",
    "- we compare test feature vector $\\x$ to each training example\n",
    "- thus, $\\X$ must be available at test time\n",
    "- the only values available at test time are the parameters $\\Theta$\n",
    "- therefore\n",
    "$$\n",
    "\\Theta = \\X\n",
    "$$\n",
    "\n",
    "The training examples must be stored as parameters for KNN."
   ]
  },
  {
   "cell_type": "markdown",
   "metadata": {
    "colab_type": "text",
    "id": "vuTufoJG2R6N",
    "slideshow": {
     "slide_type": "slide"
    }
   },
   "source": [
    "The size of $\\Theta$ (the number of parameters) is proportional to\n",
    "- the size of the training set: $m * n$\n",
    "- ideally: $m$ is very large, so $\\Theta$ is big\n",
    "\n",
    "The very nature of memorizing the training examples is the problem\n",
    "- we find the surface level (syntactic) similarity\n",
    "- rather than the deeper (semantic)similarity\n",
    "    - a human \"generalizes\" that a 2D pixel grid with a strong vertical stripe in the center corresponds to label \"1\"\n",
    "    - doesn't need to record every simple training example with that label\n",
    "    - the generalization can be encoded with a number of parameters much smaller than $n$\n",
    "    "
   ]
  },
  {
   "cell_type": "markdown",
   "metadata": {
    "colab_type": "text",
    "id": "vuTufoJG2R6N",
    "slideshow": {
     "slide_type": "subslide"
    }
   },
   "source": [
    "When a model has too many parameters\n",
    "- it can result in poor generalization\n",
    "- prediction overly sensitive to minor surface level differences\n",
    "- leads to the phenomenon known as *over-fitting*\n",
    "    - performance out of sample (generalization) much worse than in sample (training examples)\n",
    "\n",
    "**Note**\n",
    "\n",
    "- *Always* count the number of parameters (size of $\\Theta$)\n",
    "- You may be surprised how many you are estimating in comparison to the amount of training data\n",
    "\n",
    "  "
   ]
  },
  {
   "cell_type": "markdown",
   "metadata": {
    "slideshow": {
     "slide_type": "slide"
    }
   },
   "source": [
    "## Summary \n",
    "\n",
    "KNN is so simple it's almost embarrassing to call it Machine Learning.\n",
    "But it does illustrate the key steps\n",
    "- the basis of Supervised Learning are training examples\n",
    "    - the more the better\n",
    "- the training examples are used to *fit* a predictor\n",
    "    - we will learn many predictors (models) in this course\n",
    "- the features of the examples are the key to prediction"
   ]
  },
  {
   "cell_type": "markdown",
   "metadata": {
    "slideshow": {
     "slide_type": "subslide"
    }
   },
   "source": [
    "KNN did not make intelligent use of the features: it merely  memorized the $m$ examples.\n",
    "\n",
    "- That is, it used $m$ templates each of size $n$ so $|\\Theta| = m*n$.\n",
    "\n",
    "We will see more sophisticated models that\n",
    "- use small templates $\\Theta$\n",
    "- that are the result of *solving* for $\\Theta$ \n",
    "- through optimization\n",
    "- rather than memorizing training examples"
   ]
  },
  {
   "cell_type": "markdown",
   "metadata": {
    "slideshow": {
     "slide_type": "subslide"
    }
   },
   "source": [
    "A necessary step (in Classical ML) for finding $\\Theta$\n",
    "- is proposing features that have predictive value\n",
    "- these may not be the \"raw\" features\n",
    "    - *synthetic* features that are the result of transforming the raw features\n",
    "        - e.g., convert price to return\n",
    "\n",
    "Finding features with predictive value can be facilitated by\n",
    "- understanding the relationship between a feature and the target/label\n",
    "- understanding the relationship between features\n",
    "\n",
    "The Recipe for Machine Learning includes steps \n",
    "- that promote this understanding\n"
   ]
  },
  {
   "cell_type": "markdown",
   "metadata": {
    "slideshow": {
     "slide_type": "slide"
    }
   },
   "source": [
    "# Summary\n",
    "\n",
    "- Machine Learning is a *process* that involves multiple steps\n",
    "    - It is *not* just learning to use various models (predictors)\n",
    "    - We will emphasize the process as much as the algorithms\n",
    "- Supervised Machine Learning depends on the availability of data\n",
    "    - obtaining, cleaning, augmenting data is important\n",
    "- An example is a collection of \"features\"\n",
    "    - finding/creating/interpreting features is the key skill of a Data Scientist\n",
    "        - which features are important \n",
    "        - how do features interact\n",
    "    - sometimes features are missing or too low level\n",
    "    - a key skill is creating features than enable learning\n",
    "    ML\n",
    "\n",
    "\n",
    "- A key part of Machine Learning is stating an optimization objective that captures your goal\n",
    "    - not always obvious"
   ]
  },
  {
   "cell_type": "markdown",
   "metadata": {
    "slideshow": {
     "slide_type": "slide"
    }
   },
   "source": [
    "<img src=images/W1_L3_S4_ML_Process.png>"
   ]
  },
  {
   "cell_type": "code",
   "execution_count": 15,
   "metadata": {
    "slideshow": {
     "slide_type": "slide"
    }
   },
   "outputs": [
    {
     "name": "stdout",
     "output_type": "stream",
     "text": [
      "Done\n"
     ]
    }
   ],
   "source": [
    "print(\"Done\")"
   ]
  }
 ],
 "metadata": {
  "celltoolbar": "Slideshow",
  "colab": {
   "name": "Overview_and_notation.ipynb",
   "provenance": [],
   "version": "0.3.2"
  },
  "kernelspec": {
   "display_name": "Python 3",
   "language": "python",
   "name": "python3"
  },
  "language_info": {
   "codemirror_mode": {
    "name": "ipython",
    "version": 3
   },
   "file_extension": ".py",
   "mimetype": "text/x-python",
   "name": "python",
   "nbconvert_exporter": "python",
   "pygments_lexer": "ipython3",
   "version": "3.7.4"
  },
  "toc": {
   "base_numbering": 1,
   "nav_menu": {},
   "number_sections": true,
   "sideBar": true,
   "skip_h1_title": false,
   "title_cell": "Table of Contents",
   "title_sidebar": "Contents",
   "toc_cell": false,
   "toc_position": {
    "height": "calc(100% - 180px)",
    "left": "10px",
    "top": "150px",
    "width": "370.594px"
   },
   "toc_section_display": true,
   "toc_window_display": false
  }
 },
 "nbformat": 4,
 "nbformat_minor": 1
}
