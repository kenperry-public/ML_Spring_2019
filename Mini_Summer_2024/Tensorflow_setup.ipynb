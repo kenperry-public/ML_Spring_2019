{
 "cells": [
  {
   "cell_type": "markdown",
   "metadata": {
    "slideshow": {
     "slide_type": "slide"
    }
   },
   "source": [
    "# Setup Tensorflow\n",
    "\n",
    "- We will be using\n",
    "    - Tensorflow\n",
    "    - Keras\n",
    "\n",
    "Let's check that we are running a version of Python at least 3.6:"
   ]
  },
  {
   "cell_type": "code",
   "execution_count": 1,
   "metadata": {
    "slideshow": {
     "slide_type": "subslide"
    }
   },
   "outputs": [
    {
     "name": "stdout",
     "output_type": "stream",
     "text": [
      "Running Python  3.7.4 (default, Aug 13 2019, 20:35:49) \n",
      "[GCC 7.3.0]\n"
     ]
    }
   ],
   "source": [
    "import sys\n",
    "print(\"Running Python \", sys.version)"
   ]
  },
  {
   "cell_type": "markdown",
   "metadata": {
    "slideshow": {
     "slide_type": "subslide"
    }
   },
   "source": [
    "## Install Tensorflow (includes Keras)\n",
    "\n",
    "See the instructions in the [Setup Machine Learning Environment notebook](Setup_ML_Environment_NYU.ipynb#Deep-Learning-Course:-Install-additional-packages-for-Deep-Learning)\n"
   ]
  },
  {
   "cell_type": "markdown",
   "metadata": {
    "slideshow": {
     "slide_type": "subslide"
    }
   },
   "source": [
    "You can test whether you are successful by running the following Python code\n"
   ]
  },
  {
   "cell_type": "code",
   "execution_count": 2,
   "metadata": {
    "slideshow": {
     "slide_type": "subslide"
    }
   },
   "outputs": [
    {
     "name": "stdout",
     "output_type": "stream",
     "text": [
      "Running TensorFlow version  2.0.0\n"
     ]
    }
   ],
   "source": [
    "import tensorflow as tf\n",
    "\n",
    "print(\"Running TensorFlow version \",tf.__version__)"
   ]
  },
  {
   "cell_type": "markdown",
   "metadata": {
    "slideshow": {
     "slide_type": "subslide"
    }
   },
   "source": [
    "Hopefully you will see that your version of Tensorflow is at least 2.0.0\n",
    "\n",
    "Tensorflow 2 is a signficant change from Tensorflow 1.\n",
    "- But you will *only notice this* if you used low-level features in Tensorflow 1.\n",
    "- If you stick with the Keras API (which we will) the changes should be minor\n",
    "\n",
    "My notebooks are designed for Tensorflow 2."
   ]
  },
  {
   "cell_type": "markdown",
   "metadata": {
    "slideshow": {
     "slide_type": "slide"
    }
   },
   "source": [
    "# Google Colab\n",
    "\n",
    "Google provides a Jupyter-like server, on the web, that you can use for free !\n",
    "\n",
    "You may use this instead of installing Tensorflow on your local machine.\n",
    "\n",
    "Try out [Colab](https://colab.research.google.com/) by clicking the link\n"
   ]
  },
  {
   "cell_type": "markdown",
   "metadata": {
    "slideshow": {
     "slide_type": "subslide"
    }
   },
   "source": [
    "- Try out the Examples in the `Examples` tab\n",
    "- Try accessing a notebook from Github !  "
   ]
  },
  {
   "cell_type": "markdown",
   "metadata": {
    "slideshow": {
     "slide_type": "subslide"
    }
   },
   "source": [
    "Colab uses a newer version of Jupyter called Jupyterlab.\n",
    "\n",
    "(When you installed Anaconda, you also installed Jupyterlab, so you can run Jupyterlab rather\n",
    "than Jupyter on your own machine as well.)\n",
    "\n",
    "It is quite similar to Jupyter\n",
    "- the keyboard shortcuts may be different\n",
    "- the markup language is not as powerful\n"
   ]
  },
  {
   "cell_type": "markdown",
   "metadata": {
    "slideshow": {
     "slide_type": "subslide"
    }
   },
   "source": [
    "## Your Colab machine is transient, including the disk !\n",
    "\n",
    "Colab provides you with a temporary server on which to run your notebooks.\n",
    "- Anything you can do on your local machine,  you can do on the temporary server\n",
    "    - you can install packages with\n",
    "        - `conda install`\n",
    "        - `pip install`\n",
    "        \n",
    "**BUT** it will all disappear when   you disconnect, including *anything on its disk storage*\n",
    "\n",
    "**Make sure you store \"permanent\" files, e.g., notebooks, modules, data, on your Google Drive !**"
   ]
  },
  {
   "cell_type": "markdown",
   "metadata": {
    "slideshow": {
     "slide_type": "subslide"
    }
   },
   "source": [
    "## Lecture notebooks on Colab\n",
    "\n",
    "I will run my Tensorflow notebooks on Colab.\n",
    "- I will place all my files on Google Drive (notebooks, helper modules, data files, etc.)\n",
    "- I will tell Colab how to find my Google Drive so that it can access all the files"
   ]
  },
  {
   "cell_type": "markdown",
   "metadata": {
    "slideshow": {
     "slide_type": "subslide"
    }
   },
   "source": [
    "## Accessing your Google Drive from a Colab notebook\n",
    "\n",
    "Run the code in the following cell in your notebook\n",
    "- You will be prompted to grant access to your Google Drive\n",
    "- If you agree, you will be given something to copy\n",
    "    - paste this into your notebook as per the instructions that will appear"
   ]
  },
  {
   "cell_type": "raw",
   "metadata": {
    "slideshow": {
     "slide_type": "subslide"
    }
   },
   "source": [
    "from google.colab import drive\n",
    "drive.mount('/content/gdrive')\n"
   ]
  },
  {
   "cell_type": "markdown",
   "metadata": {
    "slideshow": {
     "slide_type": "subslide"
    }
   },
   "source": [
    "Note: the directory your notebook is currently running in is **not** where your Google Drive has been mounted\n",
    "- Some of your Python commands, which are *relative to the current directory*, may not find the files\n",
    "- You might want to change the notebook's directory in order to find files in the Drive\n",
    "    - for example:"
   ]
  },
  {
   "cell_type": "raw",
   "metadata": {
    "slideshow": {
     "slide_type": "subslide"
    }
   },
   "source": [
    "%cd \"/content/gdrive/My Drive/\""
   ]
  },
  {
   "cell_type": "code",
   "execution_count": 3,
   "metadata": {
    "slideshow": {
     "slide_type": "slide"
    }
   },
   "outputs": [
    {
     "name": "stdout",
     "output_type": "stream",
     "text": [
      "Done\n"
     ]
    }
   ],
   "source": [
    "print(\"Done\")"
   ]
  }
 ],
 "metadata": {
  "celltoolbar": "Slideshow",
  "kernelspec": {
   "display_name": "Python 3",
   "language": "python",
   "name": "python3"
  },
  "language_info": {
   "codemirror_mode": {
    "name": "ipython",
    "version": 3
   },
   "file_extension": ".py",
   "mimetype": "text/x-python",
   "name": "python",
   "nbconvert_exporter": "python",
   "pygments_lexer": "ipython3",
   "version": "3.7.4"
  },
  "toc": {
   "base_numbering": 1,
   "nav_menu": {},
   "number_sections": true,
   "sideBar": true,
   "skip_h1_title": false,
   "title_cell": "Table of Contents",
   "title_sidebar": "Contents",
   "toc_cell": false,
   "toc_position": {},
   "toc_section_display": true,
   "toc_window_display": false
  }
 },
 "nbformat": 4,
 "nbformat_minor": 2
}
