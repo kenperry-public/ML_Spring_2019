{
 "cells": [
  {
   "cell_type": "code",
   "execution_count": 1,
   "metadata": {
    "scrolled": true,
    "slideshow": {
     "slide_type": "notes"
    }
   },
   "outputs": [
    {
     "data": {
      "text/latex": [
       "$$\n",
       "\\newcommand{\\x}{\\mathbf{x}}\n",
       "\\newcommand{\\tx}{\\tilde{\\x}}\n",
       "\\newcommand{\\y}{\\mathbf{y}}\n",
       "\\newcommand{\\b}{\\mathbf{b}}\n",
       "\\newcommand{\\c}{\\mathbf{c}}\n",
       "\\newcommand{\\e}{\\mathbf{e}}\n",
       "\\newcommand{\\z}{\\mathbf{z}}\n",
       "\\newcommand{\\h}{\\mathbf{h}}\n",
       "\\newcommand{\\u}{\\mathbf{u}}\n",
       "\\newcommand{\\v}{\\mathbf{v}}\n",
       "\\newcommand{\\w}{\\mathbf{w}}\n",
       "\\newcommand{\\W}{\\mathbf{W}}\n",
       "\\newcommand{\\X}{\\mathbf{X}}\n",
       "\\newcommand{\\KL}{\\mathbf{KL}}\n",
       "\\newcommand{\\E}{{\\mathbb{E}}}\n",
       "\\newcommand{\\ip}{\\mathbf{{(i)}}}\n",
       "%\n",
       "% Test set\n",
       "\\newcommand{\\xt}{\\underline{\\x}}\n",
       "\\newcommand{\\yt}{\\underline{\\y}}\n",
       "\\newcommand{\\Xt}{\\underline{\\X}}\n",
       "\\newcommand{\\perfm}{\\mathcal{P}}\n",
       "%\n",
       "% \\ll indexes a layer; we can change the actual letter\n",
       "\\newcommand{\\ll}{l}\n",
       "\\newcommand{\\llp}{{(\\ll)}}\n",
       "%\n",
       "\\newcommand{Thetam}{\\Theta_{-0}}\n",
       "\n",
       "% CNN\n",
       "\\newcommand{\\kernel}{\\mathbf{k}} \n",
       "\\newcommand{\\dim}{d}\n",
       "\\newcommand{\\idxspatial}{{\\text{idx}}}\n",
       "\\newcommand{\\summaxact}{\\text{max}}\n",
       "%\n",
       "%\n",
       "\n",
       "% RNN\n",
       "% \\tt indexes a time step\n",
       "\\newcommand{\\tt}{t}\n",
       "\\newcommand{\\tp}{{(\\tt)}}\n",
       "%\n",
       "%\n",
       "\n",
       "% LSTM\n",
       "\\newcommand{\\g}{\\mathbf{g}}\n",
       "\\newcommand{\\remember}{\\mathbf{remember}}\n",
       "\\newcommand{\\save}{\\mathbf{save}}\n",
       "\\newcommand{\\focus}{\\mathbf{focus}}\n",
       "%\n",
       "%\n",
       "% NLP\n",
       "\\newcommand{\\Vocab}{\\mathbf{V}}\n",
       "\\newcommand{\\v}{\\mathbf{v}}\n",
       "\\newcommand{\\offset}{o}\n",
       "\\newcommand{\\o}{o}\n",
       "\\newcommand{\\E}{\\mathbf{E}}\n",
       "%\n",
       "%\n",
       "\\newcommand{\\loss}{\\mathcal{L}}\n",
       "\\newcommand{\\cost}{\\mathcal{L}}\n",
       "%\n",
       "%                     \n",
       "\\newcommand{\\pdata}{p_\\text{data}}\n",
       "\\newcommand{\\pmodel}{p_\\text{model}}\n",
       "%\n",
       "% SVM\n",
       "\\newcommand{\\margin}{{\\mathbb{m}}}\n",
       "\\newcommand{\\lmk}{\\boldsymbol{\\ell}}\n",
       "%\n",
       "% Functions with arguments\n",
       "\\def\\xsy#1#2{#1^#2}\n",
       "\\def\\rand#1{\\tilde{#1}}\n",
       "\\def\\randx{\\rand{\\x}}\n",
       "\\def\\randy{\\rand{\\y}}\n",
       "\\def\\trans#1{\\dot{#1}}\n",
       "\\def\\transx{\\trans{\\x}}\n",
       "\\def\\transy{\\trans{\\y}}\n",
       "%\n",
       "\\def\\argmax#1{\\underset{#1} {\\operatorname{argmax}} }\n",
       "\\def\\argmin#1{\\underset{#1} {\\operatorname{argmin}} }\n",
       "\\def\\max#1{\\underset{#1} {\\operatorname{max}} }\n",
       "\\def\\min#1{\\underset{#1} {\\operatorname{min}} }\n",
       "%\n",
       "\\def\\pr#1{\\mathcal{p}(#1)}\n",
       "\\def\\prc#1#2{\\mathcal{p}(#1 \\; | \\; #2)}\n",
       "\\def\\cnt#1{\\mathcal{count}_{#1}}\n",
       "\\def\\node#1{\\mathbb{#1}}\n",
       "%\n",
       "\\newcommand{\\floor}[1]{\\left\\lfloor #1 \\right\\rfloor}\n",
       "\\newcommand{\\ceil}[1]{\\left\\lceil #1 \\right\\rceil}\n",
       "%\n",
       "\\def\\loc#1{{\\text{##} {#1}}}\n",
       "%\n",
       "$$\n"
      ],
      "text/plain": [
       "<IPython.core.display.Latex object>"
      ]
     },
     "metadata": {},
     "output_type": "display_data"
    }
   ],
   "source": [
    "%run Latex_macros.ipynb\n",
    "%run beautify_plots.py"
   ]
  },
  {
   "cell_type": "code",
   "execution_count": 2,
   "metadata": {
    "scrolled": true,
    "slideshow": {
     "slide_type": "notes"
    }
   },
   "outputs": [],
   "source": [
    "# My standard magic !  You will see this in almost all my notebooks.\n",
    "\n",
    "from IPython.core.interactiveshell import InteractiveShell\n",
    "InteractiveShell.ast_node_interactivity = \"all\"\n",
    "\n",
    "# Reload all modules imported with %aimport\n",
    "%load_ext autoreload\n",
    "%autoreload 1\n",
    "\n",
    "%matplotlib inline"
   ]
  },
  {
   "cell_type": "code",
   "execution_count": 3,
   "metadata": {
    "scrolled": true,
    "slideshow": {
     "slide_type": "notes"
    }
   },
   "outputs": [],
   "source": [
    "import numpy as np\n",
    "import pandas as pd\n",
    "import matplotlib.pyplot as plt\n",
    "\n",
    "import neural_net_helper\n",
    "%aimport neural_net_helper\n",
    "\n",
    "nnh = neural_net_helper.NN_Helper()"
   ]
  },
  {
   "cell_type": "markdown",
   "metadata": {
    "slideshow": {
     "slide_type": "slide"
    }
   },
   "source": [
    "# How does the NN \"learn\" the transformations ?\n",
    "\n",
    "The matrix $\\W$ contains the \"patterns\" that serve to recognize the synthetic features created by each layer\n",
    "\n",
    "\n",
    "<div align=\"middle\">\n",
    "    <center>Layer</center>\n",
    "    <br>\n",
    "    <!-- edX: Original: <img src=\"images/NN_Layer_multi_unit.png\"> replace by EdX created image -->\n",
    "    <img src=images/Layers_W8_L3_Sl5.png width=40%>\n",
    "</div>\n",
    "\n",
    "- $\\W_{\\llp, j}$ are the weights /pattern for feature $\\y_{\\llp,j}$\n",
    "\n",
    "\n",
    "- How are these patterns discovered ?\n"
   ]
  },
  {
   "cell_type": "markdown",
   "metadata": {
    "slideshow": {
     "slide_type": "subslide"
    }
   },
   "source": [
    "The answer is: exactly as we did in Classical Machine Learning\n",
    "- Define a loss function that is parameterized by $\\W$: \n",
    "$$\\loss = L(\\hat{\\y},\\y; \\W)$$\n",
    "    - Per example loss $\\loss^\\ip$\n",
    "    - Average loss $\\loss = \\frac{1}{m} \\sum_{i=1}^m { \\loss^\\ip }$\n",
    "- Our goal is to find $\\W^*$ the \"best\" set of weights\n",
    "$$\n",
    "\\W^* = \\argmin{W} L(\\hat{\\y},\\y; \\W)\n",
    "$$\n",
    "- Find $\\W^*$ using Gradient Descent !"
   ]
  },
  {
   "cell_type": "markdown",
   "metadata": {
    "slideshow": {
     "slide_type": "subslide"
    }
   },
   "source": [
    "Very much in spirit of the multi-layer architecture\n",
    "- We add a new layer (L+1) to compute the loss $\\loss$ !"
   ]
  },
  {
   "cell_type": "markdown",
   "metadata": {
    "slideshow": {
     "slide_type": "slide"
    }
   },
   "source": [
    "<div>\n",
    "    <center><strong>Additional Loss Layer (L+1)</strong></center>\n",
    "<br>\n",
    "     <!-- edX: Original: <img src=\"images/NN_Layers_plus_Loss.png\"> replace by EdX created image -->\n",
    "    <img src=\"images/Addtl_Loss_Layer_W8_L5_Sl4.png\">\n",
    "</div>"
   ]
  },
  {
   "cell_type": "markdown",
   "metadata": {
    "slideshow": {
     "slide_type": "slide"
    }
   },
   "source": [
    "# Gradient Descent review\n",
    "\n",
    "Gradient Descent is an iterative method for finding the minimum of a function.\n",
    "<!--EdX:\n",
    "Omit this from EdX: can't refer to prior course\n",
    "- See the [Gradient Descent lecture](Gradient_Descent.ipynb) in the Classical ML part of the course for more details\n",
    "-->\n",
    "\n",
    "Let's review Gradient Descent using our current notation\n"
   ]
  },
  {
   "cell_type": "markdown",
   "metadata": {
    "slideshow": {
     "slide_type": "subslide"
    }
   },
   "source": [
    "- We start with an initial guess for $\\W$ and iteratively improve it.\n",
    "- Compute the loss $\\loss$ given the current $\\W$\n",
    "    - Average loss of the $m$ examples in the training examples\n",
    "- Compute the gradient\n",
    "$$\n",
    "\\frac{\\partial \\loss}{\\partial W}\n",
    "$$\n",
    "- Update $\\W$ in the direction of the *negative* of the gradient\n",
    "- Scaled by a learning rate $\\alpha$\n",
    "$$\n",
    "\\W = \\W - \\alpha * \\frac{\\partial \\loss}{\\partial W}\n",
    "$$\n"
   ]
  },
  {
   "cell_type": "markdown",
   "metadata": {
    "slideshow": {
     "slide_type": "subslide"
    }
   },
   "source": [
    "A unit change in $\\W$ *increases* $\\loss$ by $\n",
    "\\frac{\\partial \\loss}{\\partial W}$\n",
    "- That's why there is a negative sign: we proceed in the direction *opposite* the one that increases $\\loss$\n",
    "- We move only a fraction $\\alpha \\le 1$ of the (negative) of the gradient\n",
    "- To avoid the possibility of over-shooting the minimum"
   ]
  },
  {
   "cell_type": "markdown",
   "metadata": {
    "slideshow": {
     "slide_type": "subslide"
    }
   },
   "source": [
    "$\\W$ is a multi-dimensional vector, not a scalar\n",
    "- So the gradient is multi-dimensional\n",
    "- We will formally discuss Matrix Gradients in a later lecture \n",
    "    - For now: we compute the derivative with respect to each element of $\\W$ and arrange in a matrix"
   ]
  },
  {
   "cell_type": "markdown",
   "metadata": {
    "slideshow": {
     "slide_type": "subslide"
    }
   },
   "source": [
    "\n",
    "We can approximate $\\loss$ by *sampling* from the $m$ training examples\n",
    "- Choose a *random subset (of size $m' \\le m$)* of  examples: $I = \\{ i_1, \\ldots, i_{m'} \\}$\n",
    "- Approximate $\\loss$ on $I$\n",
    "$$\n",
    "\\loss \\approx \\frac{1}{|I|}\\sum_{i \\in I} \\loss^\\ip\n",
    "$$"
   ]
  },
  {
   "cell_type": "markdown",
   "metadata": {
    "slideshow": {
     "slide_type": "subslide"
    }
   },
   "source": [
    "**Minibatch gradient descent**\n",
    "\n",
    "The average loss $\\loss$ is defined over all $m$ training examples.\n",
    "\n",
    "- This can be expensive to compute when $m$ is large.\n",
    "- The gradient can be *approximated* by sampling from the $m$ training examples\n",
    "    - Choose a *random subset (of size $m' \\le m$)* of  examples: $I = \\{ i_1, \\ldots, i_{m'} \\}$\n",
    "    - Approximate $\\loss$ on $I$\n",
    "$$\n",
    "\\loss \\approx \\frac{1}{|I|}\\sum_{i \\in I} \\loss^\\ip\n",
    "$$\n"
   ]
  },
  {
   "cell_type": "markdown",
   "metadata": {
    "slideshow": {
     "slide_type": "subslide"
    }
   },
   "source": [
    "*Minibatch gradient descents* divides the $m$ examples into chunks (mini-batches) and *approximates* the gradient\n",
    "\n",
    "- Divides the $m$ training examples\n",
    "- Into $b = m/m'$ disjoint batches of size $m' \\le m$ examples each"
   ]
  },
  {
   "cell_type": "markdown",
   "metadata": {
    "slideshow": {
     "slide_type": "subslide"
    }
   },
   "source": [
    "We can approximate the gradient and update our guess of $\\W$ on each mini-batch\n",
    "\n",
    "$$\n",
    "\\W = \\W - \\alpha * \\frac{\\partial \\loss}{\\partial W}\n",
    "$$\n",
    "\n",
    "An **epoch** is defined as the processing of all $m$ examples (using $b$ batches of size $m'$)\n"
   ]
  },
  {
   "cell_type": "markdown",
   "metadata": {
    "slideshow": {
     "slide_type": "subslide"
    }
   },
   "source": [
    "<div>\n",
    "    <center><strong>Minibatch: Forward Pass<br>From minibatch to Loss</strong></center>\n",
    "    <br>\n",
    "    <!-- edX: Original: <img src=images/NN_Layers_Forward.png > replace by EdX created image -->\n",
    "    <img src=images/Minibatch_fwrdpass_W8_L5_Sl12.png>\n",
    "</div>"
   ]
  },
  {
   "cell_type": "markdown",
   "metadata": {
    "slideshow": {
     "slide_type": "subslide"
    }
   },
   "source": [
    "<div>\n",
    "    <center><strong>Minibatch: Backwards Pass<br>From minibatch Loss to Gradient</strong></center>\n",
    "    <br>\n",
    "    <!-- edX: Original: <img src=images/NN_Layers_Backward.png > replace by EdX created image -->\n",
    "    <img src=\"images/Minibatch_bkwrdpass_W8_L5_Sl13.png\">\n",
    "</div>"
   ]
  },
  {
   "cell_type": "markdown",
   "metadata": {
    "slideshow": {
     "slide_type": "subslide"
    }
   },
   "source": [
    "During one epoch, the gradient gets updated $b$ times\n",
    "- Contrast to the single update when there is a single batch ($m' = m$)\n",
    "- May be faster as updates occur more frequently"
   ]
  },
  {
   "cell_type": "markdown",
   "metadata": {
    "slideshow": {
     "slide_type": "slide"
    }
   },
   "source": [
    "# The Training loop\n",
    "\n",
    "Gradient Descent is an iterative process\n",
    "- Iterate over multiple epochs\n",
    "- Within an epoch\n",
    "    - Iterate over mini-batches\n",
    "\n",
    "This iterative process is called the *training loop*.\n",
    "\n",
    "Here is some pseudo-code:\n"
   ]
  },
  {
   "cell_type": "raw",
   "metadata": {
    "slideshow": {
     "slide_type": "subslide"
    }
   },
   "source": [
    "initialize(W)\n",
    "\n",
    "# Training loop to implement mini-batch SGD\n",
    "for epoch in range(n_epochs):`\n",
    "    for X_batch, y_batch in next_batch(X_train, y_train, batch_size, shuffle=True):\n",
    "        # Forward pass\n",
    "        y = NN(X_batch)\n",
    "        \n",
    "        # Loss calculation\n",
    "        loss = loss_fn(y, y_batch)\n",
    "        \n",
    "        # Backward pass\n",
    "        grads = gradient(loss, W)\n",
    "        \n",
    "        # Update \n",
    "        W = W - grads * learning_rate"
   ]
  },
  {
   "cell_type": "markdown",
   "metadata": {
    "slideshow": {
     "slide_type": "subslide"
    }
   },
   "source": [
    "It used to be the case that this fairly standard training loop was coded for each problem.\n",
    "\n",
    "Just as `sklearn` wrapped common code into a high-level API\n",
    "- We will use a toolkit that hides the training loop behind a high level API"
   ]
  },
  {
   "cell_type": "markdown",
   "metadata": {
    "slideshow": {
     "slide_type": "slide"
    }
   },
   "source": [
    "# Scaling the inputs\n",
    "\n",
    "Many times in this course we have pointed out that some models are *scale sensitive*.\n",
    "\n",
    "Neural Networks are not *mathematically* sensitive but tend to be so *in practice*.\n",
    "\n",
    "It is *highly recommended* to scale your data so their absolute values are around 1.0 or at least somewhat small."
   ]
  },
  {
   "cell_type": "markdown",
   "metadata": {
    "slideshow": {
     "slide_type": "subslide"
    }
   },
   "source": [
    "Gradient Descent is the root of the problem:\n",
    "\n",
    "- Two features on different scales can cause the optimizer to favor one over the other\n",
    "- Activations can *saturate*\n",
    "    - Output of dot product (Dense layer) is in the \"flat\" area of the activation\n",
    "    - Zero derivative: no learning\n",
    "- The Loss may be large in initial epochs when the target values are too different from the dot products\n",
    "    - *Large* gradients: unstable learning\n",
    "    - Weights are typically initialized to values less than 1.0, leading to small dot products\n",
    "    "
   ]
  },
  {
   "cell_type": "markdown",
   "metadata": {
    "slideshow": {
     "slide_type": "subslide"
    }
   },
   "source": [
    "Remember: if you re-scale the inputs, you will need to invert the transformation when\n",
    "communicating the results."
   ]
  },
  {
   "cell_type": "code",
   "execution_count": 4,
   "metadata": {
    "scrolled": true,
    "slideshow": {
     "slide_type": "slide"
    }
   },
   "outputs": [
    {
     "name": "stdout",
     "output_type": "stream",
     "text": [
      "Done\n"
     ]
    }
   ],
   "source": [
    "print(\"Done\")"
   ]
  }
 ],
 "metadata": {
  "celltoolbar": "Slideshow",
  "kernelspec": {
   "display_name": "Python 3",
   "language": "python",
   "name": "python3"
  },
  "language_info": {
   "codemirror_mode": {
    "name": "ipython",
    "version": 3
   },
   "file_extension": ".py",
   "mimetype": "text/x-python",
   "name": "python",
   "nbconvert_exporter": "python",
   "pygments_lexer": "ipython3",
   "version": "3.7.4"
  },
  "toc": {
   "base_numbering": 1,
   "nav_menu": {},
   "number_sections": true,
   "sideBar": true,
   "skip_h1_title": false,
   "title_cell": "Table of Contents",
   "title_sidebar": "Contents",
   "toc_cell": false,
   "toc_position": {
    "height": "calc(100% - 180px)",
    "left": "10px",
    "top": "150px",
    "width": "370.594px"
   },
   "toc_section_display": true,
   "toc_window_display": false
  }
 },
 "nbformat": 4,
 "nbformat_minor": 2
}
