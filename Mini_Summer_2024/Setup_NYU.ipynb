{
 "cells": [
  {
   "cell_type": "markdown",
   "metadata": {
    "slideshow": {
     "slide_type": "slide"
    }
   },
   "source": [
    "# Your Machine Learning Environment\n",
    "\n",
    "Machine Learning (ML) and Data Science is an *experimental* science\n",
    "- You will not be a passive participant\n",
    "- Your real learning will come from *actively* experimenting with data and programs\n",
    "- This course will provide you with a lot of working code\n",
    "    - Play with it ! Modify and break it ! Learn !\n",
    "- You will write lots of code of your own\n",
    "    - Assignments and course project\n",
    "    - Your own experiments and self-directed projects"
   ]
  },
  {
   "cell_type": "markdown",
   "metadata": {
    "slideshow": {
     "slide_type": "slide"
    }
   },
   "source": [
    "You will need a minimal collection of software to facilitate this.\n",
    "\n",
    "It is what we call your Machine Learning Environment.\n",
    "\n",
    "Moreover:\n",
    "- All material in this course is provided in machine readable format\n",
    "- The lectures/slides are provided in a container called a *Jupyter Notebook*\n",
    "- We will learn more about Jupyter shortly"
   ]
  },
  {
   "cell_type": "markdown",
   "metadata": {
    "slideshow": {
     "slide_type": "subslide"
    }
   },
   "source": [
    "In order for you to view a Jupyter notebook (and hence, follow along with the lecture)\n",
    "- You will need access to a Jupyter notebook server\n",
    "- With additional Machine Learning software installed\n",
    "\n",
    "So before we begin: let's make sure you have access to a properly configured Jupyter server."
   ]
  },
  {
   "cell_type": "markdown",
   "metadata": {
    "slideshow": {
     "slide_type": "subslide"
    }
   },
   "source": [
    "The recommended way to access a Jupyter server with the additional Machine Learning software installed\n",
    "- Install the software on your local machine\n",
    "- Download the course material to your local machine\n",
    "\n",
    "This is required before you can start to learn."
   ]
  },
  {
   "cell_type": "markdown",
   "metadata": {
    "slideshow": {
     "slide_type": "subslide"
    }
   },
   "source": [
    "We provide [detailed instructions](Setup_ML_Environment_NYU.ipynb) on how to create a Machine Learning environment on your local machine.\n",
    "\n",
    "The *real advantage* of having the environment on your local machine\n",
    "- You will be able to continue to experiment and learn once the course is over"
   ]
  },
  {
   "cell_type": "markdown",
   "metadata": {
    "slideshow": {
     "slide_type": "slide"
    }
   },
   "source": [
    "# Navigating the course\n",
    "\n",
    "When you start your properly configured Jupyter notebook server, you should see something like [this](.)\n",
    "- Listing of files in the top-level of the course directory\n",
    "- The list includes a notebook that we call the \"start page\" for the course\n",
    "    - **Index.ipynb** for the Intro course\n",
    "    - **Index_Advanced.ipynb** for the Advanced Course\n",
    "\n",
    "Find the notebook corresponding to the \"start page\" for the course and click on it"
   ]
  },
  {
   "cell_type": "markdown",
   "metadata": {
    "slideshow": {
     "slide_type": "slide"
    }
   },
   "source": [
    "This is the place to start for our lectures.\n",
    "\n",
    "There is one section on the start page for each week\n",
    "- Plan for the weekly lecture\n",
    "- **links** to the notebooks to start our lectures\n",
    "    - These notebooks may have links to other notebooks that we will use"
   ]
  },
  {
   "cell_type": "markdown",
   "metadata": {
    "slideshow": {
     "slide_type": "subslide"
    }
   },
   "source": [
    "So, each week, begin your learning by visiting the start page.\n",
    "\n",
    "By clicking the links, you will see the material that is presented as \"slides\" on the video.\n",
    "\n",
    "You will also be able to access working code from which to learn."
   ]
  }
 ],
 "metadata": {
  "celltoolbar": "Slideshow",
  "kernelspec": {
   "display_name": "Python 3",
   "language": "python",
   "name": "python3"
  },
  "language_info": {
   "codemirror_mode": {
    "name": "ipython",
    "version": 3
   },
   "file_extension": ".py",
   "mimetype": "text/x-python",
   "name": "python",
   "nbconvert_exporter": "python",
   "pygments_lexer": "ipython3",
   "version": "3.7.4"
  },
  "toc": {
   "base_numbering": 1,
   "nav_menu": {},
   "number_sections": true,
   "sideBar": true,
   "skip_h1_title": false,
   "title_cell": "Table of Contents",
   "title_sidebar": "Contents",
   "toc_cell": false,
   "toc_position": {
    "height": "calc(100% - 180px)",
    "left": "10px",
    "top": "150px",
    "width": "369.188px"
   },
   "toc_section_display": true,
   "toc_window_display": true
  }
 },
 "nbformat": 4,
 "nbformat_minor": 2
}
