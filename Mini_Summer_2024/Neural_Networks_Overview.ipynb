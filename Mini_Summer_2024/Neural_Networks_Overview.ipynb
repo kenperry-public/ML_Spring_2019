{
 "cells": [
  {
   "cell_type": "code",
   "execution_count": 1,
   "metadata": {
    "scrolled": true,
    "slideshow": {
     "slide_type": "notes"
    }
   },
   "outputs": [
    {
     "data": {
      "text/latex": [
       "$$\n",
       "\\newcommand{\\x}{\\mathbf{x}}\n",
       "\\newcommand{\\tx}{\\tilde{\\x}}\n",
       "\\newcommand{\\y}{\\mathbf{y}}\n",
       "\\newcommand{\\b}{\\mathbf{b}}\n",
       "\\newcommand{\\c}{\\mathbf{c}}\n",
       "\\newcommand{\\e}{\\mathbf{e}}\n",
       "\\newcommand{\\z}{\\mathbf{z}}\n",
       "\\newcommand{\\h}{\\mathbf{h}}\n",
       "\\newcommand{\\u}{\\mathbf{u}}\n",
       "\\newcommand{\\v}{\\mathbf{v}}\n",
       "\\newcommand{\\w}{\\mathbf{w}}\n",
       "\\newcommand{\\V}{\\mathbf{V}}\n",
       "\\newcommand{\\W}{\\mathbf{W}}\n",
       "\\newcommand{\\X}{\\mathbf{X}}\n",
       "\\newcommand{\\KL}{\\mathbf{KL}}\n",
       "\\newcommand{\\E}{{\\mathbb{E}}}\n",
       "\\newcommand{\\Reals}{{\\mathbb{R}}}\n",
       "\\newcommand{\\ip}{\\mathbf{{(i)}}}\n",
       "%\n",
       "% Test set\n",
       "\\newcommand{\\xt}{\\underline{\\x}}\n",
       "\\newcommand{\\yt}{\\underline{\\y}}\n",
       "\\newcommand{\\Xt}{\\underline{\\X}}\n",
       "\\newcommand{\\perfm}{\\mathcal{P}}\n",
       "%\n",
       "% \\ll indexes a layer; we can change the actual letter\n",
       "\\newcommand{\\ll}{l}\n",
       "\\newcommand{\\llp}{{(\\ll)}}\n",
       "%\n",
       "\\newcommand{Thetam}{\\Theta_{-0}}\n",
       "\n",
       "% CNN\n",
       "\\newcommand{\\kernel}{\\mathbf{k}} \n",
       "\\newcommand{\\dim}{d}\n",
       "\\newcommand{\\idxspatial}{{\\text{idx}}}\n",
       "\\newcommand{\\summaxact}{\\text{max}}\n",
       "\\newcommand{idxb}{\\mathbf{i}}\n",
       "%\n",
       "%\n",
       "\n",
       "% RNN\n",
       "% \\tt indexes a time step\n",
       "\\newcommand{\\tt}{t}\n",
       "\\newcommand{\\tp}{{(\\tt)}}\n",
       "%\n",
       "%\n",
       "\n",
       "% LSTM\n",
       "\\newcommand{\\g}{\\mathbf{g}}\n",
       "\\newcommand{\\remember}{\\mathbf{remember}}\n",
       "\\newcommand{\\save}{\\mathbf{save}}\n",
       "\\newcommand{\\focus}{\\mathbf{focus}}\n",
       "%\n",
       "%\n",
       "% NLP\n",
       "\\newcommand{\\Vocab}{\\mathbf{V}}\n",
       "\\newcommand{\\v}{\\mathbf{v}}\n",
       "\\newcommand{\\offset}{o}\n",
       "\\newcommand{\\o}{o}\n",
       "\\newcommand{\\Emb}{\\mathbf{E}}\n",
       "%\n",
       "%\n",
       "\\newcommand{\\loss}{\\mathcal{L}}\n",
       "\\newcommand{\\cost}{\\mathcal{L}}\n",
       "%\n",
       "%                     \n",
       "\\newcommand{\\pdata}{p_\\text{data}}\n",
       "\\newcommand{\\pmodel}{p_\\text{model}}\n",
       "%\n",
       "% SVM\n",
       "\\newcommand{\\margin}{{\\mathbb{m}}}\n",
       "\\newcommand{\\lmk}{\\boldsymbol{\\ell}}\n",
       "%\n",
       "%\n",
       "% Functions with arguments\n",
       "\\def\\xsy#1#2{#1^#2}\n",
       "\\def\\rand#1{\\tilde{#1}}\n",
       "\\def\\randx{\\rand{\\x}}\n",
       "\\def\\randy{\\rand{\\y}}\n",
       "\\def\\trans#1{\\dot{#1}}\n",
       "\\def\\transx{\\trans{\\x}}\n",
       "\\def\\transy{\\trans{\\y}}\n",
       "%\n",
       "\\def\\argmax#1{\\underset{#1} {\\operatorname{argmax}} }\n",
       "\\def\\argmin#1{\\underset{#1} {\\operatorname{argmin}} }\n",
       "\\def\\max#1{\\underset{#1} {\\operatorname{max}} }\n",
       "\\def\\min#1{\\underset{#1} {\\operatorname{min}} }\n",
       "%\n",
       "\\def\\pr#1{\\mathcal{p}(#1)}\n",
       "\\def\\prc#1#2{\\mathcal{p}(#1 \\; | \\; #2)}\n",
       "\\def\\cnt#1{\\mathcal{count}_{#1}}\n",
       "\\def\\node#1{\\mathbb{#1}}\n",
       "%\n",
       "\\def\\loc#1{{\\text{##} {#1}}}\n",
       "%\n",
       "\\def\\OrderOf#1{\\mathcal{O}\\left( {#1} \\right)}\n",
       "%\n",
       "% Expectation operator\n",
       "\\def\\Exp#1{\\underset{#1} {\\operatorname{\\mathbb{E}}} }\n",
       "%\n",
       "% VAE\n",
       "\\def\\prs#1#2{\\mathcal{p}_{#2}(#1)}\n",
       "\\def\\qr#1{\\mathcal{q}(#1)}\n",
       "\\def\\qrs#1#2{\\mathcal{q}_{#2}(#1)}\n",
       "%\n",
       "% Reinforcement learning\n",
       "\\newcommand{\\Actions}{{\\mathcal{A}}} \n",
       "\\newcommand{\\actseq}{A}\n",
       "\\newcommand{\\act}{a}\n",
       "\\newcommand{\\States}{{\\mathcal{S}}}   \n",
       "\\newcommand{\\stateseq}{S}  \n",
       "\\newcommand{\\state}{s}\n",
       "\\newcommand{\\Rewards}{{\\mathcal{R}}}\n",
       "\\newcommand{\\rewseq}{R}\n",
       "\\newcommand{\\rew}{r}\n",
       "\\newcommand{\\transp}{P}\n",
       "\\newcommand{\\statevalfun}{v}\n",
       "\\newcommand{\\actvalfun}{q}\n",
       "\\newcommand{\\disc}{\\gamma}\n",
       "%\n",
       "%\n",
       "\\newcommand{\\floor}[1]{\\left\\lfloor #1 \\right\\rfloor}\n",
       "\\newcommand{\\ceil}[1]{\\left\\lceil #1 \\right\\rceil}\n",
       "%\n",
       "%\n",
       "$$\n"
      ],
      "text/plain": [
       "<IPython.core.display.Latex object>"
      ]
     },
     "metadata": {},
     "output_type": "display_data"
    }
   ],
   "source": [
    "%run Latex_macros.ipynb\n",
    "%run beautify_plots.py"
   ]
  },
  {
   "cell_type": "code",
   "execution_count": 2,
   "metadata": {
    "scrolled": true,
    "slideshow": {
     "slide_type": "notes"
    }
   },
   "outputs": [],
   "source": [
    "# My standard magic !  You will see this in almost all my notebooks.\n",
    "\n",
    "from IPython.core.interactiveshell import InteractiveShell\n",
    "InteractiveShell.ast_node_interactivity = \"all\"\n",
    "\n",
    "# Reload all modules imported with %aimport\n",
    "%load_ext autoreload\n",
    "%autoreload 1\n",
    "\n",
    "%matplotlib inline"
   ]
  },
  {
   "cell_type": "code",
   "execution_count": 3,
   "metadata": {
    "scrolled": true,
    "slideshow": {
     "slide_type": "notes"
    }
   },
   "outputs": [],
   "source": [
    "import numpy as np\n",
    "import pandas as pd\n",
    "import matplotlib.pyplot as plt\n",
    "\n",
    "import neural_net_helper\n",
    "%aimport neural_net_helper\n",
    "\n",
    "nnh = neural_net_helper.NN_Helper()\n",
    "\n",
    "nn_ch = neural_net_helper.Charts_Helper(save_dir=\"/tmp\", visible=False)"
   ]
  },
  {
   "cell_type": "code",
   "execution_count": 4,
   "metadata": {
    "slideshow": {
     "slide_type": "notes"
    }
   },
   "outputs": [],
   "source": [
    "# Create files containing charts\n",
    "create = False\n",
    "\n",
    "if create:\n",
    "    file_map = nn_ch.create_charts()\n",
    "    print(file_map)"
   ]
  },
  {
   "cell_type": "markdown",
   "metadata": {
    "slideshow": {
     "slide_type": "slide"
    }
   },
   "source": [
    "# Recap of \"Classical\" Machine Learning\n",
    "\n",
    "Canonical Machine Learning tasks\n",
    "- Classification\n",
    " - Given attributes, predict a target value from among a *discrete* set of values\n",
    "- Regression\n",
    " - Given attributes, predict a target value from a *continuous* range of values\n",
    "   \n"
   ]
  },
  {
   "cell_type": "markdown",
   "metadata": {
    "slideshow": {
     "slide_type": "subslide"
    }
   },
   "source": [
    "To solve the task \n",
    "- We create a *parameterized* model: mapping from input features to label/target\n",
    "- Fit the model parameters on \n",
    "a collection of examples (feature/target pairs) \n",
    "\n",
    "\n",
    "$$ \\langle \\X, \\y \\rangle= [ \\x^\\ip, \\y^\\ip | 1 \\le i \\le m ]$$\n",
    "\n",
    "- Use the fitted model to predict a $\\hat{\\y}$ from an unseen feature vector $\\x$"
   ]
  },
  {
   "cell_type": "markdown",
   "metadata": {
    "slideshow": {
     "slide_type": "subslide"
    }
   },
   "source": [
    "It is often the case that we can make our model more successful (e.g. more accurate) by\n",
    "- rather than using raw inputs $\\x$\n",
    "- we transform the raw inputs \n",
    "- fit our model and make predictions on the transformed feature vectors\n",
    "\n"
   ]
  },
  {
   "cell_type": "markdown",
   "metadata": {
    "slideshow": {
     "slide_type": "subslide"
    }
   },
   "source": [
    "To illustrate, consider some features describing a person\n",
    "- Height\n",
    "- Weight\n",
    "- Income\n",
    "\n",
    "Our goal is to predict the target: some measure of Happiness.\n"
   ]
  },
  {
   "cell_type": "markdown",
   "metadata": {
    "slideshow": {
     "slide_type": "subslide"
    }
   },
   "source": [
    "Extremely small differences in Height or Weight probably don't affect Happiness.\n",
    "\n",
    "We may choose to transform each variable from a continuous value to a discrete value\n",
    "- Height transformed to Height Bucket: { Short, Medium, Tall }\n",
    "- Weight transformed to Weight Bucket: { Thin, Just Right, A Little Extra }\n"
   ]
  },
  {
   "cell_type": "markdown",
   "metadata": {
    "slideshow": {
     "slide_type": "subslide"
    }
   },
   "source": [
    "It is sometimes the case that each variable individually is a poor predictor, but the combination is powerful.\n",
    "\n",
    "In such a case, a transformation that creates a new \"combination\" feature may be helpful\n",
    "- Create a discrete binary variable Combo indicating \"Perfect Height and Perfect Weight\""
   ]
  },
  {
   "cell_type": "markdown",
   "metadata": {
    "slideshow": {
     "slide_type": "subslide"
    }
   },
   "source": [
    "The absolute level of Income may not be as good a predictor of Happiness as the level relative to one's peers\n",
    "- We may choose to transform Income into Relative Income: Income/(Median Income)"
   ]
  },
  {
   "cell_type": "markdown",
   "metadata": {
    "slideshow": {
     "slide_type": "subslide"
    }
   },
   "source": [
    "By fitting/training on \n",
    "- (Height Bucket, Weight Bucket, Combo, Relative Income) \n",
    "- rather than (Height, Weight,Income)\n",
    "our model might make\n",
    "better predictions.\n",
    "\n",
    "This process of transforming/augmenting input features is called *feature engineering*\n",
    "- In Classical Machine Learning, it is the responsibility of the person fitting the model"
   ]
  },
  {
   "cell_type": "markdown",
   "metadata": {
    "slideshow": {
     "slide_type": "subslide"
    }
   },
   "source": [
    "In \"Classical\" Machine Learning (ML) the paradigm is to\n",
    "- *Manually* create a sequence of transformations from raw input to an alternate representation\n",
    "    - Feature engineering: create representations corresponding to \"concepts\" expressed by the data\n",
    "    - A sequence of transformations a *pipeline*\n",
    "- The final representation created by the sequence may result in a better prediction than that which could be obtained from the raw representation"
   ]
  },
  {
   "cell_type": "markdown",
   "metadata": {
    "slideshow": {
     "slide_type": "subslide"
    }
   },
   "source": [
    "We continue to use our\n",
    "[Basic Notational standards](ML_Notation.ipynb)\n",
    "from the Classical ML part of the course.\n",
    "\n",
    "This will be extended to Deep Learning.\n"
   ]
  },
  {
   "cell_type": "markdown",
   "metadata": {
    "slideshow": {
     "slide_type": "slide"
    }
   },
   "source": [
    "# Deep Learning: Introduction\n",
    "\n",
    "We introduce the topic of Deep Learning\n",
    "- by comparing and contrasting it to Classical Machine Learning"
   ]
  },
  {
   "cell_type": "markdown",
   "metadata": {
    "slideshow": {
     "slide_type": "slide"
    }
   },
   "source": [
    "## How are tasks defined \n",
    "\n",
    "The objectives of Deep Learning are similar to that of Classical ML\n",
    "- to solve tasks\n",
    "\n",
    "In Classical ML  we confined the tasks to Regression and Classification."
   ]
  },
  {
   "cell_type": "markdown",
   "metadata": {
    "slideshow": {
     "slide_type": "subslide"
    }
   },
   "source": [
    "\n",
    "In Deep Learning, the task is *implicitly* defined by the Loss Function\n",
    "\n",
    "\n",
    "Recall the \"Neural Style Transfer\" task\n",
    "\n",
    "<table>\n",
    "    <tr>\n",
    "        <td><center><strong><font size=4>Content</font></strong></center></td>\n",
    "        <td><strong></strong></td>\n",
    "        <td><center><strong><font size=4>Style</font></strong></center></td>\n",
    "    </tr>\n",
    "    <tr>\n",
    "        <td><img src=images/chicago.jpg width=95%></td>\n",
    "        <td><center><strong><font size=14>+</font></strong></center></td>\n",
    "        <td><img src=images/starry_night_crop.jpg width=75%></td>\n",
    "    </tr>\n",
    "    <td></td>\n",
    "    <td><center><strong><font size=14>=</font></strong></center></td>\n",
    "    </tr>\n",
    "    <tr>\n",
    "        <td></td>\n",
    "        <td><center><strong><font size=4>Content depicted in given Style</font></strong></center></td>\n",
    "    </tr>\n",
    "    <tr>\n",
    "        <td></td>\n",
    "        <td><img src=images/chicago_starry_night.jpg width=100%></td>\n",
    "    </tr>\n",
    "</table>"
   ]
  },
  {
   "cell_type": "markdown",
   "metadata": {
    "slideshow": {
     "slide_type": "subslide"
    }
   },
   "source": [
    "What does it mean to \"depict the Content image in the style of the Style image\" ?\n",
    "\n",
    "We define a \"solution\" $\\vec{x}$ to this task\n",
    "- as an image vector $\\vec{x}$\n",
    "- that minimizes a Loss Function\n",
    "$$\n",
    "\\loss = \\loss_{\\text{content}}(\\vec{p}, \\vec{x}) + \\loss_{\\text{style}}(\\vec{a}, \\vec{x})\n",
    "$$\n",
    "- that we have created to capture the meaning of Neural Style Transfer"
   ]
  },
  {
   "cell_type": "markdown",
   "metadata": {
    "slideshow": {
     "slide_type": "subslide"
    }
   },
   "source": [
    "As defined by the 2 part Loss Function, a solution to the Neural Style Transfer task\n",
    "- is similar to the Content image in appearance\n",
    "    - the Content Loss\n",
    "- has a style similar to the Style image\n",
    "\n",
    "The *task is defined* by the Loss Function.\n",
    "- we defer the details of $\\loss_{\\text{content}}$ and $\\loss_{\\text{style}}$"
   ]
  },
  {
   "cell_type": "markdown",
   "metadata": {
    "slideshow": {
     "slide_type": "subslide"
    }
   },
   "source": [
    "There are no constraints on the Loss Functions of Deep Learning.\n",
    "\n",
    "In contrast, in Classical ML\n",
    "- Loss Functions were well-defined, limited mathematical formulae\n",
    "- often chosen for being amenable to closed-form or simple methods for solution"
   ]
  },
  {
   "cell_type": "markdown",
   "metadata": {
    "slideshow": {
     "slide_type": "subslide"
    }
   },
   "source": [
    "As a simplification\n",
    "- In this course, we will (mostly) limit our tasks to Regression and Classification.\n",
    "\n"
   ]
  },
  {
   "cell_type": "markdown",
   "metadata": {
    "slideshow": {
     "slide_type": "slide"
    }
   },
   "source": [
    "## How is computation defined\n",
    "\n",
    "Another difference between Classical ML and Deep Learning\n",
    "- the computations in Deep Learning are implemented by a network of nodes\n",
    "    - the *Neural Network*\n",
    "    - rather than an imperative program\n",
    "        - sequence of operations (e.g., Python)\n",
    "- the nodes implement a limited number of computations\n",
    "    - *simple*: dot-product\n",
    "    - *parameterized*"
   ]
  },
  {
   "cell_type": "markdown",
   "metadata": {
    "slideshow": {
     "slide_type": "subslide"
    }
   },
   "source": [
    "The network is described by computation graph, which can be an arbitrary Directed Acyclic Graph.\n",
    "\n",
    "<br>\n",
    "<table>\n",
    "    <tr>\n",
    "        <td><center><strong>Functional architecture</strong></center></td>\n",
    "    </tr>\n",
    "    <tr>\n",
    "        <td>\n",
    "            <img src=\"images/tf_functional_arch.png\">\n",
    "        </td>\n",
    "    </tr>\n",
    "</table>"
   ]
  },
  {
   "cell_type": "markdown",
   "metadata": {
    "slideshow": {
     "slide_type": "subslide"
    }
   },
   "source": [
    "In this course\n",
    "- we limit the graph to a *linear sequence* of nodes\n",
    "    - called *layers*\n",
    "\n",
    "<br>\n",
    "<table>\n",
    "    <tr>\n",
    "        <td><center><strong>Sequential architecture</strong></center></td>\n",
    "    </tr>\n",
    "    <tr>\n",
    "        <td>\n",
    "            <img src=\"images/tf_sequential_arch.png\">\n",
    "        </td>\n",
    "    </tr>\n",
    "</table>"
   ]
  },
  {
   "cell_type": "markdown",
   "metadata": {
    "slideshow": {
     "slide_type": "subslide"
    }
   },
   "source": [
    "This restriction limits  graphs to implementing what is called the \n",
    "- *Sequential* architecture.\n",
    "- the simplicity mainly has notational advantages\n",
    "- many layers: \"deep\" learning\n",
    "\n",
    "In the Advanced Deep Learning course, we remove this restriction, creates what is know as\n",
    "- the *Functional* architecture"
   ]
  },
  {
   "cell_type": "markdown",
   "metadata": {
    "slideshow": {
     "slide_type": "subslide"
    }
   },
   "source": [
    "**Aside**\n",
    "\n",
    "This sequential organization restricts the types of functions (and tasks we can solve) that can be implemented\n",
    "\n",
    "Letting $F_\\llp$ denote the simple function computed by the node at layer $\\ll$ and\n",
    "$\\W_\\llp$  its parameters (\"weights\") \n",
    "- the network can compute functions defined by function compositions\n",
    "\n",
    "$$\n",
    "\\begin{array}[lll]\\\\\n",
    "\\y_\\llp & = & F_\\llp( \\y_{(\\ll-1)}; \\W_\\llp ) \\\\\n",
    "& = &  F_\\llp( \\; F_{(\\ll-1)}( \\y_{(\\ll-2)}; \\,\\W_{(\\ll-1)} ); \\,\\W_\\llp \\;) \\\\\n",
    "& = &  F_\\llp( \\; F_{(\\ll-1)}( \\; F_{(\\ll-2)}( \\y_{(\\ll-3)}; \\,\\W_{(\\ll-2)} ); \\,\\W_{(\\ll-1)} \\;  ); \\W_\\llp \\;) \\\\\n",
    "& = & \\vdots \\\\\n",
    "\\end{array}\n",
    "$$\n"
   ]
  },
  {
   "cell_type": "markdown",
   "metadata": {
    "slideshow": {
     "slide_type": "subslide"
    }
   },
   "source": [
    "These limitations in architecture and tasks enables a \n",
    " paradigm very similar to that of Classical Machine Learning\n",
    "- a sequence of transformations\n",
    "- that transforms the input\n",
    "- such that the final representation \n",
    "- results in better predictions\n",
    "- by a final layer that implements either Regression or Classification"
   ]
  },
  {
   "cell_type": "markdown",
   "metadata": {
    "slideshow": {
     "slide_type": "subslide"
    }
   },
   "source": [
    "We shall frequently say that\n",
    "- the purpose of a Layer\n",
    "- is to create an *alternate representation* of the input\n",
    "    - no new information not present in the input is created\n",
    "        \n",
    "Here is a \"cartoon\" diagram of Deep Learning (as applied to the Classification task)"
   ]
  },
  {
   "cell_type": "markdown",
   "metadata": {
    "slideshow": {
     "slide_type": "subslide"
    }
   },
   "source": [
    "<div>\n",
    "    <center><strong>Layers</strong></center>\n",
    "    <br>\n",
    "    <!-- edX: Original: <img src=\"images/NN_Layers.png\"> replace by EdX created image -->\n",
    "    <img src=\"images/W12_L1_NN_layers1920by1080.png\">\n",
    "</div>"
   ]
  },
  {
   "cell_type": "markdown",
   "metadata": {
    "slideshow": {
     "slide_type": "subslide"
    }
   },
   "source": [
    "- A sequence of *layers* (vertical boxes)\n",
    "- Starting with the input layer (the large vertical box on the left)\n",
    "<div>\n",
    "    <br>\n",
    "    <!-- edX: Original: <img src=\"images/NN_Layers.png\"> replace by EdX created image -->\n",
    "    <img src=\"images/Layers_W8_L2_Sl12_1.png\" width=20% align=\"left\">\n",
    "</div>"
   ]
  },
  {
   "cell_type": "markdown",
   "metadata": {
    "slideshow": {
     "slide_type": "subslide"
    }
   },
   "source": [
    "- Intermediate layer $\\ll$ takes as input the output of layer $(\\ll -1)$\n",
    "    - this is the limitation imposed by the Sequential architecture\n",
    "- Transforming it into an alternate representation\n",
    "- via a *simple pre-defined* function $f_\\llp$\n",
    "\n",
    "<div align=\"middle\">\n",
    "    <br>\n",
    "    <!-- edX: Original: <img src=\"images/NN_Layers.png\"> replace by EdX created image -->\n",
    "    <img src=\"images/Layers_W8_L2_Sl12_2.png\" width=40%>\n",
    "</div>"
   ]
  },
  {
   "cell_type": "markdown",
   "metadata": {
    "slideshow": {
     "slide_type": "subslide"
    }
   },
   "source": [
    "- The output of the penultimate layer $(L-1)$\n",
    "is used as input to a final layer $L$ that implements either\n",
    "    - Classification\n",
    "    - Regression\n",
    "    \n",
    "<div align=\"right\">\n",
    "    <b>\n",
    "    <!-- edX: Original: <img src=\"images/NN_Layers.png\"> replace by EdX created image -->\n",
    "    <img src=\"images/Layers_W8_L2_Sl13.png\" width=40% align=\"right\">\n",
    "    </center>\n",
    "    </div>"
   ]
  },
  {
   "cell_type": "markdown",
   "metadata": {
    "slideshow": {
     "slide_type": "subslide"
    }
   },
   "source": [
    "The process of moving through the layers from Input to penultimate is\n",
    "- Successive transformation of the input\n",
    "- Each layer's output is an alternate *representation* of the input\n",
    "\n",
    "<div>\n",
    "    <!-- edX: Original: <img src=\"images/NN_Layers.png\"> replace by EdX created image -->\n",
    "    <img src=\"images/W12_L1_NN_layers1920by1080.png\">\n",
    "    \n",
    "</div>"
   ]
  },
  {
   "cell_type": "markdown",
   "metadata": {
    "slideshow": {
     "slide_type": "subslide"
    }
   },
   "source": [
    "- This is similar to the Feature Engineering pipeline of Classical ML\n",
    "    - Implemented in many ML toolkits (e.g., `sklearn`)\n",
    "- Where the final version of the transformed data is fed into a Classifier/Regression model\n"
   ]
  },
  {
   "cell_type": "markdown",
   "metadata": {
    "slideshow": {
     "slide_type": "slide"
    }
   },
   "source": [
    "## Per-layer functions may be non-linear\n",
    "\n",
    "Another **key difference** from Classical Machine Learning\n",
    "- the functions $f_\\llp$ can be **non-linear**\n",
    "\n",
    "We will see, in a later module, the importance of non-linearity."
   ]
  },
  {
   "cell_type": "markdown",
   "metadata": {
    "slideshow": {
     "slide_type": "slide"
    }
   },
   "source": [
    "## The behavior of the per-layer functions is learned, not pre-specified\n",
    "\n",
    "Finally, a major difference\n",
    "- in Classical ML: the Data Scientist explicitly defines the transformations\n",
    "- in Deep Learning\n",
    "    - the transformations are achieved\n",
    "    - by a composition of the per-layer functions of successive layers\n",
    "    - *without pre-specifying* the goal of the transformation !\n",
    "    \n",
    "The Deep Learning transformations\n",
    "- are defined by the parameters of the per-layer functions $f_\\llp$\n",
    "- which are *learned* by training"
   ]
  },
  {
   "cell_type": "markdown",
   "metadata": {
    "slideshow": {
     "slide_type": "subslide"
    }
   },
   "source": [
    "One difficulty with learning the transformations\n",
    "- they tend to work\n",
    "- but **we don't necessarily know what they mean**\n",
    "\n",
    "Because the behavior of the model is *learned* from the Training Examples\n",
    "- the model behavior is more sensitive to the Training Data\n",
    "- compared to Classical ML"
   ]
  },
  {
   "cell_type": "markdown",
   "metadata": {
    "slideshow": {
     "slide_type": "subslide"
    }
   },
   "source": [
    "This is because\n",
    "- in Classical ML we can sometimes specify the *functional form* of the model or its transformations\n",
    "\n",
    "For example: in our initial examples for Linear Regression (predict House Price from Size)\n",
    "- we initially specified a first order polynomial as the functional form\n",
    "$$\n",
    "\\y = \\Theta_0 + \\Theta_1 \\x\n",
    "$$\n",
    "\n",
    "When this proved insufficient, we changed the functional form to a second order polynomial\n",
    "$$\n",
    "\\y = \\Theta_0 + \\Theta_1 \\x + \\Theta_2 \\x^2\n",
    "$$"
   ]
  },
  {
   "cell_type": "markdown",
   "metadata": {
    "slideshow": {
     "slide_type": "subslide"
    }
   },
   "source": [
    "In the absence of an explicit specification of the functional form\n",
    "- the model infers the form from the Training Data\n",
    "\n",
    "Consider a complex form"
   ]
  },
  {
   "cell_type": "code",
   "execution_count": 5,
   "metadata": {
    "slideshow": {
     "slide_type": "subslide"
    }
   },
   "outputs": [
    {
     "data": {
      "application/javascript": [
       "/* Put everything inside the global mpl namespace */\n",
       "window.mpl = {};\n",
       "\n",
       "\n",
       "mpl.get_websocket_type = function() {\n",
       "    if (typeof(WebSocket) !== 'undefined') {\n",
       "        return WebSocket;\n",
       "    } else if (typeof(MozWebSocket) !== 'undefined') {\n",
       "        return MozWebSocket;\n",
       "    } else {\n",
       "        alert('Your browser does not have WebSocket support. ' +\n",
       "              'Please try Chrome, Safari or Firefox ≥ 6. ' +\n",
       "              'Firefox 4 and 5 are also supported but you ' +\n",
       "              'have to enable WebSockets in about:config.');\n",
       "    };\n",
       "}\n",
       "\n",
       "mpl.figure = function(figure_id, websocket, ondownload, parent_element) {\n",
       "    this.id = figure_id;\n",
       "\n",
       "    this.ws = websocket;\n",
       "\n",
       "    this.supports_binary = (this.ws.binaryType != undefined);\n",
       "\n",
       "    if (!this.supports_binary) {\n",
       "        var warnings = document.getElementById(\"mpl-warnings\");\n",
       "        if (warnings) {\n",
       "            warnings.style.display = 'block';\n",
       "            warnings.textContent = (\n",
       "                \"This browser does not support binary websocket messages. \" +\n",
       "                    \"Performance may be slow.\");\n",
       "        }\n",
       "    }\n",
       "\n",
       "    this.imageObj = new Image();\n",
       "\n",
       "    this.context = undefined;\n",
       "    this.message = undefined;\n",
       "    this.canvas = undefined;\n",
       "    this.rubberband_canvas = undefined;\n",
       "    this.rubberband_context = undefined;\n",
       "    this.format_dropdown = undefined;\n",
       "\n",
       "    this.image_mode = 'full';\n",
       "\n",
       "    this.root = $('<div/>');\n",
       "    this._root_extra_style(this.root)\n",
       "    this.root.attr('style', 'display: inline-block');\n",
       "\n",
       "    $(parent_element).append(this.root);\n",
       "\n",
       "    this._init_header(this);\n",
       "    this._init_canvas(this);\n",
       "    this._init_toolbar(this);\n",
       "\n",
       "    var fig = this;\n",
       "\n",
       "    this.waiting = false;\n",
       "\n",
       "    this.ws.onopen =  function () {\n",
       "            fig.send_message(\"supports_binary\", {value: fig.supports_binary});\n",
       "            fig.send_message(\"send_image_mode\", {});\n",
       "            if (mpl.ratio != 1) {\n",
       "                fig.send_message(\"set_dpi_ratio\", {'dpi_ratio': mpl.ratio});\n",
       "            }\n",
       "            fig.send_message(\"refresh\", {});\n",
       "        }\n",
       "\n",
       "    this.imageObj.onload = function() {\n",
       "            if (fig.image_mode == 'full') {\n",
       "                // Full images could contain transparency (where diff images\n",
       "                // almost always do), so we need to clear the canvas so that\n",
       "                // there is no ghosting.\n",
       "                fig.context.clearRect(0, 0, fig.canvas.width, fig.canvas.height);\n",
       "            }\n",
       "            fig.context.drawImage(fig.imageObj, 0, 0);\n",
       "        };\n",
       "\n",
       "    this.imageObj.onunload = function() {\n",
       "        fig.ws.close();\n",
       "    }\n",
       "\n",
       "    this.ws.onmessage = this._make_on_message_function(this);\n",
       "\n",
       "    this.ondownload = ondownload;\n",
       "}\n",
       "\n",
       "mpl.figure.prototype._init_header = function() {\n",
       "    var titlebar = $(\n",
       "        '<div class=\"ui-dialog-titlebar ui-widget-header ui-corner-all ' +\n",
       "        'ui-helper-clearfix\"/>');\n",
       "    var titletext = $(\n",
       "        '<div class=\"ui-dialog-title\" style=\"width: 100%; ' +\n",
       "        'text-align: center; padding: 3px;\"/>');\n",
       "    titlebar.append(titletext)\n",
       "    this.root.append(titlebar);\n",
       "    this.header = titletext[0];\n",
       "}\n",
       "\n",
       "\n",
       "\n",
       "mpl.figure.prototype._canvas_extra_style = function(canvas_div) {\n",
       "\n",
       "}\n",
       "\n",
       "\n",
       "mpl.figure.prototype._root_extra_style = function(canvas_div) {\n",
       "\n",
       "}\n",
       "\n",
       "mpl.figure.prototype._init_canvas = function() {\n",
       "    var fig = this;\n",
       "\n",
       "    var canvas_div = $('<div/>');\n",
       "\n",
       "    canvas_div.attr('style', 'position: relative; clear: both; outline: 0');\n",
       "\n",
       "    function canvas_keyboard_event(event) {\n",
       "        return fig.key_event(event, event['data']);\n",
       "    }\n",
       "\n",
       "    canvas_div.keydown('key_press', canvas_keyboard_event);\n",
       "    canvas_div.keyup('key_release', canvas_keyboard_event);\n",
       "    this.canvas_div = canvas_div\n",
       "    this._canvas_extra_style(canvas_div)\n",
       "    this.root.append(canvas_div);\n",
       "\n",
       "    var canvas = $('<canvas/>');\n",
       "    canvas.addClass('mpl-canvas');\n",
       "    canvas.attr('style', \"left: 0; top: 0; z-index: 0; outline: 0\")\n",
       "\n",
       "    this.canvas = canvas[0];\n",
       "    this.context = canvas[0].getContext(\"2d\");\n",
       "\n",
       "    var backingStore = this.context.backingStorePixelRatio ||\n",
       "\tthis.context.webkitBackingStorePixelRatio ||\n",
       "\tthis.context.mozBackingStorePixelRatio ||\n",
       "\tthis.context.msBackingStorePixelRatio ||\n",
       "\tthis.context.oBackingStorePixelRatio ||\n",
       "\tthis.context.backingStorePixelRatio || 1;\n",
       "\n",
       "    mpl.ratio = (window.devicePixelRatio || 1) / backingStore;\n",
       "\n",
       "    var rubberband = $('<canvas/>');\n",
       "    rubberband.attr('style', \"position: absolute; left: 0; top: 0; z-index: 1;\")\n",
       "\n",
       "    var pass_mouse_events = true;\n",
       "\n",
       "    canvas_div.resizable({\n",
       "        start: function(event, ui) {\n",
       "            pass_mouse_events = false;\n",
       "        },\n",
       "        resize: function(event, ui) {\n",
       "            fig.request_resize(ui.size.width, ui.size.height);\n",
       "        },\n",
       "        stop: function(event, ui) {\n",
       "            pass_mouse_events = true;\n",
       "            fig.request_resize(ui.size.width, ui.size.height);\n",
       "        },\n",
       "    });\n",
       "\n",
       "    function mouse_event_fn(event) {\n",
       "        if (pass_mouse_events)\n",
       "            return fig.mouse_event(event, event['data']);\n",
       "    }\n",
       "\n",
       "    rubberband.mousedown('button_press', mouse_event_fn);\n",
       "    rubberband.mouseup('button_release', mouse_event_fn);\n",
       "    // Throttle sequential mouse events to 1 every 20ms.\n",
       "    rubberband.mousemove('motion_notify', mouse_event_fn);\n",
       "\n",
       "    rubberband.mouseenter('figure_enter', mouse_event_fn);\n",
       "    rubberband.mouseleave('figure_leave', mouse_event_fn);\n",
       "\n",
       "    canvas_div.on(\"wheel\", function (event) {\n",
       "        event = event.originalEvent;\n",
       "        event['data'] = 'scroll'\n",
       "        if (event.deltaY < 0) {\n",
       "            event.step = 1;\n",
       "        } else {\n",
       "            event.step = -1;\n",
       "        }\n",
       "        mouse_event_fn(event);\n",
       "    });\n",
       "\n",
       "    canvas_div.append(canvas);\n",
       "    canvas_div.append(rubberband);\n",
       "\n",
       "    this.rubberband = rubberband;\n",
       "    this.rubberband_canvas = rubberband[0];\n",
       "    this.rubberband_context = rubberband[0].getContext(\"2d\");\n",
       "    this.rubberband_context.strokeStyle = \"#000000\";\n",
       "\n",
       "    this._resize_canvas = function(width, height) {\n",
       "        // Keep the size of the canvas, canvas container, and rubber band\n",
       "        // canvas in synch.\n",
       "        canvas_div.css('width', width)\n",
       "        canvas_div.css('height', height)\n",
       "\n",
       "        canvas.attr('width', width * mpl.ratio);\n",
       "        canvas.attr('height', height * mpl.ratio);\n",
       "        canvas.attr('style', 'width: ' + width + 'px; height: ' + height + 'px;');\n",
       "\n",
       "        rubberband.attr('width', width);\n",
       "        rubberband.attr('height', height);\n",
       "    }\n",
       "\n",
       "    // Set the figure to an initial 600x600px, this will subsequently be updated\n",
       "    // upon first draw.\n",
       "    this._resize_canvas(600, 600);\n",
       "\n",
       "    // Disable right mouse context menu.\n",
       "    $(this.rubberband_canvas).bind(\"contextmenu\",function(e){\n",
       "        return false;\n",
       "    });\n",
       "\n",
       "    function set_focus () {\n",
       "        canvas.focus();\n",
       "        canvas_div.focus();\n",
       "    }\n",
       "\n",
       "    window.setTimeout(set_focus, 100);\n",
       "}\n",
       "\n",
       "mpl.figure.prototype._init_toolbar = function() {\n",
       "    var fig = this;\n",
       "\n",
       "    var nav_element = $('<div/>');\n",
       "    nav_element.attr('style', 'width: 100%');\n",
       "    this.root.append(nav_element);\n",
       "\n",
       "    // Define a callback function for later on.\n",
       "    function toolbar_event(event) {\n",
       "        return fig.toolbar_button_onclick(event['data']);\n",
       "    }\n",
       "    function toolbar_mouse_event(event) {\n",
       "        return fig.toolbar_button_onmouseover(event['data']);\n",
       "    }\n",
       "\n",
       "    for(var toolbar_ind in mpl.toolbar_items) {\n",
       "        var name = mpl.toolbar_items[toolbar_ind][0];\n",
       "        var tooltip = mpl.toolbar_items[toolbar_ind][1];\n",
       "        var image = mpl.toolbar_items[toolbar_ind][2];\n",
       "        var method_name = mpl.toolbar_items[toolbar_ind][3];\n",
       "\n",
       "        if (!name) {\n",
       "            // put a spacer in here.\n",
       "            continue;\n",
       "        }\n",
       "        var button = $('<button/>');\n",
       "        button.addClass('ui-button ui-widget ui-state-default ui-corner-all ' +\n",
       "                        'ui-button-icon-only');\n",
       "        button.attr('role', 'button');\n",
       "        button.attr('aria-disabled', 'false');\n",
       "        button.click(method_name, toolbar_event);\n",
       "        button.mouseover(tooltip, toolbar_mouse_event);\n",
       "\n",
       "        var icon_img = $('<span/>');\n",
       "        icon_img.addClass('ui-button-icon-primary ui-icon');\n",
       "        icon_img.addClass(image);\n",
       "        icon_img.addClass('ui-corner-all');\n",
       "\n",
       "        var tooltip_span = $('<span/>');\n",
       "        tooltip_span.addClass('ui-button-text');\n",
       "        tooltip_span.html(tooltip);\n",
       "\n",
       "        button.append(icon_img);\n",
       "        button.append(tooltip_span);\n",
       "\n",
       "        nav_element.append(button);\n",
       "    }\n",
       "\n",
       "    var fmt_picker_span = $('<span/>');\n",
       "\n",
       "    var fmt_picker = $('<select/>');\n",
       "    fmt_picker.addClass('mpl-toolbar-option ui-widget ui-widget-content');\n",
       "    fmt_picker_span.append(fmt_picker);\n",
       "    nav_element.append(fmt_picker_span);\n",
       "    this.format_dropdown = fmt_picker[0];\n",
       "\n",
       "    for (var ind in mpl.extensions) {\n",
       "        var fmt = mpl.extensions[ind];\n",
       "        var option = $(\n",
       "            '<option/>', {selected: fmt === mpl.default_extension}).html(fmt);\n",
       "        fmt_picker.append(option);\n",
       "    }\n",
       "\n",
       "    // Add hover states to the ui-buttons\n",
       "    $( \".ui-button\" ).hover(\n",
       "        function() { $(this).addClass(\"ui-state-hover\");},\n",
       "        function() { $(this).removeClass(\"ui-state-hover\");}\n",
       "    );\n",
       "\n",
       "    var status_bar = $('<span class=\"mpl-message\"/>');\n",
       "    nav_element.append(status_bar);\n",
       "    this.message = status_bar[0];\n",
       "}\n",
       "\n",
       "mpl.figure.prototype.request_resize = function(x_pixels, y_pixels) {\n",
       "    // Request matplotlib to resize the figure. Matplotlib will then trigger a resize in the client,\n",
       "    // which will in turn request a refresh of the image.\n",
       "    this.send_message('resize', {'width': x_pixels, 'height': y_pixels});\n",
       "}\n",
       "\n",
       "mpl.figure.prototype.send_message = function(type, properties) {\n",
       "    properties['type'] = type;\n",
       "    properties['figure_id'] = this.id;\n",
       "    this.ws.send(JSON.stringify(properties));\n",
       "}\n",
       "\n",
       "mpl.figure.prototype.send_draw_message = function() {\n",
       "    if (!this.waiting) {\n",
       "        this.waiting = true;\n",
       "        this.ws.send(JSON.stringify({type: \"draw\", figure_id: this.id}));\n",
       "    }\n",
       "}\n",
       "\n",
       "\n",
       "mpl.figure.prototype.handle_save = function(fig, msg) {\n",
       "    var format_dropdown = fig.format_dropdown;\n",
       "    var format = format_dropdown.options[format_dropdown.selectedIndex].value;\n",
       "    fig.ondownload(fig, format);\n",
       "}\n",
       "\n",
       "\n",
       "mpl.figure.prototype.handle_resize = function(fig, msg) {\n",
       "    var size = msg['size'];\n",
       "    if (size[0] != fig.canvas.width || size[1] != fig.canvas.height) {\n",
       "        fig._resize_canvas(size[0], size[1]);\n",
       "        fig.send_message(\"refresh\", {});\n",
       "    };\n",
       "}\n",
       "\n",
       "mpl.figure.prototype.handle_rubberband = function(fig, msg) {\n",
       "    var x0 = msg['x0'] / mpl.ratio;\n",
       "    var y0 = (fig.canvas.height - msg['y0']) / mpl.ratio;\n",
       "    var x1 = msg['x1'] / mpl.ratio;\n",
       "    var y1 = (fig.canvas.height - msg['y1']) / mpl.ratio;\n",
       "    x0 = Math.floor(x0) + 0.5;\n",
       "    y0 = Math.floor(y0) + 0.5;\n",
       "    x1 = Math.floor(x1) + 0.5;\n",
       "    y1 = Math.floor(y1) + 0.5;\n",
       "    var min_x = Math.min(x0, x1);\n",
       "    var min_y = Math.min(y0, y1);\n",
       "    var width = Math.abs(x1 - x0);\n",
       "    var height = Math.abs(y1 - y0);\n",
       "\n",
       "    fig.rubberband_context.clearRect(\n",
       "        0, 0, fig.canvas.width / mpl.ratio, fig.canvas.height / mpl.ratio);\n",
       "\n",
       "    fig.rubberband_context.strokeRect(min_x, min_y, width, height);\n",
       "}\n",
       "\n",
       "mpl.figure.prototype.handle_figure_label = function(fig, msg) {\n",
       "    // Updates the figure title.\n",
       "    fig.header.textContent = msg['label'];\n",
       "}\n",
       "\n",
       "mpl.figure.prototype.handle_cursor = function(fig, msg) {\n",
       "    var cursor = msg['cursor'];\n",
       "    switch(cursor)\n",
       "    {\n",
       "    case 0:\n",
       "        cursor = 'pointer';\n",
       "        break;\n",
       "    case 1:\n",
       "        cursor = 'default';\n",
       "        break;\n",
       "    case 2:\n",
       "        cursor = 'crosshair';\n",
       "        break;\n",
       "    case 3:\n",
       "        cursor = 'move';\n",
       "        break;\n",
       "    }\n",
       "    fig.rubberband_canvas.style.cursor = cursor;\n",
       "}\n",
       "\n",
       "mpl.figure.prototype.handle_message = function(fig, msg) {\n",
       "    fig.message.textContent = msg['message'];\n",
       "}\n",
       "\n",
       "mpl.figure.prototype.handle_draw = function(fig, msg) {\n",
       "    // Request the server to send over a new figure.\n",
       "    fig.send_draw_message();\n",
       "}\n",
       "\n",
       "mpl.figure.prototype.handle_image_mode = function(fig, msg) {\n",
       "    fig.image_mode = msg['mode'];\n",
       "}\n",
       "\n",
       "mpl.figure.prototype.updated_canvas_event = function() {\n",
       "    // Called whenever the canvas gets updated.\n",
       "    this.send_message(\"ack\", {});\n",
       "}\n",
       "\n",
       "// A function to construct a web socket function for onmessage handling.\n",
       "// Called in the figure constructor.\n",
       "mpl.figure.prototype._make_on_message_function = function(fig) {\n",
       "    return function socket_on_message(evt) {\n",
       "        if (evt.data instanceof Blob) {\n",
       "            /* FIXME: We get \"Resource interpreted as Image but\n",
       "             * transferred with MIME type text/plain:\" errors on\n",
       "             * Chrome.  But how to set the MIME type?  It doesn't seem\n",
       "             * to be part of the websocket stream */\n",
       "            evt.data.type = \"image/png\";\n",
       "\n",
       "            /* Free the memory for the previous frames */\n",
       "            if (fig.imageObj.src) {\n",
       "                (window.URL || window.webkitURL).revokeObjectURL(\n",
       "                    fig.imageObj.src);\n",
       "            }\n",
       "\n",
       "            fig.imageObj.src = (window.URL || window.webkitURL).createObjectURL(\n",
       "                evt.data);\n",
       "            fig.updated_canvas_event();\n",
       "            fig.waiting = false;\n",
       "            return;\n",
       "        }\n",
       "        else if (typeof evt.data === 'string' && evt.data.slice(0, 21) == \"data:image/png;base64\") {\n",
       "            fig.imageObj.src = evt.data;\n",
       "            fig.updated_canvas_event();\n",
       "            fig.waiting = false;\n",
       "            return;\n",
       "        }\n",
       "\n",
       "        var msg = JSON.parse(evt.data);\n",
       "        var msg_type = msg['type'];\n",
       "\n",
       "        // Call the  \"handle_{type}\" callback, which takes\n",
       "        // the figure and JSON message as its only arguments.\n",
       "        try {\n",
       "            var callback = fig[\"handle_\" + msg_type];\n",
       "        } catch (e) {\n",
       "            console.log(\"No handler for the '\" + msg_type + \"' message type: \", msg);\n",
       "            return;\n",
       "        }\n",
       "\n",
       "        if (callback) {\n",
       "            try {\n",
       "                // console.log(\"Handling '\" + msg_type + \"' message: \", msg);\n",
       "                callback(fig, msg);\n",
       "            } catch (e) {\n",
       "                console.log(\"Exception inside the 'handler_\" + msg_type + \"' callback:\", e, e.stack, msg);\n",
       "            }\n",
       "        }\n",
       "    };\n",
       "}\n",
       "\n",
       "// from http://stackoverflow.com/questions/1114465/getting-mouse-location-in-canvas\n",
       "mpl.findpos = function(e) {\n",
       "    //this section is from http://www.quirksmode.org/js/events_properties.html\n",
       "    var targ;\n",
       "    if (!e)\n",
       "        e = window.event;\n",
       "    if (e.target)\n",
       "        targ = e.target;\n",
       "    else if (e.srcElement)\n",
       "        targ = e.srcElement;\n",
       "    if (targ.nodeType == 3) // defeat Safari bug\n",
       "        targ = targ.parentNode;\n",
       "\n",
       "    // jQuery normalizes the pageX and pageY\n",
       "    // pageX,Y are the mouse positions relative to the document\n",
       "    // offset() returns the position of the element relative to the document\n",
       "    var x = e.pageX - $(targ).offset().left;\n",
       "    var y = e.pageY - $(targ).offset().top;\n",
       "\n",
       "    return {\"x\": x, \"y\": y};\n",
       "};\n",
       "\n",
       "/*\n",
       " * return a copy of an object with only non-object keys\n",
       " * we need this to avoid circular references\n",
       " * http://stackoverflow.com/a/24161582/3208463\n",
       " */\n",
       "function simpleKeys (original) {\n",
       "  return Object.keys(original).reduce(function (obj, key) {\n",
       "    if (typeof original[key] !== 'object')\n",
       "        obj[key] = original[key]\n",
       "    return obj;\n",
       "  }, {});\n",
       "}\n",
       "\n",
       "mpl.figure.prototype.mouse_event = function(event, name) {\n",
       "    var canvas_pos = mpl.findpos(event)\n",
       "\n",
       "    if (name === 'button_press')\n",
       "    {\n",
       "        this.canvas.focus();\n",
       "        this.canvas_div.focus();\n",
       "    }\n",
       "\n",
       "    var x = canvas_pos.x * mpl.ratio;\n",
       "    var y = canvas_pos.y * mpl.ratio;\n",
       "\n",
       "    this.send_message(name, {x: x, y: y, button: event.button,\n",
       "                             step: event.step,\n",
       "                             guiEvent: simpleKeys(event)});\n",
       "\n",
       "    /* This prevents the web browser from automatically changing to\n",
       "     * the text insertion cursor when the button is pressed.  We want\n",
       "     * to control all of the cursor setting manually through the\n",
       "     * 'cursor' event from matplotlib */\n",
       "    event.preventDefault();\n",
       "    return false;\n",
       "}\n",
       "\n",
       "mpl.figure.prototype._key_event_extra = function(event, name) {\n",
       "    // Handle any extra behaviour associated with a key event\n",
       "}\n",
       "\n",
       "mpl.figure.prototype.key_event = function(event, name) {\n",
       "\n",
       "    // Prevent repeat events\n",
       "    if (name == 'key_press')\n",
       "    {\n",
       "        if (event.which === this._key)\n",
       "            return;\n",
       "        else\n",
       "            this._key = event.which;\n",
       "    }\n",
       "    if (name == 'key_release')\n",
       "        this._key = null;\n",
       "\n",
       "    var value = '';\n",
       "    if (event.ctrlKey && event.which != 17)\n",
       "        value += \"ctrl+\";\n",
       "    if (event.altKey && event.which != 18)\n",
       "        value += \"alt+\";\n",
       "    if (event.shiftKey && event.which != 16)\n",
       "        value += \"shift+\";\n",
       "\n",
       "    value += 'k';\n",
       "    value += event.which.toString();\n",
       "\n",
       "    this._key_event_extra(event, name);\n",
       "\n",
       "    this.send_message(name, {key: value,\n",
       "                             guiEvent: simpleKeys(event)});\n",
       "    return false;\n",
       "}\n",
       "\n",
       "mpl.figure.prototype.toolbar_button_onclick = function(name) {\n",
       "    if (name == 'download') {\n",
       "        this.handle_save(this, null);\n",
       "    } else {\n",
       "        this.send_message(\"toolbar_button\", {name: name});\n",
       "    }\n",
       "};\n",
       "\n",
       "mpl.figure.prototype.toolbar_button_onmouseover = function(tooltip) {\n",
       "    this.message.textContent = tooltip;\n",
       "};\n",
       "mpl.toolbar_items = [[\"Home\", \"Reset original view\", \"fa fa-home icon-home\", \"home\"], [\"Back\", \"Back to previous view\", \"fa fa-arrow-left icon-arrow-left\", \"back\"], [\"Forward\", \"Forward to next view\", \"fa fa-arrow-right icon-arrow-right\", \"forward\"], [\"\", \"\", \"\", \"\"], [\"Pan\", \"Pan axes with left mouse, zoom with right\", \"fa fa-arrows icon-move\", \"pan\"], [\"Zoom\", \"Zoom to rectangle\", \"fa fa-square-o icon-check-empty\", \"zoom\"], [\"\", \"\", \"\", \"\"], [\"Download\", \"Download plot\", \"fa fa-floppy-o icon-save\", \"download\"]];\n",
       "\n",
       "mpl.extensions = [\"eps\", \"jpeg\", \"pdf\", \"png\", \"ps\", \"raw\", \"svg\", \"tif\"];\n",
       "\n",
       "mpl.default_extension = \"png\";var comm_websocket_adapter = function(comm) {\n",
       "    // Create a \"websocket\"-like object which calls the given IPython comm\n",
       "    // object with the appropriate methods. Currently this is a non binary\n",
       "    // socket, so there is still some room for performance tuning.\n",
       "    var ws = {};\n",
       "\n",
       "    ws.close = function() {\n",
       "        comm.close()\n",
       "    };\n",
       "    ws.send = function(m) {\n",
       "        //console.log('sending', m);\n",
       "        comm.send(m);\n",
       "    };\n",
       "    // Register the callback with on_msg.\n",
       "    comm.on_msg(function(msg) {\n",
       "        //console.log('receiving', msg['content']['data'], msg);\n",
       "        // Pass the mpl event to the overridden (by mpl) onmessage function.\n",
       "        ws.onmessage(msg['content']['data'])\n",
       "    });\n",
       "    return ws;\n",
       "}\n",
       "\n",
       "mpl.mpl_figure_comm = function(comm, msg) {\n",
       "    // This is the function which gets called when the mpl process\n",
       "    // starts-up an IPython Comm through the \"matplotlib\" channel.\n",
       "\n",
       "    var id = msg.content.data.id;\n",
       "    // Get hold of the div created by the display call when the Comm\n",
       "    // socket was opened in Python.\n",
       "    var element = $(\"#\" + id);\n",
       "    var ws_proxy = comm_websocket_adapter(comm)\n",
       "\n",
       "    function ondownload(figure, format) {\n",
       "        window.open(figure.imageObj.src);\n",
       "    }\n",
       "\n",
       "    var fig = new mpl.figure(id, ws_proxy,\n",
       "                           ondownload,\n",
       "                           element.get(0));\n",
       "\n",
       "    // Call onopen now - mpl needs it, as it is assuming we've passed it a real\n",
       "    // web socket which is closed, not our websocket->open comm proxy.\n",
       "    ws_proxy.onopen();\n",
       "\n",
       "    fig.parent_element = element.get(0);\n",
       "    fig.cell_info = mpl.find_output_cell(\"<div id='\" + id + \"'></div>\");\n",
       "    if (!fig.cell_info) {\n",
       "        console.error(\"Failed to find cell for figure\", id, fig);\n",
       "        return;\n",
       "    }\n",
       "\n",
       "    var output_index = fig.cell_info[2]\n",
       "    var cell = fig.cell_info[0];\n",
       "\n",
       "};\n",
       "\n",
       "mpl.figure.prototype.handle_close = function(fig, msg) {\n",
       "    var width = fig.canvas.width/mpl.ratio\n",
       "    fig.root.unbind('remove')\n",
       "\n",
       "    // Update the output cell to use the data from the current canvas.\n",
       "    fig.push_to_output();\n",
       "    var dataURL = fig.canvas.toDataURL();\n",
       "    // Re-enable the keyboard manager in IPython - without this line, in FF,\n",
       "    // the notebook keyboard shortcuts fail.\n",
       "    IPython.keyboard_manager.enable()\n",
       "    $(fig.parent_element).html('<img src=\"' + dataURL + '\" width=\"' + width + '\">');\n",
       "    fig.close_ws(fig, msg);\n",
       "}\n",
       "\n",
       "mpl.figure.prototype.close_ws = function(fig, msg){\n",
       "    fig.send_message('closing', msg);\n",
       "    // fig.ws.close()\n",
       "}\n",
       "\n",
       "mpl.figure.prototype.push_to_output = function(remove_interactive) {\n",
       "    // Turn the data on the canvas into data in the output cell.\n",
       "    var width = this.canvas.width/mpl.ratio\n",
       "    var dataURL = this.canvas.toDataURL();\n",
       "    this.cell_info[1]['text/html'] = '<img src=\"' + dataURL + '\" width=\"' + width + '\">';\n",
       "}\n",
       "\n",
       "mpl.figure.prototype.updated_canvas_event = function() {\n",
       "    // Tell IPython that the notebook contents must change.\n",
       "    IPython.notebook.set_dirty(true);\n",
       "    this.send_message(\"ack\", {});\n",
       "    var fig = this;\n",
       "    // Wait a second, then push the new image to the DOM so\n",
       "    // that it is saved nicely (might be nice to debounce this).\n",
       "    setTimeout(function () { fig.push_to_output() }, 1000);\n",
       "}\n",
       "\n",
       "mpl.figure.prototype._init_toolbar = function() {\n",
       "    var fig = this;\n",
       "\n",
       "    var nav_element = $('<div/>');\n",
       "    nav_element.attr('style', 'width: 100%');\n",
       "    this.root.append(nav_element);\n",
       "\n",
       "    // Define a callback function for later on.\n",
       "    function toolbar_event(event) {\n",
       "        return fig.toolbar_button_onclick(event['data']);\n",
       "    }\n",
       "    function toolbar_mouse_event(event) {\n",
       "        return fig.toolbar_button_onmouseover(event['data']);\n",
       "    }\n",
       "\n",
       "    for(var toolbar_ind in mpl.toolbar_items){\n",
       "        var name = mpl.toolbar_items[toolbar_ind][0];\n",
       "        var tooltip = mpl.toolbar_items[toolbar_ind][1];\n",
       "        var image = mpl.toolbar_items[toolbar_ind][2];\n",
       "        var method_name = mpl.toolbar_items[toolbar_ind][3];\n",
       "\n",
       "        if (!name) { continue; };\n",
       "\n",
       "        var button = $('<button class=\"btn btn-default\" href=\"#\" title=\"' + name + '\"><i class=\"fa ' + image + ' fa-lg\"></i></button>');\n",
       "        button.click(method_name, toolbar_event);\n",
       "        button.mouseover(tooltip, toolbar_mouse_event);\n",
       "        nav_element.append(button);\n",
       "    }\n",
       "\n",
       "    // Add the status bar.\n",
       "    var status_bar = $('<span class=\"mpl-message\" style=\"text-align:right; float: right;\"/>');\n",
       "    nav_element.append(status_bar);\n",
       "    this.message = status_bar[0];\n",
       "\n",
       "    // Add the close button to the window.\n",
       "    var buttongrp = $('<div class=\"btn-group inline pull-right\"></div>');\n",
       "    var button = $('<button class=\"btn btn-mini btn-primary\" href=\"#\" title=\"Stop Interaction\"><i class=\"fa fa-power-off icon-remove icon-large\"></i></button>');\n",
       "    button.click(function (evt) { fig.handle_close(fig, {}); } );\n",
       "    button.mouseover('Stop Interaction', toolbar_mouse_event);\n",
       "    buttongrp.append(button);\n",
       "    var titlebar = this.root.find($('.ui-dialog-titlebar'));\n",
       "    titlebar.prepend(buttongrp);\n",
       "}\n",
       "\n",
       "mpl.figure.prototype._root_extra_style = function(el){\n",
       "    var fig = this\n",
       "    el.on(\"remove\", function(){\n",
       "\tfig.close_ws(fig, {});\n",
       "    });\n",
       "}\n",
       "\n",
       "mpl.figure.prototype._canvas_extra_style = function(el){\n",
       "    // this is important to make the div 'focusable\n",
       "    el.attr('tabindex', 0)\n",
       "    // reach out to IPython and tell the keyboard manager to turn it's self\n",
       "    // off when our div gets focus\n",
       "\n",
       "    // location in version 3\n",
       "    if (IPython.notebook.keyboard_manager) {\n",
       "        IPython.notebook.keyboard_manager.register_events(el);\n",
       "    }\n",
       "    else {\n",
       "        // location in version 2\n",
       "        IPython.keyboard_manager.register_events(el);\n",
       "    }\n",
       "\n",
       "}\n",
       "\n",
       "mpl.figure.prototype._key_event_extra = function(event, name) {\n",
       "    var manager = IPython.notebook.keyboard_manager;\n",
       "    if (!manager)\n",
       "        manager = IPython.keyboard_manager;\n",
       "\n",
       "    // Check for shift+enter\n",
       "    if (event.shiftKey && event.which == 13) {\n",
       "        this.canvas_div.blur();\n",
       "        event.shiftKey = false;\n",
       "        // Send a \"J\" for go to next cell\n",
       "        event.which = 74;\n",
       "        event.keyCode = 74;\n",
       "        manager.command_mode();\n",
       "        manager.handle_keydown(event);\n",
       "    }\n",
       "}\n",
       "\n",
       "mpl.figure.prototype.handle_save = function(fig, msg) {\n",
       "    fig.ondownload(fig, null);\n",
       "}\n",
       "\n",
       "\n",
       "mpl.find_output_cell = function(html_output) {\n",
       "    // Return the cell and output element which can be found *uniquely* in the notebook.\n",
       "    // Note - this is a bit hacky, but it is done because the \"notebook_saving.Notebook\"\n",
       "    // IPython event is triggered only after the cells have been serialised, which for\n",
       "    // our purposes (turning an active figure into a static one), is too late.\n",
       "    var cells = IPython.notebook.get_cells();\n",
       "    var ncells = cells.length;\n",
       "    for (var i=0; i<ncells; i++) {\n",
       "        var cell = cells[i];\n",
       "        if (cell.cell_type === 'code'){\n",
       "            for (var j=0; j<cell.output_area.outputs.length; j++) {\n",
       "                var data = cell.output_area.outputs[j];\n",
       "                if (data.data) {\n",
       "                    // IPython >= 3 moved mimebundle to data attribute of output\n",
       "                    data = data.data;\n",
       "                }\n",
       "                if (data['text/html'] == html_output) {\n",
       "                    return [cell, data, j];\n",
       "                }\n",
       "            }\n",
       "        }\n",
       "    }\n",
       "}\n",
       "\n",
       "// Register the function which deals with the matplotlib target/channel.\n",
       "// The kernel may be null if the page has been refreshed.\n",
       "if (IPython.notebook.kernel != null) {\n",
       "    IPython.notebook.kernel.comm_manager.register_target('matplotlib', mpl.mpl_figure_comm);\n",
       "}\n"
      ],
      "text/plain": [
       "<IPython.core.display.Javascript object>"
      ]
     },
     "metadata": {},
     "output_type": "display_data"
    },
    {
     "data": {
      "text/html": [
       "<img src=\"data:image/png;base64,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\" width=\"864\">"
      ],
      "text/plain": [
       "<IPython.core.display.HTML object>"
      ]
     },
     "metadata": {},
     "output_type": "display_data"
    }
   ],
   "source": [
    "%matplotlib notebook\n",
    "\n",
    "fig, ax = nn_ch.draw_surface(visible=True)\n"
   ]
  },
  {
   "cell_type": "markdown",
   "metadata": {
    "slideshow": {
     "slide_type": "subslide"
    }
   },
   "source": [
    "If the range of the features $\\x = (\\x_1, \\x_2)$ is not sufficiently varied\n",
    "- the shape that we are defining *by example*\n",
    "- is only a partial picture of the true shape\n",
    "\n",
    "<table>\n",
    "    <tr>\n",
    "        <td>\n",
    "            <img src=\"images/surface_chart_1.png\" width=75%>\n",
    "        </td>\n",
    "    </tr>\n",
    "    <tr>\n",
    "        <td>\n",
    "            <img src=\"images/surface_chart_2.png\"  width=75%>\n",
    "        </td>\n",
    "    </tr>\n",
    "</table>"
   ]
  },
  {
   "cell_type": "markdown",
   "metadata": {
    "slideshow": {
     "slide_type": "slide"
    }
   },
   "source": [
    "## Deep Learning is implemented by special libraries\n",
    "\n",
    "The computation graphs are defined by a specialized language (really a Python library)\n",
    "- *TensorFlow*\n",
    "- *PyTorch*\n",
    "\n",
    "All operations in Deep Learning\n",
    "- must be operations of these specialized languages\n",
    "- not pure Python"
   ]
  },
  {
   "cell_type": "markdown",
   "metadata": {
    "slideshow": {
     "slide_type": "subslide"
    }
   },
   "source": [
    "As we will see, the reason for restricting the operations\n",
    "- the minimization of the Loss Function will be by Gradient Descent\n",
    "- thus, we must be able to compute the Gradient of every operation\n",
    "- operations are chosen and implemented such that\n",
    "    - *Gradients are automatically computed* by the language"
   ]
  },
  {
   "cell_type": "markdown",
   "metadata": {
    "slideshow": {
     "slide_type": "subslide"
    }
   },
   "source": [
    "## Summary\n",
    "\n",
    "Deep Learning\n",
    "- tasks defined by arbitrary Loss Functions\n",
    "- computation via a Graph of nodes\n",
    "    - nodes implement *simple* pre-defined functions $f_\\llp$\n",
    "    - functions $f_\\llp$ are parameterized\n",
    "    - functions may be non-linear\n",
    "- the computation is *learned* rather than pre-specified\n",
    "    - training sets the parameters of the per-layer functions\n",
    "    - so as to minimize the Loss Function\n",
    "- specialized language to enable automated computation of Gradients of operations\n",
    "    - \"Learning\": find Loss-minimizing values of all parameters, via Gradient Descent"
   ]
  },
  {
   "cell_type": "markdown",
   "metadata": {
    "slideshow": {
     "slide_type": "subslide"
    }
   },
   "source": [
    "# What does a layer do ?\n",
    "\n",
    "The above was very informal.\n",
    "\n",
    "We need to introduce more concepts and, unfortunately, the notation that will carry us through\n",
    "the Deep Learning part of the course.\n",
    "\n",
    "Time to go [under the covers of a layer](Intro_to_Neural_Networks.ipynb)"
   ]
  },
  {
   "cell_type": "markdown",
   "metadata": {
    "slideshow": {
     "slide_type": "slide"
    }
   },
   "source": [
    "# Intuition\n",
    "\n",
    "With this pattern/template matching intuition in mind, let's revisit our path through the layers.\n",
    "\n",
    "Let's start with the inputs to the NN: an example with our original features\n",
    "\n",
    "\n",
    "\n",
    "<div>\n",
    "    <br>\n",
    "    <!-- edX: Original: <img src=\"images/NN_Layers.png\"> replace by EdX created image -->\n",
    "    <img src=\"images/Layers_W8_L2_Sl12_1.png\" width=30% align=\"left\">\n",
    "</div>"
   ]
  },
  {
   "cell_type": "markdown",
   "metadata": {
    "slideshow": {
     "slide_type": "subslide"
    }
   },
   "source": [
    "Layer $1$ is attempting to match our input $\\x$ against $n_{(1)}$ patterns.\n",
    "\n",
    "So $\\y_{(1)}$ is a vector of synthetic features (an alternate representation of $\\x$)\n",
    "- where each feature in $\\y_{(1)}$\n",
    "is an indicator as to whether a particular pattern appears in $\\x$.\n"
   ]
  },
  {
   "cell_type": "markdown",
   "metadata": {
    "slideshow": {
     "slide_type": "subslide"
    }
   },
   "source": [
    "Layer $\\ll$ works similarly except that the patterns it matches are against synthetic feature in $\\y_{(\\ll-1)}$ rather than $\\x$.\n",
    "\n",
    "<div align=\"middle\">\n",
    "    <br>\n",
    "    <!-- edX: Original: <img src=\"images/NN_Layers.png\"> replace by EdX created image -->\n",
    "    <img src=\"images/Layers_W8_L2_Sl12_2.png\" width=50%>\n",
    "</div>"
   ]
  },
  {
   "cell_type": "markdown",
   "metadata": {
    "slideshow": {
     "slide_type": "subslide"
    }
   },
   "source": [
    "One interpretation/theory of how Deep Learning works\n",
    "- the patterns of layer $\\ll$ are more complex patterns\n",
    "- composed from the simpler patterns of layer $(\\ll-1)$\n",
    "\n",
    "So, as we proceed deeper into the network\n",
    "- we create *synthetic features* (the alternate representation) of increasing complexity\n",
    "- such that the alternate representation of penultimate layer $(L-1)$\n",
    "- is sufficient for the layer $L$ head (Regression/Classifier) to succeed"
   ]
  },
  {
   "cell_type": "markdown",
   "metadata": {
    "slideshow": {
     "slide_type": "subslide"
    }
   },
   "source": [
    "<div align=\"middle\">\n",
    "    <center><strong>Features by layer</strong></center>\n",
    "    <br>\n",
    "    <!-- edX: Original: <img src=\"images/Layer_features.png\"> replace by EdX created image -->\n",
    "    <img src=\"images/ThreeLayers_W8_L2_Sl21.png\" width=20%>\n",
    "</div>"
   ]
  },
  {
   "cell_type": "markdown",
   "metadata": {
    "slideshow": {
     "slide_type": "slide"
    }
   },
   "source": [
    "# What is $W_\\llp$ ? Where did $\\Theta$ go ?\n",
    "\n",
    "Our old friend the dot product is back in the forefront.\n",
    "\n",
    "But now, the pattern matching is written\n",
    "$$\n",
    "\\W_{\\llp,j} \\cdot \\y_{(\\ll-1)}\n",
    "$$\n",
    "rather than the \n",
    "$$\n",
    "\\Theta \\cdot \\x\n",
    "$$\n",
    "which was familiar in the Classical Machine Learning part of the course."
   ]
  },
  {
   "cell_type": "markdown",
   "metadata": {
    "slideshow": {
     "slide_type": "subslide"
    }
   },
   "source": [
    "$\\y_{(\\ll-1)}$ appears rather than $\\x$\n",
    "- since, in the Sequential architecture\n",
    "- the input to layer $\\ll$ is the output of layer $(\\ll-1)$\n",
    "\n",
    "But why did the denotation of the \"pattern\" change from $\\Theta$ to $\\W$ (\"weights\")\n",
    "\n",
    "Unfortunately, this is an artifact of two different communities working independently\n",
    "- The Classical Machine learning community uses the term *parameters* and the Greek letter $\\Theta$\n",
    "- The Computer Science community uses the term *weights* and the letter $W$\n",
    "\n",
    "They are *exactly the same thing*."
   ]
  },
  {
   "cell_type": "markdown",
   "metadata": {
    "slideshow": {
     "slide_type": "slide"
    }
   },
   "source": [
    "## Size of $\\W$: Always count the number of parameters !\n",
    "\n",
    "When constructing a layer of a Neural Network: **always count the number of weights/parameters. They grow quickly !!**\n",
    "\n",
    "For a Fully Connected/Dense layer $\\ll$\n",
    "- Consists of $n_\\llp = || \\y_\\llp ||$ units, each unit producing a new feature\n",
    "- Each unit performs the dot product \n",
    "$$\n",
    "\\y_{\\llp,j} = \\y_{(\\ll-1)} \\cdot \\W_{\\llp,j}\n",
    "$$\n",
    "- Each dot product thus involves $|| \\y_{(\\ll-1)} || +1 $ weights in $\\W_{\\llp,j}$\n",
    "    - the \"+ 1\" is because of the bias term in each unit\n",
    "- Thus the number of weights in $\\W_\\llp$ is $|| \\y_\\llp || * (|| \\y_{(\\ll-1)} || + 1)$\n",
    "\n"
   ]
  },
  {
   "cell_type": "markdown",
   "metadata": {
    "slideshow": {
     "slide_type": "slide"
    }
   },
   "source": [
    "# Activation functions\n",
    "\n",
    "At this point perhaps you have a mechanical understanding of a neural network\n",
    "- A sequence of layers\n",
    "- Each layer is creating new features\n",
    "- Subsequent layers creating features of increasing complexity but transforming the prior layer's features\n",
    "- A new feature is created by a linear dot product followed by an non-linear activation"
   ]
  },
  {
   "cell_type": "markdown",
   "metadata": {
    "slideshow": {
     "slide_type": "subslide"
    }
   },
   "source": [
    "It turns out that the non-linear activation function is *one of the keys* to Neural Networks !\n",
    "\n",
    "Let's explore [Activation functions](Neural_Networks_Activations.ipynb) in more depth."
   ]
  },
  {
   "cell_type": "markdown",
   "metadata": {
    "slideshow": {
     "slide_type": "slide"
    }
   },
   "source": [
    "# Final layer: Regression/Classification\n",
    "\n",
    "The Head Layer (layer $L$)\n",
    "- takes the final representation of the data\n",
    "- applies a layer determined by the task\n",
    "    - Regression\n",
    "    - Classification\n",
    "<div>\n",
    "    <!-- edX: Original: <img src=\"images/NN_Layers.png\"> replace by EdX created image -->\n",
    "    <img src=\"images/W12_L1_NN_layers1920by1080.png\">\n",
    "    \n",
    "</div>"
   ]
  },
  {
   "cell_type": "markdown",
   "metadata": {
    "slideshow": {
     "slide_type": "subslide"
    }
   },
   "source": [
    "- Regression is nothing more than a dot product\n",
    "    - $\n",
    "\\y_{L} = \\y_{(L-1)} \\cdot \\W_{L}\n",
    "$\n",
    "    - Implemented by a Fully Connected layer with **no** activation\n",
    "- Classification is nothing more than a dot product followed by a sigmoid activation\n",
    "    - $\n",
    "\\y_{L} = \\sigma( \\y_{(L-1)} \\cdot \\W_{L} )\n",
    "$\n",
    "    - Exactly the same way as discussed in our \"Classical\" Machine Learning lecture\n",
    "    - Implemented by a Fully Connected layer with a sigmoid activation\n",
    "\n",
    "We will see this explicitly when we show the code for each of these tasks."
   ]
  },
  {
   "cell_type": "markdown",
   "metadata": {
    "slideshow": {
     "slide_type": "slide"
    }
   },
   "source": [
    "# Questions to consider\n",
    "\n",
    "Some natural questions to ask at this point\n",
    "- How many layers should we have ( What is the right value for $L$) ?\n",
    "- How many units $n_\\llp$ should I have for each layer $1 \\le \\ll \\le (L-1)$ ?\n",
    "- What activation function should I use for each unit?"
   ]
  },
  {
   "cell_type": "markdown",
   "metadata": {
    "slideshow": {
     "slide_type": "subslide"
    }
   },
   "source": [
    "We will address each of these in the future.\n",
    "\n",
    "Perhaps the biggest question\n",
    "- $\\W_{\\llp,j}$ is the pattern used to recognize the feature created by unit $j$ of layer $\\ll$\n",
    "- How does $\\W_{\\llp,j}$ get set ?\n",
    "    - i.e., how do we \"learn\" $\\W_{\\llp,j}$\n",
    "\n",
    "\n",
    "This will be the topic of the next section."
   ]
  },
  {
   "cell_type": "markdown",
   "metadata": {
    "slideshow": {
     "slide_type": "slide"
    }
   },
   "source": [
    "# Training a Neural Network\n",
    "\n",
    "We will start to answer the question of how $\\W$ is determined.\n",
    "\n",
    "The short answer:\n",
    "- we find the weights that minimize the Loss Function\n",
    "- using Gradient Descent\n",
    "\n",
    "We will briefly [introduce training a Neural Network](Neural_Networks_Intro_to_Training.ipynb).\n",
    "- our initial focus will be on the mechanics\n",
    "- the process by which the gradient is calculated will be the subject of a separate module.\n"
   ]
  },
  {
   "cell_type": "markdown",
   "metadata": {
    "slideshow": {
     "slide_type": "slide"
    }
   },
   "source": [
    "# Tensorflow: A toolkit for Neural Networks\n",
    "\n",
    "Why do we need a dedicated toolkit (Tensorflow) to aid the programming of Neural Networks ?\n",
    "\n",
    "It's mainly about the use of Gradient Descent in training the network."
   ]
  },
  {
   "cell_type": "markdown",
   "metadata": {
    "slideshow": {
     "slide_type": "subslide"
    }
   },
   "source": [
    "Recall that a Neural Net (including one augmented by a Loss Layer) is doing nothing more than compute a function.\n",
    "\n",
    "Gradient Descent needs to take the gradient of this function (evaluated on a mini batch of examples) in order to update the weights $\\W$.\n",
    "\n",
    "There are at least two ways to obtain the Gradient\n",
    "- Numerically\n",
    "- Analytically"
   ]
  },
  {
   "cell_type": "markdown",
   "metadata": {
    "slideshow": {
     "slide_type": "subslide"
    }
   },
   "source": [
    "Numerical differentiation applies the mathematical definition of the gradient\n",
    "$$\n",
    "\\frac{\\partial f(x)}{\\partial x} = \\frac{ f(x + \\epsilon) - f(x) }{\\epsilon}\n",
    "$$\n",
    "\n",
    "- It evaluates the function twice: at $f(x)$ and $f(x+\\epsilon)$"
   ]
  },
  {
   "cell_type": "markdown",
   "metadata": {
    "slideshow": {
     "slide_type": "subslide"
    }
   },
   "source": [
    "- This can get expensive, especially since\n",
    "    - $\\x$ is a vector\n",
    "    - Potentially very long (e.g., many features)\n",
    "    - We need to evaluate the derivative of $f(\\x)$ with respect to each $\\x_j$"
   ]
  },
  {
   "cell_type": "markdown",
   "metadata": {
    "slideshow": {
     "slide_type": "subslide"
    }
   },
   "source": [
    "Analytic derivatives are how you learned differentiation in school\n",
    "- As a collection of rules, e.g.,\n",
    "$$\n",
    "\\frac{\\partial (a + b)}{\\partial x} = \\frac{\\partial a}{\\partial x} + \\frac{\\partial b}{\\partial x}\n",
    "$$\n",
    "\n",
    "This is very efficient."
   ]
  },
  {
   "cell_type": "markdown",
   "metadata": {
    "slideshow": {
     "slide_type": "subslide"
    }
   },
   "source": [
    "The issue in ordinary  code\n",
    "- The expression `(a + b) * c`\n",
    "- Is evaluated `tmp = a + b`\n",
    "- And the result passed to the next step of the computation, e.g, `tmp * c`\n",
    "- Losing the connection between `tmp` (a value) and the operation (plus) and addends (`a`, `b`)"
   ]
  },
  {
   "cell_type": "markdown",
   "metadata": {
    "slideshow": {
     "slide_type": "subslide"
    }
   },
   "source": [
    "There is no information recorded in ordinary code that would allow the application of analytic rules of differentiation.\n",
    "\n",
    "Tensorflow is different in that `(a + b) * c`\n",
    "- Is a symbolic expression (i.e., recorded as operation and arguments)\n",
    "- That is saved\n",
    "- Facilitating the application of analytic rules of differentiation"
   ]
  },
  {
   "cell_type": "markdown",
   "metadata": {
    "slideshow": {
     "slide_type": "subslide"
    }
   },
   "source": [
    "We still write `(a + b) * c` but it really results in something like:\n",
    "- `tf.math.mult( tf.math.add(a, b), c)`\n",
    "\n",
    "The expression \n",
    ">`tf.math.add(a, b)`\n",
    "\n",
    "can be differentiated analytically because it records\n",
    "- the arguments are `a, b`\n",
    "- the operation is addition\n",
    "- we know the derivative of an addition operation\n",
    "    "
   ]
  },
  {
   "cell_type": "markdown",
   "metadata": {
    "slideshow": {
     "slide_type": "subslide"
    }
   },
   "source": [
    "So Tensorflow facilitates analytic function differentiation while hiding the details from the user.\n",
    "- We will see some pseudo-code that shows how this is done\n",
    "- Check out the [Deeper Dive on Computation Graphs](Computation_Graphs.ipynb) if you want to know more"
   ]
  },
  {
   "cell_type": "markdown",
   "metadata": {
    "slideshow": {
     "slide_type": "subslide"
    }
   },
   "source": [
    "By the way: what is a Tensor ?  It is an object with an arbitrary number of dimensions.\n",
    "\n",
    "We use special cases all the time:\n",
    "- A scalar is a tensor of dimension $0$\n",
    "- A vector is a tensor of dimension $1$\n",
    "- A matrix is a tensor of dimension $2$"
   ]
  },
  {
   "cell_type": "markdown",
   "metadata": {
    "slideshow": {
     "slide_type": "subslide"
    }
   },
   "source": [
    "As you've seen, we are already dealing with higher dimensional objects.\n",
    "\n",
    "Consider $\\y$:\n",
    "- $\\y_{\\llp, j, j'}$\n",
    "    - Output of layer $\\ll: \\y_\\llp$\n",
    "    - Unit $j$ of layer $\\ll: \\y_{\\llp, j}$\n",
    "    - Element $j'$ of the output of unit $j$ of layer $\\ll: \\y_{\\llp, j, j'}$"
   ]
  },
  {
   "cell_type": "markdown",
   "metadata": {
    "slideshow": {
     "slide_type": "subslide"
    }
   },
   "source": [
    "In the future we will talk about *sequences* of $\\y$, thus adding another dimension: time.\n",
    "\n",
    "And, don't forget, the \"batch index\" dimension\n",
    "- Tensorflow processes *mini-batches* of examples, not singeltons\n",
    "- $\\y^\\ip_{\\llp, j, j'}$\n",
    "    - Element $j'$ of the output (given input examples $i$) of unit $j$ of layer $\\ll: \\y_{\\llp, j, j'}$\n",
    "\n",
    "The notation will become a little heavy but hopefully understandable as a way of indexing a high dimension object."
   ]
  },
  {
   "cell_type": "markdown",
   "metadata": {
    "slideshow": {
     "slide_type": "slide"
    }
   },
   "source": [
    "# Some \"Why's ?\"\n",
    "\n",
    "## What took so long: Preview\n",
    "\n",
    "An historical perspective:\n",
    "\n",
    "- Perceptron invented 1957\n",
    "- mid-1970's: First \"AI Winter\"\n",
    "- Late 1980's: second \"AI Winter\"\n",
    "- 2010: Re-emergence of AI\n",
    "\n",
    "The promise of AI led to great expectations, that were ultimately unfulfilled.\n",
    "The difficulty was the inability to train networks."
   ]
  },
  {
   "cell_type": "markdown",
   "metadata": {
    "slideshow": {
     "slide_type": "subslide"
    }
   },
   "source": [
    "We will defer a fuller answer to a later lecture.\n",
    "\n",
    "For now: seemingly minor choices were more impactful than imagined\n",
    "- Sigmoid as activation function turned out to be a problematic choice\n",
    "- Initializing $\\W$ properly was more important than imagined"
   ]
  },
  {
   "cell_type": "markdown",
   "metadata": {
    "slideshow": {
     "slide_type": "subslide"
    }
   },
   "source": [
    "- Vanishing/Exploding Gradients\n",
    "    - problems arise when the gradient is effectively  0\n",
    "    - problems also occurs when they are effectively infinite"
   ]
  },
  {
   "cell_type": "markdown",
   "metadata": {
    "slideshow": {
     "slide_type": "subslide"
    }
   },
   "source": [
    "- Computational limits\n",
    "    - It turns out to be quite important to make your NN big; bigger/faster machines help\n",
    "    - Actually: bigger than it needs to be\n",
    "        - many weights wind up near $0$, which renders the neurons useless\n",
    "        - [The Lottery Ticket Hypothesis](https://arxiv.org/abs/1803.03635)\n",
    "            - within a large network is a smaller, easily trained network\n",
    "            - increasing network side increases the chance of large network containing a trainable subset\n",
    "            - [summary](https://towardsdatascience.com/how-the-lottery-ticket-hypothesis-is-challenging-everything-we-knew-about-training-neural-networks-e56da4b0da27)\n"
   ]
  },
  {
   "cell_type": "markdown",
   "metadata": {
    "slideshow": {
     "slide_type": "subslide"
    }
   },
   "source": [
    "## Why do GPU's matter ?\n",
    "\n",
    "GPU (Graphics Processing Unit): specially designed hardware to perform repeated\n",
    "vector multiplications (a typical calculation in graphics processing).\n",
    "\n",
    "- It is not general purpose (like a CPU) but does what it does extremely quickly, and using many\n",
    "more cores than a CPU (typically several thousand).\n",
    "\n",
    "- As matrix multiplication is a fundamental operation of Deep Learning, GPU's have the ability to greatly\n",
    "speed up training (and inference)."
   ]
  },
  {
   "cell_type": "markdown",
   "metadata": {
    "slideshow": {
     "slide_type": "subslide"
    }
   },
   "source": [
    "Google has a further enhancement called a [TPU](https://cloud.google.com/tpu/docs/tpus) (Tensor Processing Unit) to speed both training and inference.\n",
    "-  highly specialized to eliminate bottlenecks (e.g., memory access) in fundamental Deep Learning matrix multiplication.\n",
    "\n",
    "Both GPU's and TPU's \n",
    "- Incur an overhead (a \"set up\" step is needed before calculation).\n",
    "- So speedup only for sufficiently large matrices, or long \"calculation pipelines\" (multiplying \n",
    "different examples by the same weights)."
   ]
  },
  {
   "cell_type": "markdown",
   "metadata": {
    "slideshow": {
     "slide_type": "subslide"
    }
   },
   "source": [
    "DL involves \n",
    "- Multiplying large matrices (each example) \n",
    "- By large matrices (weights, which are same for each example in batch)\n",
    "- Both GPU's and TPU's offer the possibility of large speed ups.\n",
    "\n",
    "- GPU's are **not** necessary\n",
    "    - but they are a **lot** faster\n",
    "    - life changing experience\n",
    "        - 30x faster means your 10 minute run (that ended in a bug) now only takes 20 seconds\n",
    "     - increases your ambition by faster iteration of experimental cycle  "
   ]
  },
  {
   "cell_type": "code",
   "execution_count": 6,
   "metadata": {
    "scrolled": true,
    "slideshow": {
     "slide_type": "slide"
    }
   },
   "outputs": [
    {
     "name": "stdout",
     "output_type": "stream",
     "text": [
      "Done\n"
     ]
    }
   ],
   "source": [
    "print(\"Done\")"
   ]
  }
 ],
 "metadata": {
  "celltoolbar": "Slideshow",
  "kernelspec": {
   "display_name": "Python 3",
   "language": "python",
   "name": "python3"
  },
  "language_info": {
   "codemirror_mode": {
    "name": "ipython",
    "version": 3
   },
   "file_extension": ".py",
   "mimetype": "text/x-python",
   "name": "python",
   "nbconvert_exporter": "python",
   "pygments_lexer": "ipython3",
   "version": "3.7.4"
  },
  "toc": {
   "base_numbering": 1,
   "nav_menu": {},
   "number_sections": true,
   "sideBar": true,
   "skip_h1_title": false,
   "title_cell": "Table of Contents",
   "title_sidebar": "Contents",
   "toc_cell": false,
   "toc_position": {
    "height": "calc(100% - 180px)",
    "left": "10px",
    "top": "150px",
    "width": "370.594px"
   },
   "toc_section_display": true,
   "toc_window_display": true
  }
 },
 "nbformat": 4,
 "nbformat_minor": 2
}
