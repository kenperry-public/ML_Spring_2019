{
 "cells": [
  {
   "cell_type": "code",
   "execution_count": 1,
   "metadata": {
    "slideshow": {
     "slide_type": "notes"
    }
   },
   "outputs": [
    {
     "data": {
      "text/latex": [
       "$$\n",
       "\\newcommand{\\x}{\\mathbf{x}}\n",
       "\\newcommand{\\tx}{\\tilde{\\x}}\n",
       "\\newcommand{\\y}{\\mathbf{y}}\n",
       "\\newcommand{\\b}{\\mathbf{b}}\n",
       "\\newcommand{\\c}{\\mathbf{c}}\n",
       "\\newcommand{\\e}{\\mathbf{e}}\n",
       "\\newcommand{\\z}{\\mathbf{z}}\n",
       "\\newcommand{\\h}{\\mathbf{h}}\n",
       "\\newcommand{\\u}{\\mathbf{u}}\n",
       "\\newcommand{\\v}{\\mathbf{v}}\n",
       "\\newcommand{\\w}{\\mathbf{w}}\n",
       "\\newcommand{\\W}{\\mathbf{W}}\n",
       "\\newcommand{\\X}{\\mathbf{X}}\n",
       "\\newcommand{\\KL}{\\mathbf{KL}}\n",
       "\\newcommand{\\E}{{\\mathbb{E}}}\n",
       "\\newcommand{\\ip}{\\mathbf{{(i)}}}\n",
       "%\n",
       "% Test set\n",
       "\\newcommand{\\xt}{\\underline{\\x}}\n",
       "\\newcommand{\\yt}{\\underline{\\y}}\n",
       "\\newcommand{\\Xt}{\\underline{\\X}}\n",
       "\\newcommand{\\perfm}{\\mathcal{P}}\n",
       "%\n",
       "% \\ll indexes a layer; we can change the actual letter\n",
       "\\newcommand{\\ll}{l}\n",
       "\\newcommand{\\llp}{{(\\ll)}}\n",
       "%\n",
       "\\newcommand{Thetam}{\\Theta_{-0}}\n",
       "\n",
       "% CNN\n",
       "\\newcommand{\\kernel}{\\mathbf{k}} \n",
       "\\newcommand{\\dim}{d}\n",
       "\\newcommand{\\idxspatial}{{\\text{idx}}}\n",
       "\\newcommand{\\summaxact}{\\text{max}}\n",
       "%\n",
       "%\n",
       "\n",
       "% RNN\n",
       "% \\tt indexes a time step\n",
       "\\newcommand{\\tt}{t}\n",
       "\\newcommand{\\tp}{{(\\tt)}}\n",
       "%\n",
       "%\n",
       "\n",
       "% LSTM\n",
       "\\newcommand{\\g}{\\mathbf{g}}\n",
       "\\newcommand{\\remember}{\\mathbf{remember}}\n",
       "\\newcommand{\\save}{\\mathbf{save}}\n",
       "\\newcommand{\\focus}{\\mathbf{focus}}\n",
       "%\n",
       "%\n",
       "% NLP\n",
       "\\newcommand{\\Vocab}{\\mathbf{V}}\n",
       "\\newcommand{\\v}{\\mathbf{v}}\n",
       "\\newcommand{\\offset}{o}\n",
       "\\newcommand{\\o}{o}\n",
       "\\newcommand{\\E}{\\mathbf{E}}\n",
       "%\n",
       "%\n",
       "\\newcommand{\\loss}{\\mathcal{L}}\n",
       "\\newcommand{\\cost}{\\mathcal{L}}\n",
       "%\n",
       "%                     \n",
       "\\newcommand{\\pdata}{p_\\text{data}}\n",
       "\\newcommand{\\pmodel}{p_\\text{model}}\n",
       "%\n",
       "% SVM\n",
       "\\newcommand{\\margin}{{\\mathbb{m}}}\n",
       "\\newcommand{\\lmk}{\\boldsymbol{\\ell}}\n",
       "%\n",
       "% Functions with arguments\n",
       "\\def\\xsy#1#2{#1^#2}\n",
       "\\def\\rand#1{\\tilde{#1}}\n",
       "\\def\\randx{\\rand{\\x}}\n",
       "\\def\\randy{\\rand{\\y}}\n",
       "\\def\\trans#1{\\dot{#1}}\n",
       "\\def\\transx{\\trans{\\x}}\n",
       "\\def\\transy{\\trans{\\y}}\n",
       "%\n",
       "\\def\\argmax#1{\\underset{#1} {\\operatorname{argmax}} }\n",
       "\\def\\argmin#1{\\underset{#1} {\\operatorname{argmin}} }\n",
       "\\def\\max#1{\\underset{#1} {\\operatorname{max}} }\n",
       "\\def\\min#1{\\underset{#1} {\\operatorname{min}} }\n",
       "%\n",
       "\\def\\pr#1{\\mathcal{p}(#1)}\n",
       "\\def\\prc#1#2{\\mathcal{p}(#1 \\; | \\; #2)}\n",
       "\\def\\cnt#1{\\mathcal{count}_{#1}}\n",
       "\\def\\node#1{\\mathbb{#1}}\n",
       "%\n",
       "\\newcommand{\\floor}[1]{\\left\\lfloor #1 \\right\\rfloor}\n",
       "\\newcommand{\\ceil}[1]{\\left\\lceil #1 \\right\\rceil}\n",
       "%\n",
       "\\def\\loc#1{{\\text{##} {#1}}}\n",
       "%\n",
       "$$\n"
      ],
      "text/plain": [
       "<IPython.core.display.Latex object>"
      ]
     },
     "metadata": {},
     "output_type": "display_data"
    }
   ],
   "source": [
    "%run Latex_macros.ipynb"
   ]
  },
  {
   "cell_type": "code",
   "execution_count": 2,
   "metadata": {
    "slideshow": {
     "slide_type": "notes"
    }
   },
   "outputs": [],
   "source": [
    "# My standard magic !  You will see this in almost all my notebooks.\n",
    "\n",
    "from IPython.core.interactiveshell import InteractiveShell\n",
    "InteractiveShell.ast_node_interactivity = \"all\"\n",
    "\n",
    "# Reload all modules imported with %aimport\n",
    "%load_ext autoreload\n",
    "%autoreload 1\n",
    "\n",
    "%matplotlib inline"
   ]
  },
  {
   "cell_type": "code",
   "execution_count": 3,
   "metadata": {
    "slideshow": {
     "slide_type": "notes"
    }
   },
   "outputs": [],
   "source": [
    "import numpy as np\n",
    "import pandas as pd\n",
    "import matplotlib.pyplot as plt\n",
    "\n",
    "import tensorflow as tf"
   ]
  },
  {
   "cell_type": "markdown",
   "metadata": {
    "slideshow": {
     "slide_type": "slide"
    }
   },
   "source": [
    "\n",
    "# Computation graphs\n",
    "\n",
    "## Intuitive explanation\n",
    "\n",
    "When you first look at TensorFlow code, it looks like your familiar imperative program:\n",
    "- familiar operators\n",
    "    - assignment, addition, multiplication\n",
    "    - may overload operators `=`, `+`, `*`\n",
    "    \n"
   ]
  },
  {
   "cell_type": "markdown",
   "metadata": {
    "slideshow": {
     "slide_type": "subslide"
    }
   },
   "source": [
    "Here is some familiar Python"
   ]
  },
  {
   "cell_type": "code",
   "execution_count": 4,
   "metadata": {
    "slideshow": {
     "slide_type": "subslide"
    }
   },
   "outputs": [
    {
     "name": "stdout",
     "output_type": "stream",
     "text": [
      "1\n"
     ]
    }
   ],
   "source": [
    "a = 0\n",
    "b = 1\n",
    "c = a + b\n",
    "\n",
    "print(c)"
   ]
  },
  {
   "cell_type": "markdown",
   "metadata": {
    "slideshow": {
     "slide_type": "subslide"
    }
   },
   "source": [
    "and the very similar looking raw TensorFlow"
   ]
  },
  {
   "cell_type": "code",
   "execution_count": 5,
   "metadata": {
    "slideshow": {
     "slide_type": "subslide"
    }
   },
   "outputs": [
    {
     "name": "stdout",
     "output_type": "stream",
     "text": [
      "tf.Tensor(1, shape=(), dtype=int32)\n"
     ]
    }
   ],
   "source": [
    "a = tf.Variable(0)\n",
    "b = tf.Variable(1)\n",
    "c= tf.add(a,b)\n",
    "\n",
    "print(c)"
   ]
  },
  {
   "cell_type": "markdown",
   "metadata": {
    "slideshow": {
     "slide_type": "subslide"
    }
   },
   "source": [
    "In fact we could have written\n",
    "\n",
    "`c = tf.add(a,b)`\n",
    "\n",
    "as\n",
    "\n",
    "` c = a + b`\n",
    "\n",
    "in order to make Tensorflow look more like Python."
   ]
  },
  {
   "cell_type": "markdown",
   "metadata": {
    "slideshow": {
     "slide_type": "subslide"
    }
   },
   "source": [
    "It is **not** the same.\n",
    "\n",
    "Tensorflow distinguishes between\n",
    "- program declaration/definition\n",
    "- program evaluation/execution"
   ]
  },
  {
   "cell_type": "markdown",
   "metadata": {
    "slideshow": {
     "slide_type": "subslide"
    }
   },
   "source": [
    "**Program declaration**\n",
    "\n",
    "Although the code  *looks* just like ordinary Python, the statements are *defining* a computation,\n",
    "not demanding that the statements be executed immediately.\n",
    "\n",
    "**Program evaluation**\n",
    "- In Tensorflow version 1: \n",
    "You must take  *explicit* steps to execute the program, after passing in initial values\n",
    "- In Tensorflow version 2: no explicit step required (with default *eager execution*)\n"
   ]
  },
  {
   "cell_type": "markdown",
   "metadata": {
    "slideshow": {
     "slide_type": "subslide"
    }
   },
   "source": [
    "The statements in TensorFlow\n",
    "- Are *defining a future computation* (the \"computation graph\")\n",
    "- Think of it a defining the *body* of a function\n",
    "\n",
    "This definition is called a *computation graph*\n"
   ]
  },
  {
   "cell_type": "markdown",
   "metadata": {
    "slideshow": {
     "slide_type": "subslide"
    }
   },
   "source": [
    "By way of analogy:\n",
    "- Your unexecuted Jupyter notebook defines a computation\n",
    "- In order to evaluate the definition (i.e, \"call the function\")\n",
    "    - You must connect the notebook to a run-time (the \"kernel\")\n",
    "    - The run-time contains the program \"state\": the value of variables defined in previously executed cells"
   ]
  },
  {
   "cell_type": "markdown",
   "metadata": {
    "slideshow": {
     "slide_type": "subslide"
    }
   },
   "source": [
    "Even without a kernel, a cell\n",
    "- Is like a function: defines a computation\n",
    "- Whose \"parameters\" are the values on which the cell's statements depend\n",
    "\n",
    "We can still speak about the cell as *defining* a function, even without executing it.\n",
    "\n",
    "A running kernel \"passes\" parameters to this function when you execute the cell."
   ]
  },
  {
   "cell_type": "markdown",
   "metadata": {
    "slideshow": {
     "slide_type": "subslide"
    }
   },
   "source": [
    "In Tensorflow\n",
    "- A statement defines part of a computation graph (like a cell in a notebook)\n",
    "- A *session* must be created to embody the execution state (like the kernel in a notebook)\n",
    "- All statements must be evaluated in the same session in order for your sequence of cells to execute like an imperative program"
   ]
  },
  {
   "cell_type": "markdown",
   "metadata": {
    "slideshow": {
     "slide_type": "subslide"
    }
   },
   "source": [
    "In Tensorflow 1: *you* explicitly created the session (i.e., started the notebook kernel) \n",
    "\n",
    "In Tensorflow 2: a session is automatically created for you\n",
    "- all statements are evaluated immediately in this session\n",
    "- This is called *eager execution*\n",
    "\n",
    "Eager execution was *optional* in Tensorflow 1, and is the *default* in Tensorflow 2."
   ]
  },
  {
   "cell_type": "markdown",
   "metadata": {
    "slideshow": {
     "slide_type": "subslide"
    }
   },
   "source": [
    "We've swept some subtle but important details under the rug.\n",
    "\n",
    "Consider the statement\n",
    "\n",
    "`c = a + b`\n",
    "\n",
    "Whether this appears in the cell of a notebook or as a statement in Tensorflow\n",
    "- This statement implicitly defines a function (we'll call it `foo`)                                           "
   ]
  },
  {
   "cell_type": "code",
   "execution_count": 6,
   "metadata": {
    "slideshow": {
     "slide_type": "subslide"
    }
   },
   "outputs": [],
   "source": [
    "def foo(a,b):\n",
    "    c= a + b\n",
    "    \n",
    "    return c\n",
    "   "
   ]
  },
  {
   "cell_type": "markdown",
   "metadata": {
    "slideshow": {
     "slide_type": "subslide"
    }
   },
   "source": [
    "This function is well-defined even before we execute it.\n",
    "\n",
    "To turn the definition into a value\n",
    "- The kernel/session needs to call the function, passing in values for the paramters\n",
    "\n",
    "`foo(a=0, b=1)`\n"
   ]
  },
  {
   "cell_type": "markdown",
   "metadata": {
    "slideshow": {
     "slide_type": "subslide"
    }
   },
   "source": [
    "Although this seems abstract, the real point is that you can view the statement\n",
    "- As specifying the *manipulation of symbols (algebra)*\n",
    "- Rather than evaluating values\n",
    "- And, most importantly:\n",
    "- Because this is just algebra: we can easily obtain **analytic derivatives**\n",
    "    - Of the statement\n",
    "    - With respect to its parameters"
   ]
  },
  {
   "cell_type": "markdown",
   "metadata": {
    "slideshow": {
     "slide_type": "subslide"
    }
   },
   "source": [
    "Derivatives are the fuel that powers Gradient Descent, the engine of Deep Learning training.\n",
    "\n",
    "That is why viewing your statements/notebook cells as symbolic manipulation is important."
   ]
  },
  {
   "cell_type": "markdown",
   "metadata": {
    "slideshow": {
     "slide_type": "subslide"
    }
   },
   "source": [
    "In Tensorflow, your code is defining a computation graph *along with* the derivatives.\n",
    "- Note that many statements depend on (their functions are parameterized by) the weights\n",
    "- So having the derivative of each statement with respect to the weights\n",
    "- Enables having the derivative of the entire program with respect to the weights"
   ]
  },
  {
   "cell_type": "markdown",
   "metadata": {
    "slideshow": {
     "slide_type": "slide"
    }
   },
   "source": [
    "## Computation graph: a node is an expression, not a value\n",
    "\n",
    "The following is a more Computer Science oriented version of the intuitive explanation.\n",
    "\n",
    "Feel free to gloss over it if the intuitive explanation suffices for you."
   ]
  },
  {
   "cell_type": "markdown",
   "metadata": {
    "slideshow": {
     "slide_type": "slide"
    }
   },
   "source": [
    "Imagine that a variable has two attributes\n",
    "- `c.value`: the current \"value\" of the variable\n",
    "- `c.expr` : the expression that computes `c`\n",
    "\n",
    "When we write\n",
    ">`c = a + b`\n",
    "\n",
    "in our familiar imperative programming languages, this really denotes the imperative\n",
    ">`c.value = a.value + b.value`\n",
    "\n",
    "That is, the string `c = a + b` is a *command* to modify the value of `c`."
   ]
  },
  {
   "cell_type": "markdown",
   "metadata": {
    "slideshow": {
     "slide_type": "subslide"
    }
   },
   "source": [
    "In a declarative program, the string `c = a + b` defines a *function* that computes `c` from two\n",
    "inputs `a, b`\n",
    "\n",
    ">`c.expr = lambda a,b: plus(a,b)`\n",
    "\n",
    "Thus, it's possible to write the string `c = a + b` even before `a, b` have been initialized\n",
    "because `a, b` are just formal parameters to the function `c.expr`."
   ]
  },
  {
   "cell_type": "markdown",
   "metadata": {
    "slideshow": {
     "slide_type": "subslide"
    }
   },
   "source": [
    "In order to *evaluate* `c.expr` (i.e., compute the concrete value `c.value`) we must first evaluate\n",
    "\n",
    ">`a.expr, b.expr`\n",
    "\n",
    "Note that the declarative program distinguishes between *declaring/defining* an expression\n",
    "and *evaluating* it."
   ]
  },
  {
   "cell_type": "markdown",
   "metadata": {
    "slideshow": {
     "slide_type": "subslide"
    }
   },
   "source": [
    "More formally, the `eval` operator (which derives a value from a function) applied to `c` results in\n",
    "\n",
    ">`eval(c.expr) = plus( eval(a.expr), eval(b.expr) )`\n",
    "\n",
    "These in turn might be expressions that depend on other expressions, e.g., \n",
    ">`a.expr = lambda d, e: mult(d,e)`\n",
    "\n",
    "So the evaluation of the top-level expression `c.expr` involves recursively evaluating all\n",
    "expressions on which `c.expr` depends.\n",
    "Eventually the recursion unwinds to a base case in which the expression involves no further computation\n",
    "\n",
    ">`d = lambda: d.value`"
   ]
  },
  {
   "cell_type": "markdown",
   "metadata": {
    "slideshow": {
     "slide_type": "subslide"
    }
   },
   "source": [
    "As we traverse the code of the declarative program, we are defining more and more functions,\n",
    "and dependencies between functions (i.e., some functions consume the results of other functions as arguments).\n",
    "\n",
    "This collection of functions is called a *computation tree*.\n",
    "A computation tree is just a collection of functions and dependencies.\n",
    "A node `c` in the tree has *no concrete* value until we request it to be *evaluated*, which\n",
    "involves \n",
    "- binding concrete values to all leaf nodes of the sub-tree defining `c.expr`\n",
    "- recursively evaluating the nodes on which `c` depends."
   ]
  },
  {
   "cell_type": "code",
   "execution_count": 7,
   "metadata": {
    "slideshow": {
     "slide_type": "slide"
    }
   },
   "outputs": [
    {
     "name": "stdout",
     "output_type": "stream",
     "text": [
      "Done\n"
     ]
    }
   ],
   "source": [
    "print(\"Done\")"
   ]
  }
 ],
 "metadata": {
  "celltoolbar": "Slideshow",
  "kernelspec": {
   "display_name": "Python 3",
   "language": "python",
   "name": "python3"
  },
  "language_info": {
   "codemirror_mode": {
    "name": "ipython",
    "version": 3
   },
   "file_extension": ".py",
   "mimetype": "text/x-python",
   "name": "python",
   "nbconvert_exporter": "python",
   "pygments_lexer": "ipython3",
   "version": "3.7.4"
  },
  "toc": {
   "base_numbering": 1,
   "nav_menu": {},
   "number_sections": true,
   "sideBar": true,
   "skip_h1_title": false,
   "title_cell": "Table of Contents",
   "title_sidebar": "Contents",
   "toc_cell": false,
   "toc_position": {},
   "toc_section_display": true,
   "toc_window_display": false
  }
 },
 "nbformat": 4,
 "nbformat_minor": 2
}
