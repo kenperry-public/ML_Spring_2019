{
 "cells": [
  {
   "cell_type": "code",
   "execution_count": 1,
   "metadata": {
    "slideshow": {
     "slide_type": "notes"
    }
   },
   "outputs": [
    {
     "data": {
      "text/latex": [
       "$$\n",
       "\\newcommand{\\x}{\\mathbf{x}}\n",
       "\\newcommand{\\tx}{\\tilde{\\x}}\n",
       "\\newcommand{\\y}{\\mathbf{y}}\n",
       "\\newcommand{\\b}{\\mathbf{b}}\n",
       "\\newcommand{\\c}{\\mathbf{c}}\n",
       "\\newcommand{\\e}{\\mathbf{e}}\n",
       "\\newcommand{\\z}{\\mathbf{z}}\n",
       "\\newcommand{\\h}{\\mathbf{h}}\n",
       "\\newcommand{\\u}{\\mathbf{u}}\n",
       "\\newcommand{\\v}{\\mathbf{v}}\n",
       "\\newcommand{\\w}{\\mathbf{w}}\n",
       "\\newcommand{\\V}{\\mathbf{V}}\n",
       "\\newcommand{\\W}{\\mathbf{W}}\n",
       "\\newcommand{\\X}{\\mathbf{X}}\n",
       "\\newcommand{\\KL}{\\mathbf{KL}}\n",
       "\\newcommand{\\E}{{\\mathbb{E}}}\n",
       "\\newcommand{\\Reals}{{\\mathbb{R}}}\n",
       "\\newcommand{\\ip}{\\mathbf{{(i)}}}\n",
       "%\n",
       "% Test set\n",
       "\\newcommand{\\xt}{\\underline{\\x}}\n",
       "\\newcommand{\\yt}{\\underline{\\y}}\n",
       "\\newcommand{\\Xt}{\\underline{\\X}}\n",
       "\\newcommand{\\perfm}{\\mathcal{P}}\n",
       "%\n",
       "% \\ll indexes a layer; we can change the actual letter\n",
       "\\newcommand{\\ll}{l}\n",
       "\\newcommand{\\llp}{{(\\ll)}}\n",
       "%\n",
       "\\newcommand{Thetam}{\\Theta_{-0}}\n",
       "\n",
       "% CNN\n",
       "\\newcommand{\\kernel}{\\mathbf{k}} \n",
       "\\newcommand{\\dim}{d}\n",
       "\\newcommand{\\idxspatial}{{\\text{idx}}}\n",
       "\\newcommand{\\summaxact}{\\text{max}}\n",
       "\\newcommand{idxb}{\\mathbf{i}}\n",
       "%\n",
       "%\n",
       "\n",
       "% RNN\n",
       "% \\tt indexes a time step\n",
       "\\newcommand{\\tt}{t}\n",
       "\\newcommand{\\tp}{{(\\tt)}}\n",
       "%\n",
       "%\n",
       "\n",
       "% LSTM\n",
       "\\newcommand{\\g}{\\mathbf{g}}\n",
       "\\newcommand{\\remember}{\\mathbf{remember}}\n",
       "\\newcommand{\\save}{\\mathbf{save}}\n",
       "\\newcommand{\\focus}{\\mathbf{focus}}\n",
       "%\n",
       "%\n",
       "% NLP\n",
       "\\newcommand{\\Vocab}{\\mathbf{V}}\n",
       "\\newcommand{\\v}{\\mathbf{v}}\n",
       "\\newcommand{\\offset}{o}\n",
       "\\newcommand{\\o}{o}\n",
       "\\newcommand{\\Emb}{\\mathbf{E}}\n",
       "%\n",
       "%\n",
       "\\newcommand{\\loss}{\\mathcal{L}}\n",
       "\\newcommand{\\cost}{\\mathcal{L}}\n",
       "%\n",
       "%                     \n",
       "\\newcommand{\\pdata}{p_\\text{data}}\n",
       "\\newcommand{\\pmodel}{p_\\text{model}}\n",
       "%\n",
       "% SVM\n",
       "\\newcommand{\\margin}{{\\mathbb{m}}}\n",
       "\\newcommand{\\lmk}{\\boldsymbol{\\ell}}\n",
       "%\n",
       "%\n",
       "% Functions with arguments\n",
       "\\def\\xsy#1#2{#1^#2}\n",
       "\\def\\rand#1{\\tilde{#1}}\n",
       "\\def\\randx{\\rand{\\x}}\n",
       "\\def\\randy{\\rand{\\y}}\n",
       "\\def\\trans#1{\\dot{#1}}\n",
       "\\def\\transx{\\trans{\\x}}\n",
       "\\def\\transy{\\trans{\\y}}\n",
       "%\n",
       "\\def\\argmax#1{\\underset{#1} {\\operatorname{argmax}} }\n",
       "\\def\\argmin#1{\\underset{#1} {\\operatorname{argmin}} }\n",
       "\\def\\max#1{\\underset{#1} {\\operatorname{max}} }\n",
       "\\def\\min#1{\\underset{#1} {\\operatorname{min}} }\n",
       "%\n",
       "\\def\\pr#1{\\mathcal{p}(#1)}\n",
       "\\def\\prc#1#2{\\mathcal{p}(#1 \\; | \\; #2)}\n",
       "\\def\\cnt#1{\\mathcal{count}_{#1}}\n",
       "\\def\\node#1{\\mathbb{#1}}\n",
       "%\n",
       "\\def\\loc#1{{\\text{##} {#1}}}\n",
       "%\n",
       "\\def\\OrderOf#1{\\mathcal{O}\\left( #1 \\right)}\n",
       "%\n",
       "% Expectation operator\n",
       "\\def\\Exp#1{\\underset{#1} {\\operatorname{\\mathbb{E}}} }\n",
       "%\n",
       "% VAE\n",
       "\\def\\prs#1#2{\\mathcal{p}_{#2}(#1)}\n",
       "\\def\\qr#1{\\mathcal{q}(#1)}\n",
       "\\def\\qrs#1#2{\\mathcal{q}_{#2}(#1)}\n",
       "%\n",
       "% Reinforcement learning\n",
       "\\newcommand{\\Actions}{{\\mathcal{A}}} \n",
       "\\newcommand{\\actseq}{A}\n",
       "\\newcommand{\\act}{a}\n",
       "\\newcommand{\\States}{{\\mathcal{S}}}   \n",
       "\\newcommand{\\stateseq}{S}  \n",
       "\\newcommand{\\state}{s}\n",
       "\\newcommand{\\Rewards}{{\\mathcal{R}}}\n",
       "\\newcommand{\\rewseq}{R}\n",
       "\\newcommand{\\rew}{r}\n",
       "\\newcommand{\\transp}{P}\n",
       "\\newcommand{\\statevalfun}{v}\n",
       "\\newcommand{\\actvalfun}{q}\n",
       "\\newcommand{\\disc}{\\gamma}\n",
       "%\n",
       "%\n",
       "\\newcommand{\\floor}[1]{\\left\\lfloor #1 \\right\\rfloor}\n",
       "\\newcommand{\\ceil}[1]{\\left\\lceil #1 \\right\\rceil}\n",
       "%\n",
       "%\n",
       "$$\n"
      ],
      "text/plain": [
       "<IPython.core.display.Latex object>"
      ]
     },
     "metadata": {},
     "output_type": "display_data"
    }
   ],
   "source": [
    "%run Latex_macros.ipynb\n",
    "%run beautify_plots.py"
   ]
  },
  {
   "cell_type": "code",
   "execution_count": 2,
   "metadata": {
    "slideshow": {
     "slide_type": "notes"
    }
   },
   "outputs": [],
   "source": [
    "# My standard magic !  You will see this in almost all my notebooks.\n",
    "\n",
    "from IPython.core.interactiveshell import InteractiveShell\n",
    "InteractiveShell.ast_node_interactivity = \"all\"\n",
    "\n",
    "# Reload all modules imported with %aimport\n",
    "%load_ext autoreload\n",
    "%autoreload 1\n",
    "%matplotlib inline"
   ]
  },
  {
   "cell_type": "code",
   "execution_count": 3,
   "metadata": {
    "slideshow": {
     "slide_type": "notes"
    }
   },
   "outputs": [],
   "source": [
    "# Standard imports\n",
    "import pandas as pd\n",
    "import numpy as np\n",
    "import matplotlib.pyplot as plt\n",
    "\n",
    "# Common imports\n",
    "import os\n"
   ]
  },
  {
   "cell_type": "markdown",
   "metadata": {
    "slideshow": {
     "slide_type": "slide"
    }
   },
   "source": [
    "# Categorical variables\n",
    "\n",
    "The Classification task introduced us to a type of non-numeric variable called Categorical.\n",
    "\n",
    "A categorical variable\n",
    "- Has a value drawn from a discrete set called *Categories* or *Classes*\n",
    "    - The variable that is the target of a Classification task is Categorical\n",
    "    - Hence the term \"Classification\" when the target is categorical"
   ]
  },
  {
   "cell_type": "markdown",
   "metadata": {
    "slideshow": {
     "slide_type": "subslide"
    }
   },
   "source": [
    "There is **no** ordering relationship between category/class values\n",
    "- { \"Red\", \"Green\", \"Blue\" }  (set notation)\n",
    "- Versus *ordinal* values [ \"Small\", \"Medium\", \"Large\" ] (sequence notation)\n",
    "\n",
    "There is no *magnitude* associated with a categorical value\n",
    "- Even if we could order the colors: how much greater is \"Blue\" than \"Red\" ?            "
   ]
  },
  {
   "cell_type": "markdown",
   "metadata": {
    "slideshow": {
     "slide_type": "subslide"
    }
   },
   "source": [
    "We will use $C$ to denote the set of possible values in a category/class.\n",
    "\n",
    "Since the values in $C$ are unordered, $C$ is mathematically a set of values\n",
    "$$\n",
    "C = \\{ c_1, c_2, \\ldots, \\}\n",
    "$$\n"
   ]
  },
  {
   "cell_type": "markdown",
   "metadata": {
    "slideshow": {
     "slide_type": "subslide"
    }
   },
   "source": [
    "Since values in a category/class aren't ordered, they are often non-numeric.\n",
    "\n",
    "Because computers deal with numbers, we will need to *encode* categorical variables as numbers."
   ]
  },
  {
   "cell_type": "markdown",
   "metadata": {
    "slideshow": {
     "slide_type": "subslide"
    }
   },
   "source": [
    "In our Titanic example for Binary Classification, there were two obvious categorical variables\n",
    "- `Survived` (the target)\n",
    "- `Sex`\n"
   ]
  },
  {
   "cell_type": "markdown",
   "metadata": {
    "slideshow": {
     "slide_type": "subslide"
    }
   },
   "source": [
    "It might have gone unnoticed that the target was categorical\n",
    "- Because\n",
    "the values were given to us encoded as numeric $1$ (Survived) and $0$ (not Survived)\n",
    "\n",
    "We certainly did notice that `Sex` was non-numeric\n",
    "- Because of it's encoding as text.\n",
    "\n",
    "Our point is: don't count on the encoding of raw data in order to determine whether a variable is Categorical \n"
   ]
  },
  {
   "cell_type": "markdown",
   "metadata": {
    "slideshow": {
     "slide_type": "subslide"
    }
   },
   "source": [
    "We will illustrate this point with the `Pclass` variable, which has three possible distinct values.\n",
    "\n",
    "How should we encode a Categorical variable with distinct values from a class $C$ where $||C|| > 2 $?\n",
    "\n",
    "An obvious choice for such a variable is to encode the values with distinct integers.\n",
    "\n",
    "This is usually a **bad** idea !\n",
    "- ordinal\n",
    "- there is both an *ordering* and a *magnitude* implied by the encoding\n"
   ]
  },
  {
   "cell_type": "markdown",
   "metadata": {
    "slideshow": {
     "slide_type": "subslide"
    }
   },
   "source": [
    "The `Pclass` feature  was presented to us encoded as consecutive integers in $\\{ 1, 2, 3\\}$\n",
    "\n",
    "But it could have just as easily been presented encoded as  \n",
    "- { \"First\", \"Second\", \"Third\" }.\n",
    "- or $\\{ 1, 2, 4 \\}$\n",
    "\n",
    "Why is the encoding as $\\{ 1, 2, 3\\}$ any more correct than the encoding as $\\{ 1, 2, 4 \\}$ ?\n",
    "  \n",
    "\n",
    "We will give a fuller answer in the module on Model Interpretation.\n",
    "\n",
    "For now: In a linear model\n",
    "    $$\\hat{\\y} = \\Theta^T  \\x$$\n",
    "- Thus, the contribution of the $j^{th}$ feature $\\x_j$ to prediction $\\hat{\\y}$ is $\\Theta_j * \\x_j$\n",
    " "
   ]
  },
  {
   "cell_type": "markdown",
   "metadata": {
    "slideshow": {
     "slide_type": "subslide"
    }
   },
   "source": [
    "Consider the encoding of $\\text{PClass} \\in \\{ \\text{First, Second, Third} \\}$  as $\\{ 1, 2, 3 \\}$\n",
    "- The contribution to $\\hat\\y$ of an example where $\\text{PClass} = \\text{Third}$\n",
    " is $3$ times greater than when $\\text{PClass} = \\text{First}$ \n",
    "\n",
    "But had the encoding of $\\text{PClass} \\in \\{ \\text{First, Second, Third} \\}$  been $\\{ 1, 2, 4 \\}$\n",
    "- the contribution to $\\hat\\y$ would be $4$ times greater for an example where \n",
    " $\\text{PClass} = \\text{Third}$ versus an example where  $\\text{PClass} = \\text{First}$\n",
    " \n",
    "The arbitrary choice of encoding may have an impact on the prediction."
   ]
  },
  {
   "cell_type": "markdown",
   "metadata": {
    "slideshow": {
     "slide_type": "subslide"
    }
   },
   "source": [
    "**Bottom line**\n",
    "- Consider whether a feature should be treated as categorical *regardless* of the encoding presented\n",
    "- Arbitrary mapping of a categorical value to an integer has consequences\n",
    "    - Avoid it !\n",
    "    \n",
    "We will describe the proper way to encode categorical variables\n",
    "- And revisit the Titanic example, changing `Pclass` from integer to categorical"
   ]
  },
  {
   "cell_type": "markdown",
   "metadata": {
    "slideshow": {
     "slide_type": "slide"
    }
   },
   "source": [
    "# One hot encoding (OHE)\n",
    "\n",
    "So how should we encode a Categorical variable?\n",
    "\n",
    "If the values come from a class \n",
    "$$C  = \\{ c_1, c_2, \\ldots, c_{||C||} \\}$$\n",
    "then the value can be represented\n",
    "- with $||C||$ *binary* variables \n",
    "$$ \\text{Is}_{c_1}, \\text{Is}_{c_2}, \\ldots, \\text{Is}_{c_{||C||}}\n",
    "$$\n",
    "- Each is a binary *indicator* variable\n",
    "- At most one indicator will be true"
   ]
  },
  {
   "cell_type": "markdown",
   "metadata": {
    "slideshow": {
     "slide_type": "slide"
    }
   },
   "source": [
    "\n",
    "Here are the possible encodings for each value in $C$\n",
    "$$\n",
    "\\begin{array}{cccc}\\\\\n",
    "&    & \\text{Is}_{c_1} & \\text{Is}_{c_2} & \\text{Is}_{c_2} & \\ldots & \\text{Is}_{c_{||C||}} \\\\\n",
    "&c_1 & 1    & 0    & 0    &        & 0    \\\\\n",
    "&c_2 & 0    & 1    & 0    &        & 0    \\\\\n",
    "&c_3 & 0    & 0    & 1    &        & 0    \\\\\n",
    "& \\vdots \\\\\n",
    "&c_{||C||} & 0    & 0    & 0    &  \\ldots      & 1    \\\\\n",
    "\\end{array}\n",
    "$$\n",
    "\n",
    "More formally: If the categorical value is $c_k$\n",
    "\n",
    "$$\n",
    "\\begin{array}[lll]\\\\\n",
    "\\text{Is}_{c_j} & = & 1 & \\text{ if } j = k \\\\\n",
    "\\text{Is}_{c_j}& = & 0 & \\text{ if } j \\ne k \\\\\n",
    "\\end{array}\n",
    "$$\n"
   ]
  },
  {
   "cell_type": "markdown",
   "metadata": {
    "slideshow": {
     "slide_type": "subslide"
    }
   },
   "source": [
    "A  Categorical variable can be replaced\n",
    "with $||C||$ binary variables $\\v_1, \\ldots, \\v_{||C||}$\n",
    "\n",
    "- Each an *indicator* or *dummy* variable: $\\v_k$ indicates whether the value is $c_k$ or not\n",
    "    - I like to use the notation $\\text{Is}_{c_k}$ in place of $\\v_k$\n",
    "\n",
    "This is called the **one hot encoding (OHE)** of a Categorical variable.\n",
    "- Because at most one indicator in the representation is non-zero\n",
    "\n",
    "We can use OHE on Categorical variables, whether they be targets or features."
   ]
  },
  {
   "cell_type": "markdown",
   "metadata": {
    "slideshow": {
     "slide_type": "subslide"
    }
   },
   "source": [
    "To be concrete: imagine a few rows from our data set\n",
    "\n",
    "$\n",
    "  \\X' = \\begin{pmatrix}\n",
    "  \\mathbf{const} & \\mathbf{Sex} & \\mathbf{Pclass} \\\\\n",
    "  1 & \\text{Female} & \\text{First} \\\\ \n",
    "  1 & \\text{Female} & \\text{Second} \\\\ \n",
    "  1 & \\text{Male} & \\text{First} \\\\ \n",
    "  1 & \\text{Male} & \\text{Third} \\\\ \n",
    "   \\vdots \\\\\n",
    "  \\end{pmatrix}\n",
    "$"
   ]
  },
  {
   "cell_type": "markdown",
   "metadata": {
    "slideshow": {
     "slide_type": "subslide"
    }
   },
   "source": [
    "After One Hot Encoding:\n",
    "\n",
    "$\n",
    "  \\X'' = \\begin{pmatrix}\n",
    "  \\mathbf{const} & \\mathbf{Is_{Female}} & \\mathbf{Is_{Male}} & \\mathbf{Is_{First}} & \\mathbf{Is_{Second}} & \\mathbf{Is_{Third}}\\\\\n",
    "  1 &  1 & 0 &  1 & 0 & 0 \\\\ \n",
    "  1 &  1 & 0 &  0 & 1 & 0\\\\ \n",
    "  1 &  0 & 1 &  1 & 0 & 0 \\\\ \n",
    "  1 &  0 & 1 &  0 & 0 & 1 \\\\ \n",
    "   \\vdots \\\\\n",
    "  \\end{pmatrix}\n",
    "$"
   ]
  },
  {
   "cell_type": "markdown",
   "metadata": {
    "slideshow": {
     "slide_type": "subslide"
    }
   },
   "source": [
    "OHE can be viewed as a transformation\n",
    "- which increases the number of features\n",
    "- A feature from class $C$ is replaced with $||C||$ binary features\n",
    " \n"
   ]
  },
  {
   "cell_type": "markdown",
   "metadata": {
    "slideshow": {
     "slide_type": "slide"
    }
   },
   "source": [
    "# Categorical features versus categorical targets\n",
    "\n",
    "Although OHE can be applied to features $\\x$ or targets $\\y$,\n",
    "there are some subtle differences in practice"
   ]
  },
  {
   "cell_type": "markdown",
   "metadata": {
    "slideshow": {
     "slide_type": "subslide"
    }
   },
   "source": [
    "## Categorical targets\n",
    "\n",
    "Although we should use OHE to encode the targets, *in practice* you might see targets encoded as integers\n",
    "- Binary targets as 0/1\n",
    "- Other targets as integers\n",
    "    - `sklearn` method `LabelEncoder` does exactly this\n",
    "\n",
    "If it's such a bad idea: why does this happen ?"
   ]
  },
  {
   "cell_type": "markdown",
   "metadata": {
    "slideshow": {
     "slide_type": "subslide"
    }
   },
   "source": [
    "The answer\n",
    "- It **may** not matter *from a coding perspective*\n",
    "    - Often, the code need only be able to *distinguish between* target values\n",
    "        - e.g., restrict the examples to those with a particular value of the target\n",
    "    - So the encoding of values is not important\n",
    "    - In fact: `sklearn` is perfectly happy with non-numeric targets for just this reason !\n",
    " "
   ]
  },
  {
   "cell_type": "markdown",
   "metadata": {
    "slideshow": {
     "slide_type": "subslide"
    }
   },
   "source": [
    "It **may matter** from a mathematical perspective\n",
    "- Negative/Positive will often be encoded by either $0/1$ or $-1/+1$\n",
    "- For example: when Negative/Positive encoding is $-1/ +1$\n",
    "$$\n",
    "    \\begin{array}\\\\\n",
    "    10 + \\y^\\ip & = & 9  & \\text{for Negative example } i \\\\\n",
    "    10 + \\y^\\ip & = & 11 & \\text{for Positive example } i \\\\\n",
    "    \\end{array}\n",
    "    $$\n",
    "\n",
    "You will often see Categorical values manipulated as mathematical objects when they are\n",
    "used to define Loss Functions."
   ]
  },
  {
   "cell_type": "markdown",
   "metadata": {
    "slideshow": {
     "slide_type": "subslide"
    }
   },
   "source": [
    "So please be aware of the purpose for which you are encoding."
   ]
  },
  {
   "cell_type": "markdown",
   "metadata": {
    "slideshow": {
     "slide_type": "slide"
    }
   },
   "source": [
    "## Categorical features\n",
    "\n",
    "We would love to make the blanket statement: Always use OHE for categorical features.\n",
    "\n",
    "Unfortunately, there is one model in which OHE may cause a problem\n",
    "- Linear Regression, with an intercept\n",
    "- There is a simple fix (i.e., an argument to pass to implementations of OHE)\n",
    "\n",
    "The issue is called the *Dummy variable* trap and will be explained in a subsequent module.\n"
   ]
  },
  {
   "cell_type": "markdown",
   "metadata": {
    "slideshow": {
     "slide_type": "slide"
    }
   },
   "source": [
    "# Text: another categorial variables\n",
    "\n",
    "How do you include text variables ? One-hot encoding of the vocabulary !\n",
    "\n",
    "**Example:** Spam filtering (Classification task with target: Is Spam/Is Not Spam)\n",
    "\n",
    "In theory, OHE is the solution\n",
    "- Vocabulary $V$ of possible words\n",
    "- $||V||$ indicator variables"
   ]
  },
  {
   "cell_type": "markdown",
   "metadata": {
    "slideshow": {
     "slide_type": "slide"
    }
   },
   "source": [
    "In practice\n",
    "- Vocabulary can be big ! Lots of variables, lots of memory required using OHE\n",
    "- The representation of a word is \"sparse\": a single $1$ and lots of $0$'s\n",
    "    - no relationship between related words: dog, dogs\n",
    "- Lots of feature engineering possibilities: an ALL CAP feature\n",
    "\n",
    "We will devote a subsequent module to the topic of Natural Language Processing."
   ]
  },
  {
   "cell_type": "markdown",
   "metadata": {
    "slideshow": {
     "slide_type": "slide"
    }
   },
   "source": [
    "# Recap\n",
    "\n",
    "- We introduced methods to deal with non-numeric variables\n",
    "- Unfortunately, there are some nuances\n"
   ]
  },
  {
   "cell_type": "code",
   "execution_count": 4,
   "metadata": {
    "slideshow": {
     "slide_type": "slide"
    }
   },
   "outputs": [
    {
     "name": "stdout",
     "output_type": "stream",
     "text": [
      "Done\n"
     ]
    }
   ],
   "source": [
    "print(\"Done\")"
   ]
  }
 ],
 "metadata": {
  "celltoolbar": "Slideshow",
  "kernelspec": {
   "display_name": "Python 3",
   "language": "python",
   "name": "python3"
  },
  "language_info": {
   "codemirror_mode": {
    "name": "ipython",
    "version": 3
   },
   "file_extension": ".py",
   "mimetype": "text/x-python",
   "name": "python",
   "nbconvert_exporter": "python",
   "pygments_lexer": "ipython3",
   "version": "3.7.4"
  },
  "toc": {
   "base_numbering": 1,
   "nav_menu": {},
   "number_sections": true,
   "sideBar": true,
   "skip_h1_title": false,
   "title_cell": "Table of Contents",
   "title_sidebar": "Contents",
   "toc_cell": false,
   "toc_position": {
    "height": "calc(100% - 180px)",
    "left": "10px",
    "top": "150px",
    "width": "368px"
   },
   "toc_section_display": true,
   "toc_window_display": true
  }
 },
 "nbformat": 4,
 "nbformat_minor": 2
}
