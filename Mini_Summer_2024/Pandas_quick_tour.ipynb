{
 "cells": [
  {
   "cell_type": "code",
   "execution_count": 1,
   "metadata": {},
   "outputs": [],
   "source": [
    "# My standard magic !  You will see this in almost all my notebooks.\n",
    "\n",
    "from IPython.core.interactiveshell import InteractiveShell\n",
    "InteractiveShell.ast_node_interactivity = \"all\"\n",
    "\n",
    "# Reload all modules imported with %aimport\n",
    "%load_ext autoreload\n",
    "%autoreload 1\n",
    "\n",
    "%matplotlib inline"
   ]
  },
  {
   "cell_type": "markdown",
   "metadata": {},
   "source": [
    "# Pandas\n",
    "\n",
    "[VanderPlas Chapter 3](external/PythonDataScienceHandbook/notebooks/03.00-Introduction-to-Pandas.ipynb), [Geron notebook](external/handson-ml/tools_pandas.ipynb)"
   ]
  },
  {
   "cell_type": "code",
   "execution_count": 1,
   "metadata": {},
   "outputs": [],
   "source": [
    "import numpy as np\n",
    "import pandas as pd"
   ]
  },
  {
   "cell_type": "markdown",
   "metadata": {},
   "source": [
    "## Series\n",
    "\n",
    "A Series is like a NumPy ndarray but with *symbolic indexing* (like a Dictionary)"
   ]
  },
  {
   "cell_type": "code",
   "execution_count": 2,
   "metadata": {},
   "outputs": [
    {
     "data": {
      "text/plain": [
       "a    0.25\n",
       "b    0.50\n",
       "c    0.75\n",
       "d    1.00\n",
       "dtype: float64"
      ]
     },
     "execution_count": 2,
     "metadata": {},
     "output_type": "execute_result"
    }
   ],
   "source": [
    "data = pd.Series([0.25, 0.5, 0.75, 1.0],\n",
    "                 index=['a', 'b', 'c', 'd'])\n",
    "data"
   ]
  },
  {
   "cell_type": "markdown",
   "metadata": {},
   "source": [
    "You select elements by using members of the index"
   ]
  },
  {
   "cell_type": "code",
   "execution_count": 3,
   "metadata": {},
   "outputs": [
    {
     "name": "stdout",
     "output_type": "stream",
     "text": [
      "data at 'b':  0.5\n"
     ]
    }
   ],
   "source": [
    "print(\"data at 'b': \", data[\"b\"])"
   ]
  },
  {
   "cell_type": "markdown",
   "metadata": {},
   "source": [
    "A Series looks a little like a Dictionary, but with useful operations like NumPy ndarrays"
   ]
  },
  {
   "cell_type": "code",
   "execution_count": 5,
   "metadata": {},
   "outputs": [
    {
     "data": {
      "text/plain": [
       "2.5"
      ]
     },
     "execution_count": 5,
     "metadata": {},
     "output_type": "execute_result"
    }
   ],
   "source": [
    "data.sum()"
   ]
  },
  {
   "cell_type": "markdown",
   "metadata": {},
   "source": [
    "You can access the index and the values directly.\n",
    "The values are a NumPy ndarray so you can easily integrate with NumPy.\n",
    "\n",
    "The Index is it's own type."
   ]
  },
  {
   "cell_type": "code",
   "execution_count": 6,
   "metadata": {},
   "outputs": [
    {
     "data": {
      "text/plain": [
       "Index(['a', 'b', 'c', 'd'], dtype='object')"
      ]
     },
     "execution_count": 6,
     "metadata": {},
     "output_type": "execute_result"
    },
    {
     "data": {
      "text/plain": [
       "array([0.25, 0.5 , 0.75, 1.  ])"
      ]
     },
     "execution_count": 6,
     "metadata": {},
     "output_type": "execute_result"
    },
    {
     "data": {
      "text/plain": [
       "numpy.ndarray"
      ]
     },
     "execution_count": 6,
     "metadata": {},
     "output_type": "execute_result"
    }
   ],
   "source": [
    "data.index\n",
    "\n",
    "data.values\n",
    "type(data.values)"
   ]
  },
  {
   "cell_type": "markdown",
   "metadata": {},
   "source": [
    "Symbolic indexing is super convenient ! No more \"parallel\" arrays of values and labels."
   ]
  },
  {
   "cell_type": "code",
   "execution_count": 7,
   "metadata": {},
   "outputs": [
    {
     "data": {
      "text/plain": [
       "Index(['2018-01-01', '2018-01-02', '2018-12-31'], dtype='object')"
      ]
     },
     "execution_count": 7,
     "metadata": {},
     "output_type": "execute_result"
    }
   ],
   "source": [
    "data = pd.Series( np.arange(0,3), index=[\"2018-01-01\", \"2018-01-02\", \"2018-12-31\"])\n",
    "data.index"
   ]
  },
  {
   "cell_type": "markdown",
   "metadata": {},
   "source": [
    "## Pandas DataFrame"
   ]
  },
  {
   "cell_type": "markdown",
   "metadata": {},
   "source": [
    "A DataFrame (note the capital \"F\") looks like a table or a 2-D ndarray but with *symbolic indexing* of rows and columns.\n",
    "\n",
    "**Unlike** an ndarray, the columns can be different types."
   ]
  },
  {
   "cell_type": "markdown",
   "metadata": {},
   "source": [
    "### Constructor\n",
    "\n",
    "There are several ways to construct a DataFrame.  Common methods:\n",
    "- list of tuples, each tuple representing a row\n",
    "- list of Dictionaries, each Dictionary representing a row (key/value pairs)\n",
    "- A Dictionary\n",
    "    - where keys are column names\n",
    "    - values are the Series representing a column\n",
    "        - the index of the Series becomes *row* names of the DataFrame"
   ]
  },
  {
   "cell_type": "code",
   "execution_count": 4,
   "metadata": {},
   "outputs": [
    {
     "data": {
      "text/html": [
       "<div>\n",
       "<style scoped>\n",
       "    .dataframe tbody tr th:only-of-type {\n",
       "        vertical-align: middle;\n",
       "    }\n",
       "\n",
       "    .dataframe tbody tr th {\n",
       "        vertical-align: top;\n",
       "    }\n",
       "\n",
       "    .dataframe thead th {\n",
       "        text-align: right;\n",
       "    }\n",
       "</style>\n",
       "<table border=\"1\" class=\"dataframe\">\n",
       "  <thead>\n",
       "    <tr style=\"text-align: right;\">\n",
       "      <th></th>\n",
       "      <th>price</th>\n",
       "      <th>name</th>\n",
       "    </tr>\n",
       "  </thead>\n",
       "  <tbody>\n",
       "    <tr>\n",
       "      <td>FB</td>\n",
       "      <td>150</td>\n",
       "      <td>Facebook</td>\n",
       "    </tr>\n",
       "    <tr>\n",
       "      <td>AAPL</td>\n",
       "      <td>156</td>\n",
       "      <td>Apple</td>\n",
       "    </tr>\n",
       "    <tr>\n",
       "      <td>AMZN</td>\n",
       "      <td>1700</td>\n",
       "      <td>Amazon</td>\n",
       "    </tr>\n",
       "    <tr>\n",
       "      <td>NFLX</td>\n",
       "      <td>340</td>\n",
       "      <td>Netflix</td>\n",
       "    </tr>\n",
       "    <tr>\n",
       "      <td>GOOG</td>\n",
       "      <td>1100</td>\n",
       "      <td>Google</td>\n",
       "    </tr>\n",
       "  </tbody>\n",
       "</table>\n",
       "</div>"
      ],
      "text/plain": [
       "      price      name\n",
       "FB      150  Facebook\n",
       "AAPL    156     Apple\n",
       "AMZN   1700    Amazon\n",
       "NFLX    340   Netflix\n",
       "GOOG   1100    Google"
      ]
     },
     "execution_count": 4,
     "metadata": {},
     "output_type": "execute_result"
    }
   ],
   "source": [
    "prices     = pd.Series( { \"FB\": 150, \"AAPL\": 156, \"AMZN\": 1700, \"NFLX\": 340, \"GOOG\": 1100 } )\n",
    "full_names = pd.Series( { \"FB\": \"Facebook\", \"AAPL\": \"Apple\", \"AMZN\": \"Amazon\", \n",
    "                         \"NFLX\": \"Netflix\", \"GOOG\": \"Google\" \n",
    "                        } )\n",
    "\n",
    "stocks = pd.DataFrame({ \"price\": prices, \"name\": full_names })\n",
    "stocks"
   ]
  },
  {
   "cell_type": "code",
   "execution_count": 5,
   "metadata": {},
   "outputs": [
    {
     "name": "stdout",
     "output_type": "stream",
     "text": [
      "Ticker AMZN: price: 1700, full name: Amazon\n"
     ]
    }
   ],
   "source": [
    "ticker = \"AMZN\"\n",
    "print( \"Ticker {t}: price: {p}, full name: {fn}\".format(t=ticker, \n",
    "                                                        p=stocks.loc[ticker, \"price\"], \n",
    "                                                        fn=stocks.loc[ticker, \"name\"]\n",
    "                                                       )\n",
    "     )"
   ]
  },
  {
   "cell_type": "markdown",
   "metadata": {},
   "source": [
    "Notice how we indexed symbolically into the DataFrame: `stocks.loc[ticker, \"price\"]`\n",
    "\n",
    "More on indexing."
   ]
  },
  {
   "cell_type": "markdown",
   "metadata": {},
   "source": [
    "### Display\n"
   ]
  },
  {
   "cell_type": "code",
   "execution_count": 10,
   "metadata": {},
   "outputs": [
    {
     "data": {
      "text/html": [
       "<div>\n",
       "<style scoped>\n",
       "    .dataframe tbody tr th:only-of-type {\n",
       "        vertical-align: middle;\n",
       "    }\n",
       "\n",
       "    .dataframe tbody tr th {\n",
       "        vertical-align: top;\n",
       "    }\n",
       "\n",
       "    .dataframe thead th {\n",
       "        text-align: right;\n",
       "    }\n",
       "</style>\n",
       "<table border=\"1\" class=\"dataframe\">\n",
       "  <thead>\n",
       "    <tr style=\"text-align: right;\">\n",
       "      <th></th>\n",
       "      <th>price</th>\n",
       "      <th>name</th>\n",
       "    </tr>\n",
       "  </thead>\n",
       "  <tbody>\n",
       "    <tr>\n",
       "      <th>FB</th>\n",
       "      <td>150</td>\n",
       "      <td>Facebook</td>\n",
       "    </tr>\n",
       "    <tr>\n",
       "      <th>AAPL</th>\n",
       "      <td>156</td>\n",
       "      <td>Apple</td>\n",
       "    </tr>\n",
       "  </tbody>\n",
       "</table>\n",
       "</div>"
      ],
      "text/plain": [
       "      price      name\n",
       "FB      150  Facebook\n",
       "AAPL    156     Apple"
      ]
     },
     "execution_count": 10,
     "metadata": {},
     "output_type": "execute_result"
    },
    {
     "data": {
      "text/html": [
       "<div>\n",
       "<style scoped>\n",
       "    .dataframe tbody tr th:only-of-type {\n",
       "        vertical-align: middle;\n",
       "    }\n",
       "\n",
       "    .dataframe tbody tr th {\n",
       "        vertical-align: top;\n",
       "    }\n",
       "\n",
       "    .dataframe thead th {\n",
       "        text-align: right;\n",
       "    }\n",
       "</style>\n",
       "<table border=\"1\" class=\"dataframe\">\n",
       "  <thead>\n",
       "    <tr style=\"text-align: right;\">\n",
       "      <th></th>\n",
       "      <th>price</th>\n",
       "      <th>name</th>\n",
       "    </tr>\n",
       "  </thead>\n",
       "  <tbody>\n",
       "    <tr>\n",
       "      <th>AMZN</th>\n",
       "      <td>1700</td>\n",
       "      <td>Amazon</td>\n",
       "    </tr>\n",
       "    <tr>\n",
       "      <th>NFLX</th>\n",
       "      <td>340</td>\n",
       "      <td>Netflix</td>\n",
       "    </tr>\n",
       "    <tr>\n",
       "      <th>GOOG</th>\n",
       "      <td>1100</td>\n",
       "      <td>Google</td>\n",
       "    </tr>\n",
       "  </tbody>\n",
       "</table>\n",
       "</div>"
      ],
      "text/plain": [
       "      price     name\n",
       "AMZN   1700   Amazon\n",
       "NFLX    340  Netflix\n",
       "GOOG   1100   Google"
      ]
     },
     "execution_count": 10,
     "metadata": {},
     "output_type": "execute_result"
    }
   ],
   "source": [
    "stocks.head(2)\n",
    "\n",
    "stocks.tail(3)"
   ]
  },
  {
   "cell_type": "markdown",
   "metadata": {},
   "source": [
    "### Data Indexing and Selection\n",
    "\n",
    "[VanderPlas](external/PythonDataScienceHandbook/notebooks/03.02-Data-Indexing-and-Selection.ipynb#Data-Indexing-and-Selection)"
   ]
  },
  {
   "cell_type": "markdown",
   "metadata": {},
   "source": [
    "There is more than one way to index, and it gets confusing !\n",
    "\n",
    "Personally, I just use one-way: the `.loc`indexer"
   ]
  },
  {
   "cell_type": "code",
   "execution_count": 11,
   "metadata": {},
   "outputs": [
    {
     "name": "stdout",
     "output_type": "stream",
     "text": [
      "Price column via .price attribute:\n",
      " FB       150\n",
      "AAPL     156\n",
      "AMZN    1700\n",
      "NFLX     340\n",
      "GOOG    1100\n",
      "Name: price, dtype: int64\n",
      "\n",
      "Price column via named column (implicitly the column):\n",
      " FB       150\n",
      "AAPL     156\n",
      "AMZN    1700\n",
      "NFLX     340\n",
      "GOOG    1100\n",
      "Name: price, dtype: int64\n",
      "\n",
      "Price column via .loc indexer:\n",
      " FB       150\n",
      "AAPL     156\n",
      "AMZN    1700\n",
      "NFLX     340\n",
      "GOOG    1100\n",
      "Name: price, dtype: int64\n"
     ]
    }
   ],
   "source": [
    "print(\"Price column via .price attribute:\\n\", stocks.price)\n",
    "\n",
    "# What would happen if \"price\" were in both the row index and the column index ?\n",
    "print(\"\\nPrice column via named column (implicitly the column):\\n\", stocks[\"price\"])\n",
    "\n",
    "print(\"\\nPrice column via .loc indexer:\\n\", stocks.loc[:, \"price\"])"
   ]
  },
  {
   "cell_type": "markdown",
   "metadata": {},
   "source": [
    "#### Common \"gotcha\"\n",
    "\n",
    "Note the difference in return type for the two slightly statements"
   ]
  },
  {
   "cell_type": "code",
   "execution_count": 12,
   "metadata": {},
   "outputs": [
    {
     "name": "stdout",
     "output_type": "stream",
     "text": [
      "Arg. is an array with a single element\n"
     ]
    },
    {
     "data": {
      "text/html": [
       "<div>\n",
       "<style scoped>\n",
       "    .dataframe tbody tr th:only-of-type {\n",
       "        vertical-align: middle;\n",
       "    }\n",
       "\n",
       "    .dataframe tbody tr th {\n",
       "        vertical-align: top;\n",
       "    }\n",
       "\n",
       "    .dataframe thead th {\n",
       "        text-align: right;\n",
       "    }\n",
       "</style>\n",
       "<table border=\"1\" class=\"dataframe\">\n",
       "  <thead>\n",
       "    <tr style=\"text-align: right;\">\n",
       "      <th></th>\n",
       "      <th>price</th>\n",
       "    </tr>\n",
       "  </thead>\n",
       "  <tbody>\n",
       "    <tr>\n",
       "      <th>FB</th>\n",
       "      <td>150</td>\n",
       "    </tr>\n",
       "    <tr>\n",
       "      <th>AAPL</th>\n",
       "      <td>156</td>\n",
       "    </tr>\n",
       "    <tr>\n",
       "      <th>AMZN</th>\n",
       "      <td>1700</td>\n",
       "    </tr>\n",
       "    <tr>\n",
       "      <th>NFLX</th>\n",
       "      <td>340</td>\n",
       "    </tr>\n",
       "    <tr>\n",
       "      <th>GOOG</th>\n",
       "      <td>1100</td>\n",
       "    </tr>\n",
       "  </tbody>\n",
       "</table>\n",
       "</div>"
      ],
      "text/plain": [
       "      price\n",
       "FB      150\n",
       "AAPL    156\n",
       "AMZN   1700\n",
       "NFLX    340\n",
       "GOOG   1100"
      ]
     },
     "execution_count": 12,
     "metadata": {},
     "output_type": "execute_result"
    },
    {
     "data": {
      "text/plain": [
       "pandas.core.frame.DataFrame"
      ]
     },
     "execution_count": 12,
     "metadata": {},
     "output_type": "execute_result"
    },
    {
     "name": "stdout",
     "output_type": "stream",
     "text": [
      "Arg. is a singleton\n"
     ]
    },
    {
     "data": {
      "text/plain": [
       "FB       150\n",
       "AAPL     156\n",
       "AMZN    1700\n",
       "NFLX     340\n",
       "GOOG    1100\n",
       "Name: price, dtype: int64"
      ]
     },
     "execution_count": 12,
     "metadata": {},
     "output_type": "execute_result"
    },
    {
     "data": {
      "text/plain": [
       "pandas.core.series.Series"
      ]
     },
     "execution_count": 12,
     "metadata": {},
     "output_type": "execute_result"
    }
   ],
   "source": [
    "print(\"Arg. is an array with a single element\")\n",
    "stocks.loc[:, [\"price\"] ] \n",
    "type(stocks.loc[:, [\"price\"] ] )\n",
    "\n",
    "print(\"Arg. is a singleton\")\n",
    "stocks.loc[:,  \"price\" ]\n",
    "type(stocks.loc[:,  \"price\" ])"
   ]
  },
  {
   "cell_type": "markdown",
   "metadata": {},
   "source": [
    "#### Index alignment\n",
    "\n",
    "Indices are more than a convenient feature for indexing.  They have semantic meaning in that they align two Series or DataFrames"
   ]
  },
  {
   "cell_type": "code",
   "execution_count": 13,
   "metadata": {},
   "outputs": [
    {
     "data": {
      "text/plain": [
       "a    1\n",
       "b    2\n",
       "d    4\n",
       "dtype: int64"
      ]
     },
     "execution_count": 13,
     "metadata": {},
     "output_type": "execute_result"
    },
    {
     "data": {
      "text/plain": [
       "a    10\n",
       "c    30\n",
       "d    44\n",
       "dtype: int64"
      ]
     },
     "execution_count": 13,
     "metadata": {},
     "output_type": "execute_result"
    },
    {
     "data": {
      "text/plain": [
       "a    11.0\n",
       "b     NaN\n",
       "c     NaN\n",
       "d    48.0\n",
       "dtype: float64"
      ]
     },
     "execution_count": 13,
     "metadata": {},
     "output_type": "execute_result"
    },
    {
     "data": {
      "text/plain": [
       "a    11.0\n",
       "b     NaN\n",
       "c     NaN\n",
       "d    48.0\n",
       "dtype: float64"
      ]
     },
     "execution_count": 13,
     "metadata": {},
     "output_type": "execute_result"
    }
   ],
   "source": [
    "series1 = pd.Series( { \"a\": 1,   \"b\": 2,         \"d\": 4})\n",
    "series2 = pd.Series( { \"a\": 10,         \"c\": 30, \"d\": 44 })\n",
    "\n",
    "series1\n",
    "series2\n",
    "\n",
    "series1 + series2\n",
    "series2 + series1"
   ]
  },
  {
   "cell_type": "markdown",
   "metadata": {},
   "source": [
    "#### Slices\n",
    "\n",
    "You can use slices in Index !\n",
    "\n",
    "Note that, unlike in Python, the upper bound is **inclusive**\n",
    "\n",
    "Slices are particularly useful when you have DatetimeIndex (an index consisting of dates)"
   ]
  },
  {
   "cell_type": "code",
   "execution_count": 14,
   "metadata": {},
   "outputs": [
    {
     "data": {
      "text/html": [
       "<div>\n",
       "<style scoped>\n",
       "    .dataframe tbody tr th:only-of-type {\n",
       "        vertical-align: middle;\n",
       "    }\n",
       "\n",
       "    .dataframe tbody tr th {\n",
       "        vertical-align: top;\n",
       "    }\n",
       "\n",
       "    .dataframe thead th {\n",
       "        text-align: right;\n",
       "    }\n",
       "</style>\n",
       "<table border=\"1\" class=\"dataframe\">\n",
       "  <thead>\n",
       "    <tr style=\"text-align: right;\">\n",
       "      <th></th>\n",
       "      <th>price</th>\n",
       "      <th>name</th>\n",
       "    </tr>\n",
       "  </thead>\n",
       "  <tbody>\n",
       "    <tr>\n",
       "      <th>AMZN</th>\n",
       "      <td>1700</td>\n",
       "      <td>Amazon</td>\n",
       "    </tr>\n",
       "    <tr>\n",
       "      <th>NFLX</th>\n",
       "      <td>340</td>\n",
       "      <td>Netflix</td>\n",
       "    </tr>\n",
       "    <tr>\n",
       "      <th>GOOG</th>\n",
       "      <td>1100</td>\n",
       "      <td>Google</td>\n",
       "    </tr>\n",
       "  </tbody>\n",
       "</table>\n",
       "</div>"
      ],
      "text/plain": [
       "      price     name\n",
       "AMZN   1700   Amazon\n",
       "NFLX    340  Netflix\n",
       "GOOG   1100   Google"
      ]
     },
     "execution_count": 14,
     "metadata": {},
     "output_type": "execute_result"
    }
   ],
   "source": [
    "stocks.loc[\"AMZN\": \"GOOG\"]"
   ]
  },
  {
   "cell_type": "markdown",
   "metadata": {},
   "source": [
    "#### Adding a column\n"
   ]
  },
  {
   "cell_type": "code",
   "execution_count": 15,
   "metadata": {},
   "outputs": [
    {
     "data": {
      "text/html": [
       "<div>\n",
       "<style scoped>\n",
       "    .dataframe tbody tr th:only-of-type {\n",
       "        vertical-align: middle;\n",
       "    }\n",
       "\n",
       "    .dataframe tbody tr th {\n",
       "        vertical-align: top;\n",
       "    }\n",
       "\n",
       "    .dataframe thead th {\n",
       "        text-align: right;\n",
       "    }\n",
       "</style>\n",
       "<table border=\"1\" class=\"dataframe\">\n",
       "  <thead>\n",
       "    <tr style=\"text-align: right;\">\n",
       "      <th></th>\n",
       "      <th>price</th>\n",
       "      <th>name</th>\n",
       "      <th>sector</th>\n",
       "    </tr>\n",
       "  </thead>\n",
       "  <tbody>\n",
       "    <tr>\n",
       "      <th>FB</th>\n",
       "      <td>150</td>\n",
       "      <td>Facebook</td>\n",
       "      <td>Tech</td>\n",
       "    </tr>\n",
       "    <tr>\n",
       "      <th>AAPL</th>\n",
       "      <td>156</td>\n",
       "      <td>Apple</td>\n",
       "      <td>Tech</td>\n",
       "    </tr>\n",
       "    <tr>\n",
       "      <th>AMZN</th>\n",
       "      <td>1700</td>\n",
       "      <td>Amazon</td>\n",
       "      <td>ConsD</td>\n",
       "    </tr>\n",
       "    <tr>\n",
       "      <th>NFLX</th>\n",
       "      <td>340</td>\n",
       "      <td>Netflix</td>\n",
       "      <td>ConsD</td>\n",
       "    </tr>\n",
       "    <tr>\n",
       "      <th>GOOG</th>\n",
       "      <td>1100</td>\n",
       "      <td>Google</td>\n",
       "      <td>NaN</td>\n",
       "    </tr>\n",
       "  </tbody>\n",
       "</table>\n",
       "</div>"
      ],
      "text/plain": [
       "      price      name sector\n",
       "FB      150  Facebook   Tech\n",
       "AAPL    156     Apple   Tech\n",
       "AMZN   1700    Amazon  ConsD\n",
       "NFLX    340   Netflix  ConsD\n",
       "GOOG   1100    Google    NaN"
      ]
     },
     "execution_count": 15,
     "metadata": {},
     "output_type": "execute_result"
    }
   ],
   "source": [
    "stocks[\"sector\"] = pd.Series( { \"FB\": \"Tech\", \"AAPL\": \"Tech\", \"AMZN\": \"ConsD\", \"NFLX\": \"ConsD\"})\n",
    "stocks"
   ]
  },
  {
   "cell_type": "markdown",
   "metadata": {},
   "source": [
    "Note the missing values."
   ]
  },
  {
   "cell_type": "markdown",
   "metadata": {},
   "source": [
    "## Operations on Series and DataFrames\n",
    "\n",
    "The usual suspects, plus vector operations like NumPy.\n",
    "\n",
    "Note that the default `axis=0`, just like NumPy"
   ]
  },
  {
   "cell_type": "code",
   "execution_count": 16,
   "metadata": {},
   "outputs": [
    {
     "data": {
      "text/plain": [
       "689.2"
      ]
     },
     "execution_count": 16,
     "metadata": {},
     "output_type": "execute_result"
    }
   ],
   "source": [
    "stocks.loc[:, \"price\"].mean()"
   ]
  },
  {
   "cell_type": "markdown",
   "metadata": {},
   "source": [
    "### apply"
   ]
  },
  {
   "cell_type": "markdown",
   "metadata": {},
   "source": [
    "There are lots of methods (hard to remember them all).  Don't forget the old standby: `apply`\n",
    "\n",
    "The `apply` method to applies your own function,  either column-wise or row-wise (depending on axis chosen)"
   ]
  },
  {
   "cell_type": "code",
   "execution_count": 17,
   "metadata": {},
   "outputs": [
    {
     "name": "stdout",
     "output_type": "stream",
     "text": [
      "Type of s is <class 'pandas.core.series.Series'>, shape is (5,)\n"
     ]
    },
    {
     "data": {
      "text/plain": [
       "price    689.2\n",
       "dtype: float64"
      ]
     },
     "execution_count": 17,
     "metadata": {},
     "output_type": "execute_result"
    }
   ],
   "source": [
    "def my_func(s):\n",
    "    # If you don't understand what is passed (Series or DataFrame), or whether it it row or column, try this:\n",
    "    print(\"Type of s is {t}, shape is {sh}\".format(t=type(s), sh=s.shape))\n",
    "    \n",
    "    # s is a series \n",
    "    return s.mean()\n",
    "\n",
    "stocks.loc[:, [\"price\"] ].apply(my_func, axis=0)"
   ]
  },
  {
   "cell_type": "markdown",
   "metadata": {},
   "source": [
    "### Database (and Spreadsheet) like operations"
   ]
  },
  {
   "cell_type": "markdown",
   "metadata": {},
   "source": [
    "#### Aggregation and grouping\n",
    "[VanderPlas](external/PythonDataScienceHandbook/notebooks/03.08-Aggregation-and-Grouping.ipynb)"
   ]
  },
  {
   "cell_type": "markdown",
   "metadata": {},
   "source": [
    "The \"split-apply-combine\" paradigm ([VanderPlas](external/PythonDataScienceHandbook/notebooks/03.08-Aggregation-and-Grouping.ipynb#GroupBy:-Split,-Apply,-Combine)) should be familiar to users of SQL, where the operation is called `group by`\n",
    "\n",
    "- split the DataFrame into groups by filtering the rows on some criteria\n",
    "- apply a function to each group, returning another DataFrame\n",
    "- combine the DataFrame from each group result into a single DataFrame\n",
    "\n",
    "![](external/PythonDataScienceHandbook/notebooks/figures/03.08-split-apply-combine.png)"
   ]
  },
  {
   "cell_type": "code",
   "execution_count": 18,
   "metadata": {},
   "outputs": [
    {
     "data": {
      "text/plain": [
       "<pandas.core.groupby.groupby.DataFrameGroupBy object at 0x7f8505b34e80>"
      ]
     },
     "execution_count": 18,
     "metadata": {},
     "output_type": "execute_result"
    }
   ],
   "source": [
    "stocks.groupby(\"sector\")"
   ]
  },
  {
   "cell_type": "code",
   "execution_count": 19,
   "metadata": {},
   "outputs": [
    {
     "data": {
      "text/html": [
       "<div>\n",
       "<style scoped>\n",
       "    .dataframe tbody tr th:only-of-type {\n",
       "        vertical-align: middle;\n",
       "    }\n",
       "\n",
       "    .dataframe tbody tr th {\n",
       "        vertical-align: top;\n",
       "    }\n",
       "\n",
       "    .dataframe thead th {\n",
       "        text-align: right;\n",
       "    }\n",
       "</style>\n",
       "<table border=\"1\" class=\"dataframe\">\n",
       "  <thead>\n",
       "    <tr style=\"text-align: right;\">\n",
       "      <th></th>\n",
       "      <th>price</th>\n",
       "    </tr>\n",
       "    <tr>\n",
       "      <th>sector</th>\n",
       "      <th></th>\n",
       "    </tr>\n",
       "  </thead>\n",
       "  <tbody>\n",
       "    <tr>\n",
       "      <th>ConsD</th>\n",
       "      <td>1020.0</td>\n",
       "    </tr>\n",
       "    <tr>\n",
       "      <th>Tech</th>\n",
       "      <td>153.0</td>\n",
       "    </tr>\n",
       "  </tbody>\n",
       "</table>\n",
       "</div>"
      ],
      "text/plain": [
       "         price\n",
       "sector        \n",
       "ConsD   1020.0\n",
       "Tech     153.0"
      ]
     },
     "execution_count": 19,
     "metadata": {},
     "output_type": "execute_result"
    }
   ],
   "source": [
    "def my_group_func(df):\n",
    "    return df.loc[:, \"price\"].mean()\n",
    "\n",
    "stocks.loc[:, [\"price\", \"sector\"] ].groupby(\"sector\").aggregate(my_group_func)"
   ]
  },
  {
   "cell_type": "markdown",
   "metadata": {},
   "source": [
    "#### Joining, concatenation, pivot\n",
    "\n",
    "[VanderPlas](external/PythonDataScienceHandbook/notebooks/03.07-Merge-and-Join.ipynb#Combining-Datasets:-Merge-and-Join)\n",
    "\n",
    "It is very rare that you are given a single dataset organized exactly as you like.  Often it comes in separate pieces (i.e., from different database tables or vendors) that must be joined.\n",
    "\n",
    "You can combine two DataFrames in a manner just like an SQL join of two tables, where the join column is the Index of the two DataFrames. Remember: Index is used for alignment as well as convenience.\n",
    "\n",
    "We will explore this in our module on Data Transformations."
   ]
  }
 ],
 "metadata": {
  "kernelspec": {
   "display_name": "Python 3",
   "language": "python",
   "name": "python3"
  },
  "language_info": {
   "codemirror_mode": {
    "name": "ipython",
    "version": 3
   },
   "file_extension": ".py",
   "mimetype": "text/x-python",
   "name": "python",
   "nbconvert_exporter": "python",
   "pygments_lexer": "ipython3",
   "version": "3.7.4"
  },
  "toc": {
   "base_numbering": 1,
   "nav_menu": {},
   "number_sections": true,
   "sideBar": true,
   "skip_h1_title": false,
   "title_cell": "Table of Contents",
   "title_sidebar": "Contents",
   "toc_cell": false,
   "toc_position": {},
   "toc_section_display": true,
   "toc_window_display": false
  }
 },
 "nbformat": 4,
 "nbformat_minor": 2
}
