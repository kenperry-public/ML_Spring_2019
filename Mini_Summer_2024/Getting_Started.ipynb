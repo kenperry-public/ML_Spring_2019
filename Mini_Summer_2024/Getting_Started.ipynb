{
 "cells": [
  {
   "cell_type": "markdown",
   "metadata": {
    "slideshow": {
     "slide_type": "subslide"
    }
   },
   "source": [
    "# Technical tools\n",
    "\n",
    "\n",
    "## Jupyter\n",
    "\n",
    "[Jupyter quick tour](Jupyter_quick_tour.ipynb)\n",
    "\n",
    "## NumPy\n",
    "\n",
    "[NumPy quick tour](NumPy_quick_tour.ipynb)\n",
    "\n",
    "## Pandas\n",
    "\n",
    "[Panda quick tour](Pandas_quick_tour.ipynb)"
   ]
  },
  {
   "cell_type": "markdown",
   "metadata": {
    "slideshow": {
     "slide_type": "slide"
    }
   },
   "source": [
    "## Matplotlib\n",
    "[VanderPlas Chapter 4](external/PythonDataScienceHandbook/notebooks/04.00-Introduction-To-Matplotlib.ipynb), [Geron notebook](external/handson-ml/tools_matplotlib.ipynb#Pyplot's-state-machine:-implicit-vs-explicit)\n",
    "\n",
    "**Key point**\n",
    "\n",
    "There are TWO interfaces to Matplotlib\n",
    "\n",
    "- MATLAB style ([VanderPlas](external/PythonDataScienceHandbook/notebooks/04.00-Introduction-To-Matplotlib.ipynb#MATLAB-style-Interface))\n",
    "    - \"state-full\"\n",
    "    - notion of \"active\" plot\n",
    "    - Virtually every text uses this\n",
    "    \n",
    "- Object-oriented ([VanderPlas](external/PythonDataScienceHandbook/notebooks/04.00-Introduction-To-Matplotlib.ipynb#Object-oriented-interface), [Geron](external/handson-ml/tools_matplotlib.ipynb#Pyplot's-state-machine:-implicit-vs-explicit))\n",
    "    - Better style"
   ]
  },
  {
   "cell_type": "code",
   "execution_count": 1,
   "metadata": {
    "slideshow": {
     "slide_type": "slide"
    }
   },
   "outputs": [
    {
     "name": "stdout",
     "output_type": "stream",
     "text": [
      "Done\n"
     ]
    }
   ],
   "source": [
    "print(\"Done\")"
   ]
  }
 ],
 "metadata": {
  "celltoolbar": "Slideshow",
  "kernelspec": {
   "display_name": "Python 3",
   "language": "python",
   "name": "python3"
  },
  "language_info": {
   "codemirror_mode": {
    "name": "ipython",
    "version": 3
   },
   "file_extension": ".py",
   "mimetype": "text/x-python",
   "name": "python",
   "nbconvert_exporter": "python",
   "pygments_lexer": "ipython3",
   "version": "3.7.4"
  },
  "toc": {
   "base_numbering": 1,
   "nav_menu": {},
   "number_sections": true,
   "sideBar": true,
   "skip_h1_title": false,
   "title_cell": "Table of Contents",
   "title_sidebar": "Contents",
   "toc_cell": false,
   "toc_position": {
    "height": "calc(100% - 180px)",
    "left": "10px",
    "top": "150px",
    "width": "368px"
   },
   "toc_section_display": true,
   "toc_window_display": false
  }
 },
 "nbformat": 4,
 "nbformat_minor": 2
}
