{
 "cells": [
  {
   "cell_type": "code",
   "execution_count": 1,
   "metadata": {
    "slideshow": {
     "slide_type": "notes"
    }
   },
   "outputs": [
    {
     "data": {
      "text/latex": [
       "$$\n",
       "\\newcommand{\\x}{\\mathbf{x}}\n",
       "\\newcommand{\\tx}{\\tilde{\\x}}\n",
       "\\newcommand{\\y}{\\mathbf{y}}\n",
       "\\newcommand{\\b}{\\mathbf{b}}\n",
       "\\newcommand{\\c}{\\mathbf{c}}\n",
       "\\newcommand{\\e}{\\mathbf{e}}\n",
       "\\newcommand{\\z}{\\mathbf{z}}\n",
       "\\newcommand{\\h}{\\mathbf{h}}\n",
       "\\newcommand{\\u}{\\mathbf{u}}\n",
       "\\newcommand{\\v}{\\mathbf{v}}\n",
       "\\newcommand{\\w}{\\mathbf{w}}\n",
       "\\newcommand{\\V}{\\mathbf{V}}\n",
       "\\newcommand{\\W}{\\mathbf{W}}\n",
       "\\newcommand{\\X}{\\mathbf{X}}\n",
       "\\newcommand{\\KL}{\\mathbf{KL}}\n",
       "\\newcommand{\\E}{{\\mathbb{E}}}\n",
       "\\newcommand{\\Reals}{{\\mathbb{R}}}\n",
       "\\newcommand{\\ip}{\\mathbf{{(i)}}}\n",
       "%\n",
       "% Test set\n",
       "\\newcommand{\\xt}{\\underline{\\x}}\n",
       "\\newcommand{\\yt}{\\underline{\\y}}\n",
       "\\newcommand{\\Xt}{\\underline{\\X}}\n",
       "\\newcommand{\\perfm}{\\mathcal{P}}\n",
       "%\n",
       "% \\ll indexes a layer; we can change the actual letter\n",
       "\\newcommand{\\ll}{l}\n",
       "\\newcommand{\\llp}{{(\\ll)}}\n",
       "%\n",
       "\\newcommand{Thetam}{\\Theta_{-0}}\n",
       "\n",
       "% CNN\n",
       "\\newcommand{\\kernel}{\\mathbf{k}} \n",
       "\\newcommand{\\dim}{d}\n",
       "\\newcommand{\\idxspatial}{{\\text{idx}}}\n",
       "\\newcommand{\\summaxact}{\\text{max}}\n",
       "%\n",
       "%\n",
       "\n",
       "% RNN\n",
       "% \\tt indexes a time step\n",
       "\\newcommand{\\tt}{t}\n",
       "\\newcommand{\\tp}{{(\\tt)}}\n",
       "%\n",
       "%\n",
       "\n",
       "% LSTM\n",
       "\\newcommand{\\g}{\\mathbf{g}}\n",
       "\\newcommand{\\remember}{\\mathbf{remember}}\n",
       "\\newcommand{\\save}{\\mathbf{save}}\n",
       "\\newcommand{\\focus}{\\mathbf{focus}}\n",
       "%\n",
       "%\n",
       "% NLP\n",
       "\\newcommand{\\Vocab}{\\mathbf{V}}\n",
       "\\newcommand{\\v}{\\mathbf{v}}\n",
       "\\newcommand{\\offset}{o}\n",
       "\\newcommand{\\o}{o}\n",
       "\\newcommand{\\Emb}{\\mathbf{E}}\n",
       "%\n",
       "%\n",
       "\\newcommand{\\loss}{\\mathcal{L}}\n",
       "\\newcommand{\\cost}{\\mathcal{L}}\n",
       "%\n",
       "%                     \n",
       "\\newcommand{\\pdata}{p_\\text{data}}\n",
       "\\newcommand{\\pmodel}{p_\\text{model}}\n",
       "%\n",
       "% SVM\n",
       "\\newcommand{\\margin}{{\\mathbb{m}}}\n",
       "\\newcommand{\\lmk}{\\boldsymbol{\\ell}}\n",
       "%\n",
       "%\n",
       "% Functions with arguments\n",
       "\\def\\xsy#1#2{#1^#2}\n",
       "\\def\\rand#1{\\tilde{#1}}\n",
       "\\def\\randx{\\rand{\\x}}\n",
       "\\def\\randy{\\rand{\\y}}\n",
       "\\def\\trans#1{\\dot{#1}}\n",
       "\\def\\transx{\\trans{\\x}}\n",
       "\\def\\transy{\\trans{\\y}}\n",
       "%\n",
       "\\def\\argmax#1{\\underset{#1} {\\operatorname{argmax}} }\n",
       "\\def\\argmin#1{\\underset{#1} {\\operatorname{argmin}} }\n",
       "\\def\\max#1{\\underset{#1} {\\operatorname{max}} }\n",
       "\\def\\min#1{\\underset{#1} {\\operatorname{min}} }\n",
       "%\n",
       "\\def\\pr#1{\\mathcal{p}(#1)}\n",
       "\\def\\prc#1#2{\\mathcal{p}(#1 \\; | \\; #2)}\n",
       "\\def\\cnt#1{\\mathcal{count}_{#1}}\n",
       "\\def\\node#1{\\mathbb{#1}}\n",
       "%\n",
       "\\def\\loc#1{{\\text{##} {#1}}}\n",
       "%\n",
       "\\def\\OrderOf#1{\\mathcal{O}\\left( #1 \\right)}\n",
       "%\n",
       "% Expectation operator\n",
       "\\def\\Exp#1{\\underset{#1} {\\operatorname{\\mathbb{E}}} }\n",
       "%\n",
       "% VAE\n",
       "\\def\\prs#1#2{\\mathcal{p}_{#2}(#1)}\n",
       "\\def\\qr#1{\\mathcal{q}(#1)}\n",
       "\\def\\qrs#1#2{\\mathcal{q}_{#2}(#1)}\n",
       "%\n",
       "% Reinforcement learning\n",
       "\\newcommand{\\Actions}{{\\mathcal{A}}} \n",
       "\\newcommand{\\actseq}{A}\n",
       "\\newcommand{\\act}{a}\n",
       "\\newcommand{\\States}{{\\mathcal{S}}}   \n",
       "\\newcommand{\\stateseq}{S}  \n",
       "\\newcommand{\\state}{s}\n",
       "\\newcommand{\\Rewards}{{\\mathcal{R}}}\n",
       "\\newcommand{\\rewseq}{R}\n",
       "\\newcommand{\\rew}{r}\n",
       "\\newcommand{\\transp}{P}\n",
       "\\newcommand{\\statevalfun}{v}\n",
       "\\newcommand{\\actvalfun}{q}\n",
       "\\newcommand{\\disc}{\\gamma}\n",
       "%\n",
       "%\n",
       "\\newcommand{\\floor}[1]{\\left\\lfloor #1 \\right\\rfloor}\n",
       "\\newcommand{\\ceil}[1]{\\left\\lceil #1 \\right\\rceil}\n",
       "%\n",
       "%\n",
       "$$\n"
      ],
      "text/plain": [
       "<IPython.core.display.Latex object>"
      ]
     },
     "metadata": {},
     "output_type": "display_data"
    }
   ],
   "source": [
    "%run Latex_macros.ipynb \n",
    "%run beautify_plots.py"
   ]
  },
  {
   "cell_type": "code",
   "execution_count": 2,
   "metadata": {
    "slideshow": {
     "slide_type": "notes"
    }
   },
   "outputs": [],
   "source": [
    "# My standard magic !  You will see this in almost all my notebooks.\n",
    "\n",
    "from IPython.core.interactiveshell import InteractiveShell\n",
    "InteractiveShell.ast_node_interactivity = \"all\"\n",
    "\n",
    "# Reload all modules imported with %aimport\n",
    "%load_ext autoreload\n",
    "%autoreload 1\n",
    "\n",
    "%matplotlib inline"
   ]
  },
  {
   "cell_type": "code",
   "execution_count": 3,
   "metadata": {
    "slideshow": {
     "slide_type": "notes"
    }
   },
   "outputs": [],
   "source": [
    "import numpy as np\n",
    "import pandas as pd\n",
    "import matplotlib.pyplot as plt\n",
    "         \n",
    "    \n",
    "from sklearn import datasets, linear_model\n",
    "from sklearn.metrics import mean_squared_error, r2_score\n",
    "\n",
    "import recipe_helper\n",
    "%aimport recipe_helper\n"
   ]
  },
  {
   "cell_type": "markdown",
   "metadata": {
    "slideshow": {
     "slide_type": "slide"
    }
   },
   "source": [
    "# Overview\n",
    "\n",
    "## Goals\n",
    "- Learn the \"Recipe for Machine Learning\"\n",
    "    - a *systematic approach* to problem solving\n",
    "    - a formal way of presenting your ideas\n",
    "- Terminology\n",
    "- Introduction to the sklearn API\n",
    "    "
   ]
  },
  {
   "cell_type": "markdown",
   "metadata": {
    "slideshow": {
     "slide_type": "slide"
    }
   },
   "source": [
    "# Recipe for ML\n",
    "\n",
    "How to approach a problem\n",
    "\n",
    "How to present a solution\n",
    "- This is our model for how to write a notebook\n",
    "- Checklist in Appendix B as a template for problem-solving (and writing notebooks)"
   ]
  },
  {
   "cell_type": "markdown",
   "metadata": {
    "slideshow": {
     "slide_type": "slide"
    }
   },
   "source": [
    "Machine Learning is a **process**, not just a collection of models\n",
    "- multiple steps\n",
    "- iterative\n",
    "- Focus only on Model ? Mistake !\n",
    "    - Exploratory Data Analysis will inform you decisions\n",
    "    - Transformations often the secret to success"
   ]
  },
  {
   "cell_type": "markdown",
   "metadata": {
    "slideshow": {
     "slide_type": "slide"
    }
   },
   "source": [
    "<center><b>Process</b>\n",
    "<img src=images/W1_L3_S4_ML_Process.png>\n",
    "</center>"
   ]
  },
  {
   "cell_type": "markdown",
   "metadata": {
    "slideshow": {
     "slide_type": "subslide"
    }
   },
   "source": [
    "We will illustrate this with a toy example, and introduce our first model (Linear Regression) at the same time.\n",
    "\n",
    "This will be very high level.\n",
    "\n",
    "We will make a second pass over the topics we gloss over on the first pass."
   ]
  },
  {
   "cell_type": "markdown",
   "metadata": {
    "slideshow": {
     "slide_type": "slide"
    }
   },
   "source": [
    "# Recipe step A: Get the data\n",
    "\n",
    "## Frame the problem\n",
    "- What problem are we trying to solve ?\n",
    "- Why is it important ?\n",
    "- Define terms\n"
   ]
  },
  {
   "cell_type": "markdown",
   "metadata": {
    "slideshow": {
     "slide_type": "subslide"
    }
   },
   "source": [
    "We will illustrate with a toy problem:\n",
    "\n",
    "We are in the real-estate business.\n",
    "The general belief is that larger houses command higher prices.\n",
    "To test this, we gathered a history of home sales with associated house size and price.\n",
    "\n",
    "A seller asks us to appraise her house.  Our problem is to predict a price for her home, given it's size.\n",
    "\n",
    "Our observations are (size, price) pairs.  The \"target\" we seek to predict is price.\n"
   ]
  },
  {
   "cell_type": "markdown",
   "metadata": {
    "slideshow": {
     "slide_type": "slide"
    }
   },
   "source": [
    "## Recipe A.1: Get the data\n",
    "\n",
    "- The dirty secret of ML: Getting the data (and cleaning it) is 70-80% of the effort !"
   ]
  },
  {
   "cell_type": "markdown",
   "metadata": {
    "slideshow": {
     "slide_type": "slide"
    }
   },
   "source": [
    "- Data usually doesn't come in a neatly wrapped package\n",
    "    - Multiple data sources/formats; tables need to be joined\n",
    "    - Once you have the data it may need to be:\n",
    "        - cleaned: deal with missing values and outliers\n",
    "        - normalized, transformed, feature selection/creation\n",
    "    - Pandas is very useful for wrangling data "
   ]
  },
  {
   "cell_type": "markdown",
   "metadata": {
    "slideshow": {
     "slide_type": "subslide"
    }
   },
   "source": [
    "In this toy example I will give you a simple function that gives you the data in near-final form.\n",
    " - Don't expect this to happen too often !\n",
    " - We will revisit this topic in depth"
   ]
  },
  {
   "cell_type": "code",
   "execution_count": 4,
   "metadata": {
    "slideshow": {
     "slide_type": "subslide"
    }
   },
   "outputs": [],
   "source": [
    "# I will give you the data via a function (so I can easily alter the data in subsequent examples)\n",
    "v1, a1 = 1, .005\n",
    "lin = recipe_helper.Recipe_Helper(v = v1, a = a1)\n",
    "\n",
    "X_lin, y_lin = lin.gen_data(num=50)\n"
   ]
  },
  {
   "cell_type": "markdown",
   "metadata": {
    "slideshow": {
     "slide_type": "subslide"
    }
   },
   "source": [
    "<img src=\"images/Back_to_parent.jpg\">"
   ]
  },
  {
   "cell_type": "markdown",
   "metadata": {
    "slideshow": {
     "slide_type": "slide"
    }
   },
   "source": [
    "## Recipe A.2: Have a look at the data\n",
    "\n",
    "Let's have a quick look at our data.\n",
    "- We will use Pandas to start (and will become our regular practice)\n",
    "- We will also show how to examine the data without Pandas\n",
    "\n"
   ]
  },
  {
   "cell_type": "code",
   "execution_count": 5,
   "metadata": {
    "slideshow": {
     "slide_type": "subslide"
    }
   },
   "outputs": [
    {
     "name": "stdout",
     "output_type": "stream",
     "text": [
      "<class 'pandas.core.frame.DataFrame'>\n",
      "RangeIndex: 50 entries, 0 to 49\n",
      "Data columns (total 2 columns):\n",
      "X    50 non-null float64\n",
      "y    50 non-null float64\n",
      "dtypes: float64(2)\n",
      "memory usage: 928.0 bytes\n"
     ]
    },
    {
     "data": {
      "text/html": [
       "<div>\n",
       "<style scoped>\n",
       "    .dataframe tbody tr th:only-of-type {\n",
       "        vertical-align: middle;\n",
       "    }\n",
       "\n",
       "    .dataframe tbody tr th {\n",
       "        vertical-align: top;\n",
       "    }\n",
       "\n",
       "    .dataframe thead th {\n",
       "        text-align: right;\n",
       "    }\n",
       "</style>\n",
       "<table border=\"1\" class=\"dataframe\">\n",
       "  <thead>\n",
       "    <tr style=\"text-align: right;\">\n",
       "      <th></th>\n",
       "      <th>X</th>\n",
       "      <th>y</th>\n",
       "    </tr>\n",
       "  </thead>\n",
       "  <tbody>\n",
       "    <tr>\n",
       "      <td>0</td>\n",
       "      <td>200.00</td>\n",
       "      <td>122.000000</td>\n",
       "    </tr>\n",
       "    <tr>\n",
       "      <td>1</td>\n",
       "      <td>218.36</td>\n",
       "      <td>124.220054</td>\n",
       "    </tr>\n",
       "    <tr>\n",
       "      <td>2</td>\n",
       "      <td>237.44</td>\n",
       "      <td>126.562888</td>\n",
       "    </tr>\n",
       "    <tr>\n",
       "      <td>3</td>\n",
       "      <td>257.24</td>\n",
       "      <td>129.032621</td>\n",
       "    </tr>\n",
       "    <tr>\n",
       "      <td>4</td>\n",
       "      <td>277.76</td>\n",
       "      <td>131.633531</td>\n",
       "    </tr>\n",
       "  </tbody>\n",
       "</table>\n",
       "</div>"
      ],
      "text/plain": [
       "        X           y\n",
       "0  200.00  122.000000\n",
       "1  218.36  124.220054\n",
       "2  237.44  126.562888\n",
       "3  257.24  129.032621\n",
       "4  277.76  131.633531"
      ]
     },
     "execution_count": 5,
     "metadata": {},
     "output_type": "execute_result"
    },
    {
     "data": {
      "text/html": [
       "<div>\n",
       "<style scoped>\n",
       "    .dataframe tbody tr th:only-of-type {\n",
       "        vertical-align: middle;\n",
       "    }\n",
       "\n",
       "    .dataframe tbody tr th {\n",
       "        vertical-align: top;\n",
       "    }\n",
       "\n",
       "    .dataframe thead th {\n",
       "        text-align: right;\n",
       "    }\n",
       "</style>\n",
       "<table border=\"1\" class=\"dataframe\">\n",
       "  <thead>\n",
       "    <tr style=\"text-align: right;\">\n",
       "      <th></th>\n",
       "      <th>X</th>\n",
       "      <th>y</th>\n",
       "    </tr>\n",
       "  </thead>\n",
       "  <tbody>\n",
       "    <tr>\n",
       "      <td>count</td>\n",
       "      <td>50.000000</td>\n",
       "      <td>50.000000</td>\n",
       "    </tr>\n",
       "    <tr>\n",
       "      <td>mean</td>\n",
       "      <td>932.060000</td>\n",
       "      <td>250.093400</td>\n",
       "    </tr>\n",
       "    <tr>\n",
       "      <td>std</td>\n",
       "      <td>523.929572</td>\n",
       "      <td>106.549879</td>\n",
       "    </tr>\n",
       "    <tr>\n",
       "      <td>min</td>\n",
       "      <td>200.000000</td>\n",
       "      <td>122.000000</td>\n",
       "    </tr>\n",
       "    <tr>\n",
       "      <td>25%</td>\n",
       "      <td>474.590000</td>\n",
       "      <td>158.727618</td>\n",
       "    </tr>\n",
       "    <tr>\n",
       "      <td>50%</td>\n",
       "      <td>857.180000</td>\n",
       "      <td>222.471755</td>\n",
       "    </tr>\n",
       "    <tr>\n",
       "      <td>75%</td>\n",
       "      <td>1347.770000</td>\n",
       "      <td>325.619580</td>\n",
       "    </tr>\n",
       "    <tr>\n",
       "      <td>max</td>\n",
       "      <td>1946.360000</td>\n",
       "      <td>484.051862</td>\n",
       "    </tr>\n",
       "  </tbody>\n",
       "</table>\n",
       "</div>"
      ],
      "text/plain": [
       "                 X           y\n",
       "count    50.000000   50.000000\n",
       "mean    932.060000  250.093400\n",
       "std     523.929572  106.549879\n",
       "min     200.000000  122.000000\n",
       "25%     474.590000  158.727618\n",
       "50%     857.180000  222.471755\n",
       "75%    1347.770000  325.619580\n",
       "max    1946.360000  484.051862"
      ]
     },
     "execution_count": 5,
     "metadata": {},
     "output_type": "execute_result"
    }
   ],
   "source": [
    "import pandas as pd\n",
    "df = pd.DataFrame( { \"X\": X_lin.ravel(), \"y\":y_lin.ravel()})\n",
    "\n",
    "df.info()\n",
    "\n",
    "df.head()\n",
    "df.describe()\n",
    "\n"
   ]
  },
  {
   "cell_type": "markdown",
   "metadata": {
    "slideshow": {
     "slide_type": "subslide"
    }
   },
   "source": [
    "- `df.info()` tells us about each feature/attribute\n",
    "    - the number of examples\n",
    "    - all features and the target are numeric (`float64`)\n",
    "    - all are non-null (so we don't have a missing data issue to deal with)"
   ]
  },
  {
   "cell_type": "markdown",
   "metadata": {
    "slideshow": {
     "slide_type": "subslide"
    }
   },
   "source": [
    "- `df.head()` shows us the first few examples\n",
    "    - Nothing like seeing the data"
   ]
  },
  {
   "cell_type": "markdown",
   "metadata": {
    "slideshow": {
     "slide_type": "subslide"
    }
   },
   "source": [
    "`df.describe()` gives us a quick look at the statistical distribution\n",
    "- range (min, max) of features and target\n",
    "- mean, standard deviation"
   ]
  },
  {
   "cell_type": "markdown",
   "metadata": {
    "slideshow": {
     "slide_type": "subslide"
    }
   },
   "source": [
    "A common, unwanted surprise sometimes becomes apparent on the first look\n",
    "- examples are often given in a **non-random order**, e.g., sorted by target\n",
    "\n",
    "This can be a problem\n",
    "- the split into train/test datasets will not be from the same distribution\n",
    "- the training examples won't be presented to the model in random order\n",
    "\n",
    "The simple solution: shuffle the examples before doing anything else !"
   ]
  },
  {
   "cell_type": "markdown",
   "metadata": {
    "slideshow": {
     "slide_type": "slide"
    }
   },
   "source": [
    "<div class=\"alert alert-block alert-success\">\n",
    "<b>TIP</b>\n",
    "\n",
    "- We have named the features `X_lin` and targets  `y_lin`, rather than generic `X,y`\n",
    "- You will probably come to regret calling variables with generic names like ` X, y`.\n",
    "- You often find yourself modifying these values.  If you try to re-run a previous cell after having modified `X and y`, you will get <b>different</b> results which you will find confusing.    \n",
    "</div>  "
   ]
  },
  {
   "cell_type": "markdown",
   "metadata": {
    "slideshow": {
     "slide_type": "slide"
    }
   },
   "source": [
    "\n",
    "<div class=\"alert alert-block alert-success\">\n",
    "<b>TIP</b>\n",
    "\n",
    "- We have created a class object `lin` with method `gen_data` to generate our data, rather than using inline code\n",
    "- Inline code is not immediately reusable other than by copying and pasting\n",
    "- Copy-and-paste in notebooks is discouraged: it is error-prone (hard to be consistent once you make a change) and not very re-usable.\n",
    "\n",
    "- Invest the time into creating routines.  Even better: create Python Classes, with flexible, reusable methods.\n",
    " </div>"
   ]
  },
  {
   "cell_type": "markdown",
   "metadata": {
    "slideshow": {
     "slide_type": "slide"
    }
   },
   "source": [
    "<div class=\"alert alert-block alert-success\">\n",
    "<b>TIP</b>\n",
    "\n",
    "**Learning Jupyter:** How can ? and ??  help you\n",
    "\n",
    "- What does `gen_data` do ? Try: `lin.gen_data?` to see the signature.\n",
    "- What is the *code* for `gen_data`? Try: `lin.gen_data??` to see the code (only way to truly understand)"
   ]
  },
  {
   "cell_type": "code",
   "execution_count": 6,
   "metadata": {
    "slideshow": {
     "slide_type": "subslide"
    }
   },
   "outputs": [],
   "source": [
    "# Uncomment the below line to see the \"help\" and \"code\" for the gen_data method\n",
    "#lin.gen_data?\n",
    "# lin.gen_data??"
   ]
  },
  {
   "cell_type": "markdown",
   "metadata": {
    "slideshow": {
     "slide_type": "slide"
    }
   },
   "source": [
    "### Have a look without using Pandas\n",
    "\n",
    "I highly encourage (and will heavily) use Pandas to manipulate data.\n",
    "\n",
    "If, for some reason, you don't have Pandas, plain `numpy` will suffice"
   ]
  },
  {
   "cell_type": "code",
   "execution_count": 7,
   "metadata": {
    "slideshow": {
     "slide_type": "subslide"
    }
   },
   "outputs": [
    {
     "name": "stdout",
     "output_type": "stream",
     "text": [
      "y:\n",
      " size=50\n",
      " mean=250.09339978400013\n",
      " std=105.47899893490593\n",
      " min=122.0\n",
      " max=484.0518624800006\n",
      "\n"
     ]
    }
   ],
   "source": [
    "print(\"y:\\n size={}\\n mean={}\\n std={}\\n min={}\\n max={}\\n\".format( \n",
    "      y_lin.size,  y_lin.mean(), y_lin.std(), y_lin.min(), y_lin.max()\n",
    "                                                                  )\n",
    "     )"
   ]
  },
  {
   "cell_type": "code",
   "execution_count": 8,
   "metadata": {
    "slideshow": {
     "slide_type": "subslide"
    }
   },
   "outputs": [
    {
     "name": "stdout",
     "output_type": "stream",
     "text": [
      "y_lin.std() = 105.48, df[\"Y\"].std() = 106.55\n",
      "After correcting for denominator, difference=0.00\n"
     ]
    }
   ],
   "source": [
    "# For the sharp-eyed: note the difference between y_lin.std() and df[\"Y\"].std()\n",
    "# We prove below that this is because they are using different denominators (population vs sample) in the std. deviation calculation\n",
    "print(\"y_lin.std() = {ys:3.2f}, df[\\\"Y\\\"].std() = {Ys:3.2f}\".format(ys=y_lin.std(), Ys=df[\"y\"].std()) )\n",
    "      \n",
    "print (\"After correcting for denominator, difference={diff:2.2f}\".format(\n",
    "    diff= (y_lin.size *y_lin.std()**2) -  ( (y_lin.size-1) * df[\"y\"].std()**2 ) )\n",
    "      ) "
   ]
  },
  {
   "cell_type": "markdown",
   "metadata": {
    "slideshow": {
     "slide_type": "subslide"
    }
   },
   "source": [
    "Past the initial lectures, I will exclusively use Pandas."
   ]
  },
  {
   "cell_type": "markdown",
   "metadata": {
    "slideshow": {
     "slide_type": "subslide"
    }
   },
   "source": [
    "<img src=\"images/Back_to_parent.jpg\">"
   ]
  },
  {
   "cell_type": "markdown",
   "metadata": {
    "slideshow": {
     "slide_type": "slide"
    }
   },
   "source": [
    "<a id='define_performance_measure'></a>\n",
    "## Recipe A.3: Define a performance measure\n",
    "- How do we decide that we have \"solved\" the problem ?\n",
    "- Define a measure of how good our current solution is\n",
    "    - success defined \"out of sample\", i.e., on unseen data **not** on the training set\n",
    "        - can compute this \"in sample\" on the training set as well, but the metric of success is on the test set\n",
    "- Our ML recipe will iteratively seek to improve this measure"
   ]
  },
  {
   "cell_type": "markdown",
   "metadata": {
    "slideshow": {
     "slide_type": "subslide"
    }
   },
   "source": [
    "### Root Mean Square Error: an absolute performance metric\n",
    "\n",
    "Our problem is to predict continuous values (Regression task).\n",
    "\n",
    "- A common performance measure for Regression is the Root Mean Square Error (RMSE):\n",
    "\n",
    "$$\\textrm{RMSE}(\\y, \\hat{\\y}) = \\sqrt{ { 1\\over{m}} \\times \\sum_{i=1}^m { ( \\y^\\ip - \\hat{\\y}^\\ip)^2} }$$\n",
    "\n",
    "Our goal is to minimize the RMSE by making each prediction $\\hat{\\y}^\\ip$ close to the true value $y^\\ip$.\n",
    "\n",
    "n.b., we will sometimes ignore the square root\n",
    "$$\\textrm{MSE}(\\y, \\hat{\\y}) = \\text{RMSE}(\\y, \\hat{\\y})^2$$"
   ]
  },
  {
   "cell_type": "markdown",
   "metadata": {
    "slideshow": {
     "slide_type": "subslide"
    }
   },
   "source": [
    "<img src=\"images/Back_to_parent.jpg\">"
   ]
  },
  {
   "cell_type": "markdown",
   "metadata": {
    "slideshow": {
     "slide_type": "slide"
    }
   },
   "source": [
    "## Recipe A.4: Create a test set and put it aside !\n",
    "- Our ultimate goal is to predict well, out of sample\n",
    "- This is called *generalization*\n",
    "- Our success on the test set is our final measure\n",
    "- Bottom line: you may look at the test set *only once*, at the end\n"
   ]
  },
  {
   "cell_type": "markdown",
   "metadata": {
    "slideshow": {
     "slide_type": "subslide"
    }
   },
   "source": [
    "We need to partition the examples given to us into\n",
    "- training dataset\n",
    "- test dataset\n",
    "\n",
    "How should we do this ?"
   ]
  },
  {
   "cell_type": "markdown",
   "metadata": {
    "slideshow": {
     "slide_type": "subslide"
    }
   },
   "source": [
    "Recall the Fundamental Assumption of Machine Learning\n",
    "- examples, whether train or test, are sampled from true distribution $\\pdata$\n",
    "\n",
    "In order to generalize, the train and test example datasets should be representative of $\\pdata$.\n",
    "\n",
    "One common way to achieve this is by random sampling (or shuffling) of the entire set of examples."
   ]
  },
  {
   "cell_type": "markdown",
   "metadata": {
    "slideshow": {
     "slide_type": "subslide"
    }
   },
   "source": [
    "The reason to put the test set aside is that we want a completely fair evaluation of out of sample performance.\n",
    "\n",
    "Peaking at the test set might give you some clues on building the model, which would bias the evaluation.\n",
    "\n",
    "It's like seeing an exam before test-time: if you know the questions in advance you don't need to prepare for anything not on the exam.\n",
    "\n",
    "This will give you a high score on the exam, but you won't prepare you broadly (i.e., you will fail to generalize)."
   ]
  },
  {
   "cell_type": "markdown",
   "metadata": {
    "slideshow": {
     "slide_type": "subslide"
    }
   },
   "source": [
    "Even peaking at the test set might bias you unconsciously.\n",
    "\n",
    "It is very easy to accidentally incorporate information from the test set into training.\n",
    "\n",
    "Just don't do it !"
   ]
  },
  {
   "cell_type": "code",
   "execution_count": 9,
   "metadata": {
    "slideshow": {
     "slide_type": "slide"
    }
   },
   "outputs": [
    {
     "data": {
      "text/plain": [
       "((40, 1), (10, 1))"
      ]
     },
     "execution_count": 9,
     "metadata": {},
     "output_type": "execute_result"
    },
    {
     "data": {
      "text/plain": [
       "((40, 1), (10, 1))"
      ]
     },
     "execution_count": 9,
     "metadata": {},
     "output_type": "execute_result"
    }
   ],
   "source": [
    "X_train, X_test, y_train, y_test = lin.split(X_lin,y_lin)\n",
    "\n",
    "X_train.shape, X_test.shape\n",
    "y_train.shape, y_test.shape"
   ]
  },
  {
   "cell_type": "markdown",
   "metadata": {
    "slideshow": {
     "slide_type": "subslide"
    }
   },
   "source": [
    "<img src=\"images/Back_to_parent.jpg\">"
   ]
  },
  {
   "cell_type": "markdown",
   "metadata": {
    "slideshow": {
     "slide_type": "slide"
    }
   },
   "source": [
    "# Recipe Step B: Exploratory Data Analysis (EDA)\n",
    "\n",
    "## Visualize Data to gain insights\n",
    "\n",
    "- Our goal is to come up with a Hypothesis (Model) that explains the relation between features($\\x$) and targets ($\\y$)\n",
    "- We explore our data to search for features that may aid in predicting the target\n",
    "- This may suggest an initial Hypothesis\n",
    "\n",
    "We do this on the **training** data only ! No peeking at the test data !"
   ]
  },
  {
   "cell_type": "code",
   "execution_count": 10,
   "metadata": {
    "scrolled": true,
    "slideshow": {
     "slide_type": "subslide"
    }
   },
   "outputs": [
    {
     "data": {
      "image/png": "[encoded data removed]",
      "text/plain": [
       "<Figure size 432x288 with 1 Axes>"
      ]
     },
     "metadata": {
      "needs_background": "light"
     },
     "output_type": "display_data"
    }
   ],
   "source": [
    "(xlabel, ylabel) = (\"Size\", \"Price\")\n",
    "_= lin.gen_plot(X_lin, y_lin, xlabel, ylabel)"
   ]
  },
  {
   "cell_type": "markdown",
   "metadata": {
    "slideshow": {
     "slide_type": "subslide"
    }
   },
   "source": [
    "### Nothing better than visualizing !"
   ]
  },
  {
   "cell_type": "code",
   "execution_count": 11,
   "metadata": {
    "slideshow": {
     "slide_type": "subslide"
    }
   },
   "outputs": [
    {
     "data": {
      "image/png": "[encoded data removed]",
      "text/plain": [
       "<Figure size 432x288 with 1 Axes>"
      ]
     },
     "metadata": {
      "needs_background": "light"
     },
     "output_type": "display_data"
    }
   ],
   "source": [
    "_= df[\"X\"].hist()  # See why Pandas is so convenient ?\n",
    "\n",
    "# BTW, what's with this \"_ = ...\" business ?"
   ]
  },
  {
   "cell_type": "code",
   "execution_count": 12,
   "metadata": {
    "scrolled": true,
    "slideshow": {
     "slide_type": "subslide"
    }
   },
   "outputs": [
    {
     "data": {
      "image/png": "[encoded data removed]",
      "text/plain": [
       "<Figure size 432x288 with 1 Axes>"
      ]
     },
     "metadata": {
      "needs_background": "light"
     },
     "output_type": "display_data"
    }
   ],
   "source": [
    "_= df[\"y\"].hist()"
   ]
  },
  {
   "cell_type": "markdown",
   "metadata": {
    "slideshow": {
     "slide_type": "subslide"
    }
   },
   "source": [
    "#### But if we don't have Pandas, can use Matplotlib"
   ]
  },
  {
   "cell_type": "code",
   "execution_count": 13,
   "metadata": {
    "slideshow": {
     "slide_type": "subslide"
    }
   },
   "outputs": [
    {
     "data": {
      "image/png": "[encoded data removed]",
      "text/plain": [
       "<Figure size 432x288 with 2 Axes>"
      ]
     },
     "metadata": {
      "needs_background": "light"
     },
     "output_type": "display_data"
    }
   ],
   "source": [
    "# Use the Object-Oriented interface to Matplotlib, NOT the MATLAB interface\n",
    "# Create a figure\n",
    "fig = plt.figure()\n",
    "\n",
    "# Create a histogram for X.  The figure will be 1 row by 2 columns and the plot for X will be in column 1\n",
    "ax = fig.add_subplot(121)\n",
    "_ = ax.hist(X_lin)\n",
    "_ = ax.set_xlabel(\"X\"); _ = ax.set_ylabel(\"Count\")\n",
    "\n",
    "# Create a histogram for Y.  The figure will be 1 row by 2 columns and the plot for X will be in column 2\n",
    "ax = fig.add_subplot(122)\n",
    "_ = ax.hist(y_lin)\n",
    "_ = ax.set_xlabel(\"y\"); _ = ax.set_ylabel(\"Count\")\n"
   ]
  },
  {
   "cell_type": "code",
   "execution_count": 14,
   "metadata": {
    "slideshow": {
     "slide_type": "subslide"
    }
   },
   "outputs": [
    {
     "data": {
      "image/png": "[encoded data removed]",
      "text/plain": [
       "<Figure size 432x288 with 1 Axes>"
      ]
     },
     "metadata": {
      "needs_background": "light"
     },
     "output_type": "display_data"
    }
   ],
   "source": [
    "# Plot the target vs one feature, using just Matplotlib\n",
    "fig = plt.figure()\n",
    "ax  = fig.add_subplot(1,1,1)\n",
    "\n",
    "_ = ax.scatter(X_train, y_train,  color='black')\n",
    "_ = ax.set_xlabel(xlabel)\n",
    "_ = ax.set_ylabel(ylabel)"
   ]
  },
  {
   "cell_type": "markdown",
   "metadata": {
    "slideshow": {
     "slide_type": "subslide"
    }
   },
   "source": [
    "Relationship between Size and Price could be linear.\n",
    "\n",
    "That will be our initial hypothesis"
   ]
  },
  {
   "cell_type": "markdown",
   "metadata": {
    "slideshow": {
     "slide_type": "subslide"
    }
   },
   "source": [
    "<img src=\"images/Back_to_parent.jpg\">"
   ]
  },
  {
   "cell_type": "markdown",
   "metadata": {
    "slideshow": {
     "slide_type": "slide"
    }
   },
   "source": [
    "# Recipe Step C: Prepare the data\n",
    "- Your exploration of the data may have revealed issues that need to be addressed before modeling\n",
    "    - Dirty data\n",
    "    - There may be features at vastly different scales; may need to re-scale\n",
    "    - Need to select or eliminate features\n",
    "    - Need to create synthetic features\n",
    "        - How to handle Categorical features ?\n",
    "        - How to handle non-numeric features, e.g., Text"
   ]
  },
  {
   "cell_type": "markdown",
   "metadata": {
    "slideshow": {
     "slide_type": "subslide"
    }
   },
   "source": [
    "In the toy example, everything is clean and perfect so there is little to do.\n",
    "\n",
    "We'll go over these steps quickly for now\n",
    "- but will have a Deeper Dive on the Prepare the Data step once we make a first pass through the Recipe\n",
    "\n"
   ]
  },
  {
   "cell_type": "markdown",
   "metadata": {
    "slideshow": {
     "slide_type": "subslide"
    }
   },
   "source": [
    "## Recipe C.1: Cleaning\n",
    "\n",
    "Our toy problem gave you perfect data (don't get used to this!) so nothing to do."
   ]
  },
  {
   "cell_type": "markdown",
   "metadata": {
    "slideshow": {
     "slide_type": "subslide"
    }
   },
   "source": [
    "## Recipe C.2: Handling non-numeric features/targets\n",
    "\n",
    "Our toy problem involves only numeric data."
   ]
  },
  {
   "cell_type": "markdown",
   "metadata": {
    "slideshow": {
     "slide_type": "subslide"
    }
   },
   "source": [
    "## Recipe C.3: Transformations\n",
    "\n",
    "It's not always the case that the \"raw\" data is amenable for modeling.\n",
    "\n",
    "This is where transformations of the raw data come in.\n",
    "\n",
    "Our EDA suggests that the relationship between target and feature is mostly linear\n",
    "- we can see a hint of non-linearity\n",
    "    - we could choose the address this via a transformation\n",
    "    - but we'll keep it simple for now and forgo transformations"
   ]
  },
  {
   "cell_type": "markdown",
   "metadata": {
    "slideshow": {
     "slide_type": "subslide"
    }
   },
   "source": [
    "A *key point about transformations* to keep in mind\n",
    "- Transformations are applied to *every* example that is input into the model\n",
    "- This means\n",
    "    - **not only** \"in sample\" examples from the Training set\n",
    "    - **but also** \"out of sample\" examples from the Validation and Test data sets\n",
    "\n"
   ]
  },
  {
   "cell_type": "markdown",
   "metadata": {
    "slideshow": {
     "slide_type": "subslide"
    }
   },
   "source": [
    "## Recipe C.4: Scaling\n",
    "\n",
    "The scale of the features and target are problem dependent (area, price in dollars).\n",
    "\n",
    "We can choose to \"re-denominate\" our data into different units if doing so would improve our prediction.\n",
    "For example, making features/targets\n",
    "- zero-centered: how far below/above average price\n",
    "- standardizing: how many standard deviations from mean\n",
    "\n",
    "There are also some models that *expect* the numeric values to be scaled.\n",
    "\n",
    "For now, we'll leave our toy problem data unscaled."
   ]
  },
  {
   "cell_type": "markdown",
   "metadata": {
    "slideshow": {
     "slide_type": "subslide"
    }
   },
   "source": [
    "<img src=\"images/Back_to_parent.jpg\">"
   ]
  },
  {
   "cell_type": "markdown",
   "metadata": {
    "slideshow": {
     "slide_type": "slide"
    }
   },
   "source": [
    "# Recipe Step D: Train a model\n",
    "\n",
    "Training a model is an *iterative process* modeled after the scientific method\n",
    "- Select a model (Propose a hypothesis): what is the relationship between features and target ?\n",
    "- Fit (Test the hypothesis): run an experiment\n",
    "- Validation and Cross Validation (High level review of experimental results)\n",
    "- Error Analysis (Critique the experimental results)\n",
    "\n",
    "The final step, Error Analysis can suggest strengths and weaknesses of the selected model and lead us\n",
    "to select an even *better* model.\n",
    "\n",
    "This leads to iterative improvement of our model.\n"
   ]
  },
  {
   "cell_type": "markdown",
   "metadata": {
    "slideshow": {
     "slide_type": "slide"
    }
   },
   "source": [
    "## Baseline model\n",
    "\n",
    "Before we begin: how will we know that the model we select has achieved something useful ?\n",
    "\n",
    "It is helpful to start with a simple (perhaps naive) *baseline model* for purpose of comparison.\n",
    "- Any more complex model we choose must outperform the baseline"
   ]
  },
  {
   "cell_type": "markdown",
   "metadata": {
    "slideshow": {
     "slide_type": "subslide"
    }
   },
   "source": [
    "For Regression, a baseline might be\n",
    "- predict the average (across training examples) of the target\n",
    "\n",
    "For Classification, a baseline might be\n",
    "- constant: always predict a single, constant class\n",
    "- Most Frequent: always predict the class that occurs most frequently among the target classes in the training examples\n",
    "\n",
    "You can choose an even more complicated baseline: you choose the hurdle for your complex model to overcome."
   ]
  },
  {
   "cell_type": "markdown",
   "metadata": {
    "slideshow": {
     "slide_type": "slide"
    }
   },
   "source": [
    "## Recipe D.1: Select a model\n",
    "\n",
    " We form an hypothesis that relates features to targets.  \n",
    " \n",
    " The **model** is a tool that implements our hypothesis.\n",
    " Various terms are used:\n",
    " - hypothesis\n",
    " - estimator\n",
    " - prediction function\n",
    "       "
   ]
  },
  {
   "cell_type": "markdown",
   "metadata": {
    "slideshow": {
     "slide_type": "subslide"
    }
   },
   "source": [
    "An **hypothesis (predictor, estimator)** is a mapping from feature to target\n",
    "- $\\hat{\\y} = h_\\Theta (\\x)$\n",
    "    - $\\hat{\\y}$ is the **predicted value**, conditional on given feature vector $\\x$\n",
    "    - $\\Theta$ is a  column vector of parameters of our model\n",
    "\n",
    "Based on our EDA, our initial hypothesis is\n",
    "$$\n",
    "h_\\Theta (\\x) = \\Theta^T \\x\n",
    "$$\n",
    "\n",
    "That is: there is a linear relationship between features $\\x$ and target $\\y$.\n",
    "\n",
    "The model we have chosen is called *Linear Regression*"
   ]
  },
  {
   "cell_type": "markdown",
   "metadata": {
    "slideshow": {
     "slide_type": "slide"
    }
   },
   "source": [
    "## Step D.2: Fit\n",
    "\n",
    "Now that we have a hypothesis (model), it's time to run an experiment\n",
    "- Given the training examples\n",
    "- \"Fit\" the model (solve for the optimal $\\Theta$ in $\\h_\\Theta$)\n",
    "- Obtain predictions\n",
    "    - training examples"
   ]
  },
  {
   "cell_type": "markdown",
   "metadata": {
    "slideshow": {
     "slide_type": "subslide"
    }
   },
   "source": [
    "`sklearn` has an *estimator* called `LinearRegression` that solves a hypothesis in the form of\n",
    "a Linear Regression.\n",
    "\n",
    "We will have a fuller discussion of the mathematics of the algorithm at a later date.\n",
    "\n",
    "For now, our objective is to use the estimator to obtain an optimal (relative to Loss $\\loss$ we defined for Linear Regression) $\\Theta$.\n",
    "\n",
    "This is called **fitting** the model"
   ]
  },
  {
   "cell_type": "markdown",
   "metadata": {
    "slideshow": {
     "slide_type": "subslide"
    }
   },
   "source": [
    "We formulate the problem as an optimization: Choose $\\Theta$ that minimizes the loss $\\loss$\n",
    "$$\n",
    "\\begin{array}{lll}\\\\\n",
    "& \\Theta & = & \\textrm{argmin}_{\\Theta} { \\loss } & \\\\\n",
    "\\end{array}\n",
    "$$\n",
    "\n",
    "The loss function $\\loss$ for Linear Regression is RMSE\n",
    "- in this case: the Loss and Performance Metrics are identical\n",
    "- that will not always be the case\n",
    "\n",
    "\n",
    "You can explore Linear Regression in depth [in this VanderPlas notebook](external/PythonDataScienceHandbook/notebooks/05.06-Linear-Regression.ipynb)"
   ]
  },
  {
   "cell_type": "markdown",
   "metadata": {
    "slideshow": {
     "slide_type": "slide"
    }
   },
   "source": [
    "### LinearRegression model in sklearn"
   ]
  },
  {
   "cell_type": "code",
   "execution_count": 15,
   "metadata": {
    "slideshow": {
     "slide_type": "subslide"
    }
   },
   "outputs": [
    {
     "name": "stdout",
     "output_type": "stream",
     "text": [
      "Coefficients: \n",
      " [64.04203363] [[0.1996918]]\n",
      "\n",
      "Shape of intercept: (1,); shape of coefficients: (1, 1)\n"
     ]
    }
   ],
   "source": [
    "# Say it in code\n",
    "\n",
    "# Create linear regression object\n",
    "regr = linear_model.LinearRegression()\n",
    "\n",
    "# Train the model using the training sets\n",
    "_ = regr.fit(X_train, y_train)\n",
    "\n",
    "# The coefficients\n",
    "print('Coefficients: \\n', regr.intercept_, regr.coef_)\n",
    "print(\"\\nShape of intercept: {i}; shape of coefficients: {c}\".format(i=regr.intercept_.shape,\n",
    "                                                                   c=regr.coef_.shape) )"
   ]
  },
  {
   "cell_type": "markdown",
   "metadata": {
    "slideshow": {
     "slide_type": "subslide"
    }
   },
   "source": [
    "- `regr = linear_model.LinearRegression()` \n",
    "    - creates an *unitinitialzed* model object with $\\Theta$ undefined\n",
    "- `_ = regr.fit(X_train, y_train)`\n",
    "    - fits the model to the training set, setting $\\Theta$\n",
    "-  `y_pred = regr.predict(X_test)`\n",
    "    - we can use the model to predict once it has been fit\n",
    "    - since $\\Theta$ is defined, we can predict $\\Theta^T \\x'$\n",
    "        - for any feature vector $\\x'$ (not necessarily from the training or test sets)\n",
    "        - $\\x'_0 = 1$, i.e, the vector has been augmented with a leading feature that is \"1\""
   ]
  },
  {
   "cell_type": "markdown",
   "metadata": {
    "slideshow": {
     "slide_type": "slide"
    }
   },
   "source": [
    "### Let's Predict !"
   ]
  },
  {
   "cell_type": "code",
   "execution_count": 16,
   "metadata": {
    "slideshow": {
     "slide_type": "subslide"
    }
   },
   "outputs": [
    {
     "data": {
      "text/plain": [
       "array([[1073.18]])"
      ]
     },
     "execution_count": 16,
     "metadata": {},
     "output_type": "execute_result"
    }
   ],
   "source": [
    "# Recall: \n",
    "# The features are a vector.  We have only a single feature but we must turn it into a vector of length 1.\n",
    "# One way to turn a 1D ndarray into 2D is using reshape\n",
    "\n",
    "avg_size = ( (X_lin.min() + X_lin.max())/2 )\n",
    "np.array([avg_size]).reshape(-1,1)"
   ]
  },
  {
   "cell_type": "code",
   "execution_count": 17,
   "metadata": {
    "slideshow": {
     "slide_type": "subslide"
    }
   },
   "outputs": [
    {
     "name": "stdout",
     "output_type": "stream",
     "text": [
      "For size [1073.180000000001], predicted Price [[278.34727509]]\n"
     ]
    }
   ],
   "source": [
    "# One prediction\n",
    "t = [ avg_size ]\n",
    "\n",
    "# Remember: want a 2D ndarray\n",
    "t_array = np.array(t).reshape(-1,1)\n",
    "\n",
    "print(\"For size {s}, predicted {attr} {d}\".format(s=t, attr=ylabel, d=regr.predict(t_array)))"
   ]
  },
  {
   "cell_type": "code",
   "execution_count": 18,
   "metadata": {
    "slideshow": {
     "slide_type": "subslide"
    }
   },
   "outputs": [
    {
     "data": {
      "text/plain": [
       "True"
      ]
     },
     "execution_count": 18,
     "metadata": {},
     "output_type": "execute_result"
    }
   ],
   "source": [
    "# Lots of predictions: predict on entire test set\n",
    "y_pred = regr.predict(X_test)\n",
    "\n",
    "# Number of predictions equals number of test examples\n",
    "len(y_pred) == X_test.shape[0]"
   ]
  },
  {
   "cell_type": "markdown",
   "metadata": {
    "slideshow": {
     "slide_type": "subslide"
    }
   },
   "source": [
    "<div class=\"alert alert-block alert-danger\">\n",
    "    <b>Cheating alert:</b> \n",
    "    <ul>\n",
    "    <li>You should use the test set <b>only once</b>, at the end of the process.\n",
    "    <li>We just looked at the test set !  Not good ! This might influence our choice for improving the model.\n",
    "    <li>We will soon learn a way to test, without cheating\n",
    "    <li>In general, using the test set more than once, at the end of the process, is something to avoid\n",
    "    </ul>   \n",
    "</div>"
   ]
  },
  {
   "cell_type": "markdown",
   "metadata": {
    "slideshow": {
     "slide_type": "slide"
    }
   },
   "source": [
    "### How did we do ?  Evaluate the Performance Measure on out of sample data\n",
    "\n",
    "- Measure the performance out of sample\n",
    "- Interpret the results\n",
    "    - do the results suggest room for improvement (i.e, the next experiment) ?"
   ]
  },
  {
   "cell_type": "code",
   "execution_count": 19,
   "metadata": {
    "slideshow": {
     "slide_type": "slide"
    }
   },
   "outputs": [
    {
     "name": "stdout",
     "output_type": "stream",
     "text": [
      "Root Mean squared error: 12.48\n",
      "R-squared: 0.99\n"
     ]
    }
   ],
   "source": [
    "# The mean squared error\n",
    "rmse = np.sqrt( mean_squared_error(y_test,  y_pred))\n",
    "print(\"Root Mean squared error: {:.2f}\".format( rmse ) )\n",
    "\n",
    "# Explained variance score: 1 is perfect prediction\n",
    "print(\"R-squared: {:.2f}\".format(r2_score(y_test, y_pred)) )"
   ]
  },
  {
   "cell_type": "markdown",
   "metadata": {
    "slideshow": {
     "slide_type": "subslide"
    }
   },
   "source": [
    "What do these numbers mean ?\n",
    "- Relative to the given test set\n",
    "    - our price predictions are with +/- {the value of RMSE}\n",
    "- Let's visualize the fit"
   ]
  },
  {
   "cell_type": "markdown",
   "metadata": {
    "slideshow": {
     "slide_type": "subslide"
    }
   },
   "source": [
    "#### Visualize the fit"
   ]
  },
  {
   "cell_type": "code",
   "execution_count": 20,
   "metadata": {
    "slideshow": {
     "slide_type": "subslide"
    }
   },
   "outputs": [
    {
     "data": {
      "image/png": "[encoded data removed]",
      "text/plain": [
       "<Figure size 432x288 with 1 Axes>"
      ]
     },
     "metadata": {
      "needs_background": "light"
     },
     "output_type": "display_data"
    }
   ],
   "source": [
    "# Plot predicted ylabel (red) and true ylabel (black)\n",
    "fig = plt.figure()\n",
    "ax  = fig.add_subplot(1,1,1)\n",
    "\n",
    "_ = ax.scatter(X_test, y_test, color='black', label=\"test\")\n",
    "_ = ax.scatter(X_test, y_pred, color=\"red\",   label=\"predicted\")\n",
    "_ = ax.set_xlabel(xlabel)\n",
    "_ = ax.set_ylabel(ylabel)\n",
    "_ = ax.legend()"
   ]
  },
  {
   "cell_type": "markdown",
   "metadata": {
    "slideshow": {
     "slide_type": "subslide"
    }
   },
   "source": [
    "Since model is linear, we connect the fitted points into a fitted line.\n",
    "\n",
    "This is the familiar \"fitting a line to a cloud of points\" characteristic of simple Linear Regression."
   ]
  },
  {
   "cell_type": "code",
   "execution_count": 21,
   "metadata": {
    "slideshow": {
     "slide_type": "subslide"
    }
   },
   "outputs": [
    {
     "data": {
      "image/png": "[encoded data removed]",
      "text/plain": [
       "<Figure size 432x288 with 1 Axes>"
      ]
     },
     "metadata": {
      "needs_background": "light"
     },
     "output_type": "display_data"
    }
   ],
   "source": [
    "# Plot predicted ylabel (red) and true  (black)\n",
    "fig = plt.figure()\n",
    "ax  = fig.add_subplot(1,1,1)\n",
    "\n",
    "_ = ax.scatter(X_test, y_test, color='black', label=\"test\")\n",
    "_ = ax.scatter(X_test, y_pred, color=\"red\",   label=\"predicted\")\n",
    "\n",
    "_ = ax.plot(X_test, y_pred, color=\"red\")\n",
    "_ = ax.set_xlabel(xlabel)\n",
    "_ = ax.set_ylabel(ylabel)\n",
    "_ = ax.legend()"
   ]
  },
  {
   "cell_type": "markdown",
   "metadata": {
    "slideshow": {
     "slide_type": "subslide"
    }
   },
   "source": [
    "<img src=\"images/Back_to_parent.jpg\">"
   ]
  },
  {
   "cell_type": "markdown",
   "metadata": {
    "slideshow": {
     "slide_type": "slide"
    }
   },
   "source": [
    "## Recipe D.3:  Validation and Cross-Validation\n",
    "\n",
    "- Recall our goal is good, out-of-sample prediction.  And the test set is our benchmark for generalization.\n",
    "- If we look at the test set in the middle of our process, it will influence our final model.  \n",
    "- We may thus wind up with a good score on the test set, but generalize poorly to a completely unseen observation.\n",
    "\n",
    "- It's like seeing the answers to an exam in advance ! Don't do it !  \n",
    "- You can only look at it *ONCE*, when you're all done, if you want a truly honest indicator of generalization.\n",
    "\n"
   ]
  },
  {
   "cell_type": "markdown",
   "metadata": {
    "slideshow": {
     "slide_type": "subslide"
    }
   },
   "source": [
    "### Validation\n",
    "\n",
    "[Geron notebook on validation](external/PythonDataScienceHandbook/notebooks/05.03-Hyperparameters-and-Model-Validation.ipynb#Thinking-about-Model-Validation)\n",
    "\n",
    "So how can we perform out of sample prediction to evaluate our model ?\n",
    "\n",
    "\n",
    "- Answer: Split the *training set* into two pieces\n",
    "    - a smaller training set\n",
    "    - a *hold-out* piece called the *validation* set\n",
    "        - the validation set serves a similar role to the test set; it's out of sample\n",
    "        - it is used to see how well the model generalizes\n",
    "        - you can use the validation set *many* times (sort of) during your iterative process\n",
    "            - unlike the test set, which you may look at only once, at the end\n",
    "        "
   ]
  },
  {
   "cell_type": "markdown",
   "metadata": {
    "slideshow": {
     "slide_type": "subslide"
    }
   },
   "source": [
    "<table>\n",
    " <tr>\n",
    "        <th><center>Train/Validation/Test split</center></th>\n",
    "    </tr>\n",
    "    <tr>\n",
    "        <td><img src=\"images/W2_L3_S83_Train_Test_Validation.png\"</td>\n",
    "    </tr>\n",
    "</table>"
   ]
  },
  {
   "cell_type": "markdown",
   "metadata": {
    "slideshow": {
     "slide_type": "subslide"
    }
   },
   "source": [
    "- This can be painful if the amount of Training data is small to begin with\n",
    "- We risk \"over-using\" the Validation data"
   ]
  },
  {
   "cell_type": "markdown",
   "metadata": {
    "slideshow": {
     "slide_type": "slide"
    }
   },
   "source": [
    "### Cross-Validation\n",
    "\n",
    "Splitting into a smaller training set, and a validation set, is a step in the right direction as it allows you to evaluate out of sample predictions without peeking into the test set.\n",
    "\n",
    "You might still be uncomfortable with the idea of a validation set that is used many times.  Rightly so.\n",
    "- We can wind up over-fitting to the validation set.  Isn't that cheating too ?\n",
    "- The smaller training set is smaller -- a problem if we don't have much training data to begin with.\n",
    "- The validation set is just *one* sample. \n",
    "    - How do we know the Performance Measure on this one sample is representative ?\n",
    "    - Where are the error bars or confidence intervals for this statistic ?\n",
    "    \n",
    "Cross-Validation to the rescue !"
   ]
  },
  {
   "cell_type": "markdown",
   "metadata": {
    "slideshow": {
     "slide_type": "subslide"
    }
   },
   "source": [
    "**K-fold cross-validation**\n",
    "- Split the training data into $K$ pieces (called *folds*. so K-fold means $K$ pieces).\n",
    "- Select one fold as the validation set, and use the other $(K-1)$ folds as the smaller training set\n",
    "    - Fit the model on the smaller training set\n",
    "    - Evaluate the Performance measure on the fold selected as the validation set\n",
    "- Repeat the above $(K-1)$ times, using a different fold as the validation set each time."
   ]
  },
  {
   "cell_type": "markdown",
   "metadata": {
    "slideshow": {
     "slide_type": "slide"
    }
   },
   "source": [
    "<table>\n",
    " <tr>\n",
    "        <th><center>Cross Validation/Test split</center></th>\n",
    "    </tr>\n",
    "    <tr>\n",
    "        <td><img src=\"images/W2_L3_S88_Train_Test_Validation_Fold.png\" width=\"60%\"></td>\n",
    "    </tr>\n",
    "</table>"
   ]
  },
  {
   "cell_type": "markdown",
   "metadata": {
    "slideshow": {
     "slide_type": "subslide"
    }
   },
   "source": [
    "At the end, you will have fit the model $K$ times, using $K$ different out of sample sets.\n",
    "\n",
    "This reduces the tendency of training to overfit to a single validation set."
   ]
  },
  {
   "cell_type": "markdown",
   "metadata": {
    "slideshow": {
     "slide_type": "subslide"
    }
   },
   "source": [
    "- This gives you $K$ values for the Performance Measure\n",
    "- These $K$ values form a probability distribution of Performance Measures\n",
    "- Use this distribution in order to create a \"confidence interval\" for the Performance Measure\n",
    "- This is akin to the statistical confidence interval for in-sample estimators"
   ]
  },
  {
   "cell_type": "markdown",
   "metadata": {
    "slideshow": {
     "slide_type": "subslide"
    }
   },
   "source": [
    "Typically, we report the average of the $K$ Performance Measures as our final Performance Measure.\n",
    "\n",
    "But it is also valuable to look at the range (e.g., standard deviation) to get an idea of how much it can vary.\n",
    "\n",
    "A model with a smaller range is more confident that one with a wider range.\n"
   ]
  },
  {
   "cell_type": "markdown",
   "metadata": {
    "slideshow": {
     "slide_type": "subslide"
    }
   },
   "source": [
    "This sounds like a lot of work.\n",
    "\n",
    "Fear not !"
   ]
  },
  {
   "cell_type": "markdown",
   "metadata": {
    "slideshow": {
     "slide_type": "subslide"
    }
   },
   "source": [
    "sklearn has a function to do this for us: `cross_val_score`\n",
    "\n",
    "`from sklearn.cross_validation import cross_val_score`\n",
    "\n",
    "`scores = cross_val_score(model, X, y, cv=5)`\n",
    " \n",
    "This will do $5$-fold cross-validation (`cv=5`) on `model` using training features `X` and targets `y`.\n",
    "\n",
    "It will return $5$ scores, one per validation fold."
   ]
  },
  {
   "cell_type": "markdown",
   "metadata": {
    "slideshow": {
     "slide_type": "subslide"
    }
   },
   "source": [
    "These $K$ scores represent a *distribution* of the performance metric\n",
    "- evaluated on $K$ different pseudo out-of-sample sets\n",
    "- rather than a *single* out of sample set\n",
    "\n",
    "We can reduce this distribution to a single value\n",
    "- e.g., usually, the mean\n",
    "- but not necessarily\n",
    "\n",
    "This might be a more realistic evaluation of the performance metric\n",
    "- avoid the chance of bias in a single test set"
   ]
  },
  {
   "cell_type": "markdown",
   "metadata": {
    "slideshow": {
     "slide_type": "subslide"
    }
   },
   "source": [
    "**Note**\n",
    "\n",
    "Cross-validation is used to obtain an estimate of the Performance Metric.\n",
    "\n",
    "You must still fit the model to the **entire training dataset** (all folds)\n",
    "\n",
    "    scores = cross_val_score(model, X, y, cv=5)\n",
    " \n",
    "    # Train the model using the training sets\n",
    "    _ = model.fit(X, y)\n"
   ]
  },
  {
   "cell_type": "markdown",
   "metadata": {
    "slideshow": {
     "slide_type": "subslide"
    }
   },
   "source": [
    "**In general you should be using Cross Validation in Classical ML** in the absence of a good reason not to !\n",
    "- helps you determine stability of your model's predictions\n",
    "- once we get to Deep Learning: \n",
    "    - training may be so expensive as to preclude the use of Cross Validation\n",
    "    \n",
    "Remember: you still have the Test set as the \"gold standard\""
   ]
  },
  {
   "cell_type": "markdown",
   "metadata": {
    "slideshow": {
     "slide_type": "subslide"
    }
   },
   "source": [
    "<img src=\"images/Back_to_parent.jpg\">"
   ]
  },
  {
   "cell_type": "markdown",
   "metadata": {
    "slideshow": {
     "slide_type": "slide"
    }
   },
   "source": [
    "## Recipe D.4:  Error analysis\n",
    "\n",
    "The Performance Measure is just a summary statistic: \n",
    "- one value that summarizes a distribution.\n",
    "\n",
    "- There is a lot of potentially valuable information lost in the summary.\n",
    "\n",
    "Let's examine the *individual* errors, rather than the summary, when we fit our \"curvy\" data set with a simple line.\n",
    "\n",
    "We will examine the errors not only on the test (out-of-sample) examples, but on the training examples as well."
   ]
  },
  {
   "cell_type": "code",
   "execution_count": 22,
   "metadata": {
    "scrolled": true,
    "slideshow": {
     "slide_type": "subslide"
    }
   },
   "outputs": [
    {
     "name": "stdout",
     "output_type": "stream",
     "text": [
      "Coefficients: \n",
      " [64.04203363] [[0.1996918]]\n",
      "\n",
      "\n",
      "R-squared (test): 0.99\n",
      "Root Mean squared error (test): 12.48\n",
      "\n",
      "\n",
      "R-squared (train): 0.99\n",
      "Root Mean squared error (train): 11.78\n"
     ]
    },
    {
     "data": {
      "image/png": "[encoded data removed]",
      "text/plain": [
       "<Figure size 864x288 with 2 Axes>"
      ]
     },
     "metadata": {
      "needs_background": "light"
     },
     "output_type": "display_data"
    },
    {
     "data": {
      "image/png": "[encoded data removed]",
      "text/plain": [
       "<Figure size 864x288 with 2 Axes>"
      ]
     },
     "metadata": {
      "needs_background": "light"
     },
     "output_type": "display_data"
    }
   ],
   "source": [
    "fig, axs = lin.regress_with_error(X_lin, y_lin, xlabel=xlabel, ylabel=ylabel)"
   ]
  },
  {
   "cell_type": "code",
   "execution_count": 23,
   "metadata": {
    "slideshow": {
     "slide_type": "subslide"
    }
   },
   "outputs": [
    {
     "data": {
      "image/png": "[encoded data removed]",
      "text/plain": [
       "<Figure size 864x288 with 2 Axes>"
      ]
     },
     "execution_count": 23,
     "metadata": {},
     "output_type": "execute_result"
    }
   ],
   "source": [
    "fig"
   ]
  },
  {
   "cell_type": "markdown",
   "metadata": {
    "slideshow": {
     "slide_type": "subslide"
    }
   },
   "source": [
    "### What do the errors tell you\n",
    "\n",
    "- The differences between predictions (red line) and actual (black dots) seems biggest in the tails\n",
    "- positive errors at the extremes\n",
    "- negative errors in the center.\n",
    "\n",
    "Might this be a problem ?\n"
   ]
  },
  {
   "cell_type": "markdown",
   "metadata": {
    "slideshow": {
     "slide_type": "subslide"
    }
   },
   "source": [
    "Definitely !\n",
    "\n",
    "When we learn more about Linear Regression, we will discover that this pattern of errors violates one\n",
    "of the statistical assumptions behind the model (i.e., for fitting on the training set).\n",
    "\n",
    "Moreover, the errors are biased in that they are a function of the feature magnitude.  This may not be\n",
    "a satisfactory prediction for our particular use case.\n"
   ]
  },
  {
   "cell_type": "markdown",
   "metadata": {
    "slideshow": {
     "slide_type": "subslide"
    }
   },
   "source": [
    "As you can see, lurking beneath a pretty good Performance Measure (0.91) is a distinct pattern in the\n",
    "errors.\n",
    "\n",
    "This is something that we should definitely fix.\n",
    "\n",
    "This is where the iterative improvement comes in\n",
    "- Propose a new experiment that corrects the current model's deficiencies\n",
    "\n"
   ]
  },
  {
   "cell_type": "markdown",
   "metadata": {
    "slideshow": {
     "slide_type": "subslide"
    }
   },
   "source": [
    "\n",
    "We will defer doing so for a moment, in order to finish our presentation of the Recipe.\n",
    "\n",
    "For now: suffice it to say that you sometimes learn more from your failures than from your successes.\n",
    "\n",
    "**Bottom line** \n",
    "- Don't be satisfied with a summary statistic\n",
    "- There is valuable information in the errors: use it to improve your model\n"
   ]
  },
  {
   "cell_type": "markdown",
   "metadata": {
    "slideshow": {
     "slide_type": "subslide"
    }
   },
   "source": [
    "## Error analysis: test versus training\n",
    "\n",
    "We can hardly expect to avoid problems on unseen data if those problems are already present in training.\n",
    "\n",
    "Moreover, if the Performance Metric is too different on the two data sets, it may be indicative of a problem.\n",
    "\n",
    "So, although our ultimate objective is out of sample prediction, it is worthwhile to extend the analysis\n",
    "to in-sample (training) data as well.\n",
    "\n"
   ]
  },
  {
   "cell_type": "markdown",
   "metadata": {
    "slideshow": {
     "slide_type": "subslide"
    }
   },
   "source": [
    "On the optimistic side: the train and test data sets produce similar metrics\n",
    "- In sample RMSE, $R^2$ similar to out of sample\n",
    " \n",
    "- The larger errors in the tails shows up in the training set too\n",
    "\n",
    "If you don't do well in-sample, it's hard to imagine that you'll do better out of sample.\n",
    "\n",
    "So it is often helpful to look at errors *in sample* (training data) as well as out of sample (test/validation data)."
   ]
  },
  {
   "cell_type": "markdown",
   "metadata": {
    "slideshow": {
     "slide_type": "slide"
    }
   },
   "source": [
    "### Machine Learning versus \"Statistics\"\n",
    "\n",
    "- In Machine Learning, the Performance Metric is evaluated out of sample\n",
    "- In Statistics, we often evaluate this measure in sample\n",
    "\n",
    "Is Statistics just Machine Learning where the Test and Training sets are the same ?\n"
   ]
  },
  {
   "cell_type": "markdown",
   "metadata": {
    "slideshow": {
     "slide_type": "subslide"
    }
   },
   "source": [
    "Stated another way\n",
    "- Statistics is often concerned with *explanation* (of the past)\n",
    "- Machine Learning is concerned with *prediction* (of the future)"
   ]
  },
  {
   "cell_type": "markdown",
   "metadata": {
    "slideshow": {
     "slide_type": "subslide"
    }
   },
   "source": [
    "Before we dismiss Statistics, it is a highly disciplined field that we can learn from\n",
    "- emphasis on *confidence intervals*\n",
    "    - everything is an estimate (e.g., our parameters)\n",
    "    - what is the range of likely values\n",
    "        "
   ]
  },
  {
   "cell_type": "markdown",
   "metadata": {
    "slideshow": {
     "slide_type": "subslide"
    }
   },
   "source": [
    "This is sadly missing from parts of Machine Learning\n",
    "- particularly Deep Learning (it's just too expensive to compute confidence intervals)\n",
    "- Cross Validation can be used as a proxy for confidence intervals\n",
    "    - we have multiple out of sample \"folds\"\n",
    "    - which gives us a *distribution* (across folds) of Performance metrics, parameters, etc.\n",
    "    - the distribution tell us the spread of values just like a confidence interval"
   ]
  },
  {
   "cell_type": "markdown",
   "metadata": {
    "slideshow": {
     "slide_type": "subslide"
    }
   },
   "source": [
    "<img src=\"images/Back_to_parent.jpg\">"
   ]
  },
  {
   "cell_type": "markdown",
   "metadata": {
    "slideshow": {
     "slide_type": "slide"
    }
   },
   "source": [
    "# Recipe Step E: Fine-tuning your model\n",
    "\n",
    "Once we are satisfied with our Hypothesis, there may be some \"knobs\" to adjust for even better results\n",
    "\n",
    "- Hyper-parameters\n",
    "- GridSearch\n",
    "- Ensembles\n",
    "\n",
    "- We will visit this later"
   ]
  },
  {
   "cell_type": "markdown",
   "metadata": {
    "slideshow": {
     "slide_type": "slide"
    }
   },
   "source": [
    "# Improving the model\n",
    "\n",
    "Our error analysis of the toy problem suggested that a straight line was perhaps not the best fit\n",
    "- positive errors in the extremes\n",
    "- negative errors in the center\n",
    "\n",
    "Perhaps a \"curve\" would be a better hypothesis ?\n",
    "What if our data is not linear ? "
   ]
  },
  {
   "cell_type": "markdown",
   "metadata": {
    "slideshow": {
     "slide_type": "subslide"
    }
   },
   "source": [
    "We will show how to improve this model in the lecture on Linear Regression.\n"
   ]
  },
  {
   "cell_type": "markdown",
   "metadata": {
    "slideshow": {
     "slide_type": "slide"
    }
   },
   "source": [
    "# Recap\n",
    "\n",
    "- We learned our first model for a *regression* task\n",
    "    - previously learned the KNN model for a *classification* task\n",
    "- Importance of feature engineering\n",
    "    - if all you have is a linear model: transform your data to make it linear\n",
    "- Cross validation: out of sample analysis without cheating; confidence intervals\n",
    "- Importance of Error Analysis\n",
    "- The `sklearn` API"
   ]
  },
  {
   "cell_type": "markdown",
   "metadata": {
    "slideshow": {
     "slide_type": "slide"
    }
   },
   "source": [
    "## The sklearn API\n",
    "\n",
    "fit, transform\n",
    "\n",
    "fit_transform\n",
    "\n",
    "predict\n",
    "\n",
    "[Scikit-learn cheat sheet](https://scikit-learn.org/stable/tutorial/machine_learning_map/index.html)"
   ]
  },
  {
   "cell_type": "markdown",
   "metadata": {
    "slideshow": {
     "slide_type": "slide"
    }
   },
   "source": [
    "# What does this have to do with Finance ?\n",
    "\n",
    "- Stock market \"beta\": how much does a stock move, for a 1% move in the index ?\n",
    "    - Typically calculated using LinearRegression, with some window\n",
    "    - But who says this is the \"best\" (gives best prediction) window ?\n",
    "        - we can address this in Cross-Validation\n",
    "- Multi-factor models\n",
    "    - LinearRegression with multiple regressors"
   ]
  },
  {
   "cell_type": "code",
   "execution_count": 24,
   "metadata": {
    "slideshow": {
     "slide_type": "slide"
    }
   },
   "outputs": [
    {
     "name": "stdout",
     "output_type": "stream",
     "text": [
      "Done !\n"
     ]
    }
   ],
   "source": [
    "print(\"Done !\")"
   ]
  }
 ],
 "metadata": {
  "celltoolbar": "Slideshow",
  "kernelspec": {
   "display_name": "Python 3",
   "language": "python",
   "name": "python3"
  },
  "language_info": {
   "codemirror_mode": {
    "name": "ipython",
    "version": 3
   },
   "file_extension": ".py",
   "mimetype": "text/x-python",
   "name": "python",
   "nbconvert_exporter": "python",
   "pygments_lexer": "ipython3",
   "version": "3.7.4"
  },
  "toc": {
   "base_numbering": 1,
   "nav_menu": {},
   "number_sections": true,
   "sideBar": true,
   "skip_h1_title": false,
   "title_cell": "Table of Contents",
   "title_sidebar": "Contents",
   "toc_cell": false,
   "toc_position": {
    "height": "calc(100% - 180px)",
    "left": "10px",
    "top": "150px",
    "width": "368px"
   },
   "toc_section_display": true,
   "toc_window_display": true
  }
 },
 "nbformat": 4,
 "nbformat_minor": 4
}
