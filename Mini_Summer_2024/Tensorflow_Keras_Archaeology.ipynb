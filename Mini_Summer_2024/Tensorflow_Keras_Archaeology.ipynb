{
 "cells": [
  {
   "cell_type": "markdown",
   "metadata": {
    "slideshow": {
     "slide_type": "slide"
    }
   },
   "source": [
    "# Archaeology\n",
    "\n",
    "The following sections are a stroll back in history.\n",
    "- History is important: it's hard to know how far we have gotten without seeing how far back we were\n",
    "- You will encounter \"history\" when you bump into other people's notebooks (e.g., blog posts)\n",
    "    -It's important to be able to distinguish between that which is obsolete and that which is current"
   ]
  },
  {
   "cell_type": "markdown",
   "metadata": {
    "slideshow": {
     "slide_type": "slide"
    }
   },
   "source": [
    "Keras is now tightly integrated into TensorFlow (even more so in TensorFlow 2.0)\n",
    "\n",
    "This cleans up a rather unruly TensorFlow ecosystem that resulted in  similar functionality in multiple places.\n",
    "\n",
    "This can make it very confusing for someone new to TensorFlow.  \n",
    "\n",
    "There are lots of examples on the web written\n",
    "using various similar-looking packages. \n",
    "\n",
    "I'll try to point out potential sources of confusion. Beware !\n",
    "\n",
    "[Demystify the TensorFlow APIs](https://medium.com/google-developer-experts/demystify-the-tensorflow-apis-57d2b0b8b6c0) summarizes it well"
   ]
  },
  {
   "cell_type": "markdown",
   "metadata": {
    "slideshow": {
     "slide_type": "subslide"
    }
   },
   "source": [
    "- `tf.layers` is going away in TensorFlow 2.0\n",
    "    - `tf.keras` is recommended going forward\n",
    "    - **Do not use**\n",
    "    \n",
    "- [Estimators](https://www.tensorflow.org/guide/estimators) (`tf.Estimator`)\n",
    "    - Estimators are sometimes called \"models in a box\"; somewhat similar to `sklearn`\n",
    "        - pre-canned high-level models (like Classifiers) rather than low-level `tf.keras.layers` (like Dense) from which it is built\n",
    "        - convenient interface to [Datasets for Estimators](https://www.tensorflow.org/guide/datasets_for_estimators)\n",
    "            - no need to create own mini-batches, etc.\n",
    "    - You can achieve quite a bit of the convenience using Keras, so we will skip Estimators.\n",
    "    "
   ]
  },
  {
   "cell_type": "markdown",
   "metadata": {
    "slideshow": {
     "slide_type": "subslide"
    }
   },
   "source": [
    "- Low-level TensorFlow \n",
    "    - great for learning\n",
    "    - better to rely on pre-defined layers when possible\n",
    "    \n",
    "And our own observations\n",
    "- `tf.contrib`\n",
    "    - this was a name-space created to enable users to contribute useful packages.\n",
    "    - some of these packages may have made their way into the core, or been integrated elsewhere\n",
    "        - `tf.contrib.learn.Estimator` is the obsolete version of `tf.Estimator`\n",
    "    - eliminated from TensorFlow 2.0\n",
    "        - **avoid**\n",
    "- [Datasets API](https://www.tensorflow.org/guide/datasets)\n",
    "    - an API to handle large datasets, in memory- "
   ]
  },
  {
   "cell_type": "markdown",
   "metadata": {
    "slideshow": {
     "slide_type": "slide"
    }
   },
   "source": [
    "We will focus on two styles or packages in our course\n",
    "- `tf.keras`\n",
    "    - this is the future, as it will be tightly integrated into TensorFlow 2.0\n",
    "- `tf.layers` modules (e.g., `tf.layers.dense`)\n",
    "    - used only to be compatible with the Geron book.\n",
    "    - it is slightly lower level than Keras\n",
    "    "
   ]
  },
  {
   "cell_type": "markdown",
   "metadata": {
    "slideshow": {
     "slide_type": "subslide"
    }
   },
   "source": [
    "# `tensorflow.keras` vs `keras` (Confusion alert)\n",
    "<div class=\"alert alert-block alert-warning\">\n",
    "    <b>TL;DR</b> \n",
    "    <br>\n",
    "    <br>\n",
    "        <b>YES</b><br>\n",
    "    <ul>\n",
    "        <li>\n",
    "            <font face=\"Courier\" color=\"black\" weight=\"bold\">\n",
    "            import tensorflow as tf<br>\n",
    "            tf.keras.layers.Dense(...)\n",
    "            </font>\n",
    "        </li>\n",
    "        <li>\n",
    "            <font face=\"Courier\" color=\"black\" weight=\"bold\">\n",
    "            from tensorflow import keras<br>\n",
    "            keras.layers.Dense(...)\n",
    "            </font>\n",
    "        </li>\n",
    "    </ul>\n",
    "    <br>\n",
    "        <b>NO</b><br>\n",
    "    <ul>\n",
    "    <li> <font face=\"Courier\" color=\"black\" weight=\"bold\">\n",
    "        import keras<br>\n",
    "        keras.layers.Dense( ... )\n",
    "        </font>\n",
    "        </li>\n",
    "    </ul>\n",
    "        </div>"
   ]
  },
  {
   "cell_type": "markdown",
   "metadata": {
    "slideshow": {
     "slide_type": "subslide"
    }
   },
   "source": [
    "Technically speaking: Keras is an API -- a specification -- not a library.\n",
    "\n",
    "- TensorFlow has implemented this specification as a submodule of *the TensorFlow module*: \n",
    "    - `tensorflow.keras`\n",
    "- There is a *separate* Keras project *and* module: `keras`\n",
    "    - that supports multiple \"backends\", including TensorFlow\n",
    "    - Cannot run Python versions > 3.6 (one backend isn't cooperating)\n",
    "\n",
    "**This is not just a legal difference**\n",
    "- they are **separate** modules that do very similar things"
   ]
  },
  {
   "cell_type": "markdown",
   "metadata": {
    "slideshow": {
     "slide_type": "subslide"
    }
   },
   "source": [
    "This may get confusing\n",
    "\n",
    "- The [TensorFlow docs for Keras](https://www.tensorflow.org/guide/keras)  refers to TensorFlow's implementation of the API\n",
    "    - used as `from tensorflow import keras`\n",
    "    - this is what we will use !\n",
    "    - other syntactic forms to use: `tf.keras..`\n",
    "- The [Keras docs](https://keras.io/) refers to the abstract Keras API and `keras` module\n",
    "    - used as `import keras as keras`"
   ]
  },
  {
   "cell_type": "markdown",
   "metadata": {
    "slideshow": {
     "slide_type": "slide"
    }
   },
   "source": [
    "## `tensorflow.keras` \n",
    "[Guidance from TensorFlow team](https://medium.com/tensorflow/standardizing-on-keras-guidance-on-high-level-apis-in-tensorflow-2-0-bad2b04c819a)\n",
    "- `tf.keras` is an implementation of the Keras API\n",
    "    - *with enhancements*\n",
    "        - eager execution\n",
    "    - integrated into TensorFlow ecosystem\n",
    "        - `tf.data`"
   ]
  },
  {
   "cell_type": "raw",
   "metadata": {
    "slideshow": {
     "slide_type": "subslide"
    }
   },
   "source": [
    "import tensorflow as tf\n",
    "Dense = tf.keras.layers.Dense\n",
    "\n",
    "model = tf.keras.Sequential()\n",
    "model.add(layers.Dense(64, activation=’relu’))"
   ]
  },
  {
   "cell_type": "markdown",
   "metadata": {
    "slideshow": {
     "slide_type": "slide"
    }
   },
   "source": [
    "## Technical point: showing the difference between `tensorflow.keras` and `keras` \n",
    "\n",
    "Here we demonstrate that although the two modules implement the same methods, the *are different* methods\n"
   ]
  },
  {
   "cell_type": "raw",
   "metadata": {
    "slideshow": {
     "slide_type": "subslide"
    }
   },
   "source": [
    "import tensorflow as tf\n",
    "\n",
    "# \"keras\" prefix will refer to tensorflow.keras\n",
    "from tensorflow import keras\n",
    "\n",
    "from tensorflow.keras import layers\n",
    "\n",
    "# Also import the Keras API, for comparison\n",
    "import keras as k"
   ]
  },
  {
   "cell_type": "markdown",
   "metadata": {
    "slideshow": {
     "slide_type": "subslide"
    }
   },
   "source": [
    "All the following comparisons evaluate to True, as you can test for yourself.\n",
    "\n",
    "They are just different ways to access the `tensorflow.keras` module's methods."
   ]
  },
  {
   "cell_type": "raw",
   "metadata": {
    "slideshow": {
     "slide_type": "subslide"
    }
   },
   "source": [
    "tf.keras.layers.Dense == keras.layers.Dense\n",
    "tf.keras.layers.Dense == layers.Dense"
   ]
  },
  {
   "cell_type": "markdown",
   "metadata": {
    "slideshow": {
     "slide_type": "subslide"
    }
   },
   "source": [
    "But the following is **not** True because they come from different packages:\n",
    "- one from `tensorflow.keras`\n",
    "- one from `keras`"
   ]
  },
  {
   "cell_type": "raw",
   "metadata": {
    "slideshow": {
     "slide_type": "subslide"
    }
   },
   "source": [
    "tf.keras.layers.Dense == k.layers.Dense"
   ]
  },
  {
   "cell_type": "code",
   "execution_count": 1,
   "metadata": {
    "slideshow": {
     "slide_type": "slide"
    }
   },
   "outputs": [
    {
     "name": "stdout",
     "output_type": "stream",
     "text": [
      "Done\n"
     ]
    }
   ],
   "source": [
    "print(\"Done\")"
   ]
  }
 ],
 "metadata": {
  "celltoolbar": "Slideshow",
  "kernelspec": {
   "display_name": "Python 3",
   "language": "python",
   "name": "python3"
  },
  "language_info": {
   "codemirror_mode": {
    "name": "ipython",
    "version": 3
   },
   "file_extension": ".py",
   "mimetype": "text/x-python",
   "name": "python",
   "nbconvert_exporter": "python",
   "pygments_lexer": "ipython3",
   "version": "3.7.4"
  },
  "toc": {
   "base_numbering": 1,
   "nav_menu": {},
   "number_sections": true,
   "sideBar": true,
   "skip_h1_title": false,
   "title_cell": "Table of Contents",
   "title_sidebar": "Contents",
   "toc_cell": false,
   "toc_position": {
    "height": "calc(100% - 180px)",
    "left": "10px",
    "top": "150px",
    "width": "370.594px"
   },
   "toc_section_display": true,
   "toc_window_display": true
  }
 },
 "nbformat": 4,
 "nbformat_minor": 2
}
