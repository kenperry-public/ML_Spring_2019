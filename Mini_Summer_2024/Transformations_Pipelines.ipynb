{
 "cells": [
  {
   "cell_type": "code",
   "execution_count": 1,
   "metadata": {
    "slideshow": {
     "slide_type": "notes"
    }
   },
   "outputs": [
    {
     "data": {
      "text/latex": [
       "$$\n",
       "\\newcommand{\\x}{\\mathbf{x}}\n",
       "\\newcommand{\\tx}{\\tilde{\\x}}\n",
       "\\newcommand{\\y}{\\mathbf{y}}\n",
       "\\newcommand{\\b}{\\mathbf{b}}\n",
       "\\newcommand{\\c}{\\mathbf{c}}\n",
       "\\newcommand{\\e}{\\mathbf{e}}\n",
       "\\newcommand{\\z}{\\mathbf{z}}\n",
       "\\newcommand{\\h}{\\mathbf{h}}\n",
       "\\newcommand{\\u}{\\mathbf{u}}\n",
       "\\newcommand{\\v}{\\mathbf{v}}\n",
       "\\newcommand{\\w}{\\mathbf{w}}\n",
       "\\newcommand{\\W}{\\mathbf{W}}\n",
       "\\newcommand{\\X}{\\mathbf{X}}\n",
       "\\newcommand{\\KL}{\\mathbf{KL}}\n",
       "\\newcommand{\\E}{{\\mathbb{E}}}\n",
       "\\newcommand{\\ip}{\\mathbf{{(i)}}}\n",
       "%\n",
       "% Test set\n",
       "\\newcommand{\\xt}{\\underline{\\x}}\n",
       "\\newcommand{\\yt}{\\underline{\\y}}\n",
       "\\newcommand{\\Xt}{\\underline{\\X}}\n",
       "\\newcommand{\\perfm}{\\mathcal{P}}\n",
       "%\n",
       "% \\ll indexes a layer; we can change the actual letter\n",
       "\\newcommand{\\ll}{l}\n",
       "\\newcommand{\\llp}{{(\\ll)}}\n",
       "%\n",
       "\\newcommand{Thetam}{\\Theta_{-0}}\n",
       "\n",
       "% CNN\n",
       "\\newcommand{\\kernel}{\\mathbf{k}} \n",
       "\\newcommand{\\dim}{d}\n",
       "\\newcommand{\\idxspatial}{{\\text{idx}}}\n",
       "\\newcommand{\\summaxact}{\\text{max}}\n",
       "%\n",
       "%\n",
       "\n",
       "% RNN\n",
       "% \\tt indexes a time step\n",
       "\\newcommand{\\tt}{t}\n",
       "\\newcommand{\\tp}{{(\\tt)}}\n",
       "%\n",
       "%\n",
       "\n",
       "% LSTM\n",
       "\\newcommand{\\g}{\\mathbf{g}}\n",
       "\\newcommand{\\remember}{\\mathbf{remember}}\n",
       "\\newcommand{\\save}{\\mathbf{save}}\n",
       "\\newcommand{\\focus}{\\mathbf{focus}}\n",
       "%\n",
       "%\n",
       "% NLP\n",
       "\\newcommand{\\Vocab}{\\mathbf{V}}\n",
       "\\newcommand{\\v}{\\mathbf{v}}\n",
       "\\newcommand{\\offset}{o}\n",
       "\\newcommand{\\o}{o}\n",
       "\\newcommand{\\E}{\\mathbf{E}}\n",
       "%\n",
       "%\n",
       "\\newcommand{\\loss}{\\mathcal{L}}\n",
       "\\newcommand{\\cost}{\\mathcal{L}}\n",
       "%\n",
       "%                     \n",
       "\\newcommand{\\pdata}{p_\\text{data}}\n",
       "\\newcommand{\\pmodel}{p_\\text{model}}\n",
       "%\n",
       "% SVM\n",
       "\\newcommand{\\margin}{{\\mathbb{m}}}\n",
       "\\newcommand{\\lmk}{\\boldsymbol{\\ell}}\n",
       "%\n",
       "% Functions with arguments\n",
       "\\def\\xsy#1#2{#1^#2}\n",
       "\\def\\rand#1{\\tilde{#1}}\n",
       "\\def\\randx{\\rand{\\x}}\n",
       "\\def\\randy{\\rand{\\y}}\n",
       "\\def\\trans#1{\\dot{#1}}\n",
       "\\def\\transx{\\trans{\\x}}\n",
       "\\def\\transy{\\trans{\\y}}\n",
       "%\n",
       "\\def\\argmax#1{\\underset{#1} {\\operatorname{argmax}} }\n",
       "\\def\\argmin#1{\\underset{#1} {\\operatorname{argmin}} }\n",
       "\\def\\max#1{\\underset{#1} {\\operatorname{max}} }\n",
       "\\def\\min#1{\\underset{#1} {\\operatorname{min}} }\n",
       "%\n",
       "\\def\\pr#1{\\mathcal{p}(#1)}\n",
       "\\def\\prc#1#2{\\mathcal{p}(#1 \\; | \\; #2)}\n",
       "\\def\\cnt#1{\\mathcal{count}_{#1}}\n",
       "\\def\\node#1{\\mathbb{#1}}\n",
       "%\n",
       "\\newcommand{\\floor}[1]{\\left\\lfloor #1 \\right\\rfloor}\n",
       "\\newcommand{\\ceil}[1]{\\left\\lceil #1 \\right\\rceil}\n",
       "%\n",
       "\\def\\loc#1{{\\text{##} {#1}}}\n",
       "%\n",
       "$$\n"
      ],
      "text/plain": [
       "<IPython.core.display.Latex object>"
      ]
     },
     "metadata": {},
     "output_type": "display_data"
    }
   ],
   "source": [
    "%run Latex_macros.ipynb \n",
    "%run beautify_plots.py"
   ]
  },
  {
   "cell_type": "code",
   "execution_count": 2,
   "metadata": {
    "slideshow": {
     "slide_type": "notes"
    }
   },
   "outputs": [],
   "source": [
    "# My standard magic !  You will see this in almost all my notebooks.\n",
    "\n",
    "from IPython.core.interactiveshell import InteractiveShell\n",
    "InteractiveShell.ast_node_interactivity = \"all\"\n",
    "\n",
    "# Reload all modules imported with %aimport\n",
    "%load_ext autoreload\n",
    "%autoreload 1\n",
    "\n",
    "%matplotlib inline"
   ]
  },
  {
   "cell_type": "code",
   "execution_count": 3,
   "metadata": {
    "slideshow": {
     "slide_type": "notes"
    }
   },
   "outputs": [],
   "source": [
    "import numpy as np\n",
    "import pandas as pd\n",
    "import matplotlib.pyplot as plt\n",
    "         \n",
    "    \n",
    "from sklearn import datasets, linear_model\n",
    "from sklearn.metrics import mean_squared_error, r2_score\n",
    "\n",
    "import recipe_helper\n",
    "%aimport recipe_helper\n",
    "rh = recipe_helper.Recipe_Helper()"
   ]
  },
  {
   "cell_type": "markdown",
   "metadata": {
    "slideshow": {
     "slide_type": "slide"
    }
   },
   "source": [
    "# Transformation pipelines\n",
    "\n",
    "A transformation pipeline is a\n",
    " a sequence (sometimes called a *pipeline*) of independent transformations $T_1, T_2, \\ldots, T_t$\n",
    "\n",
    "$$\n",
    "\\begin{array}[lll] \\\\\n",
    "\\tilde{\\x}_{(1)} = T_1( \\x ) \\\\\n",
    "\\tilde{\\x}_{(2)} = T_2( \\tilde{\\x}_{(1)} ) \\\\\n",
    "\\vdots \\\\\n",
    "\\tilde{\\x}_{(\\ll+1)} = T_{(\\ll+1)}( \\tilde{\\x}_{(\\ll)} ) \\\\\n",
    "\\end{array}\n",
    "$$\n",
    "\n",
    "\n",
    "The final transformed $\\tilde{\\x}$ can be implemented as a function $T$ that is the composition\n",
    "of each transformation function\n",
    "$$\n",
    "\\tilde{\\x} = T(\\x) = T_t( \\; T_{t-1}( \\ldots T_1(\\x) \\ldots ) \\; )\n",
    "$$\n",
    "\n"
   ]
  },
  {
   "cell_type": "markdown",
   "metadata": {
    "slideshow": {
     "slide_type": "slide"
    }
   },
   "source": [
    "# Pipelines in sklearn\n",
    "\n",
    "`sklearn` has created a generic architecture called `Pipeline` to simplify this for you.\n",
    "\n",
    "This module is **not meant to be a tutorial**, only to highlight a very convenient tool in `sklearn`.\n",
    "\n",
    "[Here](https://scikit-learn.org/stable/modules/compose.html) is a link to `sklearn`'s manual."
   ]
  },
  {
   "cell_type": "markdown",
   "metadata": {
    "slideshow": {
     "slide_type": "subslide"
    }
   },
   "source": [
    "Let's illustrate with a two-step sequence of transformations on numeric features\n",
    "- Missing data imputation\n",
    "    - If feature $j$ is missing for example $i$ ($\\x^\\ip_j$ not defined)\n",
    "    - Replace it with the median (over all $m$ examples) of $\\x_j$\n",
    "- Add a second order polynomial feature to each example\n",
    "\n",
    "Here is some illustrative code"
   ]
  },
  {
   "cell_type": "raw",
   "metadata": {
    "slideshow": {
     "slide_type": "subslide"
    }
   },
   "source": [
    "# Illustrative code: this cell is NOT executable\n",
    "from sklearn import pipeline\n",
    "\n",
    "from sklearn.impute import SimpleImputer\n",
    "from sklearn.preprocessing import PolynomialFeatures\n",
    "\n",
    "# Create transformers\n",
    "polynomial_features = PolynomialFeatures(2)\n",
    "imputed_features = SimpleImputer(strategy='median')\n",
    "\n",
    "# Put the transformers into a Pipeline\n",
    "num_pipe = pipeline.Pipeline( [ \n",
    "                                 (\"imputer\", imputed_features),\n",
    "                                 (\"polynomial_features\", polynomial_features),\n",
    "                               ]\n"
   ]
  },
  {
   "cell_type": "markdown",
   "metadata": {
    "slideshow": {
     "slide_type": "subslide"
    }
   },
   "source": [
    "Each individual transformation has a `fit` and `transform` method, just like a model (e.g., `LinearRegression`)\n",
    "- `fit` on the transformation `SimpleImputer(strategy='median')` computes the median value of each feature\n",
    "    - Computes $\\Theta_\\text{transform}$, the parameters of this transformation\n",
    "- `transform` applies the transformation, after it has been fit\n",
    "    - creates $\\tilde{\\x}$ from $\\x$"
   ]
  },
  {
   "cell_type": "markdown",
   "metadata": {
    "slideshow": {
     "slide_type": "subslide"
    }
   },
   "source": [
    "The Pipeline `num_pipe` defines a *sequence* of transformations\n",
    "- Each element of the Pipeline is a tuple\n",
    "    - name of the transformation (for your convenience in referencing it)\n",
    "    - the transformer"
   ]
  },
  {
   "cell_type": "markdown",
   "metadata": {
    "slideshow": {
     "slide_type": "subslide"
    }
   },
   "source": [
    "The Pipeline *also* has methods `fit` and `transform`\n",
    "- `fit` on a Pipeline applies `fit` to each component transformation in turn\n",
    "- `transform` on a Pipeline applies `transform` to each component transformation in turn\n",
    "\n",
    "The `Pipeline` is thus a composition of the individual transformations\n",
    "\n",
    "$$\n",
    "\\tilde{\\x} = T(\\x) = T_t( \\; T_{t-1}( \\ldots T_1(\\x) \\ldots ) \\; )\n",
    "$$"
   ]
  },
  {
   "cell_type": "markdown",
   "metadata": {
    "slideshow": {
     "slide_type": "slide"
    }
   },
   "source": [
    "## Model objects as part of a pipeline\n",
    "\n",
    "Observe that transformers and models both respond to the `fit` and `transform` methods.\n",
    "\n",
    "This means that you can include a model as the final element of a Pipeline !\n"
   ]
  },
  {
   "cell_type": "raw",
   "metadata": {
    "slideshow": {
     "slide_type": "subslide"
    }
   },
   "source": [
    "# Illustrative code: this cell is NOT executable\n",
    "from sklearn import datasets, linear_model\n",
    "linear_regression = linear_model.LinearRegression()\n",
    "\n",
    "full_pipe = pipeline.Pipeline( [ \n",
    "                                 (\"imputer\", imputed_features), \n",
    "                                 (\"polynomial_features\", polynomial_features),\n",
    "                                 (\"model\", linear_regression)\n",
    "                               ]\n"
   ]
  },
  {
   "cell_type": "markdown",
   "metadata": {
    "slideshow": {
     "slide_type": "subslide"
    }
   },
   "source": [
    "You can fit the transformations *and* the model in one step\n",
    "- `full_pipe.fit(X, y`)\n",
    "\n",
    "In addition to being a concise and convenient notation, pipelines with models as final elements\n",
    "- Can be used in Cross Validation to avoid \"cheating\"\n",
    "- The cross validation code passes in *only* the folds that are the training examples"
   ]
  },
  {
   "cell_type": "markdown",
   "metadata": {
    "slideshow": {
     "slide_type": "slide"
    }
   },
   "source": [
    "# Example: Pipeline with model as final element\n",
    "\n",
    "Let's apply a Pipeline to solve an example encountered in a previous module\n",
    "- Linear Regression model\n",
    "- With a second order feature added\n",
    "\n",
    "Let's get the data again:"
   ]
  },
  {
   "cell_type": "code",
   "execution_count": 4,
   "metadata": {
    "slideshow": {
     "slide_type": "subslide"
    }
   },
   "outputs": [],
   "source": [
    "# I will give you the data via a function (so I can easily alter the data in subsequent examples)\n",
    "v1, a1 = 1, .005\n",
    "lin = recipe_helper.Recipe_Helper(v = v1, a = a1)\n",
    "\n",
    "X_lin, y_lin = lin.gen_data(num=50)\n",
    "\n",
    "v2, a2 = v1, a1*2\n",
    "curv = recipe_helper.Recipe_Helper(v = v2, a = a2)\n",
    "X_curve, y_curve = curv.gen_data(num=50)\n",
    "\n",
    "X_train, X_test, y_train, y_test = rh.split(X_curve,y_curve)\n"
   ]
  },
  {
   "cell_type": "markdown",
   "metadata": {
    "slideshow": {
     "slide_type": "subslide"
    }
   },
   "source": [
    "And here's the model, implemented via a Pipeline in `sklearn`"
   ]
  },
  {
   "cell_type": "code",
   "execution_count": 5,
   "metadata": {
    "slideshow": {
     "slide_type": "subslide"
    }
   },
   "outputs": [],
   "source": [
    "from sklearn.preprocessing import PolynomialFeatures\n",
    "import sklearn.preprocessing as pre_proc\n",
    "\n",
    "# Create the Pipeline\n",
    "from sklearn.pipeline import make_pipeline\n",
    "poly_model = make_pipeline(pre_proc.PolynomialFeatures(2),\n",
    "                           linear_model.LinearRegression())\n",
    "\n",
    "# Fit the model, running the data transformation first\n",
    "_= poly_model.fit(X_train.reshape(-1,1), y_train)"
   ]
  },
  {
   "cell_type": "markdown",
   "metadata": {
    "slideshow": {
     "slide_type": "subslide"
    }
   },
   "source": [
    "The `PolynomialFeatures(2)` transformer\n",
    "- Replace each $\\x$\n",
    "- With 3 features: $\\x^0, \\x^1, \\x^2$\n",
    "\n",
    "That is: it creates  an \"intercept\" dummy ($\\x^0 == 1$) plus first and second order features."
   ]
  },
  {
   "cell_type": "markdown",
   "metadata": {
    "slideshow": {
     "slide_type": "subslide"
    }
   },
   "source": [
    "A pipeline successively applies transformations, with the result of transformation $(i-1)$ fed as input to transformation $i$.\n",
    "\n",
    "Let's look \"inside\" the pipeline at the stages, and apply them manually."
   ]
  },
  {
   "cell_type": "code",
   "execution_count": 6,
   "metadata": {
    "slideshow": {
     "slide_type": "subslide"
    }
   },
   "outputs": [
    {
     "name": "stdout",
     "output_type": "stream",
     "text": [
      "Input shape: (10, 1)\n",
      "polynomialfeatures returns shape: (10, 3)\n",
      "linearregression returns shape: (10, 1)\n"
     ]
    }
   ],
   "source": [
    "# Examine the \"stages\" of the pipeline\n",
    "print(\"Input shape: {shp}\".format(shp=X_test.reshape(-1,1).shape)  )\n",
    "\n",
    "# First stage: Create First and Second Order polynomial features\n",
    "(label_0, model_0) = poly_model.steps[0]\n",
    "transf_0 = model_0.transform(X_test.reshape(-1,1))\n",
    "print(\"{lab:s} returns shape: {shp}\".format(lab=label_0, shp=transf_0.shape) )\n",
    "\n",
    "# Second stage: Linear Regression\n",
    "(label_1, model_1) = poly_model.steps[1]\n",
    "transf_1 = model_1.predict( transf_0 )\n",
    "print(\"{lab:s} returns shape: {shp}\".format(lab=label_1, shp=transf_1.shape) )\n"
   ]
  },
  {
   "cell_type": "code",
   "execution_count": 7,
   "metadata": {
    "slideshow": {
     "slide_type": "subslide"
    }
   },
   "outputs": [
    {
     "name": "stdout",
     "output_type": "stream",
     "text": [
      "Score (train):  1.0\n",
      "Score (test):  1.0\n"
     ]
    }
   ],
   "source": [
    "# Prediction based on test set\n",
    "y_pred = poly_model.predict(X_test.reshape(-1,1))\n",
    "\n",
    "# In and out of sample scores\n",
    "print(\"Score (train): \", poly_model.score(X_train.reshape(-1,1), y_train))\n",
    "print(\"Score (test): \",  poly_model.score(X_test.reshape(-1,1),  y_test))"
   ]
  },
  {
   "cell_type": "code",
   "execution_count": 8,
   "metadata": {
    "slideshow": {
     "slide_type": "subslide"
    }
   },
   "outputs": [
    {
     "name": "stdout",
     "output_type": "stream",
     "text": [
      "R-squared score (test): 1.00\n"
     ]
    }
   ],
   "source": [
    "# Plot the results\n",
    "# Create a figure\n",
    "fig, axs = plt.subplots(1,2, figsize=(12,6))\n",
    "\n",
    "_= axs[0].scatter(X_train,y_train)\n",
    "\n",
    "xfit = np.linspace( X_train[:,0].min(), X_train[:,0].max()).reshape(-1,1)\n",
    "yfit = poly_model.predict(xfit)\n",
    "_= axs[0].plot(xfit, yfit);\n",
    "_= axs[0].set_title(\"Train\")\n",
    "\n",
    "_ = axs[1].scatter(X_test, y_test, color=\"blue\")\n",
    "_ = axs[1].scatter(X_test, y_pred, color=\"red\")\n",
    "\n",
    "_= axs[1].plot(xfit, yfit)\n",
    "_= axs[1].set_title(\"Test\")\n",
    "\n",
    "\n",
    "print(\"R-squared score (test): {:.2f}\".format(r2_score(y_test, y_pred)) )\n",
    "\n",
    "# Hide the figure for now, will show it in the next slide\n",
    "plt.close(fig)"
   ]
  },
  {
   "cell_type": "code",
   "execution_count": 9,
   "metadata": {
    "slideshow": {
     "slide_type": "subslide"
    }
   },
   "outputs": [
    {
     "data": {
      "image/png": "[encoded data removed]",
      "text/plain": [
       "<Figure size 864x432 with 2 Axes>"
      ]
     },
     "execution_count": 9,
     "metadata": {},
     "output_type": "execute_result"
    }
   ],
   "source": [
    "fig"
   ]
  },
  {
   "cell_type": "markdown",
   "metadata": {
    "slideshow": {
     "slide_type": "slide"
    }
   },
   "source": [
    "[Here's](external/PythonDataScienceHandbook/notebooks/05.04-Feature-Engineering.ipynb#Feature-Pipelines) a slightly longer pipeline from VanderPlas.\n",
    "\n",
    "\n",
    "- `Imputer` to deal with misssing values\n",
    "- `PolynomialFeatures(degree=2)`\n",
    "- `LinearRegression()`"
   ]
  },
  {
   "cell_type": "markdown",
   "metadata": {
    "slideshow": {
     "slide_type": "slide"
    }
   },
   "source": [
    "# Nested Pipelines\n",
    "\n",
    "A Pipeline responds to the same methods (`fit`, `transform`) as its elements.\n",
    "\n",
    "This means that a Pipeline can also be used as a *nested* element of an outer Pipeline.\n",
    "\n",
    "This is very convenient: we will illustrate this in our detailed example for Classification."
   ]
  },
  {
   "cell_type": "markdown",
   "metadata": {
    "slideshow": {
     "slide_type": "slide"
    }
   },
   "source": [
    "# Advanced Pipelines\n",
    "\n",
    "An issue with Pipelines is that\n",
    "each transformation is applied to *all* the features in an example.\n",
    "\n",
    "But some transformations need to be applied to *selected* features\n",
    "- Can't apply numeric transformations to non-numeric data, and vice-versa\n",
    "- May want to apply a particular transformation to only a subset of features"
   ]
  },
  {
   "cell_type": "markdown",
   "metadata": {
    "slideshow": {
     "slide_type": "subslide"
    }
   },
   "source": [
    "`sklearn` facilitates this by\n",
    "- Allowing you to create \"filters\" that restrict features to a subset\n",
    "- Applying one pipeline per subset\n",
    "- Creating a union of transformed features at the end"
   ]
  },
  {
   "cell_type": "markdown",
   "metadata": {
    "slideshow": {
     "slide_type": "subslide"
    }
   },
   "source": [
    "## `FeatureUnion`\n",
    "\n",
    "`sklearn` allows you to create complex Pipelines with the `FeatureUnion` Pipeline\n",
    "- \"glue together\" the features of separate Pipelines.  For example\n",
    "    - Create one pipeline to be applied only to numeric features\n",
    "    - Create one pipeline to be applied only to non-numeric features\n",
    "    \n",
    "Here is some illustrative code:"
   ]
  },
  {
   "cell_type": "raw",
   "metadata": {
    "slideshow": {
     "slide_type": "subslide"
    }
   },
   "source": [
    "num_pipeline = Pipeline([\n",
    "        (\"select_numeric\", DataFrameSelector([\"Age\", \"SibSp\", \"Parch\", \"Fare\"])),\n",
    "        (\"imputer\", SimpleImputer(strategy=\"median\")),\n",
    "    ])\n",
    "    \n",
    "cat_pipeline = Pipeline([\n",
    "        (\"select_cat\", DataFrameSelector([\"Pclass\", \"Sex\", \"Embarked\"])),\n",
    "        (\"imputer\", MostFrequentImputer()),\n",
    "        (\"cat_encoder\", OneHotEncoder(sparse=False)),\n",
    "    ])\n",
    "    \n",
    "from sklearn.pipeline import FeatureUnion\n",
    "preprocess_pipeline = FeatureUnion(transformer_list=[\n",
    "        (\"num_pipeline\", num_pipeline),\n",
    "        (\"cat_pipeline\", cat_pipeline),\n",
    "    ])   "
   ]
  },
  {
   "cell_type": "markdown",
   "metadata": {
    "slideshow": {
     "slide_type": "subslide"
    }
   },
   "source": [
    "The first element in each pipeline (`DataFrameSelector`)\n",
    "- restricts each example to a selected subset of features\n",
    "\n",
    "So the numeric and categorical pipelines above transform disjoint groups of features.\n",
    "\n",
    "The `FeatureUnion` concatenates (along the horizontal axis) the result of the separate transformations."
   ]
  },
  {
   "cell_type": "markdown",
   "metadata": {
    "slideshow": {
     "slide_type": "slide"
    }
   },
   "source": [
    "## `ColumnTransformer`\n",
    "\n",
    "There is an *experimental* Pipeline object in `sklearn` called Column Transformers,\n",
    "that is a simplification of the `FeatureUnion` paradigm\n",
    "- No need to filter the features with `DataFrameSelector`\n",
    "    - just provide a list of feature names\n",
    "- No need to use `FeatureUnion'\n",
    "\n",
    "This object *only works* for collections of examples in which we can access features *by name*\n",
    "- Panda DataFrames !\n",
    "\n",
    "Here is some illustrative code "
   ]
  },
  {
   "cell_type": "raw",
   "metadata": {
    "slideshow": {
     "slide_type": "subslide"
    }
   },
   "source": [
    "cat_features = [\"Sex\", \"Pclass\" ]\n",
    "cat_transformers= Pipeline(steps=[  ('imputer', MostFrequentImputer()),\n",
    "                                    ('sex_encoder', SexToInt())\n",
    "                                 ] )\n",
    "cat_pipeline = ColumnTransformer( transformers=[ (\"categorical\", cat_transformers, cat_features) ] )"
   ]
  },
  {
   "cell_type": "markdown",
   "metadata": {
    "slideshow": {
     "slide_type": "slide"
    }
   },
   "source": [
    "# Creating your own transformations\n",
    "\n",
    "In addition to supplying a number of built-in transformers, `sklearn` let's use build your own.\n",
    "- Create an object that is subclass of the types used by built-in transformer\n",
    "- Provide your own implementation of `fit` and `transform`\n",
    "\n",
    "Here's a transformation for imputation of missing values using the most frequent value as the substitute.\n",
    "- Similar in function to the built-in `SimpleImputer(strategy=\"most_frequent\")`"
   ]
  },
  {
   "cell_type": "code",
   "execution_count": 10,
   "metadata": {
    "slideshow": {
     "slide_type": "subslide"
    }
   },
   "outputs": [],
   "source": [
    "# Inspired from stackoverflow.com/questions/25239958\n",
    "from sklearn.base import BaseEstimator, TransformerMixin\n",
    "\n",
    "class MostFrequentImputer(BaseEstimator, TransformerMixin):\n",
    "    def fit(self, X, y=None):\n",
    "        self.most_frequent_ = pd.Series([X[c].value_counts().index[0] for c in X],\n",
    "                                        index=X.columns)\n",
    "        return self\n",
    "    \n",
    "    def transform(self, X, y=None):\n",
    "        return X.fillna(self.most_frequent_)\n"
   ]
  },
  {
   "cell_type": "markdown",
   "metadata": {
    "slideshow": {
     "slide_type": "slide"
    }
   },
   "source": [
    "# Example\n",
    "\n",
    "We will use Pipelines in our Classification task."
   ]
  },
  {
   "cell_type": "code",
   "execution_count": 11,
   "metadata": {
    "slideshow": {
     "slide_type": "slide"
    }
   },
   "outputs": [
    {
     "name": "stdout",
     "output_type": "stream",
     "text": [
      "Done\n"
     ]
    }
   ],
   "source": [
    "print(\"Done\")"
   ]
  }
 ],
 "metadata": {
  "celltoolbar": "Slideshow",
  "kernelspec": {
   "display_name": "Python 3",
   "language": "python",
   "name": "python3"
  },
  "language_info": {
   "codemirror_mode": {
    "name": "ipython",
    "version": 3
   },
   "file_extension": ".py",
   "mimetype": "text/x-python",
   "name": "python",
   "nbconvert_exporter": "python",
   "pygments_lexer": "ipython3",
   "version": "3.7.4"
  },
  "toc": {
   "base_numbering": 1,
   "nav_menu": {},
   "number_sections": true,
   "sideBar": true,
   "skip_h1_title": false,
   "title_cell": "Table of Contents",
   "title_sidebar": "Contents",
   "toc_cell": false,
   "toc_position": {
    "height": "calc(100% - 180px)",
    "left": "10px",
    "top": "150px",
    "width": "368px"
   },
   "toc_section_display": true,
   "toc_window_display": true
  }
 },
 "nbformat": 4,
 "nbformat_minor": 2
}
