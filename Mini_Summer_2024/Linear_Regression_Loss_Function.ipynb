{
 "cells": [
  {
   "cell_type": "code",
   "execution_count": 1,
   "metadata": {
    "slideshow": {
     "slide_type": "notes"
    }
   },
   "outputs": [
    {
     "data": {
      "text/latex": [
       "$$\n",
       "\\newcommand{\\x}{\\mathbf{x}}\n",
       "\\newcommand{\\tx}{\\tilde{\\x}}\n",
       "\\newcommand{\\y}{\\mathbf{y}}\n",
       "\\newcommand{\\b}{\\mathbf{b}}\n",
       "\\newcommand{\\c}{\\mathbf{c}}\n",
       "\\newcommand{\\e}{\\mathbf{e}}\n",
       "\\newcommand{\\z}{\\mathbf{z}}\n",
       "\\newcommand{\\h}{\\mathbf{h}}\n",
       "\\newcommand{\\u}{\\mathbf{u}}\n",
       "\\newcommand{\\v}{\\mathbf{v}}\n",
       "\\newcommand{\\w}{\\mathbf{w}}\n",
       "\\newcommand{\\W}{\\mathbf{W}}\n",
       "\\newcommand{\\X}{\\mathbf{X}}\n",
       "\\newcommand{\\KL}{\\mathbf{KL}}\n",
       "\\newcommand{\\E}{{\\mathbb{E}}}\n",
       "\\newcommand{\\ip}{\\mathbf{{(i)}}}\n",
       "%\n",
       "% Test set\n",
       "\\newcommand{\\xt}{\\underline{\\x}}\n",
       "\\newcommand{\\yt}{\\underline{\\y}}\n",
       "\\newcommand{\\Xt}{\\underline{\\X}}\n",
       "\\newcommand{\\perfm}{\\mathcal{P}}\n",
       "%\n",
       "% \\ll indexes a layer; we can change the actual letter\n",
       "\\newcommand{\\ll}{l}\n",
       "\\newcommand{\\llp}{{(\\ll)}}\n",
       "%\n",
       "\\newcommand{Thetam}{\\Theta_{-0}}\n",
       "\n",
       "% CNN\n",
       "\\newcommand{\\kernel}{\\mathbf{k}} \n",
       "\\newcommand{\\dim}{d}\n",
       "\\newcommand{\\idxspatial}{{\\text{idx}}}\n",
       "\\newcommand{\\summaxact}{\\text{max}}\n",
       "%\n",
       "%\n",
       "\n",
       "% RNN\n",
       "% \\tt indexes a time step\n",
       "\\newcommand{\\tt}{t}\n",
       "\\newcommand{\\tp}{{(\\tt)}}\n",
       "%\n",
       "%\n",
       "\n",
       "% LSTM\n",
       "\\newcommand{\\g}{\\mathbf{g}}\n",
       "\\newcommand{\\remember}{\\mathbf{remember}}\n",
       "\\newcommand{\\save}{\\mathbf{save}}\n",
       "\\newcommand{\\focus}{\\mathbf{focus}}\n",
       "%\n",
       "%\n",
       "% NLP\n",
       "\\newcommand{\\Vocab}{\\mathbf{V}}\n",
       "\\newcommand{\\v}{\\mathbf{v}}\n",
       "\\newcommand{\\offset}{o}\n",
       "\\newcommand{\\o}{o}\n",
       "\\newcommand{\\E}{\\mathbf{E}}\n",
       "%\n",
       "%\n",
       "\\newcommand{\\loss}{\\mathcal{L}}\n",
       "\\newcommand{\\cost}{\\mathcal{L}}\n",
       "%\n",
       "%                     \n",
       "\\newcommand{\\pdata}{p_\\text{data}}\n",
       "\\newcommand{\\pmodel}{p_\\text{model}}\n",
       "%\n",
       "% SVM\n",
       "\\newcommand{\\margin}{{\\mathbb{m}}}\n",
       "\\newcommand{\\lmk}{\\boldsymbol{\\ell}}\n",
       "%\n",
       "% Functions with arguments\n",
       "\\def\\xsy#1#2{#1^#2}\n",
       "\\def\\rand#1{\\tilde{#1}}\n",
       "\\def\\randx{\\rand{\\x}}\n",
       "\\def\\randy{\\rand{\\y}}\n",
       "\\def\\trans#1{\\dot{#1}}\n",
       "\\def\\transx{\\trans{\\x}}\n",
       "\\def\\transy{\\trans{\\y}}\n",
       "%\n",
       "\\def\\argmax#1{\\underset{#1} {\\operatorname{argmax}} }\n",
       "\\def\\argmin#1{\\underset{#1} {\\operatorname{argmin}} }\n",
       "\\def\\max#1{\\underset{#1} {\\operatorname{max}} }\n",
       "\\def\\min#1{\\underset{#1} {\\operatorname{min}} }\n",
       "%\n",
       "\\def\\pr#1{\\mathcal{p}(#1)}\n",
       "\\def\\prc#1#2{\\mathcal{p}(#1 \\; | \\; #2)}\n",
       "\\def\\cnt#1{\\mathcal{count}_{#1}}\n",
       "\\def\\node#1{\\mathbb{#1}}\n",
       "%\n",
       "\\newcommand{\\floor}[1]{\\left\\lfloor #1 \\right\\rfloor}\n",
       "\\newcommand{\\ceil}[1]{\\left\\lceil #1 \\right\\rceil}\n",
       "%\n",
       "\\def\\loc#1{{\\text{##} {#1}}}\n",
       "%\n",
       "$$\n"
      ],
      "text/plain": [
       "<IPython.core.display.Latex object>"
      ]
     },
     "metadata": {},
     "output_type": "display_data"
    }
   ],
   "source": [
    "%run Latex_macros.ipynb\n",
    "%run beautify_plots.py"
   ]
  },
  {
   "cell_type": "code",
   "execution_count": 2,
   "metadata": {
    "slideshow": {
     "slide_type": "notes"
    }
   },
   "outputs": [],
   "source": [
    "# My standard magic !  You will see this in almost all my notebooks.\n",
    "\n",
    "from IPython.core.interactiveshell import InteractiveShell\n",
    "InteractiveShell.ast_node_interactivity = \"all\"\n",
    "\n",
    "# Reload all modules imported with %aimport\n",
    "%load_ext autoreload\n",
    "%autoreload 1\n",
    "\n",
    "%matplotlib inline"
   ]
  },
  {
   "cell_type": "markdown",
   "metadata": {
    "slideshow": {
     "slide_type": "slide"
    }
   },
   "source": [
    "# Linear Regression: Loss function\n",
    "\n",
    "Fitting an estimator/predictor/model involves solving for the $\\Theta$ that minimizes the Loss function.\n",
    "\n",
    "For a Regression task: our goal is to make the discrepancy (error) between $\\y$ and $\\hat{\\y}$ \"small\".\n",
    "- The discrepancy between $\\y^\\ip$ and $\\hat{\\y}^\\ip$ is refered to as the *residual*, usually denoted by $\\epsilon$\n",
    "\n",
    "$$\n",
    "\\mathbf{\\epsilon}^\\ip =   \\y^\\ip - \\hat{\\y}^\\ip \n",
    "$$\n",
    "\n",
    "So \n",
    "$$\n",
    "\\begin{array}[lll]\\\\\n",
    "\\y & = & \\hat{\\y} + \\epsilon \\\\\n",
    "& = & \\X \\Theta + \\epsilon\n",
    "\\end{array}\n",
    "$$"
   ]
  },
  {
   "cell_type": "markdown",
   "metadata": {
    "slideshow": {
     "slide_type": "slide"
    }
   },
   "source": [
    "We define the per-example loss to be the residual *squared*\n",
    "\n",
    "$$\\loss^\\ip_\\Theta  =   ( \\y^\\ip - \\hat{\\y}^\\ip   )^2 $$\n",
    "\n",
    "so that the average loss\n",
    "$$\n",
    "\\begin{array}[lll]\\\\\n",
    "\\loss_\\Theta  & = & { 1\\over{m} } \\sum_{i=1}^m \\loss^\\ip_\\Theta \\\\\n",
    "& = & { 1\\over{m} } \\sum_{i=1}^m ( \\y^\\ip  - \\hat{\\y}^\\ip  )^2  \\\\\n",
    "\\end{array}\n",
    "$$"
   ]
  },
  {
   "cell_type": "markdown",
   "metadata": {
    "slideshow": {
     "slide_type": "subslide"
    }
   },
   "source": [
    "This expression on the right is called the *Mean Squared Error (MSE)*.\n",
    "\n",
    "$$\n",
    "\\text{MSE}(\\y, \\hat{\\y}) = { 1\\over{m} } \\sum_{i=1}^m (  \\y^\\ip  - \\hat{\\y}^\\ip )^2\n",
    "$$\n",
    "\n",
    "- You will sometimes see *Root Mean Squared Error (RMSE)* which is the square root of the MSE"
   ]
  },
  {
   "cell_type": "markdown",
   "metadata": {
    "slideshow": {
     "slide_type": "subslide"
    }
   },
   "source": [
    "Notice that the Performance Metric and Loss Functions are identical in this case.\n",
    "\n",
    "This will not always be true."
   ]
  },
  {
   "cell_type": "markdown",
   "metadata": {
    "slideshow": {
     "slide_type": "slide"
    }
   },
   "source": [
    "# $R^2$ versus RMSE: Absolute versus relative error\n",
    "\n",
    "One often sees the term $R^2$ in the context of Linear Regression.\n",
    "\n",
    "Whereas RMSE is absolute error (in same units as $\\y$), $R^2$ is a relative error (in units of percent).\n",
    "\n",
    "The relationship is:\n",
    "$$ \n",
    "\\begin{array}{ll}\n",
    "R^2 & = & 1 - \\left( \\frac{\\sum_{i=1}^m { (\\y_i - \\hat{\\y}_i)^2} }{ \\sum_{i=1}^m { (\\y_i -  \\bar{\\y}_i)^2} }   \\right) \\\\\n",
    "& = & 1 - \\left( \\frac{m \\cdot \\text{MSE}(\\y, \\hat{\\y})}{\\sum_{i=1}^m { (\\y_i -  \\bar{\\y}_i)^2}} \\right) \\\\\n",
    "& = & 1 - \\left(  \\frac{m \\cdot \\textrm{RMSE}(\\hat{\\y}, \\y)^2} { \\sum_{i=1}^m { (\\y_i -  \\bar{\\y}_i)^2}} \\right)\n",
    "\\end{array}\n",
    "$$"
   ]
  },
  {
   "cell_type": "markdown",
   "metadata": {
    "slideshow": {
     "slide_type": "subslide"
    }
   },
   "source": [
    "In addition to changing the units of error, the $R^2$ metric has an interesting interpretation.\n",
    "\n",
    "Consider a naive \"baseline\" model for prediction \n",
    "- predict $\\bar{\\y}$ for every value of $\\x$\n",
    "    - where $\\bar{\\y}$ is the average (over the training examples) of the target\n",
    "\n",
    "The loss for the naive model is \n",
    "$$\n",
    "\\loss_\\text{naive} = \\text{MSE}(\\y, \\bar{\\y})\n",
    "$$\n",
    "\n",
    "Then\n",
    "$$\n",
    "\\begin{array}\\\\\n",
    "R^2 & = & 1 - \\left( \\frac{m \\cdot \\text{MSE}(\\y, \\hat{\\y})}{m \\cdot \\text{MSE}(\\y, \\bar{\\y})}  \\right) \\\\\n",
    "& = & 1 - \\frac{\\loss}{\\loss_\\text{naive}}\n",
    "\\end{array}\n",
    "$$\n",
    "\n",
    "Thus, $R^2$ is the *percent reduction in loss* achieved by our model compared to the naive model that always predicts $\\bar{\\y}$.\n"
   ]
  },
  {
   "cell_type": "markdown",
   "metadata": {
    "slideshow": {
     "slide_type": "subslide"
    }
   },
   "source": [
    "We now know our Loss function for the Linear Regression model.\n",
    "\n",
    "Fitting the Linear Regression model solves for the\n",
    "$\\Theta^*$ that minimizes average loss\n",
    "\n",
    "$$\n",
    "\\Theta^* = \\argmin{\\Theta} \\loss_\\Theta\n",
    "$$\n",
    "\n",
    "which are the parameter values that minimizes MSE."
   ]
  },
  {
   "cell_type": "code",
   "execution_count": 3,
   "metadata": {
    "slideshow": {
     "slide_type": "slide"
    }
   },
   "outputs": [
    {
     "name": "stdout",
     "output_type": "stream",
     "text": [
      "Done\n"
     ]
    }
   ],
   "source": [
    "print(\"Done\")"
   ]
  }
 ],
 "metadata": {
  "celltoolbar": "Slideshow",
  "kernelspec": {
   "display_name": "Python 3",
   "language": "python",
   "name": "python3"
  },
  "language_info": {
   "codemirror_mode": {
    "name": "ipython",
    "version": 3
   },
   "file_extension": ".py",
   "mimetype": "text/x-python",
   "name": "python",
   "nbconvert_exporter": "python",
   "pygments_lexer": "ipython3",
   "version": "3.7.4"
  },
  "toc": {
   "base_numbering": 1,
   "nav_menu": {},
   "number_sections": true,
   "sideBar": true,
   "skip_h1_title": false,
   "title_cell": "Table of Contents",
   "title_sidebar": "Contents",
   "toc_cell": false,
   "toc_position": {},
   "toc_section_display": true,
   "toc_window_display": false
  }
 },
 "nbformat": 4,
 "nbformat_minor": 2
}
