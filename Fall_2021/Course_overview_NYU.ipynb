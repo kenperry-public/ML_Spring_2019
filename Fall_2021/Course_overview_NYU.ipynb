{
 "cells": [
  {
   "cell_type": "code",
   "execution_count": 1,
   "metadata": {
    "slideshow": {
     "slide_type": "notes"
    }
   },
   "outputs": [
    {
     "data": {
      "text/latex": [
       "$$\n",
       "\\newcommand{\\x}{\\mathbf{x}}\n",
       "\\newcommand{\\tx}{\\tilde{\\x}}\n",
       "\\newcommand{\\y}{\\mathbf{y}}\n",
       "\\newcommand{\\b}{\\mathbf{b}}\n",
       "\\newcommand{\\c}{\\mathbf{c}}\n",
       "\\newcommand{\\e}{\\mathbf{e}}\n",
       "\\newcommand{\\z}{\\mathbf{z}}\n",
       "\\newcommand{\\h}{\\mathbf{h}}\n",
       "\\newcommand{\\u}{\\mathbf{u}}\n",
       "\\newcommand{\\v}{\\mathbf{v}}\n",
       "\\newcommand{\\w}{\\mathbf{w}}\n",
       "\\newcommand{\\W}{\\mathbf{W}}\n",
       "\\newcommand{\\X}{\\mathbf{X}}\n",
       "\\newcommand{\\KL}{\\mathbf{KL}}\n",
       "\\newcommand{\\E}{{\\mathbb{E}}}\n",
       "\\newcommand{\\ip}{\\mathbf{{(i)}}}\n",
       "%\n",
       "% Test set\n",
       "\\newcommand{\\xt}{\\underline{\\x}}\n",
       "\\newcommand{\\yt}{\\underline{\\y}}\n",
       "\\newcommand{\\Xt}{\\underline{\\X}}\n",
       "\\newcommand{\\perfm}{\\mathcal{P}}\n",
       "%\n",
       "% \\ll indexes a layer; we can change the actual letter\n",
       "\\newcommand{\\ll}{l}\n",
       "\\newcommand{\\llp}{{(\\ll)}}\n",
       "%\n",
       "\\newcommand{Thetam}{\\Theta_{-0}}\n",
       "\n",
       "% CNN\n",
       "\\newcommand{\\kernel}{\\mathbf{k}} \n",
       "\\newcommand{\\dim}{d}\n",
       "\\newcommand{\\idxspatial}{{\\text{idx}}}\n",
       "\\newcommand{\\summaxact}{\\text{max}}\n",
       "%\n",
       "%\n",
       "\n",
       "% RNN\n",
       "% \\tt indexes a time step\n",
       "\\newcommand{\\tt}{t}\n",
       "\\newcommand{\\tp}{{(\\tt)}}\n",
       "%\n",
       "%\n",
       "\n",
       "% LSTM\n",
       "\\newcommand{\\g}{\\mathbf{g}}\n",
       "\\newcommand{\\remember}{\\mathbf{remember}}\n",
       "\\newcommand{\\save}{\\mathbf{save}}\n",
       "\\newcommand{\\focus}{\\mathbf{focus}}\n",
       "%\n",
       "%\n",
       "% NLP\n",
       "\\newcommand{\\Vocab}{\\mathbf{V}}\n",
       "\\newcommand{\\v}{\\mathbf{v}}\n",
       "\\newcommand{\\offset}{o}\n",
       "\\newcommand{\\o}{o}\n",
       "\\newcommand{\\E}{\\mathbf{E}}\n",
       "%\n",
       "%\n",
       "\\newcommand{\\loss}{\\mathcal{L}}\n",
       "\\newcommand{\\cost}{\\mathcal{L}}\n",
       "%\n",
       "%                     \n",
       "\\newcommand{\\pdata}{p_\\text{data}}\n",
       "\\newcommand{\\pmodel}{p_\\text{model}}\n",
       "%\n",
       "% SVM\n",
       "\\newcommand{\\margin}{{\\mathbb{m}}}\n",
       "\\newcommand{\\lmk}{\\boldsymbol{\\ell}}\n",
       "%\n",
       "% Functions with arguments\n",
       "\\def\\xsy#1#2{#1^#2}\n",
       "\\def\\rand#1{\\tilde{#1}}\n",
       "\\def\\randx{\\rand{\\x}}\n",
       "\\def\\randy{\\rand{\\y}}\n",
       "\\def\\trans#1{\\dot{#1}}\n",
       "\\def\\transx{\\trans{\\x}}\n",
       "\\def\\transy{\\trans{\\y}}\n",
       "%\n",
       "\\def\\argmax#1{\\underset{#1} {\\operatorname{argmax}} }\n",
       "\\def\\argmin#1{\\underset{#1} {\\operatorname{argmin}} }\n",
       "\\def\\max#1{\\underset{#1} {\\operatorname{max}} }\n",
       "\\def\\min#1{\\underset{#1} {\\operatorname{min}} }\n",
       "%\n",
       "\\def\\pr#1{\\mathcal{p}(#1)}\n",
       "\\def\\prc#1#2{\\mathcal{p}(#1 \\; | \\; #2)}\n",
       "\\def\\cnt#1{\\mathcal{count}_{#1}}\n",
       "\\def\\node#1{\\mathbb{#1}}\n",
       "%\n",
       "\\newcommand{\\floor}[1]{\\left\\lfloor #1 \\right\\rfloor}\n",
       "\\newcommand{\\ceil}[1]{\\left\\lceil #1 \\right\\rceil}\n",
       "%\n",
       "\\def\\loc#1{{\\text{##} {#1}}}\n",
       "%\n",
       "$$\n"
      ],
      "text/plain": [
       "<IPython.core.display.Latex object>"
      ]
     },
     "metadata": {},
     "output_type": "display_data"
    }
   ],
   "source": [
    "%run Latex_macros.ipynb\n",
    "%run beautify_plots.py"
   ]
  },
  {
   "cell_type": "code",
   "execution_count": 2,
   "metadata": {
    "slideshow": {
     "slide_type": "notes"
    }
   },
   "outputs": [],
   "source": [
    "from IPython.core.interactiveshell import InteractiveShell\n",
    "InteractiveShell.ast_node_interactivity = \"all\"\n",
    "\n",
    "# Reload all modules imported with %aimport\n",
    "%load_ext autoreload\n",
    "%autoreload 1\n",
    "\n",
    "%matplotlib inline"
   ]
  },
  {
   "cell_type": "markdown",
   "metadata": {
    "slideshow": {
     "slide_type": "slide"
    }
   },
   "source": [
    "# What is Machine Learning (ML) ?\n",
    "   - prediction\n",
    "\n",
    "<img src=\"images/W1_L1_Predicting_on_Unseen-data_AdobeStock_321987501.png\" width=\"60%\"/>\n",
    "<br>\n"
   ]
  },
  {
   "cell_type": "markdown",
   "metadata": {
    "slideshow": {
     "slide_type": "slide"
    }
   },
   "source": [
    "# What is Machine Learning (ML) ?\n",
    "- **informed** prediction\n",
    "   \n",
    "    - prediction is better than random guess\n",
    "    - method: learn from existing data\n",
    "    - goal: Generalization. Predicting on new, unseen data\n",
    "\n",
    " <img src=\"images/W1_L1_Informed-Prediction_AdobeStock_339315304.png\" width=\"60%\"/>   "
   ]
  },
  {
   "cell_type": "markdown",
   "metadata": {
    "slideshow": {
     "slide_type": "slide"
    }
   },
   "source": [
    "# Where is ML used ?\n",
    "**Everywhere !!**\n",
    "\n",
    "- targeted advertising\n",
    "    \n",
    "    - Why does Facebook seem to know what I'm thinking ?\n",
    "<img src=\"images/W1_L1_Targeted_advertising_AdobeStock_320775942.png\" width=\"100%\"/>\n",
    "<br><br>\n"
   ]
  },
  {
   "cell_type": "markdown",
   "metadata": {
    "slideshow": {
     "slide_type": "slide"
    }
   },
   "source": [
    "# Where is ML used ?\n",
    "Spam detection\n",
    "    \n",
    "- You are a winner !</ul>\n",
    "<img src=\"images/W1_L1_Spam_detection_AdobeStock_354630313.png\" width=\"35%\"/>\n",
    "<br><br>"
   ]
  },
  {
   "cell_type": "markdown",
   "metadata": {
    "slideshow": {
     "slide_type": "slide"
    }
   },
   "source": [
    "# Where is ML used ?\n",
    "Forecasting\n",
    "    \n",
    "- Sales\n",
    "- Logistics\n",
    "- Where's my Uber ?\n",
    "<img src=\"images/W1_L1_Forecasting_sales_AdobeStock_307330168-[Converted].png\" width=\"40%\"/>\n",
    "<br><br>"
   ]
  },
  {
   "cell_type": "markdown",
   "metadata": {
    "slideshow": {
     "slide_type": "slide"
    }
   },
   "source": [
    "# Where is ML used ?\n",
    "Anomaly detection\n",
    "    \n",
    "- Credit card fraud\n",
    "<img src=\"images/W1_L1_Anomaly-detection_AdobeStock_311611620.png\" width=\"40%\"/>\n",
    "<br> "
   ]
  },
  {
   "cell_type": "markdown",
   "metadata": {
    "slideshow": {
     "slide_type": "subslide"
    }
   },
   "source": [
    "## Uses in Finance\n",
    "- Model prices, risk\n",
    "    - hedging\n",
    "- Trading signals\n",
    "- forecast sales\n",
    "- Predict defaults, prepayments\n",
    "<br>\n",
    "<img src=\"images/W1_L1_Trading_signals_AdobeStock_188236125.png\" width=\"60%\"/>\n"
   ]
  },
  {
   "cell_type": "markdown",
   "metadata": {
    "slideshow": {
     "slide_type": "subslide"
    }
   },
   "source": [
    "## Not just numeric data !\n",
    "- Images\n",
    "    - Satellite: \n",
    "        - Counting cars in a parking lot to forecast sales   \n",
    "        - How full is that oil tank ?<br>\n",
    " <img src=\"images/W1_L1_Satellite_image_cars_AdobeStock_130994721.png\" width=\"50%\">\n",
    "   <br> - Did the CFO really mean what he said ? facial signals for confidence/evasiveness\n",
    "<br>- Text\n",
    "    - Twitter sentiment as a signal ?\n",
    "    - SEC filings\n",
    "    - Derive industry groups by clustering press releases"
   ]
  },
  {
   "cell_type": "markdown",
   "metadata": {
    "slideshow": {
     "slide_type": "slide"
    }
   },
   "source": [
    "# What you need to succeed: An inquiring mind\n",
    "<img src=images/W1_L1_Scientist.png width=\"50%\">\n",
    "\n",
    "- Approach this topic like a Scientist\n",
    "    - Find a problem, gather data, formulate a hypothesis, test.  \n",
    "    - Repeat.\n",
    " "
   ]
  },
  {
   "cell_type": "markdown",
   "metadata": {
    "slideshow": {
     "slide_type": "slide"
    }
   },
   "source": [
    "# What you need to succeed: Technical skills\n",
    "\n",
    "<img src=images/W1_L1_Engineer.png width=50%>\n",
    "You are engineers !\n",
    "<br>"
   ]
  },
  {
   "cell_type": "markdown",
   "metadata": {
    "slideshow": {
     "slide_type": "slide"
    }
   },
   "source": [
    "# What you need to succeed: Solid programming skills\n",
    "<img src=\"images/W1_L1_Programming.png\" width=\"50%\"/>\n",
    "<br>"
   ]
  },
  {
   "cell_type": "markdown",
   "metadata": {
    "slideshow": {
     "slide_type": "slide"
    }
   },
   "source": [
    "# What you need to succeed: Some math/statistics\n",
    "\n",
    "<img src=images/W1_L1_Stats.png width=50%> \n",
    "To be a successful data scientist, you need to understand the machinery.\n",
    "<br>\n",
    "\n",
    "It is not enough to know an API.\n"
   ]
  },
  {
   "cell_type": "markdown",
   "metadata": {
    "slideshow": {
     "slide_type": "slide"
    }
   },
   "source": [
    "# What you need to succeed Self-motivation and energy\n",
    "<img src=\"images/W1_L1_Self-motivation.png\" width=\"50%\"/>\n",
    "\n",
    "- Willingness to pick up tools/skills outside of lectures\n",
    "- You are engineers, nothing is too hard !"
   ]
  },
  {
   "cell_type": "markdown",
   "metadata": {
    "slideshow": {
     "slide_type": "slide"
    }
   },
   "source": [
    "## Technical prerequisites\n",
    "\n",
    "- Python\n",
    "    - Object oriented (OO) Python\n",
    "    - Numpy\n",
    "    - Pandas\n",
    "    - Matplotlib\n",
    "- Some statistics (e.g., regression)\n",
    "- Some math\n",
    "    - comfort with Matrix/Vector notation\n",
    "    \n"
   ]
  },
  {
   "cell_type": "markdown",
   "metadata": {
    "slideshow": {
     "slide_type": "slide"
    }
   },
   "source": [
    "# Textbooks\n",
    "\n",
    "## Python Data Science Handbook\n",
    "[VanderPlas](https://jakevdp.github.io/PythonDataScienceHandbook/)\n",
    "\n",
    "- Online !\n",
    "- Solid foundation to acquire pre-requisites\n",
    "    - Jupyter\n",
    "    - Numpy\n",
    "    - Pandas\n",
    "    - Matplotlib\n",
    "    - Quick view of models\n",
    "    \n",
    "        <img src=\"images/W1_L1_Textbook_VanderPlas.png\" width=\"25%\" />\n",
    "             \n",
    "        "
   ]
  },
  {
   "cell_type": "markdown",
   "metadata": {
    "slideshow": {
     "slide_type": "subslide"
    }
   },
   "source": [
    "\n",
    "## Hands-On Machine Learning with Scikit-Learn, Keras, and TensorFlow, 2nd Edition \n",
    "\n",
    "[Geron](https://www.oreilly.com/library/view/hands-on-machine-learning/9781492032632/)\n",
    "\n",
    "- Assumes you know the pre-requisites\n",
    "    - More detailed chapters on various models\n",
    "    <img src=\"images/W1_L1_Textbook_Geron.jpeg\">\n",
    "    "
   ]
  },
  {
   "cell_type": "markdown",
   "metadata": {
    "slideshow": {
     "slide_type": "slide"
    }
   },
   "source": [
    "# Notebooks\n",
    " \n",
    "The real learning comes from active \"doing\" (playing with notebooks) rather than passive \"reading\".\n",
    "\n",
    "The course material and both textbooks \n",
    " have code repositories (including notebooks) on GitHub\n",
    " - The VanderPlas \"book\" is actually a notebook !\n"
   ]
  },
  {
   "cell_type": "markdown",
   "metadata": {
    "slideshow": {
     "slide_type": "subslide"
    }
   },
   "source": [
    "All of the lectures and assignments are presented as notebooks too !\n",
    "\n",
    "Detailed instructions on obtaining course materials may be found at [Setting up your ML Environment](Setup_ML_Environment_NYU.ipynb)"
   ]
  },
  {
   "cell_type": "markdown",
   "metadata": {
    "slideshow": {
     "slide_type": "slide"
    }
   },
   "source": [
    "# Machine Learning *using* Scikit-Learn (sklearn), TensorFlow (TF)\n",
    "\n",
    "sklearn is a popular library for Machine Learning.  We will be using for the Classical ML part of the series.\n",
    "\n",
    "TensorFlow is another popular library that we will use in the second part of the course.\n",
    "\n",
    "We are learning **Machine Learning**, not sklearn/TensorFlow !\n",
    "\n",
    "Tools are a means, not an ends\n",
    "- Goal is to understand ML independent of the toolset\n",
    "- You can be an expert in sklearn/TensorFlow and still not understand ML"
   ]
  },
  {
   "cell_type": "markdown",
   "metadata": {
    "slideshow": {
     "slide_type": "slide"
    }
   },
   "source": [
    "# Teaching method\n",
    "\n",
    "**Iterative**: visit the problem many times, at increasing levels of focus\n",
    "\n",
    "- Top-down vs bottom-up\n",
    "<table>\n",
    "    <tr>\n",
    "        <td><img src=\"images/W1_L1_Top_down.png\" width=\"55%\" /></td>\n",
    "    <td><img src=\"images/W1_L1_Bottom_up.png\" width=\"80%\" /></td></tr></table>\n",
    "- Motivate: very high level view\n",
    "    - Know WHAT we are trying to achieve\n"
   ]
  },
  {
   "cell_type": "markdown",
   "metadata": {
    "slideshow": {
     "slide_type": "subslide"
    }
   },
   "source": [
    "\n",
    "- Understand: medium level view\n",
    "<img src=\"images/W1_L1_Medium_level_view_AdobeStock_316627761.png\" width=\"90%\" />"
   ]
  },
  {
   "cell_type": "markdown",
   "metadata": {
    "slideshow": {
     "slide_type": "slide"
    }
   },
   "source": [
    "\n",
    "- Deep understanding\n",
    "    - math, statistics\n",
    "<img src=\"images/W1_L1_iterative.png\" width=\"70%\" />\n",
    "<div class=\"alert alert-block alert-success\">\n",
    "Bonus: advice from a practitioner\n",
    "</div>    "
   ]
  },
  {
   "cell_type": "markdown",
   "metadata": {
    "slideshow": {
     "slide_type": "slide"
    }
   },
   "source": [
    "# Dimensions of ML"
   ]
  },
  {
   "cell_type": "markdown",
   "metadata": {
    "slideshow": {
     "slide_type": "subslide"
    }
   },
   "source": [
    "Types of learning\n",
    "- Supervised\n",
    "- Unsupervised"
   ]
  },
  {
   "cell_type": "markdown",
   "metadata": {
    "slideshow": {
     "slide_type": "subslide"
    }
   },
   "source": [
    "<img src=images/W1_L3_S9_Big_picture_ML_taxonomy.png width=\"80%\"></td></tr></table>"
   ]
  },
  {
   "cell_type": "markdown",
   "metadata": {
    "slideshow": {
     "slide_type": "subslide"
    }
   },
   "source": [
    "Types of targets\n",
    "- Continuous\n",
    "- Discrete/Categorical"
   ]
  },
  {
   "cell_type": "markdown",
   "metadata": {
    "slideshow": {
     "slide_type": "subslide"
    }
   },
   "source": [
    "Types of features\n",
    "- numeric\n",
    "- image\n",
    "- text"
   ]
  },
  {
   "cell_type": "markdown",
   "metadata": {
    "slideshow": {
     "slide_type": "slide"
    }
   },
   "source": [
    "# Challenges of ML\n",
    "\n",
    "<img src=\"images/W1_L1_Challenge.png\" width=\"70%\" />\n",
    "<br> <br>"
   ]
  },
  {
   "cell_type": "markdown",
   "metadata": {
    "slideshow": {
     "slide_type": "subslide"
    }
   },
   "source": [
    "- You need data to train, often a lot of it\n",
    "    - Not always easy to get\n",
    "        - supervised: needs to be labeled\n",
    "    - Quality issues\n",
    "    - Is the training data representative of \"the real world\" for which you are designing ?"
   ]
  },
  {
   "cell_type": "markdown",
   "metadata": {
    "slideshow": {
     "slide_type": "subslide"
    }
   },
   "source": [
    "- Overfitting and Underfitting\n",
    "    - Overfit: good training accuracy, poor generalization\n",
    "    - Underfit: lost opportunity"
   ]
  },
  {
   "cell_type": "markdown",
   "metadata": {
    "slideshow": {
     "slide_type": "subslide"
    }
   },
   "source": [
    "- Engineering meaningful features is key \n",
    "    - Data transformations\n",
    "        - Create features that aid prediction\n",
    "        - Art and science\n",
    "    - Deep Learning may view feature engineering as part of the problem, not the solution !"
   ]
  },
  {
   "cell_type": "markdown",
   "metadata": {
    "slideshow": {
     "slide_type": "subslide"
    }
   },
   "source": [
    "- Testing and validation\n",
    "    - An honest test uses held-out data\n",
    "    - Training data is a precious resource; painful to hold some out"
   ]
  },
  {
   "cell_type": "markdown",
   "metadata": {
    "slideshow": {
     "slide_type": "slide"
    }
   },
   "source": [
    "# ML in one slide\n",
    "<img src=images/W1_L1_Cartoon_ML.png>"
   ]
  },
  {
   "cell_type": "code",
   "execution_count": 3,
   "metadata": {
    "slideshow": {
     "slide_type": "slide"
    }
   },
   "outputs": [
    {
     "name": "stdout",
     "output_type": "stream",
     "text": [
      "Done\n"
     ]
    }
   ],
   "source": [
    "print(\"Done\")"
   ]
  }
 ],
 "metadata": {
  "celltoolbar": "Slideshow",
  "kernelspec": {
   "display_name": "Python 3",
   "language": "python",
   "name": "python3"
  },
  "language_info": {
   "codemirror_mode": {
    "name": "ipython",
    "version": 3
   },
   "file_extension": ".py",
   "mimetype": "text/x-python",
   "name": "python",
   "nbconvert_exporter": "python",
   "pygments_lexer": "ipython3",
   "version": "3.7.4"
  },
  "toc": {
   "base_numbering": 1,
   "nav_menu": {},
   "number_sections": true,
   "sideBar": true,
   "skip_h1_title": false,
   "title_cell": "Table of Contents",
   "title_sidebar": "Contents",
   "toc_cell": false,
   "toc_position": {
    "height": "calc(100% - 180px)",
    "left": "10px",
    "top": "150px",
    "width": "368px"
   },
   "toc_section_display": true,
   "toc_window_display": false
  }
 },
 "nbformat": 4,
 "nbformat_minor": 2
}
