{
 "cells": [
  {
   "cell_type": "markdown",
   "metadata": {
    "slideshow": {
     "slide_type": "slide"
    }
   },
   "source": [
    "# Which Machine Learning Environment to choose ?\n",
    "\n",
    "There are also services that provide Machine Learning Environments remotely \"in the cloud\".\n",
    "\n",
    "So many choices ! What is best for me ?\n",
    "\n",
    "To start: use the environment you installed on your local machine."
   ]
  },
  {
   "cell_type": "markdown",
   "metadata": {
    "slideshow": {
     "slide_type": "subslide"
    }
   },
   "source": [
    "But there is another important consideration: the availability of a GPU.\n",
    "\n",
    "A GPU (Graphic Processing Unit) is a bit of hardware that can be added to a computer\n",
    "- Originally for gamers ! Fast graphics.\n",
    "- But *invaluable* for speeding up models that use Neural Networks/Deep Learning.\n",
    "    - Not *necessary* but highly desirable\n",
    "   \n"
   ]
  },
  {
   "cell_type": "markdown",
   "metadata": {
    "slideshow": {
     "slide_type": "subslide"
    }
   },
   "source": [
    "- It is likely that your local machine *does not* have a GPU\n",
    "    - Not a problem for Classical Machine learning\n",
    "- Remote servers can provide GPU's, at additional cost"
   ]
  },
  {
   "cell_type": "markdown",
   "metadata": {
    "slideshow": {
     "slide_type": "slide"
    }
   },
   "source": [
    "## Google Colab\n",
    "\n",
    "There is yet another alternative for a *remote* Machine Learning Environmet\n",
    "- [Google Colab](https://colab.research.google.com/)\n",
    "\n",
    "This is a very powerful and **free** environment \n",
    "- It provides access to machines with a GPU\n",
    "- No setup required by you"
   ]
  },
  {
   "cell_type": "markdown",
   "metadata": {
    "slideshow": {
     "slide_type": "subslide"
    }
   },
   "source": [
    "The downsides:\n",
    "- There is no persistent storage, so your work/files disappear after each session\n",
    "    - You will have to download your work each time\n",
    "- Software gets updated by Google, not you\n",
    "    - So the version of a package that you are using may change\n",
    "    - Some running code may break"
   ]
  },
  {
   "cell_type": "markdown",
   "metadata": {
    "slideshow": {
     "slide_type": "subslide"
    }
   },
   "source": [
    "In the Deep Learning part of the course\n",
    "- We will show you how to use Colab\n",
    "- We will show some tricks to make you more productive in Colab\n",
    "    - Gaining persistent storage via Google Drive"
   ]
  },
  {
   "cell_type": "code",
   "execution_count": null,
   "metadata": {
    "slideshow": {
     "slide_type": "slide"
    }
   },
   "outputs": [],
   "source": [
    "print(\"Done\")"
   ]
  }
 ],
 "metadata": {
  "celltoolbar": "Slideshow",
  "kernelspec": {
   "display_name": "Python 3",
   "language": "python",
   "name": "python3"
  },
  "language_info": {
   "codemirror_mode": {
    "name": "ipython",
    "version": 3
   },
   "file_extension": ".py",
   "mimetype": "text/x-python",
   "name": "python",
   "nbconvert_exporter": "python",
   "pygments_lexer": "ipython3",
   "version": "3.7.4"
  },
  "toc": {
   "base_numbering": 1,
   "nav_menu": {},
   "number_sections": true,
   "sideBar": true,
   "skip_h1_title": false,
   "title_cell": "Table of Contents",
   "title_sidebar": "Contents",
   "toc_cell": false,
   "toc_position": {},
   "toc_section_display": true,
   "toc_window_display": false
  }
 },
 "nbformat": 4,
 "nbformat_minor": 2
}
